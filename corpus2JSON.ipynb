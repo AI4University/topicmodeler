{
 "cells": [
  {
   "cell_type": "code",
   "execution_count": 1,
   "id": "9ae6dcd5",
   "metadata": {},
   "outputs": [],
   "source": [
    "\"\"\"\n",
    "Created on Mar 06 2022\n",
    "@author: Jerónimo Arenas García\n",
    "\n",
    "Temporary routine for generation of JSON files\n",
    "simulating the creation of files required for the\n",
    "BI tool\n",
    "\n",
    "If other datasets want to be ingested, we need to\n",
    "1) Change the SELECT statement accordingly\n",
    "2) Change the fields as necessary\n",
    "3) Change the name of the folder where the JSON will be save\n",
    "\"\"\"\n",
    "\n",
    "import TMinferencer\n",
    "import io\n",
    "from langdetect import detect\n",
    "from pyspark.sql import SparkSession\n",
    "from pyspark.sql.functions import array_contains, concat_ws, col, udf\n",
    "from pyspark.sql.types import StringType"
   ]
  },
  {
   "cell_type": "code",
   "execution_count": 2,
   "id": "9dc462e8",
   "metadata": {},
   "outputs": [],
   "source": [
    "sc.addPyFile(\"TMinferencer.py\")"
   ]
  },
  {
   "cell_type": "code",
   "execution_count": 15,
   "id": "8cc200bc-c473-4969-b950-b6d44ed3c8e0",
   "metadata": {},
   "outputs": [
    {
     "name": "stderr",
     "output_type": "stream",
     "text": [
      "22/05/26 00:25:39 WARN metastore.ObjectStore: Failed to get database parquet, returning NoSuchObjectException\n"
     ]
    }
   ],
   "source": [
    "# Read full table of CORDIS projects\n",
    "projects = spark.sql(\"SELECT * FROM parquet.`/export/ml4ds/IntelComp/Datalake/CORDIS/20220221/new_parquet/projects.parquet`\")"
   ]
  },
  {
   "cell_type": "code",
   "execution_count": 16,
   "id": "ee7ed2c1-ece4-4858-845a-81d6ec646a07",
   "metadata": {},
   "outputs": [
    {
     "name": "stderr",
     "output_type": "stream",
     "text": [
      "[Stage 10:>                                                         (0 + 1) / 1]\r"
     ]
    },
    {
     "name": "stdout",
     "output_type": "stream",
     "text": [
      "-RECORD 0----------------------------------\n",
      " projectID          | 115843               \n",
      " acronym            | EbolaMoDRAD          \n",
      " status             | CLOSED               \n",
      " title              | Ebola Virus: Mode... \n",
      " startDate          | 2015-02-01 00:00:00  \n",
      " endDate            | 2018-01-31 00:00:00  \n",
      " totalCost          | 4300935.0            \n",
      " ecMaxContribution  | 4300935.0            \n",
      " ecSignatureDate    | 2015-01-21 00:00:00  \n",
      " frameworkProgramme | H2020                \n",
      " masterCall         | H2020-JTI-IMI2-20... \n",
      " subCall            | H2020-JTI-IMI2-20... \n",
      " fundingScheme      | IMI2-RIA             \n",
      " nature             | null                 \n",
      " objective          | The current Ebola... \n",
      " contentUpdateDate  | 2021-12-07 23:57:00  \n",
      " rcn                | 209451               \n",
      " grantDoi           | null                 \n",
      " topic              | IMI2-2014-02-05      \n",
      " topic_title        | Rapid diagnostic ... \n",
      " countryContr       | BE|318125.0 DE|17... \n",
      " orgContr           | 961534423|251250.... \n",
      " coordinatorCountry | SE                   \n",
      " coordinatorOrg     | 9.49789954E8         \n",
      " euroSciVocCode     | [155, 56306972, 3... \n",
      " publicationID      | [115843_202840_PU... \n",
      " patentID           | null                 \n",
      " TM40               | t10|578 t22|45 t2... \n",
      "-RECORD 1----------------------------------\n",
      " projectID          | 115910               \n",
      " acronym            | PERISCOPE            \n",
      " status             | SIGNED               \n",
      " title              | PERtussIS COrrela... \n",
      " startDate          | 2016-03-01 00:00:00  \n",
      " endDate            | 2022-08-31 00:00:00  \n",
      " totalCost          | 2.9926687E7          \n",
      " ecMaxContribution  | 2.1E7                \n",
      " ecSignatureDate    | 2016-08-01 00:00:00  \n",
      " frameworkProgramme | H2020                \n",
      " masterCall         | H2020-JTI-IMI2-20... \n",
      " subCall            | H2020-JTI-IMI2-20... \n",
      " fundingScheme      | IMI2-RIA             \n",
      " nature             | null                 \n",
      " objective          | Pertussis vaccine... \n",
      " contentUpdateDate  | 2022-01-09 17:40:37  \n",
      " rcn                | 209454               \n",
      " grantDoi           | null                 \n",
      " topic              | IMI2-2015-03-05      \n",
      " topic_title        | Pertussis vaccina... \n",
      " countryContr       | BE|475092.0 CH|0.... \n",
      " orgContr           | 999990849|1492500... \n",
      " coordinatorCountry | NL                   \n",
      " coordinatorOrg     | 8.92057785E8         \n",
      " euroSciVocCode     | [137, 1439, 44109... \n",
      " publicationID      | [115910_629396_PU... \n",
      " patentID           | null                 \n",
      " TM40               | t4|9 t21|991         \n",
      "-RECORD 2----------------------------------\n",
      " projectID          | 200978               \n",
      " acronym            | TRANSCRIPTION_REG    \n",
      " status             | ONG                  \n",
      " title              | A combined experi... \n",
      " startDate          | 2008-07-01 00:00:00  \n",
      " endDate            | 2013-06-30 00:00:00  \n",
      " totalCost          | 1005600.0            \n",
      " ecMaxContribution  | 1005600.0            \n",
      " ecSignatureDate    | null                 \n",
      " frameworkProgramme | FP7                  \n",
      " masterCall         | null                 \n",
      " subCall            | ERC-2007-StG         \n",
      " fundingScheme      | ERC-SG               \n",
      " nature             | null                 \n",
      " objective          | The complex funct... \n",
      " contentUpdateDate  | 2017-05-29 11:56:46  \n",
      " rcn                | 87382                \n",
      " grantDoi           | null                 \n",
      " topic              | ERC-SG-LS2           \n",
      " topic_title        | ERC Starting Gran... \n",
      " countryContr       | IL|1005600.0         \n",
      " orgContr           | 999979306.0|10056... \n",
      " coordinatorCountry | IL                   \n",
      " coordinatorOrg     | 9.99979306E8         \n",
      " euroSciVocCode     | [1015, 47]           \n",
      " publicationID      | [E538FF0BE7016769... \n",
      " patentID           | null                 \n",
      " TM40               | t0|1000              \n",
      "only showing top 3 rows\n",
      "\n"
     ]
    },
    {
     "name": "stderr",
     "output_type": "stream",
     "text": [
      "                                                                                \r"
     ]
    }
   ],
   "source": [
    "def TMinference(rawt):\n",
    "    thetas = TMinferencer.main(io.StringIO(rawt.replace(\"\\n\", \" \")))\n",
    "    return \" \".join(\"t\"+str(el[0])+\"|\"+str(round(1000*el[1])) for el in thetas[0].items())\n",
    "udf_TMinference = udf(lambda x:TMinference(x), StringType() )\n",
    "\n",
    "projects = projects.withColumn(\"TM40\",udf_TMinference(col(\"title\")))\n",
    "projects.show(n=3, vertical=True)"
   ]
  },
  {
   "cell_type": "code",
   "execution_count": 17,
   "id": "705f16b7-271c-4df6-8c3e-0ca2626fc6a0",
   "metadata": {},
   "outputs": [
    {
     "name": "stderr",
     "output_type": "stream",
     "text": [
      "[Stage 11:>                                                         (0 + 1) / 1]\r"
     ]
    },
    {
     "name": "stdout",
     "output_type": "stream",
     "text": [
      "-RECORD 0----------------------------------\n",
      " projectID          | 115843               \n",
      " acronym            | EbolaMoDRAD          \n",
      " title              | Ebola Virus: Mode... \n",
      " startDate          | 2015-02-01 00:00:00  \n",
      " endDate            | 2018-01-31 00:00:00  \n",
      " totalCost          | 4300935.0            \n",
      " ecMaxContribution  | 4300935.0            \n",
      " ecSignatureDate    | 2015-01-21 00:00:00  \n",
      " frameworkProgramme | H2020                \n",
      " masterCall         | H2020-JTI-IMI2-20... \n",
      " subCall            | H2020-JTI-IMI2-20... \n",
      " fundingScheme      | IMI2-RIA             \n",
      " topic              | IMI2-2014-02-05      \n",
      " topic_title        | Rapid diagnostic ... \n",
      " countryContr       | BE|318125.0 DE|17... \n",
      " orgContr           | 961534423|251250.... \n",
      " coordinatorCountry | SE                   \n",
      " coordinatorOrg     | 9.49789954E8         \n",
      " euroSciVocCode     | [155, 56306972, 3... \n",
      " publicationID      | [115843_202840_PU... \n",
      " patentID           | null                 \n",
      " TM40               | t7|998 t31|2         \n",
      "-RECORD 1----------------------------------\n",
      " projectID          | 115910               \n",
      " acronym            | PERISCOPE            \n",
      " title              | PERtussIS COrrela... \n",
      " startDate          | 2016-03-01 00:00:00  \n",
      " endDate            | 2022-08-31 00:00:00  \n",
      " totalCost          | 2.9926687E7          \n",
      " ecMaxContribution  | 2.1E7                \n",
      " ecSignatureDate    | 2016-08-01 00:00:00  \n",
      " frameworkProgramme | H2020                \n",
      " masterCall         | H2020-JTI-IMI2-20... \n",
      " subCall            | H2020-JTI-IMI2-20... \n",
      " fundingScheme      | IMI2-RIA             \n",
      " topic              | IMI2-2015-03-05      \n",
      " topic_title        | Pertussis vaccina... \n",
      " countryContr       | BE|475092.0 CH|0.... \n",
      " orgContr           | 999990849|1492500... \n",
      " coordinatorCountry | NL                   \n",
      " coordinatorOrg     | 8.92057785E8         \n",
      " euroSciVocCode     | [137, 1439, 44109... \n",
      " publicationID      | [115910_629396_PU... \n",
      " patentID           | null                 \n",
      " TM40               | t1|821 t5|164 t14|15 \n",
      "-RECORD 2----------------------------------\n",
      " projectID          | 200978               \n",
      " acronym            | TRANSCRIPTION_REG    \n",
      " title              | A combined experi... \n",
      " startDate          | 2008-07-01 00:00:00  \n",
      " endDate            | 2013-06-30 00:00:00  \n",
      " totalCost          | 1005600.0            \n",
      " ecMaxContribution  | 1005600.0            \n",
      " ecSignatureDate    | null                 \n",
      " frameworkProgramme | FP7                  \n",
      " masterCall         | null                 \n",
      " subCall            | ERC-2007-StG         \n",
      " fundingScheme      | ERC-SG               \n",
      " topic              | ERC-SG-LS2           \n",
      " topic_title        | ERC Starting Gran... \n",
      " countryContr       | IL|1005600.0         \n",
      " orgContr           | 999979306.0|10056... \n",
      " coordinatorCountry | IL                   \n",
      " coordinatorOrg     | 9.99979306E8         \n",
      " euroSciVocCode     | [1015, 47]           \n",
      " publicationID      | [E538FF0BE7016769... \n",
      " patentID           | null                 \n",
      " TM40               | t4|454 t15|537 t35|9 \n",
      "only showing top 3 rows\n",
      "\n"
     ]
    },
    {
     "name": "stderr",
     "output_type": "stream",
     "text": [
      "                                                                                \r"
     ]
    }
   ],
   "source": [
    "projects = projects.drop(\"status\").drop(\"nature\").drop(\"objective\").drop(\"contentUpdateDate\").drop(\"rcn\").drop(\"grantDoi\")\n",
    "projects.show(n=3, vertical=True)"
   ]
  },
  {
   "cell_type": "code",
   "execution_count": 18,
   "id": "177b1a40-3d81-410a-aa83-1b28e9540903",
   "metadata": {},
   "outputs": [
    {
     "name": "stderr",
     "output_type": "stream",
     "text": [
      "                                                                                \r"
     ]
    }
   ],
   "source": [
    "#Save corpus\n",
    "projects.write.json(f\"file:///export/usuarios_ml4ds/jarenas/github/IntelComp/ITMT/topicmodeler/Cordis.json\")"
   ]
  },
  {
   "cell_type": "code",
   "execution_count": 20,
   "id": "419211c0-d9fd-4159-9613-d8998644e746",
   "metadata": {},
   "outputs": [
    {
     "name": "stderr",
     "output_type": "stream",
     "text": [
      "22/05/26 00:32:31 WARN metastore.ObjectStore: Failed to get database parquet, returning NoSuchObjectException\n"
     ]
    },
    {
     "ename": "AnalysisException",
     "evalue": "Unable to infer schema for Parquet. It must be specified manually.; line 1 pos 14",
     "output_type": "error",
     "traceback": [
      "\u001b[0;31m---------------------------------------------------------------------------\u001b[0m",
      "\u001b[0;31mAnalysisException\u001b[0m                         Traceback (most recent call last)",
      "Input \u001b[0;32mIn [20]\u001b[0m, in \u001b[0;36m<cell line: 2>\u001b[0;34m()\u001b[0m\n\u001b[1;32m      1\u001b[0m \u001b[38;5;66;03m# Read CORDIS publications table\u001b[39;00m\n\u001b[0;32m----> 2\u001b[0m pubs \u001b[38;5;241m=\u001b[39m spark\u001b[38;5;241m.\u001b[39msql(\u001b[38;5;124m\"\u001b[39m\u001b[38;5;124mSELECT * FROM parquet.`/export/ml4ds/IntelComp/Datalake/CORDIS/20220221/new_parquet/publications.parquet`\u001b[39m\u001b[38;5;124m\"\u001b[39m)\n\u001b[1;32m      3\u001b[0m pubs\u001b[38;5;241m.\u001b[39mshow(n\u001b[38;5;241m=\u001b[39m\u001b[38;5;241m3\u001b[39m, vertical\u001b[38;5;241m=\u001b[39m\u001b[38;5;28;01mTrue\u001b[39;00m)\n",
      "File \u001b[0;32m/opt/spark-3.1.1-bin-2.8.3/python/pyspark/sql/session.py:723\u001b[0m, in \u001b[0;36mSparkSession.sql\u001b[0;34m(self, sqlQuery)\u001b[0m\n\u001b[1;32m    707\u001b[0m \u001b[38;5;28;01mdef\u001b[39;00m \u001b[38;5;21msql\u001b[39m(\u001b[38;5;28mself\u001b[39m, sqlQuery):\n\u001b[1;32m    708\u001b[0m     \u001b[38;5;124;03m\"\"\"Returns a :class:`DataFrame` representing the result of the given query.\u001b[39;00m\n\u001b[1;32m    709\u001b[0m \n\u001b[1;32m    710\u001b[0m \u001b[38;5;124;03m    .. versionadded:: 2.0.0\u001b[39;00m\n\u001b[0;32m   (...)\u001b[0m\n\u001b[1;32m    721\u001b[0m \u001b[38;5;124;03m    [Row(f1=1, f2='row1'), Row(f1=2, f2='row2'), Row(f1=3, f2='row3')]\u001b[39;00m\n\u001b[1;32m    722\u001b[0m \u001b[38;5;124;03m    \"\"\"\u001b[39;00m\n\u001b[0;32m--> 723\u001b[0m     \u001b[38;5;28;01mreturn\u001b[39;00m DataFrame(\u001b[38;5;28;43mself\u001b[39;49m\u001b[38;5;241;43m.\u001b[39;49m\u001b[43m_jsparkSession\u001b[49m\u001b[38;5;241;43m.\u001b[39;49m\u001b[43msql\u001b[49m\u001b[43m(\u001b[49m\u001b[43msqlQuery\u001b[49m\u001b[43m)\u001b[49m, \u001b[38;5;28mself\u001b[39m\u001b[38;5;241m.\u001b[39m_wrapped)\n",
      "File \u001b[0;32m/opt/spark-3.1.1-bin-2.8.3/python/lib/py4j-0.10.9-src.zip/py4j/java_gateway.py:1304\u001b[0m, in \u001b[0;36mJavaMember.__call__\u001b[0;34m(self, *args)\u001b[0m\n\u001b[1;32m   1298\u001b[0m command \u001b[38;5;241m=\u001b[39m proto\u001b[38;5;241m.\u001b[39mCALL_COMMAND_NAME \u001b[38;5;241m+\u001b[39m\\\n\u001b[1;32m   1299\u001b[0m     \u001b[38;5;28mself\u001b[39m\u001b[38;5;241m.\u001b[39mcommand_header \u001b[38;5;241m+\u001b[39m\\\n\u001b[1;32m   1300\u001b[0m     args_command \u001b[38;5;241m+\u001b[39m\\\n\u001b[1;32m   1301\u001b[0m     proto\u001b[38;5;241m.\u001b[39mEND_COMMAND_PART\n\u001b[1;32m   1303\u001b[0m answer \u001b[38;5;241m=\u001b[39m \u001b[38;5;28mself\u001b[39m\u001b[38;5;241m.\u001b[39mgateway_client\u001b[38;5;241m.\u001b[39msend_command(command)\n\u001b[0;32m-> 1304\u001b[0m return_value \u001b[38;5;241m=\u001b[39m \u001b[43mget_return_value\u001b[49m\u001b[43m(\u001b[49m\n\u001b[1;32m   1305\u001b[0m \u001b[43m    \u001b[49m\u001b[43manswer\u001b[49m\u001b[43m,\u001b[49m\u001b[43m \u001b[49m\u001b[38;5;28;43mself\u001b[39;49m\u001b[38;5;241;43m.\u001b[39;49m\u001b[43mgateway_client\u001b[49m\u001b[43m,\u001b[49m\u001b[43m \u001b[49m\u001b[38;5;28;43mself\u001b[39;49m\u001b[38;5;241;43m.\u001b[39;49m\u001b[43mtarget_id\u001b[49m\u001b[43m,\u001b[49m\u001b[43m \u001b[49m\u001b[38;5;28;43mself\u001b[39;49m\u001b[38;5;241;43m.\u001b[39;49m\u001b[43mname\u001b[49m\u001b[43m)\u001b[49m\n\u001b[1;32m   1307\u001b[0m \u001b[38;5;28;01mfor\u001b[39;00m temp_arg \u001b[38;5;129;01min\u001b[39;00m temp_args:\n\u001b[1;32m   1308\u001b[0m     temp_arg\u001b[38;5;241m.\u001b[39m_detach()\n",
      "File \u001b[0;32m/opt/spark-3.1.1-bin-2.8.3/python/pyspark/sql/utils.py:117\u001b[0m, in \u001b[0;36mcapture_sql_exception.<locals>.deco\u001b[0;34m(*a, **kw)\u001b[0m\n\u001b[1;32m    113\u001b[0m converted \u001b[38;5;241m=\u001b[39m convert_exception(e\u001b[38;5;241m.\u001b[39mjava_exception)\n\u001b[1;32m    114\u001b[0m \u001b[38;5;28;01mif\u001b[39;00m \u001b[38;5;129;01mnot\u001b[39;00m \u001b[38;5;28misinstance\u001b[39m(converted, UnknownException):\n\u001b[1;32m    115\u001b[0m     \u001b[38;5;66;03m# Hide where the exception came from that shows a non-Pythonic\u001b[39;00m\n\u001b[1;32m    116\u001b[0m     \u001b[38;5;66;03m# JVM exception message.\u001b[39;00m\n\u001b[0;32m--> 117\u001b[0m     \u001b[38;5;28;01mraise\u001b[39;00m converted \u001b[38;5;28;01mfrom\u001b[39;00m \u001b[38;5;28mNone\u001b[39m\n\u001b[1;32m    118\u001b[0m \u001b[38;5;28;01melse\u001b[39;00m:\n\u001b[1;32m    119\u001b[0m     \u001b[38;5;28;01mraise\u001b[39;00m\n",
      "\u001b[0;31mAnalysisException\u001b[0m: Unable to infer schema for Parquet. It must be specified manually.; line 1 pos 14"
     ]
    }
   ],
   "source": [
    "# Read CORDIS publications table\n",
    "pubs = spark.sql(\"SELECT * FROM parquet.`/export/ml4ds/IntelComp/Datalake/CORDIS/20220221/new_parquet/publications.parquet`\")\n",
    "pubs.show(n=3, vertical=True)"
   ]
  },
  {
   "cell_type": "code",
   "execution_count": 3,
   "id": "4d25510a",
   "metadata": {},
   "outputs": [
    {
     "name": "stderr",
     "output_type": "stream",
     "text": [
      "22/03/06 22:03:50 WARN conf.HiveConf: HiveConf of name hive.stats.jdbc.timeout does not exist\n",
      "22/03/06 22:03:50 WARN conf.HiveConf: HiveConf of name hive.stats.retries.wait does not exist\n",
      "22/03/06 22:03:52 WARN metastore.ObjectStore: Version information not found in metastore. hive.metastore.schema.verification is not enabled so recording the schema version 2.3.0\n",
      "22/03/06 22:03:52 WARN metastore.ObjectStore: setMetaStoreSchemaVersion called but recording version is disabled: version = 2.3.0, comment = Set by MetaStore jarenas@192.168.148.225\n",
      "22/03/06 22:03:52 WARN metastore.ObjectStore: Failed to get database global_temp, returning NoSuchObjectException\n",
      "22/03/06 22:03:52 WARN metastore.ObjectStore: Failed to get database parquet, returning NoSuchObjectException\n",
      "                                                                                \r"
     ]
    }
   ],
   "source": [
    "# Read subtable from parquet file\n",
    "S2papers = spark.sql(\"SELECT id, year, venue, title, paperAbstract FROM parquet.`/export/ml4ds/IntelComp/Datalake/SemanticScholar/20220201/papers.parquet` where array_contains(fieldsOfStudy, 'Computer Science')\")"
   ]
  },
  {
   "cell_type": "code",
   "execution_count": 5,
   "id": "55a9a7a2",
   "metadata": {},
   "outputs": [],
   "source": [
    "def TMinference(rawt):\n",
    "    thetas = TMinferencer.main(io.StringIO(rawt.replace(\"\\n\", \" \")))\n",
    "    return \" \".join(\"t\"+str(el[0])+\"|\"+str(round(1000*el[1])) for el in thetas[0].items())\n",
    "udf_TMinference = udf(lambda x:TMinference(x), StringType() )\n",
    "\n",
    "S2papers = S2papers.withColumn(\"TM40\",udf_TMinference(col(\"rawtext\")))\n",
    "S2papers = S2papers.drop(\"rawtext\")\n"
   ]
  },
  {
   "cell_type": "code",
   "execution_count": 6,
   "id": "4a32cbbd",
   "metadata": {},
   "outputs": [
    {
     "name": "stderr",
     "output_type": "stream",
     "text": [
      "                                                                                \r"
     ]
    }
   ],
   "source": [
    "#Save corpus\n",
    "S2papers.repartition(100).write.json(f\"file:///export/usuarios_ml4ds/jarenas/github/IntelComp/ITMT/topicmodeler/S2CS.json\")"
   ]
  },
  {
   "cell_type": "code",
   "execution_count": 9,
   "id": "8788a6f5",
   "metadata": {},
   "outputs": [
    {
     "name": "stderr",
     "output_type": "stream",
     "text": [
      "[Stage 4:>                                                          (0 + 1) / 1]\r"
     ]
    },
    {
     "name": "stdout",
     "output_type": "stream",
     "text": [
      "+---------+-----------------+--------------------+-------------------+-------------------+-----------+-----------------+-------------------+------------------+--------------------+--------------------+-------------+-------------------+--------------------+--------------------+--------------------+------------------+--------------+--------------------+--------------------+--------------------+--------------------+\n",
      "|projectID|          acronym|               title|          startDate|            endDate|  totalCost|ecMaxContribution|    ecSignatureDate|frameworkProgramme|          masterCall|             subCall|fundingScheme|              topic|         topic_title|        countryContr|            orgContr|coordinatorCountry|coordinatorOrg|      euroSciVocCode|       publicationID|            patentID|                TM40|\n",
      "+---------+-----------------+--------------------+-------------------+-------------------+-----------+-----------------+-------------------+------------------+--------------------+--------------------+-------------+-------------------+--------------------+--------------------+--------------------+------------------+--------------+--------------------+--------------------+--------------------+--------------------+\n",
      "|   115843|      EbolaMoDRAD|Ebola Virus: Mode...|2015-02-01 00:00:00|2018-01-31 00:00:00|  4300935.0|        4300935.0|2015-01-21 00:00:00|             H2020|H2020-JTI-IMI2-20...|H2020-JTI-IMI2-20...|     IMI2-RIA|    IMI2-2014-02-05|Rapid diagnostic ...|BE|318125.0 DE|17...|961534423|251250....|                SE|  9.49789954E8|[155, 56306972, 3...|[115843_202840_PU...|                null|t8|36 t14|3 t19|2...|\n",
      "|   115910|        PERISCOPE|PERtussIS COrrela...|2016-03-01 00:00:00|2022-08-31 00:00:00|2.9926687E7|            2.1E7|2016-08-01 00:00:00|             H2020|H2020-JTI-IMI2-20...|H2020-JTI-IMI2-20...|     IMI2-RIA|    IMI2-2015-03-05|Pertussis vaccina...|BE|475092.0 CH|0....|999990849|1492500...|                NL|  8.92057785E8|[137, 1439, 44109...|[115910_629396_PU...|                null|t12|186 t27|792 t...|\n",
      "|   200978|TRANSCRIPTION_REG|A combined experi...|2008-07-01 00:00:00|2013-06-30 00:00:00|  1005600.0|        1005600.0|               null|               FP7|                null|        ERC-2007-StG|       ERC-SG|         ERC-SG-LS2|ERC Starting Gran...|        IL|1005600.0|999979306.0|10056...|                IL|  9.99979306E8|          [1015, 47]|[E538FF0BE7016769...|                null|t17|274 t19|221 t...|\n",
      "|   206734|        QUANTEVOL|Quantitative Evol...|2008-07-01 00:00:00|2013-06-30 00:00:00|   884400.0|         884400.0|               null|               FP7|                null|        ERC-2007-StG|       ERC-SG|         ERC-SG-LS5|ERC Starting Gran...|         FR|884400.0|999997930.0|884400.0|                FR|   9.9999793E8|              [1017]|[1BD7F31266F0F65B...|                null|      t1|635 t37|365|\n",
      "|   212337|         SWUP-MED|Sustainable water...|2008-07-01 00:00:00|2013-06-30 00:00:00|  3992766.0|        2728104.0|               null|               FP7|                null|     FP7-KBBE-2007-1|      CP-SICA|   KBBE-2007-1-2-01|Annual Food crops...|AU|0.0 DK|861200....|999492366.0|67573...|                DK|  9.99991043E8|[1187, 83, 287, 3...|                null|                null|            t32|1000|\n",
      "|   213238|          RAINBOW|High quality Mate...|2008-10-01 00:00:00|2012-09-30 00:00:00|  4778667.0|        4778667.0|               null|               FP7|                null|FP7-PEOPLE-2007-1...|       MC-ITN|PEOPLE-2007-1-1-ITN|Marie Curie Actio...|CH|317981.0 DE|12...|999873285.0|91916...|                FR|   9.9999793E8|          [30816592]|                null|[407695402, 40681...| t16|3 t20|993 t31|4|\n",
      "|   213939|             POCO|Carbon Nanotube C...|2008-11-01 00:00:00|2012-10-31 00:00:00|  8234036.4|        5524450.0|               null|               FP7|                null|FP7-NMP-2007-LARGE-1|        CP-IP|     NMP-2007-2.1-1|Nanostructured po...|AR|176880.0 BE|45...|999743305.0|40180...|                ES|  9.99959227E8|[1695, 369, 435, ...|[73990E3739227B19...|[411121650, 42020...|            t19|1000|\n",
      "|   216592|        DIAdvisor|Personal Glucose ...|2008-03-01 00:00:00|2012-06-30 00:00:00|  9306127.0|        7099992.0|               null|               FP7|                null|      FP7-ICT-2007-1|           CP|       ICT-2007.5.1|Personal health s...|AT|943781.0 BE|0....|999769495.0|33171...|                DK|  9.99940021E8|[681, 58525161, 3...|[AF85CC6A6C654F5E...|[353148058, 41168...|t3|114 t20|6 t24|879|\n",
      "|   217738|             AVSA|Audio Visual Scie...|2008-04-01 00:00:00|2010-03-31 00:00:00|   638576.0|         499831.0|               null|               FP7|                null|FP7-SCIENCE-IN-SO...|        CP-FP|   SiS-2007-3.0.6.1|Cultural differen...|BG|73520.0 DE|165...|999994535.0|79640...|                DE|  9.99994826E8|                null|                null|                null|t20|135 t22|833 t...|\n",
      "|   217881|             CPSI|Changing Percepti...|2008-04-01 00:00:00|2010-03-31 00:00:00|  2712469.0|        2165637.0|               null|               FP7|                null|      FP7-SEC-2007-1|           CP|    SEC-2007-6.1-01|Understanding fac...|AT|272415.0 BE|12...|998681931.0|36426...|                NL|  9.99988909E8|                null|[755F942AEA96994D...|                null|t1|44 t24|934 t37|21|\n",
      "+---------+-----------------+--------------------+-------------------+-------------------+-----------+-----------------+-------------------+------------------+--------------------+--------------------+-------------+-------------------+--------------------+--------------------+--------------------+------------------+--------------+--------------------+--------------------+--------------------+--------------------+\n",
      "only showing top 10 rows\n",
      "\n"
     ]
    },
    {
     "name": "stderr",
     "output_type": "stream",
     "text": [
      "                                                                                \r"
     ]
    }
   ],
   "source": [
    "projects.show(n=10)"
   ]
  },
  {
   "cell_type": "code",
   "execution_count": null,
   "id": "08ff8c8f-ae84-4c88-96e6-fb177c0242d2",
   "metadata": {},
   "outputs": [],
   "source": []
  }
 ],
 "metadata": {
  "kernelspec": {
   "display_name": "Python 3 (ipykernel)",
   "language": "python",
   "name": "python3"
  },
  "language_info": {
   "codemirror_mode": {
    "name": "ipython",
    "version": 3
   },
   "file_extension": ".py",
   "mimetype": "text/x-python",
   "name": "python",
   "nbconvert_exporter": "python",
   "pygments_lexer": "ipython3",
   "version": "3.8.13"
  }
 },
 "nbformat": 4,
 "nbformat_minor": 5
}
