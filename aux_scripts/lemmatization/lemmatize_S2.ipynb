{
 "cells": [
  {
   "cell_type": "markdown",
   "id": "319e2032",
   "metadata": {},
   "source": [
    "# Lemmatize Semantic Scholar papers using Spark NLP"
   ]
  },
  {
   "cell_type": "code",
   "execution_count": 1,
   "id": "58ccc6a4",
   "metadata": {},
   "outputs": [],
   "source": [
    "from sparknlp.base import *\n",
    "from sparknlp.annotator import *\n",
    "import sparknlp\n",
    "from pyspark.ml import Pipeline\n",
    "import pyspark.sql.functions as F\n",
    "from pyspark.sql.types import StringType\n",
    "from pathlib import Path"
   ]
  },
  {
   "cell_type": "markdown",
   "id": "007ee1f5",
   "metadata": {},
   "source": [
    "## 1. Read papers and concatenate the `title` and `paperAbstract` fields"
   ]
  },
  {
   "cell_type": "code",
   "execution_count": 2,
   "id": "c8f6fcdf",
   "metadata": {},
   "outputs": [
    {
     "name": "stderr",
     "output_type": "stream",
     "text": [
      "22/05/11 19:50:00 WARN conf.HiveConf: HiveConf of name hive.stats.jdbc.timeout does not exist\n",
      "22/05/11 19:50:00 WARN conf.HiveConf: HiveConf of name hive.stats.retries.wait does not exist\n",
      "22/05/11 19:50:02 WARN metastore.ObjectStore: Version information not found in metastore. hive.metastore.schema.verification is not enabled so recording the schema version 2.3.0\n",
      "22/05/11 19:50:02 WARN metastore.ObjectStore: setMetaStoreSchemaVersion called but recording version is disabled: version = 2.3.0, comment = Set by MetaStore jarenas@192.168.148.225\n",
      "22/05/11 19:50:03 WARN metastore.ObjectStore: Failed to get database global_temp, returning NoSuchObjectException\n",
      "22/05/11 19:50:03 WARN metastore.ObjectStore: Failed to get database parquet, returning NoSuchObjectException\n",
      "[Stage 3:>                                                          (0 + 1) / 1]\r"
     ]
    },
    {
     "name": "stdout",
     "output_type": "stream",
     "text": [
      "Number of papers before language filtering: 204457855\n",
      "CPU times: user 145 ms, sys: 24.9 ms, total: 170 ms\n",
      "Wall time: 1min 1s\n"
     ]
    },
    {
     "name": "stderr",
     "output_type": "stream",
     "text": [
      "\r\n",
      "                                                                                \r"
     ]
    }
   ],
   "source": [
    "%%time\n",
    "\n",
    "# Loading papers table text fields, and concatenating them for lemmatization\n",
    "S2papers = spark.sql(\"SELECT id, title, paperAbstract FROM parquet.`/export/ml4ds/IntelComp/Datalake/SemanticScholar/20220201/papers.parquet`\")\n",
    "S2papers = S2papers.repartition(numPartitions=20000)\n",
    "##For development purposes only\n",
    "#S2papers = S2papers.sample(fraction=0.0001)\n",
    "\n",
    "#Concatenate text fields to lemmatize\n",
    "S2papers = (\n",
    "    S2papers.withColumn(\"rawtext\",F.concat_ws('. ', \"title\", \"paperAbstract\"))\n",
    "    .drop(\"title\")\n",
    "    .drop(\"paperAbstract\")\n",
    ")\n",
    "\n",
    "print('Number of papers before language filtering:', S2papers.count())"
   ]
  },
  {
   "cell_type": "markdown",
   "id": "a0ba78d8",
   "metadata": {},
   "source": [
    "## 2. Filter abstracts that are not in English Language"
   ]
  },
  {
   "cell_type": "code",
   "execution_count": 3,
   "id": "ba2ecc2f",
   "metadata": {},
   "outputs": [
    {
     "name": "stdout",
     "output_type": "stream",
     "text": [
      "ld_wiki_tatoeba_cnn_21 download started this may take some time.\n",
      "Approximate size to download 7.1 MB\n",
      "[ | ]ld_wiki_tatoeba_cnn_21 download started this may take some time.\n",
      "Approximate size to download 7.1 MB\n",
      "[ / ]Download done! Loading the resource.\n",
      "[ — ]"
     ]
    },
    {
     "name": "stderr",
     "output_type": "stream",
     "text": [
      "\r\n",
      "[Stage 5:===============================================>         (10 + 0) / 12]\r"
     ]
    },
    {
     "name": "stdout",
     "output_type": "stream",
     "text": [
      "\r\n",
      "[ \\ ]"
     ]
    },
    {
     "name": "stderr",
     "output_type": "stream",
     "text": [
      "[Stage 6:====================================================>    (11 + 0) / 12]\r"
     ]
    },
    {
     "name": "stdout",
     "output_type": "stream",
     "text": [
      "[ / ]"
     ]
    },
    {
     "name": "stderr",
     "output_type": "stream",
     "text": [
      "2022-05-11 19:51:24.343330: I tensorflow/core/platform/cpu_feature_guard.cc:151] This TensorFlow binary is optimized with oneAPI Deep Neural Network Library (oneDNN) to use the following CPU instructions in performance-critical operations:  FMA\n",
      "To enable them in other operations, rebuild TensorFlow with the appropriate compiler flags.\n"
     ]
    },
    {
     "name": "stdout",
     "output_type": "stream",
     "text": [
      "[OK!]\n"
     ]
    },
    {
     "name": "stderr",
     "output_type": "stream",
     "text": [
      "[Stage 9:>                                                          (0 + 1) / 1]\r"
     ]
    },
    {
     "name": "stdout",
     "output_type": "stream",
     "text": [
      "Number of papers in English: 150077543\n",
      "CPU times: user 2.13 s, sys: 368 ms, total: 2.5 s\n",
      "Wall time: 3h 10min 26s\n"
     ]
    },
    {
     "name": "stderr",
     "output_type": "stream",
     "text": [
      "\r\n",
      "                                                                                \r"
     ]
    }
   ],
   "source": [
    "%%time\n",
    "\n",
    "#Pipeline for language detection\n",
    "documentAssembler = DocumentAssembler() \\\n",
    "    .setInputCol(\"rawtext\") \\\n",
    "    .setOutputCol(\"document\")\n",
    "\n",
    "languageDetector = LanguageDetectorDL.pretrained() \\\n",
    "    .setInputCols(\"document\") \\\n",
    "    .setOutputCol(\"language\")\n",
    "\n",
    "pipeline = Pipeline() \\\n",
    "    .setStages([\n",
    "      documentAssembler,\n",
    "      languageDetector\n",
    "    ])\n",
    "\n",
    "#Apply language detection pipeline\n",
    "S2papers = pipeline.fit(S2papers).transform(S2papers)\n",
    "S2papers = (\n",
    "    S2papers.filter(F.col(\"language.result\")[0]==\"en\")\n",
    "    .drop(\"language\")\n",
    ")\n",
    "\n",
    "print('Number of papers in English:', S2papers.count())"
   ]
  },
  {
   "cell_type": "markdown",
   "id": "eb4d59da",
   "metadata": {},
   "source": [
    "## 3. Define and Run Lemmatization Pipeline\n",
    "\n",
    "   - We work on documents created in Subsection 2\n",
    "   - Sentence Detection and Tokenizer applied to detect tokens\n",
    "   - Lemmatization is carried out\n",
    "   - Stopwords are applied\n",
    "   - Punctuation symbols are removed\n",
    "   - Result is converted back from Spark NLP annotations to string format"
   ]
  },
  {
   "cell_type": "code",
   "execution_count": 4,
   "id": "eecf0f70",
   "metadata": {},
   "outputs": [
    {
     "name": "stdout",
     "output_type": "stream",
     "text": [
      "lemma_antbnc download started this may take some time.\n",
      "Approximate size to download 907.6 KB\n",
      "[ | ]lemma_antbnc download started this may take some time.\n",
      "Approximate size to download 907.6 KB\n",
      "Download done! Loading the resource.\n"
     ]
    },
    {
     "name": "stderr",
     "output_type": "stream",
     "text": [
      "\r\n",
      "[Stage 11:==========================================>              (9 + 0) / 12]\r"
     ]
    },
    {
     "name": "stdout",
     "output_type": "stream",
     "text": [
      "[ — ]"
     ]
    },
    {
     "name": "stderr",
     "output_type": "stream",
     "text": [
      "\r\n",
      "[Stage 11:==========================================>              (9 + 3) / 12]\r\n",
      "\r\n",
      "                                                                                \r"
     ]
    },
    {
     "name": "stdout",
     "output_type": "stream",
     "text": [
      "[OK!]\n",
      "CPU times: user 101 ms, sys: 20 ms, total: 121 ms\n",
      "Wall time: 9.62 s\n"
     ]
    }
   ],
   "source": [
    "%%time \n",
    "\n",
    "#Next, we carry out the lemmatization pipeline\n",
    "\n",
    "sentenceDetector = SentenceDetector() \\\n",
    "    .setInputCols([\"document\"]) \\\n",
    "    .setOutputCol(\"sentence\")\n",
    "\n",
    "tokenizer = Tokenizer() \\\n",
    "    .setInputCols([\"sentence\"]) \\\n",
    "    .setOutputCol(\"token\")\n",
    "\n",
    "lemmatizer = LemmatizerModel.pretrained() \\\n",
    "    .setInputCols([\"token\"]) \\\n",
    "    .setOutputCol(\"lemma\")\n",
    "\n",
    "stopWords = StopWordsCleaner() \\\n",
    "    .setInputCols([\"lemma\"]) \\\n",
    "    .setOutputCol(\"cleanlemma\")\n",
    "\n",
    "normalizer = Normalizer() \\\n",
    "    .setInputCols([\"cleanlemma\"]) \\\n",
    "    .setOutputCol(\"normalizedlemma\") \\\n",
    "    .setLowercase(True) \\\n",
    "    .setCleanupPatterns([\"\"\"[^\\w\\d\\s]\"\"\"])\n",
    "\n",
    "finisher = Finisher() \\\n",
    "     .setInputCols(['normalizedlemma'])\n",
    "\n",
    "pipeline = Pipeline() \\\n",
    "    .setStages([\n",
    "      sentenceDetector,\n",
    "      tokenizer,\n",
    "      lemmatizer,\n",
    "      stopWords,\n",
    "      normalizer,\n",
    "      finisher\n",
    "])\n",
    "\n",
    "#We apply pipeline and recover lemmas as string\n",
    "S2papers = pipeline.fit(S2papers).transform(S2papers)\n",
    "\n",
    "udf_back2str = F.udf(lambda x:' '.join(list(x)), StringType() )\n",
    "S2papers = (\n",
    "    S2papers.withColumn(\"lemmas\",udf_back2str(F.col(\"finished_normalizedlemma\")))\n",
    "    .drop(\"finished_normalizedlemma\")\n",
    ")\n",
    "\n",
    "#Show results of validation for n papers\n",
    "#S2papers.show(n=10, truncate=120, vertical=True)"
   ]
  },
  {
   "cell_type": "markdown",
   "id": "4f63e174",
   "metadata": {},
   "source": [
    "## 4. Save a table with `id`, `rawtext` and `lemmas` to HDFS"
   ]
  },
  {
   "cell_type": "code",
   "execution_count": 5,
   "id": "b4c5b911",
   "metadata": {},
   "outputs": [
    {
     "name": "stderr",
     "output_type": "stream",
     "text": [
      "                                                                                \r"
     ]
    },
    {
     "name": "stdout",
     "output_type": "stream",
     "text": [
      "CPU times: user 3.11 s, sys: 546 ms, total: 3.66 s\n",
      "Wall time: 4h 6min 27s\n"
     ]
    }
   ],
   "source": [
    "%%time\n",
    "\n",
    "#Save calculated lemmas to HDFS\n",
    "dir_parquet = Path(\"/export/ml4ds/IntelComp/Datalake/SemanticScholar/20220201\")\n",
    "\n",
    "S2papers.coalesce(1000).write.parquet(\n",
    "    dir_parquet.joinpath(f\"papers_NLP.parquet\").as_posix(),\n",
    "    mode=\"overwrite\",\n",
    ")"
   ]
  },
  {
   "cell_type": "markdown",
   "id": "d1e9416b",
   "metadata": {},
   "source": [
    "## 5. Optional: Check that the generated table looks OK"
   ]
  },
  {
   "cell_type": "code",
   "execution_count": 6,
   "id": "bf2a8e50",
   "metadata": {},
   "outputs": [
    {
     "name": "stderr",
     "output_type": "stream",
     "text": [
      "22/05/12 09:34:49 WARN metastore.ObjectStore: Failed to get database parquet, returning NoSuchObjectException\n",
      "                                                                                \r"
     ]
    },
    {
     "name": "stdout",
     "output_type": "stream",
     "text": [
      "Number of lemmatized papers: 150077544\n",
      "-RECORD 0---------------------------------------------------------------------------------------------------------------------------\n",
      " id      | cdb32d6345b0b4243d98b2317e76bdf23eddb77c                                                                                 \n",
      " rawtext | ANALYZING FACTORS AFFECTING ON THE ENERGY PRODUCTIVITY IN IRAN’S AGRICULTURAL SECTOR.                                    \n",
      " lemmas  | analyzing factors affecting energy productivity irans agricultural sector                                                \n",
      "-RECORD 1---------------------------------------------------------------------------------------------------------------------------\n",
      " id      | 6bf0a5640aacbfc75ec2b9940d2121ac348972bd                                                                                 \n",
      " rawtext | 2456 Diamagnetic susceptibility of C2H9NaO5.                                                                             \n",
      " lemmas  | 2456 diamagnetic susceptibility c2h9nao5                                                                                 \n",
      "-RECORD 2---------------------------------------------------------------------------------------------------------------------------\n",
      " id      | a6a559a1c499587a584543e6792ab331d7cd89a3                                                                                 \n",
      " rawtext | Dual-Chamber Rate Responsive Pacing Increases Mortality in Patients With Implantable Cardioverter-Defibrillators.        \n",
      " lemmas  | dualchamber rate responsive pacing increases mortality patients implantable cardioverterdefibrillators                   \n",
      "-RECORD 3---------------------------------------------------------------------------------------------------------------------------\n",
      " id      | 9f4b3ad5c2c4d1d291c8c562cbf4f5b7f197d9a2                                                                                 \n",
      " rawtext | Intestinal Microbiota in the SARS-CoV-2 Infection: What Is Known?. The Severe Acute Respiratory Syndrome Coronavirus ... \n",
      " lemmas  | intestinal microbiota sarscov2 infection known severe acute respiratory syndrome coronavirus 2 sarscov2 etiological a... \n",
      "-RECORD 4---------------------------------------------------------------------------------------------------------------------------\n",
      " id      | de2cdff1f2a79508ad8e7b13b019930f87fe5c88                                                                                 \n",
      " rawtext | Age-related changes in rat liver plasma membrane phospholipase A2 activity. The alterations of the lipid composition ... \n",
      " lemmas  | agerelated change rat liver plasma membrane phospholipase a2 activity alteration lipid composition fluidity liver pla... \n",
      "-RECORD 5---------------------------------------------------------------------------------------------------------------------------\n",
      " id      | 4802bac6dee100c7a8efee19ab6c56a5ff53c99b                                                                                 \n",
      " rawtext | Method for hydrogenolysis catalysis of glycerin. The invention discloses a method for the hydrogenolysis catalysis of... \n",
      " lemmas  | method hydrogenolysis catalysis glycerin invention disclose method hydrogenolysis catalysis glycerin atmospheric fix ... \n",
      "-RECORD 6---------------------------------------------------------------------------------------------------------------------------\n",
      " id      | ce6ee81c660e02398a14d69454f4145694242bd6                                                                                 \n",
      " rawtext | Triosephosphates modulate leaf mitochondrial phosphorylation by inhibition and uncoupling of electron transport.. The... \n",
      " lemmas  | triosephosphates modulate leaf mitochondrial phosphorylation inhibition uncouple electron transport effect tp triosep... \n",
      "-RECORD 7---------------------------------------------------------------------------------------------------------------------------\n",
      " id      | a1e93ff6bee44ccd633fdedfd6ffbf1e57ac9910                                                                                 \n",
      " rawtext | Organic Sensitizers for Photoanode Water Splitting in Dye-Sensitized Photoelectrochemical Cells.                         \n",
      " lemmas  | organic sensitizers photoanode water splitting dyesensitized photoelectrochemical cells                                  \n",
      "-RECORD 8---------------------------------------------------------------------------------------------------------------------------\n",
      " id      | b2333f2d13c82fec685ef48134d7420b743c678c                                                                                 \n",
      " rawtext | Trochlear nerve neurinoma--case report.. A 43-year-old male presented with a low-density mass on computed tomographic... \n",
      " lemmas  | trochlear nerve neurinomacase report 43yearold male present lowdensity mass compute tomographic scan mass exhibit con... \n",
      "-RECORD 9---------------------------------------------------------------------------------------------------------------------------\n",
      " id      | 2cb540a99dd871bc47a3f303b57aa386387b10b5                                                                                 \n",
      " rawtext | Testing of drugs for nephrotoxicity. General principles and minimal criteria.. A programme for testing of drugs for n... \n",
      " lemmas  | testing drug nephrotoxicity general principle minimal criterion programme test drug nephrotoxicity describe character... \n",
      "only showing top 10 rows\n",
      "\n",
      "CPU times: user 5.23 ms, sys: 9.15 ms, total: 14.4 ms\n",
      "Wall time: 5.33 s\n"
     ]
    }
   ],
   "source": [
    "%%time\n",
    "\n",
    "#Test that the saved table is correct\n",
    "S2papers = spark.sql(\"SELECT * FROM parquet.`/export/ml4ds/IntelComp/Datalake/SemanticScholar/20220201/papers_NLP.parquet`\")\n",
    "print('Number of lemmatized papers:', S2papers.count())\n",
    "S2papers.show(n=10, truncate=120, vertical=True)"
   ]
  },
  {
   "cell_type": "code",
   "execution_count": 7,
   "id": "94c4e59f",
   "metadata": {},
   "outputs": [
    {
     "name": "stderr",
     "output_type": "stream",
     "text": [
      "22/05/12 09:51:01 WARN metastore.ObjectStore: Failed to get database parquet, returning NoSuchObjectException\n",
      "22/05/12 09:51:01 WARN metastore.ObjectStore: Failed to get database parquet, returning NoSuchObjectException\n",
      "                                                                                \r"
     ]
    },
    {
     "name": "stdout",
     "output_type": "stream",
     "text": [
      "Number of papers in joint table: 150077686\n"
     ]
    },
    {
     "name": "stderr",
     "output_type": "stream",
     "text": [
      "[Stage 26:>                                                         (0 + 1) / 1]\r"
     ]
    },
    {
     "name": "stdout",
     "output_type": "stream",
     "text": [
      "-RECORD 0---------------------------------------------------------------------------------------------------------------------------------\n",
      " id            | 000007d87901458ae6f88092ab0ac01388b11fcf                                                                                 \n",
      " fieldsOfStudy | []                                                                                                                       \n",
      " rawtext       | The Philippines. What people in other countries call vernacular architecture we call folk architecture here, but most... \n",
      " lemmas        | philippines people country call vernacular architecture call folk architecture mostly identify rural bahay kubo liter... \n",
      "-RECORD 1---------------------------------------------------------------------------------------------------------------------------------\n",
      " id            | 00001c5efb21112a47918810af4281e3922803b8                                                                                 \n",
      " fieldsOfStudy | []                                                                                                                       \n",
      " rawtext       | How do the reasons to become a teacher influence future secondary mathematics teachers ' teaching competence and inte... \n",
      " lemmas        | reason become teacher influence future secondary mathematics teacher teach competence intention toward teach career s... \n",
      "-RECORD 2---------------------------------------------------------------------------------------------------------------------------------\n",
      " id            | 0000263f4f82fbe5bebf29563876c7272d3a9b88                                                                                 \n",
      " fieldsOfStudy | [History]                                                                                                                \n",
      " rawtext       | Cobbett’s Weekly Political Register London, Saturday, October 9, 1819 To Sir Robert Peel, Baronet and Cotton-Weaver. ... \n",
      " lemmas        | cobbetts weekly political register london saturday october 9 1819 sir robert peel baronet cottonweaver 146               \n",
      "-RECORD 3---------------------------------------------------------------------------------------------------------------------------------\n",
      " id            | 0000281f67982d92f0a9bd2802112aa48427c660                                                                                 \n",
      " fieldsOfStudy | [Psychology]                                                                                                             \n",
      " rawtext       | Acceptance and Caregiving of Married and Divorced Custodial Mothers and Fathers. Abstract The study examined whether ... \n",
      " lemmas        | acceptance caregiving married divorced custodial mothers fathers abstract study examine whether difference gender fam... \n",
      "-RECORD 4---------------------------------------------------------------------------------------------------------------------------------\n",
      " id            | 00002b100707f83729dc1f0377c999b7bfe3e6d3                                                                                 \n",
      " fieldsOfStudy | []                                                                                                                       \n",
      " rawtext       | Answer to Reviewer # 2 V ..                                                                                              \n",
      " lemmas        | answer reviewer 2 v                                                                                                      \n",
      "-RECORD 5---------------------------------------------------------------------------------------------------------------------------------\n",
      " id            | 0000386529040d744200aad8fba1170f79209fd3                                                                                 \n",
      " fieldsOfStudy | [History]                                                                                                                \n",
      " rawtext       | Old English: Suprasegmentals.                                                                                            \n",
      " lemmas        | old english suprasegmentals                                                                                              \n",
      "-RECORD 6---------------------------------------------------------------------------------------------------------------------------------\n",
      " id            | 00003f6077eb0dd01f1e0499a4ac10b50195d640                                                                                 \n",
      " fieldsOfStudy | [Medicine]                                                                                                               \n",
      " rawtext       | Cumulative Risk and Physiological Stress Responses in African American Adolescents. Objective: To investigate associa... \n",
      " lemmas        | cumulative risk physiological stress responses african american adolescents objective investigate association compone... \n",
      "-RECORD 7---------------------------------------------------------------------------------------------------------------------------------\n",
      " id            | 00004ddfe8089303589fb12cddc05fefc7a0bd96                                                                                 \n",
      " fieldsOfStudy | [Computer Science]                                                                                                       \n",
      " rawtext       | Using Static Total Causal Ordering Protocols to Achieve Ordered View Synchrony. A View Synchronous Communication (VSC... \n",
      " lemmas        | using static total causal ordering protocols achieve ordered view synchrony view synchronous communication vsc servic... \n",
      "-RECORD 8---------------------------------------------------------------------------------------------------------------------------------\n",
      " id            | 000051c2d8eff18654e5eaf3e636c02028ef96bb                                                                                 \n",
      " fieldsOfStudy | [Computer Science]                                                                                                       \n",
      " rawtext       | Why authors think their papers are highly cited.                                                                         \n",
      " lemmas        | author think paper highly cite                                                                                           \n",
      "-RECORD 9---------------------------------------------------------------------------------------------------------------------------------\n",
      " id            | 0000681ed9f71e8210d443a1b2229af104386818                                                                                 \n",
      " fieldsOfStudy | []                                                                                                                       \n",
      " rawtext       | Table of Contents.                                                                                                       \n",
      " lemmas        | table contents                                                                                                           \n",
      "only showing top 10 rows\n",
      "\n",
      "CPU times: user 320 ms, sys: 39.7 ms, total: 359 ms\n",
      "Wall time: 2min 58s\n"
     ]
    },
    {
     "name": "stderr",
     "output_type": "stream",
     "text": [
      "\r\n",
      "                                                                                \r"
     ]
    }
   ],
   "source": [
    "%%time\n",
    "\n",
    "papers = spark.sql(\"SELECT id, fieldsOfStudy FROM parquet.`/export/ml4ds/IntelComp/Datalake/SemanticScholar/20220201/papers.parquet`\")\n",
    "lemmas = spark.sql(\"SELECT id, rawtext, lemmas FROM parquet.`/export/ml4ds/IntelComp/Datalake/SemanticScholar/20220201/papers_NLP.parquet`\")\n",
    "\n",
    "papers_lemmas = (papers.join(lemmas, papers.id ==  lemmas.id, \"right\")\n",
    "                      .drop(lemmas.id)\n",
    "                )\n",
    "\n",
    "print('Number of papers in joint table:', papers_lemmas.count())\n",
    "papers_lemmas.show(n=10, truncate=120, vertical=True)"
   ]
  },
  {
   "cell_type": "code",
   "execution_count": 8,
   "id": "9322a5bc",
   "metadata": {},
   "outputs": [
    {
     "name": "stderr",
     "output_type": "stream",
     "text": [
      "                                                                                \r"
     ]
    },
    {
     "name": "stdout",
     "output_type": "stream",
     "text": [
      "Number of papers in Computer Science: 13654632\n"
     ]
    },
    {
     "name": "stderr",
     "output_type": "stream",
     "text": [
      "[Stage 33:>                                                         (0 + 1) / 1]\r"
     ]
    },
    {
     "name": "stdout",
     "output_type": "stream",
     "text": [
      "-RECORD 0---------------------------------------------------------------------------------------------------------------------------------\n",
      " id            | 00004ddfe8089303589fb12cddc05fefc7a0bd96                                                                                 \n",
      " fieldsOfStudy | [Computer Science]                                                                                                       \n",
      " rawtext       | Using Static Total Causal Ordering Protocols to Achieve Ordered View Synchrony. A View Synchronous Communication (VSC... \n",
      " lemmas        | using static total causal ordering protocols achieve ordered view synchrony view synchronous communication vsc servic... \n",
      "-RECORD 1---------------------------------------------------------------------------------------------------------------------------------\n",
      " id            | 000051c2d8eff18654e5eaf3e636c02028ef96bb                                                                                 \n",
      " fieldsOfStudy | [Computer Science]                                                                                                       \n",
      " rawtext       | Why authors think their papers are highly cited.                                                                         \n",
      " lemmas        | author think paper highly cite                                                                                           \n",
      "-RECORD 2---------------------------------------------------------------------------------------------------------------------------------\n",
      " id            | 00042289b5ddd6284a06dedf5272e4d27a2a5f6c                                                                                 \n",
      " fieldsOfStudy | [Computer Science]                                                                                                       \n",
      " rawtext       | Adaptive pulse shaping for CP-OFDM synchronization. This paper presents a new algorithm for blind timing offset estim... \n",
      " lemmas        | adaptive pulse shape cpofdm synchronization paper present new algorithm blind time offset estimation cyclic prefixort... \n",
      "-RECORD 3---------------------------------------------------------------------------------------------------------------------------------\n",
      " id            | 000469a0fedfa15d33f8e0ab9f2d6f3309d7d45a                                                                                 \n",
      " fieldsOfStudy | [Computer Science]                                                                                                       \n",
      " rawtext       | Research on Integration of CAPP/PDM Based on STEP and XML. To deal with the product data exchanging and the sharing o... \n",
      " lemmas        | research integration capppdm based step xml deal product data exchange share capppdm integration network environmenti... \n",
      "-RECORD 4---------------------------------------------------------------------------------------------------------------------------------\n",
      " id            | 000517d8f2b37864718111f832c6fb1cf1d1f79b                                                                                 \n",
      " fieldsOfStudy | [Computer Science]                                                                                                       \n",
      " rawtext       | Security vulnerability analysis and corresponding mitigation for password-based authentication using an offline perso... \n",
      " lemmas        | security vulnerability analysis correspond mitigation passwordbased authentication use offline personal authenticatio... \n",
      "-RECORD 5---------------------------------------------------------------------------------------------------------------------------------\n",
      " id            | 0005db3f7cbffb7ce4d4dac237d273caa0eb4021                                                                                 \n",
      " fieldsOfStudy | [Computer Science]                                                                                                       \n",
      " rawtext       | Improving Particle Swarm Optimization of Its Convergence. There are few controllable parameters in the particle swarm... \n",
      " lemmas        | improving particle swarm optimization convergence controllable parameter particle swarm optimization algorithm value ... \n",
      "-RECORD 6---------------------------------------------------------------------------------------------------------------------------------\n",
      " id            | 0006750da7d720e03fadd98dd20e014f9efab039                                                                                 \n",
      " fieldsOfStudy | [Computer Science]                                                                                                       \n",
      " rawtext       | XQuery Interpreter.                                                                                                      \n",
      " lemmas        | xquery interpreter                                                                                                       \n",
      "-RECORD 7---------------------------------------------------------------------------------------------------------------------------------\n",
      " id            | 00070f1ddef29e150ceb6b2d8686541ba7ac0c4d                                                                                 \n",
      " fieldsOfStudy | [Computer Science]                                                                                                       \n",
      " rawtext       | A Test-Bed for Network Performance Evaluation Of IPv4 and IPv6 in Network Layer Protocol. This paper represents in a ... \n",
      " lemmas        | testbed network performance evaluation ipv4 ipv6 network layer protocol paper represent testbed perform measure evalu... \n",
      "-RECORD 8---------------------------------------------------------------------------------------------------------------------------------\n",
      " id            | 0007a869cd502070f049d8779ee6bbfb06277283                                                                                 \n",
      " fieldsOfStudy | [Computer Science]                                                                                                       \n",
      " rawtext       | Improved Density Peaks Clustering Based on Shared-Neighbors of Local Cores for Manifold Data Sets. A novel clustering... \n",
      " lemmas        | improved density peaks clustering based sharedneighbors local cores manifold data sets novel cluster algorithm fast s... \n",
      "-RECORD 9---------------------------------------------------------------------------------------------------------------------------------\n",
      " id            | 00080ed6324e584726730b53a4d592d5aa7cbcf5                                                                                 \n",
      " fieldsOfStudy | [Computer Science]                                                                                                       \n",
      " rawtext       | Microelectromechanical Configuration of an Optically Reconfigurable Gate Array. This paper presents a proposal of a n... \n",
      " lemmas        | microelectromechanical configuration optically reconfigurable gate array paper present proposal novel optically recon... \n",
      "only showing top 10 rows\n",
      "\n",
      "CPU times: user 256 ms, sys: 53.3 ms, total: 309 ms\n",
      "Wall time: 2min 17s\n"
     ]
    },
    {
     "name": "stderr",
     "output_type": "stream",
     "text": [
      "\r\n",
      "                                                                                \r"
     ]
    }
   ],
   "source": [
    "%%time\n",
    "\n",
    "#Using SQL Expression\n",
    "papers_lemmas = papers_lemmas.filter(F.array_contains(\"fieldsOfStudy\", 'Computer Science'))\n",
    "print('Number of papers in Computer Science:', papers_lemmas.count())\n",
    "papers_lemmas.show(n=10, truncate=120, vertical=True)"
   ]
  },
  {
   "cell_type": "code",
   "execution_count": null,
   "id": "3667f4f2",
   "metadata": {},
   "outputs": [],
   "source": []
  }
 ],
 "metadata": {
  "kernelspec": {
   "display_name": "Python 3.8.9 64-bit",
   "language": "python",
   "name": "python3"
  },
  "language_info": {
   "codemirror_mode": {
    "name": "ipython",
    "version": 3
   },
   "file_extension": ".py",
   "mimetype": "text/x-python",
   "name": "python",
   "nbconvert_exporter": "python",
   "pygments_lexer": "ipython3",
   "version": "3.8.9"
  },
  "vscode": {
   "interpreter": {
    "hash": "31f2aee4e71d21fbe5cf8b01ff0e069b9275f58929596ceb00d14d90e3e16cd6"
   }
  }
 },
 "nbformat": 4,
 "nbformat_minor": 5
}
