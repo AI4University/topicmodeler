{
 "cells": [
  {
   "cell_type": "code",
   "execution_count": 1,
   "id": "9ae6dcd5",
   "metadata": {},
   "outputs": [],
   "source": [
    "\"\"\"\n",
    "Temporary routine for generation of datasets\n",
    "for demonstration purposes\n",
    "\n",
    "It is a \"Fake Data Mediator\" for use with the first\n",
    "version of the Interactive Topic Model Trainer\n",
    "\"\"\"\n",
    "\n",
    "import argparse\n",
    "import json\n",
    "import os\n",
    "from pathlib import Path\n",
    "#from langdetect import detect\n",
    "from pyspark.sql import SparkSession\n",
    "import pyspark.sql.functions as F\n",
    "from pyspark.sql.types import StringType"
   ]
  },
  {
   "cell_type": "markdown",
   "id": "2cb44ac5-0fc4-4ba1-a5b9-eac1a85acdf2",
   "metadata": {},
   "source": [
    "# Simulate downloads from HDFS"
   ]
  },
  {
   "cell_type": "markdown",
   "id": "0f56391f-c7db-4bf7-9590-fff6396aaabd",
   "metadata": {
    "tags": []
   },
   "source": [
    "## CORDIS UC3M"
   ]
  },
  {
   "cell_type": "code",
   "execution_count": 2,
   "id": "97fad071-c61b-4df9-95a0-f4da5b58d7fa",
   "metadata": {},
   "outputs": [],
   "source": [
    "# parquet_table = '/export/ml4ds/IntelComp/Datalake/CORDIS/20230425/parquet/projects.parquet' #In HDFS\n",
    "parquet_table = 'file:///export/usuarios_ml4ds/jarenas/github/IntelComp/KPIs/WP3-pipelines/datasets/AI/cordis_Kwds3_AI.parquet' #In NFS\n",
    "# lemmas_table = '/export/ml4ds/IntelComp/Datalake/CORDIS/20230425/parquet/projects_NLP.parquet' #In HDFS\n",
    "lemmas_table = 'file:///export/usuarios_ml4ds/jarenas/github/IntelComp/KPIs/WP3-pipelines/datasets/AI/cordis_Kwds3_AI_NLP.parquet' #In NFS\n",
    "id_fld = 'projectID'\n",
    "selectFields = 'title, objective, acronym, frameworkProgramme, startDate, ecMaxContribution, euroSciVocCode, countryContr, coordinatorCountry, publicationID, patentID, fundingScheme, topic'\n",
    "filterCondition = '' #'frameworkProgramme = \"HORIZON\"'\n",
    "path_dataset = \"file:///export/usuarios_ml4ds/jarenas/github/IntelComp/ITMT/topicmodeler/fromHDFS/cordis_Kwds3_AI.parquet\" #In NFS"
   ]
  },
  {
   "cell_type": "markdown",
   "id": "af37cf26-250b-4cfa-8710-ee55fdced77d",
   "metadata": {},
   "source": [
    "## Semantic Scholar"
   ]
  },
  {
   "cell_type": "markdown",
   "id": "df36b56f-2460-444a-bef8-f3b44cb62b78",
   "metadata": {},
   "source": [
    "### Cancer dataset pregenerated from PMID given by HCERES"
   ]
  },
  {
   "cell_type": "code",
   "execution_count": 17,
   "id": "2d12ad6d-8ade-4976-b036-74bf5902c607",
   "metadata": {
    "tags": []
   },
   "outputs": [],
   "source": [
    "# parquet_table = '/export/ml4ds/IntelComp/Datalake/semanticscholar/20230418/parquet/papers_Cancer.parquet' # In HDFS\n",
    "parquet_table = 'file:///export/usuarios_ml4ds/jarenas/github/IntelComp/KPIs/WP3-pipelines/datasets/cancer/S2_Cancer.parquet' #In NFS\n",
    "# lemmas_table = '/export/ml4ds/IntelComp/Datalake/semanticscholar/20230418/parquet/papers_Cancer_NLP.parquet' # In HDFS\n",
    "lemmas_table = 'file:///export/usuarios_ml4ds/jarenas/github/IntelComp/KPIs/WP3-pipelines/datasets/cancer/S2_Cancer_NLP.parquet' # In HDFS\n",
    "id_fld = 'id'\n",
    "selectFields = 'doi, title, paperAbstract, year' #, fieldsOfStudy, publicationtype, isopenaccess, referencecount, citationcount, influencialcitationcount'\n",
    "filterCondition = ''\n",
    "path_dataset = \"file:///export/usuarios_ml4ds/jarenas/github/IntelComp/ITMT/topicmodeler/fromHDFS/S2_Cancer.parquet\" #In NFS"
   ]
  },
  {
   "cell_type": "markdown",
   "id": "c1cf2141-c6cb-41b1-bb8b-ba5d7617f422",
   "metadata": {},
   "source": [
    "### AI dataset generated from AI keywords"
   ]
  },
  {
   "cell_type": "code",
   "execution_count": 23,
   "id": "ea8970bf-cb4e-426f-8b39-8b298269fbf6",
   "metadata": {
    "tags": []
   },
   "outputs": [],
   "source": [
    "parquet_table = 'file:///export/usuarios_ml4ds/jarenas/github/IntelComp/KPIs/WP3-pipelines/datasets/AI/S2_Kwds3_AI.parquet' #In NFS\n",
    "lemmas_table = 'file:///export/usuarios_ml4ds/jarenas/github/IntelComp/KPIs/WP3-pipelines/datasets/AI/S2_Kwds3_AI_NLP.parquet' # In HDFS\n",
    "id_fld = 'id'\n",
    "selectFields = 'doi, title, paperAbstract, year' #, fieldsOfStudy, publicationtype, isopenaccess, referencecount, citationcount, influencialcitationcount'\n",
    "filterCondition = ''\n",
    "path_dataset = \"file:///export/usuarios_ml4ds/jarenas/github/IntelComp/ITMT/topicmodeler/fromHDFS/S2_Kwds3_AI.parquet\" #In NFS"
   ]
  },
  {
   "cell_type": "markdown",
   "id": "087b55ac-5d4d-4779-8004-bd4d0d20c46e",
   "metadata": {},
   "source": [
    "### Whole dataset filtering according to FOS"
   ]
  },
  {
   "cell_type": "code",
   "execution_count": null,
   "id": "531a2665-e7f9-46c4-b9c3-ab86ed2c5ad7",
   "metadata": {},
   "outputs": [],
   "source": [
    "#parquet_table = '/export/ml4ds/IntelComp/Datalake/SemanticScholar/20220201/papers.parquet'\n",
    "#selectFields = 'title, paperAbstract, doi, year, fieldsOfStudy'\n",
    "#filterCondition = \"array_contains(fieldsOfStudy, 'Computer Science')\"\n",
    "#path_dataset = \"/export/usuarios_ml4ds/jarenas/github/IntelComp/ITMT/topicmodeler/fromHDFS_scalability/S2CS_1.parquet\"\n",
    "#perc = float(1)/100"
   ]
  },
  {
   "cell_type": "markdown",
   "id": "ec61fbc6-7075-4c84-8db1-ebfe4d80b503",
   "metadata": {},
   "source": [
    "## OpenAIRE"
   ]
  },
  {
   "cell_type": "markdown",
   "id": "63abf532-f992-496b-a10b-b5ae52a02c38",
   "metadata": {},
   "source": [
    "### Cancer dataset pregenerated from PMID given by HCERES"
   ]
  },
  {
   "cell_type": "code",
   "execution_count": 28,
   "id": "9f0b39e3-e4c4-4c9a-ad41-80347b1340ae",
   "metadata": {},
   "outputs": [],
   "source": [
    "# parquet_table = '/export/ml4ds/IntelComp/Datalake/semanticscholar/20230418/parquet/papers_Cancer.parquet' # In HDFS\n",
    "parquet_table = 'file:///export/usuarios_ml4ds/jarenas/github/IntelComp/KPIs/WP3-pipelines/datasets/cancer/OA_Cancer.parquet' #In NFS\n",
    "# lemmas_table = '/export/ml4ds/IntelComp/Datalake/semanticscholar/20230418/parquet/papers_Cancer_NLP.parquet' # In HDFS\n",
    "lemmas_table = 'file:///export/usuarios_ml4ds/jarenas/github/IntelComp/KPIs/WP3-pipelines/datasets/cancer/OA_Cancer_NLP.parquet' # In HDFS\n",
    "id_fld = 'id'\n",
    "selectFields = 'title, description' #, fieldsOfStudy, publicationtype, isopenaccess, referencecount, citationcount, influencialcitationcount'\n",
    "filterCondition = ''\n",
    "path_dataset = \"file:///export/usuarios_ml4ds/jarenas/github/IntelComp/ITMT/topicmodeler/fromHDFS/OA_Cancer.parquet\" #In NFS"
   ]
  },
  {
   "cell_type": "markdown",
   "id": "39fb2c02-fcc1-4afb-bbc4-e355a47d683f",
   "metadata": {},
   "source": [
    "### AI dataset generated from AI keywords"
   ]
  },
  {
   "cell_type": "code",
   "execution_count": 34,
   "id": "363357eb-a385-46f1-905b-f17ad98bbb87",
   "metadata": {},
   "outputs": [],
   "source": [
    "parquet_table = 'file:///export/usuarios_ml4ds/jarenas/github/IntelComp/KPIs/WP3-pipelines/datasets/AI/OA_Kwds3_AI.parquet' #In NFS\n",
    "lemmas_table = 'file:///export/usuarios_ml4ds/jarenas/github/IntelComp/KPIs/WP3-pipelines/datasets/AI/OA_Kwds3_AI_NLP.parquet' # In HDFS\n",
    "id_fld = 'id'\n",
    "selectFields = 'title, description' #, fieldsOfStudy, publicationtype, isopenaccess, referencecount, citationcount, influencialcitationcount'\n",
    "filterCondition = ''\n",
    "path_dataset = \"file:///export/usuarios_ml4ds/jarenas/github/IntelComp/ITMT/topicmodeler/fromHDFS/OA_Kwds3_AI.parquet\" #In NFS"
   ]
  },
  {
   "cell_type": "markdown",
   "id": "087a8cd6-df0b-436b-b4ef-e68a5a15daa6",
   "metadata": {},
   "source": [
    "## Patstat"
   ]
  },
  {
   "cell_type": "markdown",
   "id": "002be4ee-8595-4bc2-ac10-7b8e0f1b98f2",
   "metadata": {},
   "source": [
    "### Cancer dataset generated from CPCs identified by HCERES"
   ]
  },
  {
   "cell_type": "code",
   "execution_count": 2,
   "id": "3b42acfe-85bf-41f5-b9b6-80044ebd2f1d",
   "metadata": {},
   "outputs": [],
   "source": [
    "parquet_table = '/export/ml4ds/IntelComp/Datalake/patstat/2023_Spring/parquet/patents_Cancer_CPC.parquet' # In HDFS\n",
    "lemmas_table = '/export/ml4ds/IntelComp/Datalake/patstat/2023_Spring/parquet/patents_Cancer_CPC_NLP.parquet' # In HDFS\n",
    "id_fld = 'appln_id'\n",
    "selectFields = 'appln_title, appln_abstract, docdb_family_id, appln_filing_year, earliest_filing_year, granted, appln_auth, receiving_office, ipr_type'\n",
    "filterCondition = ''\n",
    "path_dataset = \"/export/clusterdata/jarenas/github/IntelComp/ITMT/topicmodeler/fromHDFS/Patstat_Cancer_CPC.parquet\" #In NFS"
   ]
  },
  {
   "cell_type": "markdown",
   "id": "7805893d-7444-424b-8717-0a359019a322",
   "metadata": {},
   "source": [
    "### Cancer dataset generated from keywords given by HCERES"
   ]
  },
  {
   "cell_type": "code",
   "execution_count": 7,
   "id": "9b9db946-72ec-485e-b34a-2ecba161d3a4",
   "metadata": {},
   "outputs": [],
   "source": [
    "parquet_table = '/export/ml4ds/IntelComp/Datalake/patstat/2023_Spring/parquet/patents_Cancer_Kwds.parquet' # In HDFS\n",
    "lemmas_table = '/export/ml4ds/IntelComp/Datalake/patstat/2023_Spring/parquet/patents_Cancer_Kwds_NLP.parquet' # In HDFS\n",
    "id_fld = 'appln_id'\n",
    "selectFields = 'appln_title, appln_abstract, docdb_family_id, appln_filing_year, earliest_filing_year, granted, appln_auth, receiving_office, ipr_type, Kwd_count'\n",
    "filterCondition = ''\n",
    "path_dataset = \"/export/clusterdata/jarenas/github/IntelComp/ITMT/topicmodeler/fromHDFS/Patstat_Cancer_Kwds.parquet\" #In NFS"
   ]
  },
  {
   "cell_type": "markdown",
   "id": "0e02ce16-522e-4c6f-b9f6-8c3ac0ffcb92",
   "metadata": {},
   "source": [
    "### AI dataset generated from AI keywords"
   ]
  },
  {
   "cell_type": "code",
   "execution_count": 43,
   "id": "7ab22d04-8f21-4f44-b745-bb34cb5d9069",
   "metadata": {},
   "outputs": [],
   "source": [
    "parquet_table = 'file:///export/usuarios_ml4ds/jarenas/github/IntelComp/KPIs/WP3-pipelines/datasets/AI/PATSTAT_Kwds3_AI.parquet' #In NFS\n",
    "lemmas_table = 'file:///export/usuarios_ml4ds/jarenas/github/IntelComp/KPIs/WP3-pipelines/datasets/AI/PATSTAT_Kwds3_AI_NLP.parquet' # In HDFS\n",
    "id_fld = 'appln_id'\n",
    "selectFields = 'docdb_family_id, appln_title, appln_abstract, appln_filing_year, earliest_filing_year, granted, appln_auth, receiving_office, ipr_type' \n",
    "filterCondition = ''\n",
    "path_dataset = \"file:///export/usuarios_ml4ds/jarenas/github/IntelComp/ITMT/topicmodeler/fromHDFS/PATSTAT_Kwds3_AI.parquet\" #In NFS"
   ]
  },
  {
   "cell_type": "markdown",
   "id": "36c6d2c3-b6c0-4c7d-b2d5-55a0d0e4a438",
   "metadata": {},
   "source": [
    "## HFRI projects"
   ]
  },
  {
   "cell_type": "code",
   "execution_count": 4,
   "id": "e54452b8-e0a6-4da7-85ad-8e624f12a62d",
   "metadata": {},
   "outputs": [],
   "source": [
    "parquet_table = 'file:///export/usuarios_ml4ds/jarenas/github/IntelComp/KPIs/WP3-pipelines/datasets/HFRI/202302_HFRI.parquet' #In NFS\n",
    "lemmas_table = 'file:///export/usuarios_ml4ds/jarenas/github/IntelComp/KPIs/WP3-pipelines/datasets/HFRI/202302_HFRI_NLP.parquet' # In HDFS\n",
    "id_fld = 'id'\n",
    "selectFields = 'Work, Title, Summary, keywords, Budget, Duration, `Host Institutions (Greek)`, Action, field1, `field1 code`, `field1 name`, field2, `Gender IP`' \n",
    "filterCondition = ''\n",
    "path_dataset = \"file:///export/usuarios_ml4ds/jarenas/github/IntelComp/ITMT/topicmodeler/fromHDFS/HFRI.parquet\" #In NFS"
   ]
  },
  {
   "cell_type": "markdown",
   "id": "77f59868-f1d7-4277-9d0d-d17061bd6a4e",
   "metadata": {
    "tags": []
   },
   "source": [
    "## Generate parquet files"
   ]
  },
  {
   "cell_type": "code",
   "execution_count": 5,
   "id": "4205c000-4ef8-4274-9452-e853cb354aa6",
   "metadata": {},
   "outputs": [
    {
     "name": "stderr",
     "output_type": "stream",
     "text": [
      "23/09/29 18:23:30 WARN HiveConf: HiveConf of name hive.stats.jdbc.timeout does not exist\n",
      "23/09/29 18:23:30 WARN HiveConf: HiveConf of name hive.stats.retries.wait does not exist\n",
      "23/09/29 18:23:34 WARN ObjectStore: Version information not found in metastore. hive.metastore.schema.verification is not enabled so recording the schema version 2.3.0\n",
      "23/09/29 18:23:34 WARN ObjectStore: setMetaStoreSchemaVersion called but recording version is disabled: version = 2.3.0, comment = Set by MetaStore jarenas@192.168.148.147\n",
      "23/09/29 18:23:34 WARN ObjectStore: Failed to get database global_temp, returning NoSuchObjectException\n",
      "23/09/29 18:23:34 WARN ObjectStore: Failed to get database parquet, returning NoSuchObjectException\n",
      "                                                                                \r"
     ]
    },
    {
     "name": "stdout",
     "output_type": "stream",
     "text": [
      "Number of documents in dataset: 688\n"
     ]
    },
    {
     "name": "stderr",
     "output_type": "stream",
     "text": [
      "[Stage 4:>                                                          (0 + 1) / 1]\r"
     ]
    },
    {
     "name": "stdout",
     "output_type": "stream",
     "text": [
      "-RECORD 0---------------------------------------------------------------------------------------------------------------------------------------------\n",
      " id                        | 1                                                                                                                        \n",
      " Work                      | 664                                                                                                                      \n",
      " Title                     | Development of sustainable chemoenzymatic processes for the production of optically active amines from alcohols and a... \n",
      " Summary                   | Synthesis of optically pure amines has attracted significant research interest, due to the fact that this group of co... \n",
      " keywords                  | cascade reactions;graphene oxide;amine transaminase;immobilization;bioprocess;optically pure amine;API synthons;chemo... \n",
      " Budget                    | 200000.0                                                                                                                 \n",
      " Duration                  | 42.0                                                                                                                     \n",
      " Host Institutions (Greek) | ΠΑΝΕΠΙΣΤΗΜΙΟ ΚΡΗΤΗΣ                                                                                                      \n",
      " Action                    | ΜΔΕΠ                                                                                                                     \n",
      " field1                    | Chemical sciences                                                                                                        \n",
      " field1 code               | 1.2                                                                                                                      \n",
      " field1 name               | Chemical Sciences                                                                                                        \n",
      " field2                    | Applied and industrial chemistry                                                                                         \n",
      " Gender IP                 | Male                                                                                                                     \n",
      "-RECORD 1---------------------------------------------------------------------------------------------------------------------------------------------\n",
      " id                        | 2                                                                                                                        \n",
      " Work                      | 348                                                                                                                      \n",
      " Title                     | Zr4+ MOFs with Excellent Adsorption Capacity of Toxic Ions from Water                                                    \n",
      " Summary                   | In the proposed research, we plan to demonstrate the use of terephthalate ligands with bulky functional groups as a g... \n",
      " keywords                  | MOFs;ion exchange;sorption;heavy metals;porous materials;                                                                \n",
      " Budget                    | 200000.0                                                                                                                 \n",
      " Duration                  | 43.0                                                                                                                     \n",
      " Host Institutions (Greek) | ΠΑΝΕΠΙΣΤΗΜΙΟ ΙΩΑΝΝΙΝΩΝ                                                                                                   \n",
      " Action                    | ΜΔΕΠ                                                                                                                     \n",
      " field1                    | Chemical sciences                                                                                                        \n",
      " field1 code               | 1.2                                                                                                                      \n",
      " field1 name               | Chemical Sciences                                                                                                        \n",
      " field2                    | Inorganic and nuclear chemistry                                                                                          \n",
      " Gender IP                 | Male                                                                                                                     \n",
      "only showing top 2 rows\n",
      "\n"
     ]
    },
    {
     "name": "stderr",
     "output_type": "stream",
     "text": [
      "                                                                                \r"
     ]
    }
   ],
   "source": [
    "# We read the main table including selected fields and the identifier\n",
    "flds = [el.strip() for el in selectFields.split(',')]\n",
    "query = \"SELECT \" + id_fld + \" AS id, \" + (\",\").join(flds) + \\\n",
    "                \" FROM parquet.`\" + parquet_table + \"`\"\n",
    "\n",
    "# Add filtering condition to SELECT clause if necessary\n",
    "if len(filterCondition.strip()):\n",
    "    query += \" WHERE \" + filterCondition\n",
    "dataset = spark.sql(query)\n",
    "\n",
    "print('Number of documents in dataset:', dataset.count())\n",
    "dataset.show(n=2, truncate=120, vertical=True)"
   ]
  },
  {
   "cell_type": "code",
   "execution_count": 6,
   "id": "0269e65c-b3d5-4a2c-99c8-f981d2b2c350",
   "metadata": {},
   "outputs": [
    {
     "name": "stderr",
     "output_type": "stream",
     "text": [
      "23/09/29 18:24:23 WARN ObjectStore: Failed to get database parquet, returning NoSuchObjectException\n",
      "                                                                                \r"
     ]
    },
    {
     "name": "stdout",
     "output_type": "stream",
     "text": [
      "Number of documents in dataset: 687\n"
     ]
    },
    {
     "name": "stderr",
     "output_type": "stream",
     "text": [
      "[Stage 9:>                                                          (0 + 1) / 1]\r"
     ]
    },
    {
     "name": "stdout",
     "output_type": "stream",
     "text": [
      "-RECORD 0----------------------------------------------------------------------------------------------------------------------------\n",
      " id       | 1                                                                                                                        \n",
      " raw_text | Development of sustainable chemoenzymatic processes for the production of optically active amines from alcohols and a... \n",
      " lemmas   | development sustainable chemoenzymatic process production active amine alcohol alkynes synthesis pure amine attract_s... \n",
      "-RECORD 1----------------------------------------------------------------------------------------------------------------------------\n",
      " id       | 2                                                                                                                        \n",
      " raw_text | Zr4+ MOFs with Excellent Adsorption Capacity of Toxic Ions from Water In the proposed research, we plan to demonstrat... \n",
      " lemmas   | mof excellent adsorption capacity toxic ion water propose_research plan demonstrate terephthalate ligand bulky functi... \n",
      "only showing top 2 rows\n",
      "\n"
     ]
    },
    {
     "name": "stderr",
     "output_type": "stream",
     "text": [
      "                                                                                \r"
     ]
    }
   ],
   "source": [
    "# We read the table with the output of NLP processes and identify id field\n",
    "query = \"SELECT \" + id_fld + \" AS id, raw_text, lemmas FROM parquet.`\" + lemmas_table + \"`\"\n",
    "lemmas_df = spark.sql(query)\n",
    "\n",
    "print('Number of documents in dataset:', lemmas_df.count())\n",
    "lemmas_df.show(n=2, truncate=120, vertical=True)"
   ]
  },
  {
   "cell_type": "code",
   "execution_count": 7,
   "id": "24739c70-5a1e-4c03-b027-a9969261b86c",
   "metadata": {},
   "outputs": [
    {
     "name": "stderr",
     "output_type": "stream",
     "text": [
      "                                                                                \r"
     ]
    },
    {
     "name": "stdout",
     "output_type": "stream",
     "text": [
      "Number of documents in dataset: 688\n"
     ]
    },
    {
     "name": "stderr",
     "output_type": "stream",
     "text": [
      "                                                                                \r"
     ]
    },
    {
     "name": "stdout",
     "output_type": "stream",
     "text": [
      "-RECORD 0---------------------------------------------------------------------------------------------------------------------------------------------\n",
      " id                        | 1                                                                                                                        \n",
      " Work                      | 664                                                                                                                      \n",
      " Title                     | Development of sustainable chemoenzymatic processes for the production of optically active amines from alcohols and a... \n",
      " Summary                   | Synthesis of optically pure amines has attracted significant research interest, due to the fact that this group of co... \n",
      " keywords                  | cascade reactions;graphene oxide;amine transaminase;immobilization;bioprocess;optically pure amine;API synthons;chemo... \n",
      " Budget                    | 200000.0                                                                                                                 \n",
      " Duration                  | 42.0                                                                                                                     \n",
      " Host Institutions (Greek) | ΠΑΝΕΠΙΣΤΗΜΙΟ ΚΡΗΤΗΣ                                                                                                      \n",
      " Action                    | ΜΔΕΠ                                                                                                                     \n",
      " field1                    | Chemical sciences                                                                                                        \n",
      " field1 code               | 1.2                                                                                                                      \n",
      " field1 name               | Chemical Sciences                                                                                                        \n",
      " field2                    | Applied and industrial chemistry                                                                                         \n",
      " Gender IP                 | Male                                                                                                                     \n",
      " raw_text                  | Development of sustainable chemoenzymatic processes for the production of optically active amines from alcohols and a... \n",
      " lemmas                    | development sustainable chemoenzymatic process production active amine alcohol alkynes synthesis pure amine attract_s... \n",
      "-RECORD 1---------------------------------------------------------------------------------------------------------------------------------------------\n",
      " id                        | 2                                                                                                                        \n",
      " Work                      | 348                                                                                                                      \n",
      " Title                     | Zr4+ MOFs with Excellent Adsorption Capacity of Toxic Ions from Water                                                    \n",
      " Summary                   | In the proposed research, we plan to demonstrate the use of terephthalate ligands with bulky functional groups as a g... \n",
      " keywords                  | MOFs;ion exchange;sorption;heavy metals;porous materials;                                                                \n",
      " Budget                    | 200000.0                                                                                                                 \n",
      " Duration                  | 43.0                                                                                                                     \n",
      " Host Institutions (Greek) | ΠΑΝΕΠΙΣΤΗΜΙΟ ΙΩΑΝΝΙΝΩΝ                                                                                                   \n",
      " Action                    | ΜΔΕΠ                                                                                                                     \n",
      " field1                    | Chemical sciences                                                                                                        \n",
      " field1 code               | 1.2                                                                                                                      \n",
      " field1 name               | Chemical Sciences                                                                                                        \n",
      " field2                    | Inorganic and nuclear chemistry                                                                                          \n",
      " Gender IP                 | Male                                                                                                                     \n",
      " raw_text                  | Zr4+ MOFs with Excellent Adsorption Capacity of Toxic Ions from Water In the proposed research, we plan to demonstrat... \n",
      " lemmas                    | mof excellent adsorption capacity toxic ion water propose_research plan demonstrate terephthalate ligand bulky functi... \n",
      "-RECORD 2---------------------------------------------------------------------------------------------------------------------------------------------\n",
      " id                        | 3                                                                                                                        \n",
      " Work                      | 2050                                                                                                                     \n",
      " Title                     | Study of interactions of unsaturated fatty acids with serum albumin and the anti-apoptotic protein Bcl-2 with emphasi... \n",
      " Summary                   | Free Fatty Acids (FFA) are the building blocks of lipids and play an important role in cellular signaling processes, ... \n",
      " keywords                  | Anti-apoptotic;Bcl-2;Albumin;BSA;Free Fatty Acids;NMR;STD;TR-NOESY;In-cell NMR;                                          \n",
      " Budget                    | 180000.0                                                                                                                 \n",
      " Duration                  | 36.0                                                                                                                     \n",
      " Host Institutions (Greek) | ΠΑΝΕΠΙΣΤΗΜΙΟ ΙΩΑΝΝΙΝΩΝ                                                                                                   \n",
      " Action                    | ΜΔΕΠ                                                                                                                     \n",
      " field1                    | Chemical sciences                                                                                                        \n",
      " field1 code               | 1.2                                                                                                                      \n",
      " field1 name               | Chemical Sciences                                                                                                        \n",
      " field2                    | Organic chemistry                                                                                                        \n",
      " Gender IP                 | Male                                                                                                                     \n",
      " raw_text                  | Study of interactions of unsaturated fatty acids with serum albumin and the anti-apoptotic protein Bcl-2 with emphasi... \n",
      " lemmas                    | study interaction unsaturated fatty_acid serum albumin anti_apoptotic protein emphasis cell nmr methodology free fatt... \n",
      "-RECORD 3---------------------------------------------------------------------------------------------------------------------------------------------\n",
      " id                        | 4                                                                                                                        \n",
      " Work                      | 3970                                                                                                                     \n",
      " Title                     | Formation of Polymeric Brushes on Surfaces from Linear Tricomponent Tripolymer Precursors for Nanotechnology Applicat... \n",
      " Summary                   | The aim of this research is to synthesize new A-b-B-b-C and B-b-A-b-C type linear triblock terpolymers of low molecul... \n",
      " keywords                  | diblock copolymers;triblock terpolymers;nanotechnology;polymer brushes;grafting methods;substrate surfaces;polymer sy... \n",
      " Budget                    | 200000.0                                                                                                                 \n",
      " Duration                  | 36.0                                                                                                                     \n",
      " Host Institutions (Greek) | ΠΑΝΕΠΙΣΤΗΜΙΟ ΙΩΑΝΝΙΝΩΝ                                                                                                   \n",
      " Action                    | ΜΔΕΠ                                                                                                                     \n",
      " field1                    | Chemical sciences                                                                                                        \n",
      " field1 code               | 1.2                                                                                                                      \n",
      " field1 name               | Chemical Sciences                                                                                                        \n",
      " field2                    | Physical chemistry, Polymer science, Electrochemistry                                                                    \n",
      " Gender IP                 | Male                                                                                                                     \n",
      " raw_text                  | Formation of Polymeric Brushes on Surfaces from Linear Tricomponent Tripolymer Precursors for Nanotechnology Applicat... \n",
      " lemmas                    | formation polymeric brush surfaces linear tricomponent tripolymer precursors nanotechnology applications aim research... \n",
      "-RECORD 4---------------------------------------------------------------------------------------------------------------------------------------------\n",
      " id                        | 5                                                                                                                        \n",
      " Work                      | 470                                                                                                                      \n",
      " Title                     | LASER ANALYSIS OF MILK                                                                                                   \n",
      " Summary                   | Laser-induced breakdown spectroscopy (LIBS) is a laser based technique which uses a pulsed laser beam tightly focused... \n",
      " keywords                  | LIBS;lasers;elemental analysis;minerals;food;milk;quality;safety; photonics;technology;                                  \n",
      " Budget                    | 199783.0                                                                                                                 \n",
      " Duration                  | 42.0                                                                                                                     \n",
      " Host Institutions (Greek) | ΙΔΡΥΜΑ ΤΕΧΝΟΛΟΓΙΑΣ & ΕΡΕΥΝΑΣ (ΙΤΕ)                                                                                       \n",
      " Action                    | ΜΔΕΠ                                                                                                                     \n",
      " field1                    | Physical sciences                                                                                                        \n",
      " field1 code               | 1.1                                                                                                                      \n",
      " field1 name               | Physical Sciences                                                                                                        \n",
      " field2                    | Optics, quantum optics, laser physics                                                                                    \n",
      " Gender IP                 | Male                                                                                                                     \n",
      " raw_text                  | LASER ANALYSIS OF MILK Laser-induced breakdown spectroscopy (LIBS) is a laser based technique which uses a pulsed las... \n",
      " lemmas                    | laser analysis milk laser induce breakdown spectroscopy libs laser base technique pulsed laser beam focused material ... \n",
      "-RECORD 5---------------------------------------------------------------------------------------------------------------------------------------------\n",
      " id                        | 6                                                                                                                        \n",
      " Work                      | 3034                                                                                                                     \n",
      " Title                     | Spin-valley polarization in two-dimensional materials and their van der Waals heterostructures                           \n",
      " Summary                   | Optical control of valley polarization is one of the most fascinating properties of transition metal dichalcogenide (... \n",
      " keywords                  | 2D materials;valleytronics;heterostructures;TMDs;spin polarization;photoluminescence;temperature;excitons;semiconduct... \n",
      " Budget                    | 200000.0                                                                                                                 \n",
      " Duration                  | 36.0                                                                                                                     \n",
      " Host Institutions (Greek) | ΙΔΡΥΜΑ ΤΕΧΝΟΛΟΓΙΑΣ & ΕΡΕΥΝΑΣ (ΙΤΕ)                                                                                       \n",
      " Action                    | ΜΔΕΠ                                                                                                                     \n",
      " field1                    | Physical sciences                                                                                                        \n",
      " field1 code               | 1.1                                                                                                                      \n",
      " field1 name               | Physical Sciences                                                                                                        \n",
      " field2                    | Condensed matter physics                                                                                                 \n",
      " Gender IP                 | Male                                                                                                                     \n",
      " raw_text                  | Spin-valley polarization in two-dimensional materials and their van der Waals heterostructures Optical control of val... \n",
      " lemmas                    | spin_valley polarization dimensional material van der waals heterostructure optical control valley_polarization fasci... \n",
      "-RECORD 6---------------------------------------------------------------------------------------------------------------------------------------------\n",
      " id                        | 7                                                                                                                        \n",
      " Work                      | 3542                                                                                                                     \n",
      " Title                     | Spectrochemical Analysis of Archaeological Bio-Organic Remains                                                           \n",
      " Summary                   | Main objective of the proposed research is the development of a viable and efficient analytical methodology based on ... \n",
      " keywords                  | Organic Residues;Archaeology;Analysis;Spectroscopy;Fluorescence;Raman;NMR;Biomarkers;Chemometrics;                       \n",
      " Budget                    | 198000.0                                                                                                                 \n",
      " Duration                  | 36.0                                                                                                                     \n",
      " Host Institutions (Greek) | ΙΔΡΥΜΑ ΤΕΧΝΟΛΟΓΙΑΣ & ΕΡΕΥΝΑΣ (ΙΤΕ)                                                                                       \n",
      " Action                    | ΜΔΕΠ                                                                                                                     \n",
      " field1                    | Chemical sciences                                                                                                        \n",
      " field1 code               | 1.2                                                                                                                      \n",
      " field1 name               | Chemical Sciences                                                                                                        \n",
      " field2                    | Analytical chemistry                                                                                                     \n",
      " Gender IP                 | Male                                                                                                                     \n",
      " raw_text                  | Spectrochemical Analysis of Archaeological Bio-Organic Remains Main objective of the proposed research is the develop... \n",
      " lemmas                    | spectrochemical analysis archaeological bio_organic remain main_objective propose_research development viable efficie... \n",
      "-RECORD 7---------------------------------------------------------------------------------------------------------------------------------------------\n",
      " id                        | 8                                                                                                                        \n",
      " Work                      | 3709                                                                                                                     \n",
      " Title                     | Polarized nuclei by optical molecular excitation: enhancement of nuclear fusion and NMR signals                          \n",
      " Summary                   | High-density, large production rates of highly nuclear-spin-polarized atoms and molecules have important applications... \n",
      " keywords                  | polarized atoms;polarized nuclei;polarized fusion;polarized collisions;photodissociation;IR excitation;hyperpolarized... \n",
      " Budget                    | 200000.0                                                                                                                 \n",
      " Duration                  | 42.0                                                                                                                     \n",
      " Host Institutions (Greek) | ΙΔΡΥΜΑ ΤΕΧΝΟΛΟΓΙΑΣ & ΕΡΕΥΝΑΣ (ΙΤΕ)                                                                                       \n",
      " Action                    | ΜΔΕΠ                                                                                                                     \n",
      " field1                    | Physical sciences                                                                                                        \n",
      " field1 code               | 1.1                                                                                                                      \n",
      " field1 name               | Physical Sciences                                                                                                        \n",
      " field2                    | Atomic, molecular and chemical physics                                                                                   \n",
      " Gender IP                 | Male                                                                                                                     \n",
      " raw_text                  | Polarized nuclei by optical molecular excitation: enhancement of nuclear fusion and NMR signals High-density, large p... \n",
      " lemmas                    | polarize nucleus optical molecular excitation enhancement nuclear_fusion nmr signal high density large production rat... \n",
      "-RECORD 8---------------------------------------------------------------------------------------------------------------------------------------------\n",
      " id                        | 9                                                                                                                        \n",
      " Work                      | 2668                                                                                                                     \n",
      " Title                     | Applications of nonlinear effects of attosecond vacuum UV pulses                                                         \n",
      " Summary                   | NEA-APS inaugurates the topic of highly non-linear EUV optics at sub-fs temporal scales and exploits lower order non-... \n",
      " keywords                  | AMO Physics;Attosecond science;Ultrafast Phenomena;Non-Linear Optics;Multiphoton;Coherent EUV Sources;Strong Field Ph... \n",
      " Budget                    | 199980.0                                                                                                                 \n",
      " Duration                  | 42.0                                                                                                                     \n",
      " Host Institutions (Greek) | ΙΔΡΥΜΑ ΤΕΧΝΟΛΟΓΙΑΣ & ΕΡΕΥΝΑΣ (ΙΤΕ)                                                                                       \n",
      " Action                    | ΜΔΕΠ                                                                                                                     \n",
      " field1                    | Physical sciences                                                                                                        \n",
      " field1 code               | 1.1                                                                                                                      \n",
      " field1 name               | Physical Sciences                                                                                                        \n",
      " field2                    | Atomic, molecular and chemical physics                                                                                   \n",
      " Gender IP                 | Male                                                                                                                     \n",
      " raw_text                  | Applications of nonlinear effects of attosecond vacuum UV pulses NEA-APS inaugurates the topic of highly non-linear E... \n",
      " lemmas                    | application nonlinear effect attosecond vacuum uv pulse nea aps inaugurate topic non_linear euv optic fs temporal sca... \n",
      "-RECORD 9---------------------------------------------------------------------------------------------------------------------------------------------\n",
      " id                        | 10                                                                                                                       \n",
      " Work                      | 12                                                                                                                       \n",
      " Title                     | Synthesis and biological evaluation of RGD-conjugated SRPK1 kinase inhibitors in integrin-mediated targeted anticance... \n",
      " Summary                   | Targeted drug delivery represents an attractive strategy to achieve the most of a drug's potential therapeutic benefi... \n",
      " keywords                  | peptide conjugate;targeted therapy;anticancer agent;SRPK1 kinase;drug delivery;RGD-conjugate;avβ3 receptor ;SRPK1 inh... \n",
      " Budget                    | 185460.0                                                                                                                 \n",
      " Duration                  | 36.0                                                                                                                     \n",
      " Host Institutions (Greek) | ΑΡΙΣΤΟΤΕΛΕΙΟ ΠΑΝΕΠΙΣΤΗΜΙΟ ΘΕΣΣΑΛΟΝΙΚΗΣ                                                                                   \n",
      " Action                    | ΜΔΕΠ                                                                                                                     \n",
      " field1                    | Chemical sciences                                                                                                        \n",
      " field1 code               | 1.2                                                                                                                      \n",
      " field1 name               | Chemical Sciences                                                                                                        \n",
      " field2                    | Organic chemistry                                                                                                        \n",
      " Gender IP                 | Female                                                                                                                   \n",
      " raw_text                  | Synthesis and biological evaluation of RGD-conjugated SRPK1 kinase inhibitors in integrin-mediated targeted anticance... \n",
      " lemmas                    | synthesis biological evaluation rgd conjugate kinase inhibitor integrin mediate target anticancer therapy target drug... \n",
      "only showing top 10 rows\n",
      "\n"
     ]
    }
   ],
   "source": [
    "# Join tables\n",
    "lemmas_df = lemmas_df.withColumnRenamed(id_fld,\"id\")\n",
    "dataset = (dataset.join(lemmas_df, dataset.id ==  lemmas_df.id, \"left\")\n",
    "                      .drop(lemmas_df.id)\n",
    "                )\n",
    "\n",
    "print('Number of documents in dataset:', dataset.count())\n",
    "dataset.show(n=10, truncate=120, vertical=True)"
   ]
  },
  {
   "cell_type": "code",
   "execution_count": 38,
   "id": "85be2891-c11f-462f-b201-0ae600f87fc7",
   "metadata": {},
   "outputs": [
    {
     "data": {
      "text/plain": [
       "\"\\nif perc < 1:\\n    dataset = dataset.sample(fraction=perc)\\n\\nprint('Number of documents in dataset:', dataset.count())\\n#dataset.show(n=10, truncate=120, vertical=True)\\n\""
      ]
     },
     "execution_count": 38,
     "metadata": {},
     "output_type": "execute_result"
    }
   ],
   "source": [
    "# Sampling dataset if necessary\n",
    "\"\"\"\n",
    "if perc < 1:\n",
    "    dataset = dataset.sample(fraction=perc)\n",
    "\n",
    "print('Number of documents in dataset:', dataset.count())\n",
    "#dataset.show(n=10, truncate=120, vertical=True)\n",
    "\"\"\""
   ]
  },
  {
   "cell_type": "code",
   "execution_count": 8,
   "id": "4a32cbbd",
   "metadata": {},
   "outputs": [
    {
     "name": "stderr",
     "output_type": "stream",
     "text": [
      "                                                                                \r"
     ]
    }
   ],
   "source": [
    "# Save dataset\n",
    "dataset.write.parquet(path_dataset,\n",
    "    mode=\"overwrite\",\n",
    ")"
   ]
  },
  {
   "cell_type": "markdown",
   "id": "20960ae3-3baf-4fcc-8986-93b920db9dfb",
   "metadata": {},
   "source": [
    "# Generate datasetMeta.json"
   ]
  },
  {
   "cell_type": "code",
   "execution_count": 9,
   "id": "e6a44971-af3d-4d10-946c-d53a3a9d1dc8",
   "metadata": {
    "tags": []
   },
   "outputs": [],
   "source": [
    "import pandas as pd\n",
    "import pyarrow.parquet as pt\n",
    "import os\n",
    "import datetime as DT"
   ]
  },
  {
   "cell_type": "code",
   "execution_count": 10,
   "id": "bc837810-fa2a-45eb-8fbd-c8000b5eb96f",
   "metadata": {},
   "outputs": [
    {
     "name": "stdout",
     "output_type": "stream",
     "text": [
      "[PosixPath('/export/usuarios_ml4ds/jarenas/github/IntelComp/ITMT/topicmodeler/fromHDFS/cordis_Kwds3_AI.parquet'), PosixPath('/export/usuarios_ml4ds/jarenas/github/IntelComp/ITMT/topicmodeler/fromHDFS/PATSTAT_Kwds3_AI.parquet'), PosixPath('/export/usuarios_ml4ds/jarenas/github/IntelComp/ITMT/topicmodeler/fromHDFS/S2_Kwds3_AI.parquet'), PosixPath('/export/usuarios_ml4ds/jarenas/github/IntelComp/ITMT/topicmodeler/fromHDFS/S2_Cancer.parquet'), PosixPath('/export/usuarios_ml4ds/jarenas/github/IntelComp/ITMT/topicmodeler/fromHDFS/HFRI.parquet'), PosixPath('/export/usuarios_ml4ds/jarenas/github/IntelComp/ITMT/topicmodeler/fromHDFS/OA_Kwds3_AI.parquet'), PosixPath('/export/usuarios_ml4ds/jarenas/github/IntelComp/ITMT/topicmodeler/fromHDFS/OA_Cancer.parquet')]\n"
     ]
    }
   ],
   "source": [
    "fromHDFS_folder = Path(\"/export/usuarios_ml4ds/jarenas/github/IntelComp/ITMT/topicmodeler/fromHDFS/\")\n",
    "print([el for el in fromHDFS_folder.iterdir() if el.suffix==\".parquet\"])"
   ]
  },
  {
   "cell_type": "code",
   "execution_count": 11,
   "id": "10925ad0-c565-465a-a8cd-f2b519d042d4",
   "metadata": {
    "tags": []
   },
   "outputs": [
    {
     "name": "stdout",
     "output_type": "stream",
     "text": [
      "/export/usuarios_ml4ds/jarenas/github/IntelComp/ITMT/topicmodeler/fromHDFS/cordis_Kwds3_AI.parquet\n",
      "/export/usuarios_ml4ds/jarenas/github/IntelComp/ITMT/topicmodeler/fromHDFS/PATSTAT_Kwds3_AI.parquet\n",
      "/export/usuarios_ml4ds/jarenas/github/IntelComp/ITMT/topicmodeler/fromHDFS/S2_Kwds3_AI.parquet\n",
      "/export/usuarios_ml4ds/jarenas/github/IntelComp/ITMT/topicmodeler/fromHDFS/S2_Cancer.parquet\n",
      "/export/usuarios_ml4ds/jarenas/github/IntelComp/ITMT/topicmodeler/fromHDFS/HFRI.parquet\n",
      "/export/usuarios_ml4ds/jarenas/github/IntelComp/ITMT/topicmodeler/fromHDFS/OA_Kwds3_AI.parquet\n",
      "/export/usuarios_ml4ds/jarenas/github/IntelComp/ITMT/topicmodeler/fromHDFS/OA_Cancer.parquet\n"
     ]
    }
   ],
   "source": [
    "for el in fromHDFS_folder.iterdir():\n",
    "    if el.suffix==\".parquet\":\n",
    "        print(el)"
   ]
  },
  {
   "cell_type": "code",
   "execution_count": 13,
   "id": "d3355777-a249-453f-a2f6-427e8bdabe7b",
   "metadata": {
    "tags": []
   },
   "outputs": [
    {
     "name": "stderr",
     "output_type": "stream",
     "text": [
      "                                                                                \r"
     ]
    }
   ],
   "source": [
    "metadata = {}\n",
    "\n",
    "desc_content = {\n",
    "    \"cordis\"  : \"FP7, H2020 and HE projects from Cordis\",\n",
    "    \"S2\"      : \"Semantic Scholarpublications\",\n",
    "    \"OA\"      : \"OpenAIRE publications\",\n",
    "    \"PATSTAT\" : \"Patents from PATSTAT\",\n",
    "    \"HFRI\" : \"HFRI funded projects\"\n",
    "}\n",
    "\n",
    "for el in fromHDFS_folder.iterdir():\n",
    "    if el.suffix==\".parquet\":\n",
    "        source = el.name.split('.')[0].split('_')[0]\n",
    "        #df = pd.read_parquet(el)\n",
    "        df = spark.read.parquet('file://' + el.as_posix())\n",
    "        datasetMeta = {\n",
    "            \"name\": el.name,\n",
    "            \"description\": desc_content[source],\n",
    "            \"visibility\": \"Public\",\n",
    "            \"type\": \"RAW\",\n",
    "            \"download_date\": DT.datetime.fromtimestamp(os.path.getmtime(el)),\n",
    "            # \"records\"       : len(pd.read_parquet(path_dataset, columns=[])),\n",
    "            \"records\": df.count(),\n",
    "            \"source\": source,\n",
    "            \"schema\" : df.columns\n",
    "            # \"schema\": pt.read_schema([file_pt for file_pt in el.iterdir()\n",
    "            #                          if file_pt.name.endswith('.parquet')][0]).names\n",
    "        }\n",
    "        metadata[el.name] = datasetMeta"
   ]
  },
  {
   "cell_type": "code",
   "execution_count": 14,
   "id": "29621b84-260c-474e-8299-b2a1786dcb59",
   "metadata": {
    "tags": []
   },
   "outputs": [
    {
     "data": {
      "text/plain": [
       "{'cordis_Kwds3_AI.parquet': {'name': 'cordis_Kwds3_AI.parquet',\n",
       "  'description': 'FP7, H2020 and HE projects from Cordis',\n",
       "  'visibility': 'Public',\n",
       "  'type': 'RAW',\n",
       "  'download_date': datetime.datetime(2023, 9, 8, 23, 59, 26, 328399),\n",
       "  'records': 852,\n",
       "  'source': 'cordis',\n",
       "  'schema': ['id',\n",
       "   'title',\n",
       "   'objective',\n",
       "   'acronym',\n",
       "   'frameworkProgramme',\n",
       "   'startDate',\n",
       "   'ecMaxContribution',\n",
       "   'euroSciVocCode',\n",
       "   'countryContr',\n",
       "   'coordinatorCountry',\n",
       "   'publicationID',\n",
       "   'patentID',\n",
       "   'fundingScheme',\n",
       "   'topic',\n",
       "   'raw_text',\n",
       "   'lemmas']},\n",
       " 'PATSTAT_Kwds3_AI.parquet': {'name': 'PATSTAT_Kwds3_AI.parquet',\n",
       "  'description': 'Patents from PATSTAT',\n",
       "  'visibility': 'Public',\n",
       "  'type': 'RAW',\n",
       "  'download_date': datetime.datetime(2023, 9, 9, 0, 39, 31, 728364),\n",
       "  'records': 146022,\n",
       "  'source': 'PATSTAT',\n",
       "  'schema': ['id',\n",
       "   'docdb_family_id',\n",
       "   'appln_title',\n",
       "   'appln_abstract',\n",
       "   'appln_filing_year',\n",
       "   'earliest_filing_year',\n",
       "   'granted',\n",
       "   'appln_auth',\n",
       "   'receiving_office',\n",
       "   'ipr_type',\n",
       "   'raw_text',\n",
       "   'lemmas']},\n",
       " 'S2_Kwds3_AI.parquet': {'name': 'S2_Kwds3_AI.parquet',\n",
       "  'description': 'Semantic Scholarpublications',\n",
       "  'visibility': 'Public',\n",
       "  'type': 'RAW',\n",
       "  'download_date': datetime.datetime(2023, 9, 9, 0, 22, 39, 518379),\n",
       "  'records': 608155,\n",
       "  'source': 'S2',\n",
       "  'schema': ['id',\n",
       "   'doi',\n",
       "   'title',\n",
       "   'paperAbstract',\n",
       "   'year',\n",
       "   'raw_text',\n",
       "   'lemmas']},\n",
       " 'S2_Cancer.parquet': {'name': 'S2_Cancer.parquet',\n",
       "  'description': 'Semantic Scholarpublications',\n",
       "  'visibility': 'Public',\n",
       "  'type': 'RAW',\n",
       "  'download_date': datetime.datetime(2023, 9, 9, 0, 19, 55, 78381),\n",
       "  'records': 2437537,\n",
       "  'source': 'S2',\n",
       "  'schema': ['id',\n",
       "   'doi',\n",
       "   'title',\n",
       "   'paperAbstract',\n",
       "   'year',\n",
       "   'raw_text',\n",
       "   'lemmas']},\n",
       " 'HFRI.parquet': {'name': 'HFRI.parquet',\n",
       "  'description': 'HFRI funded projects',\n",
       "  'visibility': 'Public',\n",
       "  'type': 'RAW',\n",
       "  'download_date': datetime.datetime(2023, 9, 29, 18, 22, 53, 811927),\n",
       "  'records': 688,\n",
       "  'source': 'HFRI',\n",
       "  'schema': ['id',\n",
       "   'Work',\n",
       "   'Title',\n",
       "   'Summary',\n",
       "   'keywords',\n",
       "   'Budget',\n",
       "   'Duration',\n",
       "   'Host Institutions (Greek)',\n",
       "   'Action',\n",
       "   'field1',\n",
       "   'field1 code',\n",
       "   'field1 name',\n",
       "   'field2',\n",
       "   'Gender IP',\n",
       "   'raw_text',\n",
       "   'lemmas']},\n",
       " 'OA_Kwds3_AI.parquet': {'name': 'OA_Kwds3_AI.parquet',\n",
       "  'description': 'OpenAIRE publications',\n",
       "  'visibility': 'Public',\n",
       "  'type': 'RAW',\n",
       "  'download_date': datetime.datetime(2023, 9, 9, 0, 34, 13, 198369),\n",
       "  'records': 574346,\n",
       "  'source': 'OA',\n",
       "  'schema': ['id', 'title', 'description', 'raw_text', 'lemmas']},\n",
       " 'OA_Cancer.parquet': {'name': 'OA_Cancer.parquet',\n",
       "  'description': 'OpenAIRE publications',\n",
       "  'visibility': 'Public',\n",
       "  'type': 'RAW',\n",
       "  'download_date': datetime.datetime(2023, 9, 9, 0, 32, 59, 78370),\n",
       "  'records': 2398350,\n",
       "  'source': 'OA',\n",
       "  'schema': ['id', 'title', 'description', 'raw_text', 'lemmas']}}"
      ]
     },
     "execution_count": 14,
     "metadata": {},
     "output_type": "execute_result"
    }
   ],
   "source": [
    "metadata"
   ]
  },
  {
   "cell_type": "code",
   "execution_count": 15,
   "id": "9e167d35-ffc3-4759-86c3-445ad17c2f44",
   "metadata": {
    "tags": []
   },
   "outputs": [],
   "source": [
    "path_datasetMeta = fromHDFS_folder.joinpath('datasetMeta.json')\n",
    "with path_datasetMeta.open('w', encoding='utf-8') as outfile:\n",
    "    json.dump(metadata, outfile, ensure_ascii=False,\n",
    "                          indent=2, default=str)"
   ]
  },
  {
   "cell_type": "code",
   "execution_count": null,
   "id": "b141a4c6-6d9f-41b5-a243-b92ae3fbc815",
   "metadata": {},
   "outputs": [],
   "source": []
  }
 ],
 "metadata": {
  "kernelspec": {
   "display_name": "Python 3 (ipykernel)",
   "language": "python",
   "name": "python3"
  },
  "language_info": {
   "codemirror_mode": {
    "name": "ipython",
    "version": 3
   },
   "file_extension": ".py",
   "mimetype": "text/x-python",
   "name": "python",
   "nbconvert_exporter": "python",
   "pygments_lexer": "ipython3",
   "version": "3.10.13"
  },
  "toc-autonumbering": true
 },
 "nbformat": 4,
 "nbformat_minor": 5
}
