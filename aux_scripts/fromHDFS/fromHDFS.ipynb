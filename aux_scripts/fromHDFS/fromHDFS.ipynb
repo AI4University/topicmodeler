{
 "cells": [
  {
   "cell_type": "code",
   "execution_count": 1,
   "id": "9ae6dcd5",
   "metadata": {},
   "outputs": [],
   "source": [
    "\"\"\"\n",
    "Temporary routine for generation of datasets\n",
    "for demonstration purposes\n",
    "\n",
    "It is a \"Fake Data Mediator\" for use with the first\n",
    "version of the Interactive Topic Model Trainer\n",
    "\"\"\"\n",
    "\n",
    "import argparse\n",
    "import json\n",
    "import os\n",
    "from pathlib import Path\n",
    "#from langdetect import detect\n",
    "from pyspark.sql import SparkSession\n",
    "import pyspark.sql.functions as F\n",
    "from pyspark.sql.types import StringType"
   ]
  },
  {
   "cell_type": "markdown",
   "id": "2cb44ac5-0fc4-4ba1-a5b9-eac1a85acdf2",
   "metadata": {},
   "source": [
    "# Simulate downloads from HDFS"
   ]
  },
  {
   "cell_type": "markdown",
   "id": "0f56391f-c7db-4bf7-9590-fff6396aaabd",
   "metadata": {
    "tags": []
   },
   "source": [
    "## CORDIS UC3M"
   ]
  },
  {
   "cell_type": "code",
   "execution_count": null,
   "id": "97fad071-c61b-4df9-95a0-f4da5b58d7fa",
   "metadata": {},
   "outputs": [],
   "source": [
    "parquet_table = '/export/ml4ds/IntelComp/Datalake/CORDIS/20230425/parquet/projects.parquet' #In HDFS\n",
    "lemmas_table = '/export/ml4ds/IntelComp/Datalake/CORDIS/20230425/parquet/projects_NLP.parquet' #In HDFS\n",
    "id_fld = 'projectID'\n",
    "selectFields = 'title, objective, frameworkProgramme, startDate, ecMaxContribution, euroSciVocCode'\n",
    "filterCondition = 'frameworkProgramme = \"HORIZON\"'\n",
    "path_dataset = \"/export/clusterdata/jarenas/github/IntelComp/ITMT/topicmodeler/fromHDFS/CORDIS_HORIZON.parquet\" #In NFS"
   ]
  },
  {
   "cell_type": "markdown",
   "id": "af37cf26-250b-4cfa-8710-ee55fdced77d",
   "metadata": {},
   "source": [
    "## Semantic Scholar"
   ]
  },
  {
   "cell_type": "markdown",
   "id": "df36b56f-2460-444a-bef8-f3b44cb62b78",
   "metadata": {},
   "source": [
    "### Cancer dataset pregenerated from PMID given by HCERES"
   ]
  },
  {
   "cell_type": "code",
   "execution_count": 6,
   "id": "2d12ad6d-8ade-4976-b036-74bf5902c607",
   "metadata": {
    "tags": []
   },
   "outputs": [],
   "source": [
    "parquet_table = '/export/ml4ds/IntelComp/Datalake/semanticscholar/20230418/parquet/papers_Cancer.parquet' # In HDFS\n",
    "lemmas_table = '/export/ml4ds/IntelComp/Datalake/semanticscholar/20230418/parquet/papers_Cancer_NLP.parquet' # In HDFS\n",
    "id_fld = 'corpusid'\n",
    "selectFields = 'PMID, title, abstract, year, referencecount, citationcount, influentialcitationcount, S2fieldsofstudy'\n",
    "filterCondition = ''\n",
    "path_dataset = \"/export/clusterdata/jarenas/github/IntelComp/ITMT/topicmodeler/fromHDFS/Scholar_Cancer.parquet\" #In NFS"
   ]
  },
  {
   "cell_type": "markdown",
   "id": "c1cf2141-c6cb-41b1-bb8b-ba5d7617f422",
   "metadata": {},
   "source": [
    "### AI dataset generated from AI keywords"
   ]
  },
  {
   "cell_type": "code",
   "execution_count": 14,
   "id": "ea8970bf-cb4e-426f-8b39-8b298269fbf6",
   "metadata": {
    "tags": []
   },
   "outputs": [],
   "source": [
    "parquet_table = '/export/ml4ds/IntelComp/Datalake/semanticscholar/20230418/parquet/papers_AI_Kwds.parquet' # In HDFS\n",
    "lemmas_table = '/export/ml4ds/IntelComp/Datalake/semanticscholar/20230418/parquet/papers_AI_Kwds_NLP.parquet' # In HDFS\n",
    "id_fld = 'corpusid'\n",
    "selectFields = 'title, abstract, year, referencecount, citationcount, influentialcitationcount, S2fieldsofstudy'\n",
    "filterCondition = ''\n",
    "path_dataset = \"/export/clusterdata/jarenas/github/IntelComp/ITMT/topicmodeler/fromHDFS/Scholar_AI_Kwds.parquet\" #In NFS"
   ]
  },
  {
   "cell_type": "markdown",
   "id": "087b55ac-5d4d-4779-8004-bd4d0d20c46e",
   "metadata": {},
   "source": [
    "### Whole dataset filtering according to FOS"
   ]
  },
  {
   "cell_type": "code",
   "execution_count": null,
   "id": "531a2665-e7f9-46c4-b9c3-ab86ed2c5ad7",
   "metadata": {},
   "outputs": [],
   "source": [
    "#parquet_table = '/export/ml4ds/IntelComp/Datalake/SemanticScholar/20220201/papers.parquet'\n",
    "#selectFields = 'title, paperAbstract, doi, year, fieldsOfStudy'\n",
    "#filterCondition = \"array_contains(fieldsOfStudy, 'Computer Science')\"\n",
    "#path_dataset = \"/export/usuarios_ml4ds/jarenas/github/IntelComp/ITMT/topicmodeler/fromHDFS_scalability/S2CS_1.parquet\"\n",
    "#perc = float(1)/100"
   ]
  },
  {
   "cell_type": "markdown",
   "id": "77f59868-f1d7-4277-9d0d-d17061bd6a4e",
   "metadata": {
    "tags": []
   },
   "source": [
    "## Generate parquet files"
   ]
  },
  {
   "cell_type": "code",
   "execution_count": 15,
   "id": "4205c000-4ef8-4274-9452-e853cb354aa6",
   "metadata": {},
   "outputs": [
    {
     "name": "stderr",
     "output_type": "stream",
     "text": [
      "23/05/18 21:05:58 WARN ObjectStore: Failed to get database parquet, returning NoSuchObjectException\n",
      "                                                                                \r"
     ]
    },
    {
     "name": "stdout",
     "output_type": "stream",
     "text": [
      "Number of documents in dataset: 1632946\n",
      "-RECORD 0--------------------------------------------------------------------------------------------------------------------------------------------\n",
      " id                       | 59789696                                                                                                                 \n",
      " title                    | Computer-aided earthquake engineering                                                                                    \n",
      " abstract                 | Computer-aided earthquake engineering requires the integration of many new and developing computer technologies. It i... \n",
      " year                     | 1987                                                                                                                     \n",
      " referencecount           | 0                                                                                                                        \n",
      " citationcount            | 0                                                                                                                        \n",
      " influentialcitationcount | 0                                                                                                                        \n",
      " S2fieldsofstudy          | [{Computer Science, s2-fos-model}, {Computer Science, external}]                                                         \n",
      "-RECORD 1--------------------------------------------------------------------------------------------------------------------------------------------\n",
      " id                       | 1206474                                                                                                                  \n",
      " title                    | Interactive classification using a granule network                                                                       \n",
      " abstract                 | Classification is one of the main tasks in machine learning, data mining and pattern recognition. Compared with the e... \n",
      " year                     | 2005                                                                                                                     \n",
      " referencecount           | 53                                                                                                                       \n",
      " citationcount            | 28                                                                                                                       \n",
      " influentialcitationcount | 0                                                                                                                        \n",
      " S2fieldsofstudy          | [{Computer Science, s2-fos-model}, {Computer Science, external}]                                                         \n",
      "only showing top 2 rows\n",
      "\n"
     ]
    }
   ],
   "source": [
    "# We read the main table including selected fields and the identifier\n",
    "flds = [el.strip() for el in selectFields.split(',')]\n",
    "query = \"SELECT \" + id_fld + \" AS id, \" + (\",\").join(flds) + \\\n",
    "                \" FROM parquet.`\" + parquet_table + \"`\"\n",
    "\n",
    "# Add filtering condition to SELECT clause if necessary\n",
    "if len(filterCondition.strip()):\n",
    "    query += \" WHERE \" + filterCondition\n",
    "dataset = spark.sql(query)\n",
    "\n",
    "print('Number of documents in dataset:', dataset.count())\n",
    "dataset.show(n=2, truncate=120, vertical=True)"
   ]
  },
  {
   "cell_type": "code",
   "execution_count": 16,
   "id": "0269e65c-b3d5-4a2c-99c8-f981d2b2c350",
   "metadata": {},
   "outputs": [
    {
     "name": "stderr",
     "output_type": "stream",
     "text": [
      "23/05/18 21:06:21 WARN ObjectStore: Failed to get database parquet, returning NoSuchObjectException\n",
      "                                                                                \r"
     ]
    },
    {
     "name": "stdout",
     "output_type": "stream",
     "text": [
      "Number of documents in dataset: 1575171\n"
     ]
    },
    {
     "name": "stderr",
     "output_type": "stream",
     "text": [
      "[Stage 43:=====================================================>  (19 + 1) / 20]\r"
     ]
    },
    {
     "name": "stdout",
     "output_type": "stream",
     "text": [
      "-RECORD 0----------------------------------------------------------------------------------------------------------------------------\n",
      " id       | 234639473                                                                                                                \n",
      " raw_text | Remarks on Recognition of Aromas from Tea Sources Using MQ3, MQ5, MQ7 Sensor Signal This study investigated the capac... \n",
      " lemmas   | remark recognition aromas tea sources sensor signal study capacity deep neural network distinguish tea source base ar... \n",
      "-RECORD 1----------------------------------------------------------------------------------------------------------------------------\n",
      " id       | 61407153                                                                                                                 \n",
      " raw_text | Signal quality improvement of holographic data storage using adaptive two-dimensional filter Holographic data storage... \n",
      " lemmas   | signal quality improvement holographic datum storage adaptive dimensional filter holographic datum storage study purp... \n",
      "only showing top 2 rows\n",
      "\n"
     ]
    },
    {
     "name": "stderr",
     "output_type": "stream",
     "text": [
      "                                                                                \r"
     ]
    }
   ],
   "source": [
    "# We read the table with the output of NLP processes and identify id field\n",
    "query = \"SELECT \" + id_fld + \" AS id, raw_text, lemmas FROM parquet.`\" + lemmas_table + \"`\"\n",
    "lemmas_df = spark.sql(query)\n",
    "\n",
    "print('Number of documents in dataset:', lemmas_df.count())\n",
    "lemmas_df.show(n=2, truncate=120, vertical=True)"
   ]
  },
  {
   "cell_type": "code",
   "execution_count": 17,
   "id": "24739c70-5a1e-4c03-b027-a9969261b86c",
   "metadata": {},
   "outputs": [
    {
     "name": "stderr",
     "output_type": "stream",
     "text": [
      "                                                                                \r"
     ]
    },
    {
     "name": "stdout",
     "output_type": "stream",
     "text": [
      "Number of documents in dataset: 1632946\n"
     ]
    },
    {
     "name": "stderr",
     "output_type": "stream",
     "text": [
      "[Stage 54:======================================================> (39 + 1) / 40]\r"
     ]
    },
    {
     "name": "stdout",
     "output_type": "stream",
     "text": [
      "-RECORD 0--------------------------------------------------------------------------------------------------------------------------------------------\n",
      " id                       | 685869                                                                                                                   \n",
      " title                    | New Bio-Inspired Coordination Strategies for Multi-Agent Systems Applied to Foraging Tasks                               \n",
      " abstract                 | Multiple agent systems can be applied to foraging tasks, thus solving this problem in a cooperative approach. The maj... \n",
      " year                     | 2016                                                                                                                     \n",
      " referencecount           | 20                                                                                                                       \n",
      " citationcount            | 7                                                                                                                        \n",
      " influentialcitationcount | 0                                                                                                                        \n",
      " S2fieldsofstudy          | [{Computer Science, s2-fos-model}, {Computer Science, external}]                                                         \n",
      " raw_text                 | New Bio-Inspired Coordination Strategies for Multi-Agent Systems Applied to Foraging Tasks Multiple agent systems can... \n",
      " lemmas                   | new bio_inspired coordination strategies multi agent systems applied foraging tasks multiple agent system foraging ta... \n",
      "-RECORD 1--------------------------------------------------------------------------------------------------------------------------------------------\n",
      " id                       | 1206474                                                                                                                  \n",
      " title                    | Interactive classification using a granule network                                                                       \n",
      " abstract                 | Classification is one of the main tasks in machine learning, data mining and pattern recognition. Compared with the e... \n",
      " year                     | 2005                                                                                                                     \n",
      " referencecount           | 53                                                                                                                       \n",
      " citationcount            | 28                                                                                                                       \n",
      " influentialcitationcount | 0                                                                                                                        \n",
      " S2fieldsofstudy          | [{Computer Science, s2-fos-model}, {Computer Science, external}]                                                         \n",
      " raw_text                 | Interactive classification using a granule network Classification is one of the main tasks in machine learning, data ... \n",
      " lemmas                   | interactive classification granule network classification main task machine learning data mining pattern recognition ... \n",
      "-RECORD 2--------------------------------------------------------------------------------------------------------------------------------------------\n",
      " id                       | 5387767                                                                                                                  \n",
      " title                    | Meaning Representation and Text Planning                                                                                 \n",
      " abstract                 | The data flow in natural language generation (NLG) starts with a 'world' state, represented by structures of an appli... \n",
      " year                     | 1990                                                                                                                     \n",
      " referencecount           | 14                                                                                                                       \n",
      " citationcount            | 7                                                                                                                        \n",
      " influentialcitationcount | 0                                                                                                                        \n",
      " S2fieldsofstudy          | [{Computer Science, s2-fos-model}, {Computer Science, external}]                                                         \n",
      " raw_text                 | Meaning Representation and Text Planning The data flow in natural language generation (NLG) starts with a 'world' sta... \n",
      " lemmas                   | mean representation text planning data flow natural_language generation_nlg start world state represent structure app... \n",
      "-RECORD 3--------------------------------------------------------------------------------------------------------------------------------------------\n",
      " id                       | 7187397                                                                                                                  \n",
      " title                    | Comparisons of genetic algorithms for timetabling problems                                                               \n",
      " abstract                 | We compare genetic algorithms (GA) that solve timetabling problems for universities. Here, we define a timetabling pr... \n",
      " year                     | 2004                                                                                                                     \n",
      " referencecount           | 7                                                                                                                        \n",
      " citationcount            | 12                                                                                                                       \n",
      " influentialcitationcount | 0                                                                                                                        \n",
      " S2fieldsofstudy          | [{Computer Science, s2-fos-model}, {Computer Science, external}]                                                         \n",
      " raw_text                 | Comparisons of genetic algorithms for timetabling problems We compare genetic algorithms (GA) that solve timetabling ... \n",
      " lemmas                   | comparison genetic algorithm timetabling problem genetic algorithm ga solve timetabling problem university define tim... \n",
      "-RECORD 4--------------------------------------------------------------------------------------------------------------------------------------------\n",
      " id                       | 7565189                                                                                                                  \n",
      " title                    | Unsupervised Multi-class Regularized Least-Squares Classification                                                        \n",
      " abstract                 | Regularized least-squares classification is one of the most promising alternatives to standard support vector machine... \n",
      " year                     | 2012                                                                                                                     \n",
      " referencecount           | 28                                                                                                                       \n",
      " citationcount            | 12                                                                                                                       \n",
      " influentialcitationcount | 0                                                                                                                        \n",
      " S2fieldsofstudy          | [{Computer Science, s2-fos-model}, {Computer Science, external}, {Mathematics, external}]                                \n",
      " raw_text                 | Unsupervised Multi-class Regularized Least-Squares Classification Regularized least-squares classification is one of ... \n",
      " lemmas                   | unsupervise multi class regularize square classification regularize square classification promising alternative stand... \n",
      "-RECORD 5--------------------------------------------------------------------------------------------------------------------------------------------\n",
      " id                       | 8558049                                                                                                                  \n",
      " title                    | Function Optimization Based on Quantum Genetic Algorithm                                                                 \n",
      " abstract                 | Optimization method is important in engineering design and application. Quantum genetic algorithm has the characteris... \n",
      " year                     | 2014                                                                                                                     \n",
      " referencecount           | 21                                                                                                                       \n",
      " citationcount            | 7                                                                                                                        \n",
      " influentialcitationcount | 0                                                                                                                        \n",
      " S2fieldsofstudy          | [{Computer Science, s2-fos-model}, {Mathematics, external}]                                                              \n",
      " raw_text                 | Function Optimization Based on Quantum Genetic Algorithm Optimization method is important in engineering design and a... \n",
      " lemmas                   | function optimization base quantum genetic algorithm optimization method important engineering design application qua... \n",
      "-RECORD 6--------------------------------------------------------------------------------------------------------------------------------------------\n",
      " id                       | 10840635                                                                                                                 \n",
      " title                    | Measuring Data Abstraction Quality in Multiresolution Visualization ∗                                                    \n",
      " abstract                 | Data abstraction techniques such as filtering, sampling, clustering, and summarizing can be used to reduce the size o... \n",
      " year                     | 2006                                                                                                                     \n",
      " referencecount           | 35                                                                                                                       \n",
      " citationcount            | 19                                                                                                                       \n",
      " influentialcitationcount | 2                                                                                                                        \n",
      " S2fieldsofstudy          | null                                                                                                                     \n",
      " raw_text                 | Measuring Data Abstraction Quality in Multiresolution Visualization ∗ Data abstraction techniques such as filtering, ... \n",
      " lemmas                   | measure data abstraction quality multiresolution visualization data abstraction technique filtering sampling clusteri... \n",
      "-RECORD 7--------------------------------------------------------------------------------------------------------------------------------------------\n",
      " id                       | 11772665                                                                                                                 \n",
      " title                    | A Computer Aid to Knowledge Engineering                                                                                  \n",
      " abstract                 | Advances in the technology of expert systems have made it possible to implement and operate cost-effective systems in... \n",
      " year                     | 1983                                                                                                                     \n",
      " referencecount           | 21                                                                                                                       \n",
      " citationcount            | 45                                                                                                                       \n",
      " influentialcitationcount | 0                                                                                                                        \n",
      " S2fieldsofstudy          | [{Computer Science, s2-fos-model}, {Engineering, external}]                                                              \n",
      " raw_text                 | A Computer Aid to Knowledge Engineering Advances in the technology of expert systems have made it possible to impleme... \n",
      " lemmas                   | computer_aid knowledge engineering advances technology expert system information technology possible implement operat... \n",
      "-RECORD 8--------------------------------------------------------------------------------------------------------------------------------------------\n",
      " id                       | 12509260                                                                                                                 \n",
      " title                    | Colonial Competitive Algorithm Development Toward Harmonic Minimization in Multilevel Inverters                          \n",
      " abstract                 | Selective harmonic elimination pulse width modulation (SHEPWM) is a well-known switching technique applied directly t... \n",
      " year                     | 2015                                                                                                                     \n",
      " referencecount           | 36                                                                                                                       \n",
      " citationcount            | 82                                                                                                                       \n",
      " influentialcitationcount | 2                                                                                                                        \n",
      " S2fieldsofstudy          | [{Computer Science, s2-fos-model}, {Mathematics, external}, {Computer Science, external}]                                \n",
      " raw_text                 | Colonial Competitive Algorithm Development Toward Harmonic Minimization in Multilevel Inverters Selective harmonic el... \n",
      " lemmas                   | colonial_competitive algorithm development harmonic minimization multilevel_inverters selective_harmonic elimination ... \n",
      "-RECORD 9--------------------------------------------------------------------------------------------------------------------------------------------\n",
      " id                       | 14063255                                                                                                                 \n",
      " title                    | Overcoming Vocabulary Sparsity in MT Using Lattices                                                                      \n",
      " abstract                 | Source languages with complex word-formation rules present a challenge for statistical machine translation (SMT). In ... \n",
      " year                     | 2008                                                                                                                     \n",
      " referencecount           | 25                                                                                                                       \n",
      " citationcount            | 10                                                                                                                       \n",
      " influentialcitationcount | 3                                                                                                                        \n",
      " S2fieldsofstudy          | [{Computer Science, s2-fos-model}, {Computer Science, external}]                                                         \n",
      " raw_text                 | Overcoming Vocabulary Sparsity in MT Using Lattices Source languages with complex word-formation rules present a chal... \n",
      " lemmas                   | overcome vocabulary sparsity mt lattices source language complex word formation rule challenge statistical machine tr... \n",
      "only showing top 10 rows\n",
      "\n"
     ]
    },
    {
     "name": "stderr",
     "output_type": "stream",
     "text": [
      "                                                                                \r"
     ]
    }
   ],
   "source": [
    "# Join tables\n",
    "lemmas_df = lemmas_df.withColumnRenamed(id_fld,\"id\")\n",
    "dataset = (dataset.join(lemmas_df, dataset.id ==  lemmas_df.id, \"left\")\n",
    "                      .drop(lemmas_df.id)\n",
    "                )\n",
    "\n",
    "print('Number of documents in dataset:', dataset.count())\n",
    "dataset.show(n=10, truncate=120, vertical=True)"
   ]
  },
  {
   "cell_type": "code",
   "execution_count": null,
   "id": "85be2891-c11f-462f-b201-0ae600f87fc7",
   "metadata": {},
   "outputs": [],
   "source": [
    "# Sampling dataset if necessary\n",
    "\"\"\"\n",
    "if perc < 1:\n",
    "    dataset = dataset.sample(fraction=perc)\n",
    "\n",
    "print('Number of documents in dataset:', dataset.count())\n",
    "#dataset.show(n=10, truncate=120, vertical=True)\n",
    "\"\"\""
   ]
  },
  {
   "cell_type": "code",
   "execution_count": 18,
   "id": "4a32cbbd",
   "metadata": {},
   "outputs": [
    {
     "name": "stderr",
     "output_type": "stream",
     "text": [
      "                                                                                \r"
     ]
    }
   ],
   "source": [
    "# Save dataset\n",
    "dataset.write.parquet(f\"file://{path_dataset}\",\n",
    "    mode=\"overwrite\",\n",
    ")"
   ]
  },
  {
   "cell_type": "markdown",
   "id": "20960ae3-3baf-4fcc-8986-93b920db9dfb",
   "metadata": {},
   "source": [
    "# Generate datasetMeta.json"
   ]
  },
  {
   "cell_type": "code",
   "execution_count": 19,
   "id": "e6a44971-af3d-4d10-946c-d53a3a9d1dc8",
   "metadata": {
    "tags": []
   },
   "outputs": [],
   "source": [
    "import pandas as pd\n",
    "import pyarrow.parquet as pt\n",
    "import os\n",
    "import datetime as DT"
   ]
  },
  {
   "cell_type": "code",
   "execution_count": 20,
   "id": "bc837810-fa2a-45eb-8fbd-c8000b5eb96f",
   "metadata": {},
   "outputs": [
    {
     "name": "stdout",
     "output_type": "stream",
     "text": [
      "[PosixPath('/export/clusterdata/jarenas/github/IntelComp/ITMT/topicmodeler/fromHDFS/CORDIS.parquet'), PosixPath('/export/clusterdata/jarenas/github/IntelComp/ITMT/topicmodeler/fromHDFS/Scholar_AI_Kwds.parquet'), PosixPath('/export/clusterdata/jarenas/github/IntelComp/ITMT/topicmodeler/fromHDFS/Scholar_Cancer.parquet'), PosixPath('/export/clusterdata/jarenas/github/IntelComp/ITMT/topicmodeler/fromHDFS/CORDIS_H2020.parquet'), PosixPath('/export/clusterdata/jarenas/github/IntelComp/ITMT/topicmodeler/fromHDFS/CORDIS_HORIZON.parquet'), PosixPath('/export/clusterdata/jarenas/github/IntelComp/ITMT/topicmodeler/fromHDFS/CORDIS_FP7.parquet')]\n"
     ]
    }
   ],
   "source": [
    "fromHDFS_folder = Path(\"/export/clusterdata/jarenas/github/IntelComp/ITMT/topicmodeler/fromHDFS/\")\n",
    "print([el for el in fromHDFS_folder.iterdir() if el.suffix==\".parquet\"])"
   ]
  },
  {
   "cell_type": "code",
   "execution_count": 21,
   "id": "d3355777-a249-453f-a2f6-427e8bdabe7b",
   "metadata": {
    "tags": []
   },
   "outputs": [],
   "source": [
    "metadata = {}\n",
    "\n",
    "for el in fromHDFS_folder.iterdir():\n",
    "    if el.suffix==\".parquet\":\n",
    "        df = pd.read_parquet(el)\n",
    "        datasetMeta = {\n",
    "            \"name\": el.name,\n",
    "            \"description\": el.stem.replace('_',' ') + \" projects\",\n",
    "            \"visibility\": \"public\",\n",
    "            \"type\": \"RAW\",\n",
    "            \"download_date\": DT.datetime.fromtimestamp(os.path.getmtime(el)),\n",
    "            # \"records\"       : len(pd.read_parquet(path_dataset, columns=[])),\n",
    "            \"records\": len(df),\n",
    "            \"source\": el.name.split('_')[0],\n",
    "            \"schema\": pt.read_schema([file_pt for file_pt in el.iterdir()\n",
    "                                      if file_pt.name.endswith('.parquet')][0]).names\n",
    "        }\n",
    "    metadata[el.name] = datasetMeta"
   ]
  },
  {
   "cell_type": "code",
   "execution_count": 22,
   "id": "29621b84-260c-474e-8299-b2a1786dcb59",
   "metadata": {
    "tags": []
   },
   "outputs": [
    {
     "data": {
      "text/plain": [
       "{'CORDIS.parquet': {'name': 'CORDIS.parquet',\n",
       "  'description': 'CORDIS projects',\n",
       "  'visibility': 'public',\n",
       "  'type': 'RAW',\n",
       "  'download_date': datetime.datetime(2023, 5, 5, 19, 34, 47, 490148),\n",
       "  'records': 65760,\n",
       "  'source': 'CORDIS.parquet',\n",
       "  'schema': ['id',\n",
       "   'title',\n",
       "   'objective',\n",
       "   'frameworkProgramme',\n",
       "   'startDate',\n",
       "   'ecMaxContribution',\n",
       "   'euroSciVocCode',\n",
       "   'raw_text',\n",
       "   'lemmas']},\n",
       " 'Scholar_AI_Kwds.parquet': {'name': 'Scholar_AI_Kwds.parquet',\n",
       "  'description': 'Scholar AI Kwds projects',\n",
       "  'visibility': 'public',\n",
       "  'type': 'RAW',\n",
       "  'download_date': datetime.datetime(2023, 5, 18, 21, 9, 23, 588181),\n",
       "  'records': 1632946,\n",
       "  'source': 'Scholar',\n",
       "  'schema': ['id',\n",
       "   'title',\n",
       "   'abstract',\n",
       "   'year',\n",
       "   'referencecount',\n",
       "   'citationcount',\n",
       "   'influentialcitationcount',\n",
       "   'S2fieldsofstudy',\n",
       "   'raw_text',\n",
       "   'lemmas']},\n",
       " 'Scholar_Cancer.parquet': {'name': 'Scholar_Cancer.parquet',\n",
       "  'description': 'Scholar Cancer projects',\n",
       "  'visibility': 'public',\n",
       "  'type': 'RAW',\n",
       "  'download_date': datetime.datetime(2023, 5, 18, 21, 2, 54, 13461),\n",
       "  'records': 1522710,\n",
       "  'source': 'Scholar',\n",
       "  'schema': ['id',\n",
       "   'PMID',\n",
       "   'title',\n",
       "   'abstract',\n",
       "   'year',\n",
       "   'referencecount',\n",
       "   'citationcount',\n",
       "   'influentialcitationcount',\n",
       "   'S2fieldsofstudy',\n",
       "   'raw_text',\n",
       "   'lemmas']},\n",
       " 'CORDIS_H2020.parquet': {'name': 'CORDIS_H2020.parquet',\n",
       "  'description': 'CORDIS H2020 projects',\n",
       "  'visibility': 'public',\n",
       "  'type': 'RAW',\n",
       "  'download_date': datetime.datetime(2023, 5, 5, 19, 48, 8, 260816),\n",
       "  'records': 34398,\n",
       "  'source': 'CORDIS',\n",
       "  'schema': ['id',\n",
       "   'title',\n",
       "   'objective',\n",
       "   'frameworkProgramme',\n",
       "   'startDate',\n",
       "   'ecMaxContribution',\n",
       "   'euroSciVocCode',\n",
       "   'raw_text',\n",
       "   'lemmas']},\n",
       " 'CORDIS_HORIZON.parquet': {'name': 'CORDIS_HORIZON.parquet',\n",
       "  'description': 'CORDIS HORIZON projects',\n",
       "  'visibility': 'public',\n",
       "  'type': 'RAW',\n",
       "  'download_date': datetime.datetime(2023, 5, 5, 19, 49, 7, 584570),\n",
       "  'records': 5577,\n",
       "  'source': 'CORDIS',\n",
       "  'schema': ['id',\n",
       "   'title',\n",
       "   'objective',\n",
       "   'frameworkProgramme',\n",
       "   'startDate',\n",
       "   'ecMaxContribution',\n",
       "   'euroSciVocCode',\n",
       "   'raw_text',\n",
       "   'lemmas']},\n",
       " 'CORDIS_FP7.parquet': {'name': 'CORDIS_FP7.parquet',\n",
       "  'description': 'CORDIS FP7 projects',\n",
       "  'visibility': 'public',\n",
       "  'type': 'RAW',\n",
       "  'download_date': datetime.datetime(2023, 5, 5, 19, 46, 27, 524442),\n",
       "  'records': 25785,\n",
       "  'source': 'CORDIS',\n",
       "  'schema': ['id',\n",
       "   'title',\n",
       "   'objective',\n",
       "   'frameworkProgramme',\n",
       "   'startDate',\n",
       "   'ecMaxContribution',\n",
       "   'euroSciVocCode',\n",
       "   'raw_text',\n",
       "   'lemmas']},\n",
       " 'datasetMeta.json': {'name': 'CORDIS_FP7.parquet',\n",
       "  'description': 'CORDIS FP7 projects',\n",
       "  'visibility': 'public',\n",
       "  'type': 'RAW',\n",
       "  'download_date': datetime.datetime(2023, 5, 5, 19, 46, 27, 524442),\n",
       "  'records': 25785,\n",
       "  'source': 'CORDIS',\n",
       "  'schema': ['id',\n",
       "   'title',\n",
       "   'objective',\n",
       "   'frameworkProgramme',\n",
       "   'startDate',\n",
       "   'ecMaxContribution',\n",
       "   'euroSciVocCode',\n",
       "   'raw_text',\n",
       "   'lemmas']}}"
      ]
     },
     "execution_count": 22,
     "metadata": {},
     "output_type": "execute_result"
    }
   ],
   "source": [
    "metadata"
   ]
  },
  {
   "cell_type": "code",
   "execution_count": 23,
   "id": "9e167d35-ffc3-4759-86c3-445ad17c2f44",
   "metadata": {
    "tags": []
   },
   "outputs": [],
   "source": [
    "path_datasetMeta = fromHDFS_folder.joinpath('datasetMeta.json')\n",
    "with path_datasetMeta.open('w', encoding='utf-8') as outfile:\n",
    "    json.dump(metadata, outfile, ensure_ascii=False,\n",
    "                          indent=2, default=str)"
   ]
  }
 ],
 "metadata": {
  "kernelspec": {
   "display_name": "Python 3 (ipykernel)",
   "language": "python",
   "name": "python3"
  },
  "language_info": {
   "codemirror_mode": {
    "name": "ipython",
    "version": 3
   },
   "file_extension": ".py",
   "mimetype": "text/x-python",
   "name": "python",
   "nbconvert_exporter": "python",
   "pygments_lexer": "ipython3",
   "version": "3.10.11"
  },
  "toc-autonumbering": true
 },
 "nbformat": 4,
 "nbformat_minor": 5
}
