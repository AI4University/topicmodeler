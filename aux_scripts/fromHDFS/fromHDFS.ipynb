{
 "cells": [
  {
   "cell_type": "code",
   "execution_count": 1,
   "id": "9ae6dcd5",
   "metadata": {},
   "outputs": [
    {
     "name": "stderr",
     "output_type": "stream",
     "text": [
      "23/09/08 23:50:56 WARN TransportClientFactory: DNS resolution succeed for node30.cluster.tsc.uc3m.es/10.0.13.50:7337 took 5003 ms\n",
      "W0908 23:50:56.713809 11852 sched.cpp:1424] Attempting to decline an unknown offer c98b9bd6-fd7c-47e4-a7d8-251fddf9af33-O37399188\n"
     ]
    }
   ],
   "source": [
    "\"\"\"\n",
    "Temporary routine for generation of datasets\n",
    "for demonstration purposes\n",
    "\n",
    "It is a \"Fake Data Mediator\" for use with the first\n",
    "version of the Interactive Topic Model Trainer\n",
    "\"\"\"\n",
    "\n",
    "import argparse\n",
    "import json\n",
    "import os\n",
    "from pathlib import Path\n",
    "#from langdetect import detect\n",
    "from pyspark.sql import SparkSession\n",
    "import pyspark.sql.functions as F\n",
    "from pyspark.sql.types import StringType"
   ]
  },
  {
   "cell_type": "markdown",
   "id": "2cb44ac5-0fc4-4ba1-a5b9-eac1a85acdf2",
   "metadata": {},
   "source": [
    "# Simulate downloads from HDFS"
   ]
  },
  {
   "cell_type": "markdown",
   "id": "0f56391f-c7db-4bf7-9590-fff6396aaabd",
   "metadata": {
    "tags": []
   },
   "source": [
    "## CORDIS UC3M"
   ]
  },
  {
   "cell_type": "code",
   "execution_count": 2,
   "id": "97fad071-c61b-4df9-95a0-f4da5b58d7fa",
   "metadata": {},
   "outputs": [],
   "source": [
    "# parquet_table = '/export/ml4ds/IntelComp/Datalake/CORDIS/20230425/parquet/projects.parquet' #In HDFS\n",
    "parquet_table = 'file:///export/usuarios_ml4ds/jarenas/github/IntelComp/KPIs/WP3-pipelines/datasets/AI/cordis_Kwds3_AI.parquet' #In NFS\n",
    "# lemmas_table = '/export/ml4ds/IntelComp/Datalake/CORDIS/20230425/parquet/projects_NLP.parquet' #In HDFS\n",
    "lemmas_table = 'file:///export/usuarios_ml4ds/jarenas/github/IntelComp/KPIs/WP3-pipelines/datasets/AI/cordis_Kwds3_AI_NLP.parquet' #In NFS\n",
    "id_fld = 'projectID'\n",
    "selectFields = 'title, objective, acronym, frameworkProgramme, startDate, ecMaxContribution, euroSciVocCode, countryContr, coordinatorCountry, publicationID, patentID, fundingScheme, topic'\n",
    "filterCondition = '' #'frameworkProgramme = \"HORIZON\"'\n",
    "path_dataset = \"file:///export/usuarios_ml4ds/jarenas/github/IntelComp/ITMT/topicmodeler/fromHDFS/cordis_Kwds3_AI.parquet\" #In NFS"
   ]
  },
  {
   "cell_type": "markdown",
   "id": "af37cf26-250b-4cfa-8710-ee55fdced77d",
   "metadata": {},
   "source": [
    "## Semantic Scholar"
   ]
  },
  {
   "cell_type": "markdown",
   "id": "df36b56f-2460-444a-bef8-f3b44cb62b78",
   "metadata": {},
   "source": [
    "### Cancer dataset pregenerated from PMID given by HCERES"
   ]
  },
  {
   "cell_type": "code",
   "execution_count": 17,
   "id": "2d12ad6d-8ade-4976-b036-74bf5902c607",
   "metadata": {
    "tags": []
   },
   "outputs": [],
   "source": [
    "# parquet_table = '/export/ml4ds/IntelComp/Datalake/semanticscholar/20230418/parquet/papers_Cancer.parquet' # In HDFS\n",
    "parquet_table = 'file:///export/usuarios_ml4ds/jarenas/github/IntelComp/KPIs/WP3-pipelines/datasets/cancer/S2_Cancer.parquet' #In NFS\n",
    "# lemmas_table = '/export/ml4ds/IntelComp/Datalake/semanticscholar/20230418/parquet/papers_Cancer_NLP.parquet' # In HDFS\n",
    "lemmas_table = 'file:///export/usuarios_ml4ds/jarenas/github/IntelComp/KPIs/WP3-pipelines/datasets/cancer/S2_Cancer_NLP.parquet' # In HDFS\n",
    "id_fld = 'id'\n",
    "selectFields = 'doi, title, paperAbstract, year' #, fieldsOfStudy, publicationtype, isopenaccess, referencecount, citationcount, influencialcitationcount'\n",
    "filterCondition = ''\n",
    "path_dataset = \"file:///export/usuarios_ml4ds/jarenas/github/IntelComp/ITMT/topicmodeler/fromHDFS/S2_Cancer.parquet\" #In NFS"
   ]
  },
  {
   "cell_type": "markdown",
   "id": "c1cf2141-c6cb-41b1-bb8b-ba5d7617f422",
   "metadata": {},
   "source": [
    "### AI dataset generated from AI keywords"
   ]
  },
  {
   "cell_type": "code",
   "execution_count": 23,
   "id": "ea8970bf-cb4e-426f-8b39-8b298269fbf6",
   "metadata": {
    "tags": []
   },
   "outputs": [],
   "source": [
    "parquet_table = 'file:///export/usuarios_ml4ds/jarenas/github/IntelComp/KPIs/WP3-pipelines/datasets/AI/S2_Kwds3_AI.parquet' #In NFS\n",
    "lemmas_table = 'file:///export/usuarios_ml4ds/jarenas/github/IntelComp/KPIs/WP3-pipelines/datasets/AI/S2_Kwds3_AI_NLP.parquet' # In HDFS\n",
    "id_fld = 'id'\n",
    "selectFields = 'doi, title, paperAbstract, year' #, fieldsOfStudy, publicationtype, isopenaccess, referencecount, citationcount, influencialcitationcount'\n",
    "filterCondition = ''\n",
    "path_dataset = \"file:///export/usuarios_ml4ds/jarenas/github/IntelComp/ITMT/topicmodeler/fromHDFS/S2_Kwds3_AI.parquet\" #In NFS"
   ]
  },
  {
   "cell_type": "markdown",
   "id": "087b55ac-5d4d-4779-8004-bd4d0d20c46e",
   "metadata": {},
   "source": [
    "### Whole dataset filtering according to FOS"
   ]
  },
  {
   "cell_type": "code",
   "execution_count": null,
   "id": "531a2665-e7f9-46c4-b9c3-ab86ed2c5ad7",
   "metadata": {},
   "outputs": [],
   "source": [
    "#parquet_table = '/export/ml4ds/IntelComp/Datalake/SemanticScholar/20220201/papers.parquet'\n",
    "#selectFields = 'title, paperAbstract, doi, year, fieldsOfStudy'\n",
    "#filterCondition = \"array_contains(fieldsOfStudy, 'Computer Science')\"\n",
    "#path_dataset = \"/export/usuarios_ml4ds/jarenas/github/IntelComp/ITMT/topicmodeler/fromHDFS_scalability/S2CS_1.parquet\"\n",
    "#perc = float(1)/100"
   ]
  },
  {
   "cell_type": "markdown",
   "id": "ec61fbc6-7075-4c84-8db1-ebfe4d80b503",
   "metadata": {},
   "source": [
    "## OpenAIRE"
   ]
  },
  {
   "cell_type": "markdown",
   "id": "63abf532-f992-496b-a10b-b5ae52a02c38",
   "metadata": {},
   "source": [
    "### Cancer dataset pregenerated from PMID given by HCERES"
   ]
  },
  {
   "cell_type": "code",
   "execution_count": 28,
   "id": "9f0b39e3-e4c4-4c9a-ad41-80347b1340ae",
   "metadata": {},
   "outputs": [],
   "source": [
    "# parquet_table = '/export/ml4ds/IntelComp/Datalake/semanticscholar/20230418/parquet/papers_Cancer.parquet' # In HDFS\n",
    "parquet_table = 'file:///export/usuarios_ml4ds/jarenas/github/IntelComp/KPIs/WP3-pipelines/datasets/cancer/OA_Cancer.parquet' #In NFS\n",
    "# lemmas_table = '/export/ml4ds/IntelComp/Datalake/semanticscholar/20230418/parquet/papers_Cancer_NLP.parquet' # In HDFS\n",
    "lemmas_table = 'file:///export/usuarios_ml4ds/jarenas/github/IntelComp/KPIs/WP3-pipelines/datasets/cancer/OA_Cancer_NLP.parquet' # In HDFS\n",
    "id_fld = 'id'\n",
    "selectFields = 'title, description' #, fieldsOfStudy, publicationtype, isopenaccess, referencecount, citationcount, influencialcitationcount'\n",
    "filterCondition = ''\n",
    "path_dataset = \"file:///export/usuarios_ml4ds/jarenas/github/IntelComp/ITMT/topicmodeler/fromHDFS/OA_Cancer.parquet\" #In NFS"
   ]
  },
  {
   "cell_type": "markdown",
   "id": "39fb2c02-fcc1-4afb-bbc4-e355a47d683f",
   "metadata": {},
   "source": [
    "### AI dataset generated from AI keywords"
   ]
  },
  {
   "cell_type": "code",
   "execution_count": 34,
   "id": "363357eb-a385-46f1-905b-f17ad98bbb87",
   "metadata": {},
   "outputs": [],
   "source": [
    "parquet_table = 'file:///export/usuarios_ml4ds/jarenas/github/IntelComp/KPIs/WP3-pipelines/datasets/AI/OA_Kwds3_AI.parquet' #In NFS\n",
    "lemmas_table = 'file:///export/usuarios_ml4ds/jarenas/github/IntelComp/KPIs/WP3-pipelines/datasets/AI/OA_Kwds3_AI_NLP.parquet' # In HDFS\n",
    "id_fld = 'id'\n",
    "selectFields = 'title, description' #, fieldsOfStudy, publicationtype, isopenaccess, referencecount, citationcount, influencialcitationcount'\n",
    "filterCondition = ''\n",
    "path_dataset = \"file:///export/usuarios_ml4ds/jarenas/github/IntelComp/ITMT/topicmodeler/fromHDFS/OA_Kwds3_AI.parquet\" #In NFS"
   ]
  },
  {
   "cell_type": "markdown",
   "id": "087a8cd6-df0b-436b-b4ef-e68a5a15daa6",
   "metadata": {},
   "source": [
    "## Patstat"
   ]
  },
  {
   "cell_type": "markdown",
   "id": "002be4ee-8595-4bc2-ac10-7b8e0f1b98f2",
   "metadata": {},
   "source": [
    "### Cancer dataset generated from CPCs identified by HCERES"
   ]
  },
  {
   "cell_type": "code",
   "execution_count": 2,
   "id": "3b42acfe-85bf-41f5-b9b6-80044ebd2f1d",
   "metadata": {},
   "outputs": [],
   "source": [
    "parquet_table = '/export/ml4ds/IntelComp/Datalake/patstat/2023_Spring/parquet/patents_Cancer_CPC.parquet' # In HDFS\n",
    "lemmas_table = '/export/ml4ds/IntelComp/Datalake/patstat/2023_Spring/parquet/patents_Cancer_CPC_NLP.parquet' # In HDFS\n",
    "id_fld = 'appln_id'\n",
    "selectFields = 'appln_title, appln_abstract, docdb_family_id, appln_filing_year, earliest_filing_year, granted, appln_auth, receiving_office, ipr_type'\n",
    "filterCondition = ''\n",
    "path_dataset = \"/export/clusterdata/jarenas/github/IntelComp/ITMT/topicmodeler/fromHDFS/Patstat_Cancer_CPC.parquet\" #In NFS"
   ]
  },
  {
   "cell_type": "markdown",
   "id": "7805893d-7444-424b-8717-0a359019a322",
   "metadata": {},
   "source": [
    "### Cancer dataset generated from keywords given by HCERES"
   ]
  },
  {
   "cell_type": "code",
   "execution_count": 7,
   "id": "9b9db946-72ec-485e-b34a-2ecba161d3a4",
   "metadata": {},
   "outputs": [],
   "source": [
    "parquet_table = '/export/ml4ds/IntelComp/Datalake/patstat/2023_Spring/parquet/patents_Cancer_Kwds.parquet' # In HDFS\n",
    "lemmas_table = '/export/ml4ds/IntelComp/Datalake/patstat/2023_Spring/parquet/patents_Cancer_Kwds_NLP.parquet' # In HDFS\n",
    "id_fld = 'appln_id'\n",
    "selectFields = 'appln_title, appln_abstract, docdb_family_id, appln_filing_year, earliest_filing_year, granted, appln_auth, receiving_office, ipr_type, Kwd_count'\n",
    "filterCondition = ''\n",
    "path_dataset = \"/export/clusterdata/jarenas/github/IntelComp/ITMT/topicmodeler/fromHDFS/Patstat_Cancer_Kwds.parquet\" #In NFS"
   ]
  },
  {
   "cell_type": "markdown",
   "id": "0e02ce16-522e-4c6f-b9f6-8c3ac0ffcb92",
   "metadata": {},
   "source": [
    "### AI dataset generated from AI keywords"
   ]
  },
  {
   "cell_type": "code",
   "execution_count": 43,
   "id": "7ab22d04-8f21-4f44-b745-bb34cb5d9069",
   "metadata": {},
   "outputs": [],
   "source": [
    "parquet_table = 'file:///export/usuarios_ml4ds/jarenas/github/IntelComp/KPIs/WP3-pipelines/datasets/AI/PATSTAT_Kwds3_AI.parquet' #In NFS\n",
    "lemmas_table = 'file:///export/usuarios_ml4ds/jarenas/github/IntelComp/KPIs/WP3-pipelines/datasets/AI/PATSTAT_Kwds3_AI_NLP.parquet' # In HDFS\n",
    "id_fld = 'appln_id'\n",
    "selectFields = 'docdb_family_id, appln_title, appln_abstract, appln_filing_year, earliest_filing_year, granted, appln_auth, receiving_office, ipr_type' \n",
    "filterCondition = ''\n",
    "path_dataset = \"file:///export/usuarios_ml4ds/jarenas/github/IntelComp/ITMT/topicmodeler/fromHDFS/PATSTAT_Kwds3_AI.parquet\" #In NFS"
   ]
  },
  {
   "cell_type": "markdown",
   "id": "77f59868-f1d7-4277-9d0d-d17061bd6a4e",
   "metadata": {
    "tags": []
   },
   "source": [
    "## Generate parquet files"
   ]
  },
  {
   "cell_type": "code",
   "execution_count": 44,
   "id": "4205c000-4ef8-4274-9452-e853cb354aa6",
   "metadata": {},
   "outputs": [
    {
     "name": "stderr",
     "output_type": "stream",
     "text": [
      "23/09/09 00:40:55 WARN ObjectStore: Failed to get database parquet, returning NoSuchObjectException\n"
     ]
    },
    {
     "name": "stdout",
     "output_type": "stream",
     "text": [
      "Number of documents in dataset: 146022\n",
      "-RECORD 0----------------------------------------------------------------------------------------------------------------------------------------\n",
      " id                   | 33379547                                                                                                                 \n",
      " docdb_family_id      | 15907082                                                                                                                 \n",
      " appln_title          | PREVENTION DEVICE FOR NUISANCE TELEPHONE                                                                                 \n",
      " appln_abstract       | PURPOSE:To prevent nuisance telephone call by connecting an incoming call to a telephone set only when the identity o... \n",
      " appln_filing_year    | 1989                                                                                                                     \n",
      " earliest_filing_year | 1989                                                                                                                     \n",
      " granted              | N                                                                                                                        \n",
      " appln_auth           | JP                                                                                                                       \n",
      " receiving_office     |                                                                                                                          \n",
      " ipr_type             | PI                                                                                                                       \n",
      "-RECORD 1----------------------------------------------------------------------------------------------------------------------------------------\n",
      " id                   | 447432800                                                                                                                \n",
      " docdb_family_id      | 53396281                                                                                                                 \n",
      " appln_title          | Training distilled machine learning models                                                                               \n",
      " appln_abstract       | Methods, systems, and apparatus, including computer programs encoded on computer storage media, for training a distil... \n",
      " appln_filing_year    | 2015                                                                                                                     \n",
      " earliest_filing_year | 2014                                                                                                                     \n",
      " granted              | N                                                                                                                        \n",
      " appln_auth           | CN                                                                                                                       \n",
      " receiving_office     |                                                                                                                          \n",
      " ipr_type             | PI                                                                                                                       \n",
      "only showing top 2 rows\n",
      "\n"
     ]
    }
   ],
   "source": [
    "# We read the main table including selected fields and the identifier\n",
    "flds = [el.strip() for el in selectFields.split(',')]\n",
    "query = \"SELECT \" + id_fld + \" AS id, \" + (\",\").join(flds) + \\\n",
    "                \" FROM parquet.`\" + parquet_table + \"`\"\n",
    "\n",
    "# Add filtering condition to SELECT clause if necessary\n",
    "if len(filterCondition.strip()):\n",
    "    query += \" WHERE \" + filterCondition\n",
    "dataset = spark.sql(query)\n",
    "\n",
    "print('Number of documents in dataset:', dataset.count())\n",
    "dataset.show(n=2, truncate=120, vertical=True)"
   ]
  },
  {
   "cell_type": "code",
   "execution_count": 45,
   "id": "0269e65c-b3d5-4a2c-99c8-f981d2b2c350",
   "metadata": {},
   "outputs": [
    {
     "name": "stderr",
     "output_type": "stream",
     "text": [
      "23/09/09 00:40:58 WARN ObjectStore: Failed to get database parquet, returning NoSuchObjectException\n"
     ]
    },
    {
     "name": "stdout",
     "output_type": "stream",
     "text": [
      "Number of documents in dataset: 146019\n"
     ]
    },
    {
     "name": "stderr",
     "output_type": "stream",
     "text": [
      "[Stage 180:====================================================>  (19 + 1) / 20]\r"
     ]
    },
    {
     "name": "stdout",
     "output_type": "stream",
     "text": [
      "-RECORD 0----------------------------------------------------------------------------------------------------------------------------\n",
      " id       | 449648014                                                                                                                \n",
      " raw_text | MACHINE TRANSLATION METHOD AND APPARATUS FOR THE SAME Disclosed are a method and a device for machine translation cap... \n",
      " lemmas   | machine translation method apparatus disclose method device machine translation capable improve quality translation s... \n",
      "-RECORD 1----------------------------------------------------------------------------------------------------------------------------\n",
      " id       | 25460698                                                                                                                 \n",
      " raw_text | IMAGE RECOGNITION DEVICE, IMAGE FORMING DEVICE, AND RECORDED MEDIUM Fluctuation information produced by a fluctuation... \n",
      " lemmas   | image recognition device image forming device recorded medium fluctuation information produce fluctuation produce sec... \n",
      "only showing top 2 rows\n",
      "\n"
     ]
    },
    {
     "name": "stderr",
     "output_type": "stream",
     "text": [
      "                                                                                \r"
     ]
    }
   ],
   "source": [
    "# We read the table with the output of NLP processes and identify id field\n",
    "query = \"SELECT \" + id_fld + \" AS id, raw_text, lemmas FROM parquet.`\" + lemmas_table + \"`\"\n",
    "lemmas_df = spark.sql(query)\n",
    "\n",
    "print('Number of documents in dataset:', lemmas_df.count())\n",
    "lemmas_df.show(n=2, truncate=120, vertical=True)"
   ]
  },
  {
   "cell_type": "code",
   "execution_count": 46,
   "id": "24739c70-5a1e-4c03-b027-a9969261b86c",
   "metadata": {},
   "outputs": [
    {
     "name": "stdout",
     "output_type": "stream",
     "text": [
      "Number of documents in dataset: 146022\n"
     ]
    },
    {
     "name": "stderr",
     "output_type": "stream",
     "text": [
      "[Stage 191:=====================================================> (27 + 1) / 28]\r"
     ]
    },
    {
     "name": "stdout",
     "output_type": "stream",
     "text": [
      "-RECORD 0----------------------------------------------------------------------------------------------------------------------------------------\n",
      " id                   | 15825846                                                                                                                 \n",
      " docdb_family_id      | 23792258                                                                                                                 \n",
      " appln_title          | Method and apparatus for dynamic adaptation of a large vocabulary speech recognition system and for use of constraint... \n",
      " appln_abstract       | The vocabulary of a large-vocabulary speech recognition system is structured to effectuate the rapid and efficient ed... \n",
      " appln_filing_year    | 1996                                                                                                                     \n",
      " earliest_filing_year | 1995                                                                                                                     \n",
      " granted              | N                                                                                                                        \n",
      " appln_auth           | EP                                                                                                                       \n",
      " receiving_office     |                                                                                                                          \n",
      " ipr_type             | PI                                                                                                                       \n",
      " raw_text             | Method and apparatus for dynamic adaptation of a large vocabulary speech recognition system and for use of constraint... \n",
      " lemmas               | method apparatus dynamic adaptation large vocabulary speech recognition system constraint database large vocabulary s... \n",
      "-RECORD 1----------------------------------------------------------------------------------------------------------------------------------------\n",
      " id                   | 16680142                                                                                                                 \n",
      " docdb_family_id      | 10595708                                                                                                                 \n",
      " appln_title          | NOISE COMPENSATION IN SPEECH RECOGNITION                                                                                 \n",
      " appln_abstract       | In speech recognition it is advantageous to take account of noise levels both in recognition and training. In both pr... \n",
      " appln_filing_year    | 1987                                                                                                                     \n",
      " earliest_filing_year | 1986                                                                                                                     \n",
      " granted              | N                                                                                                                        \n",
      " appln_auth           | EP                                                                                                                       \n",
      " receiving_office     |                                                                                                                          \n",
      " ipr_type             | PI                                                                                                                       \n",
      " raw_text             | NOISE COMPENSATION IN SPEECH RECOGNITION In speech recognition it is advantageous to take account of noise levels bot... \n",
      " lemmas               | noise compensation speech recognition speech recognition information technology advantageous account noise level reco... \n",
      "-RECORD 2----------------------------------------------------------------------------------------------------------------------------------------\n",
      " id                   | 17050992                                                                                                                 \n",
      " docdb_family_id      | 19862591                                                                                                                 \n",
      " appln_title          | Method for detecting the best path through a stochastic network, in particular for speech or image recognition           \n",
      " appln_abstract       | Method for determining the most likely path through a stochastic network such as a Markov model, with various subnetw... \n",
      " appln_filing_year    | 1994                                                                                                                     \n",
      " earliest_filing_year | 1993                                                                                                                     \n",
      " granted              | Y                                                                                                                        \n",
      " appln_auth           | EP                                                                                                                       \n",
      " receiving_office     |                                                                                                                          \n",
      " ipr_type             | PI                                                                                                                       \n",
      " raw_text             | Method for detecting the best path through a stochastic network, in particular for speech or image recognition Method... \n",
      " lemmas               | method detect good path stochastic network particular speech image recognition method determine likely path stochasti... \n",
      "-RECORD 3----------------------------------------------------------------------------------------------------------------------------------------\n",
      " id                   | 191564                                                                                                                   \n",
      " docdb_family_id      | 27478381                                                                                                                 \n",
      " appln_title          | Voice recognition of proper names in a navigation apparatus                                                              \n",
      " appln_abstract       | A voice recognition apparatus includes: a voice input device; a storage device that stores a recognition word indicat... \n",
      " appln_filing_year    | 2000                                                                                                                     \n",
      " earliest_filing_year | 1999                                                                                                                     \n",
      " granted              | N                                                                                                                        \n",
      " appln_auth           | EP                                                                                                                       \n",
      " receiving_office     |                                                                                                                          \n",
      " ipr_type             | PI                                                                                                                       \n",
      " raw_text             | Voice recognition of proper names in a navigation apparatus A voice recognition apparatus includes: a voice input dev... \n",
      " lemmas               | voice recognition proper name navigation apparatus voice recognition apparatus include voice input device storage dev... \n",
      "-RECORD 4----------------------------------------------------------------------------------------------------------------------------------------\n",
      " id                   | 254094                                                                                                                   \n",
      " docdb_family_id      | 36119438                                                                                                                 \n",
      " appln_title          | THREAT PROTECTION NETWORK                                                                                                \n",
      " appln_abstract       | Threat protection networks are described. Embodiments of threat protection network in accordance with the invention u... \n",
      " appln_filing_year    | 2005                                                                                                                     \n",
      " earliest_filing_year | 2004                                                                                                                     \n",
      " granted              | N                                                                                                                        \n",
      " appln_auth           | EP                                                                                                                       \n",
      " receiving_office     |                                                                                                                          \n",
      " ipr_type             | PI                                                                                                                       \n",
      " raw_text             | THREAT PROTECTION NETWORK Threat protection networks are described. Embodiments of threat protection network in accor... \n",
      " lemmas               | threat protection network threat protection network describe threat protection network accordance expert system deter... \n",
      "-RECORD 5----------------------------------------------------------------------------------------------------------------------------------------\n",
      " id                   | 25460698                                                                                                                 \n",
      " docdb_family_id      | 26504874                                                                                                                 \n",
      " appln_title          | IMAGE RECOGNITION DEVICE, IMAGE FORMING DEVICE, AND RECORDED MEDIUM                                                      \n",
      " appln_abstract       | Fluctuation information produced by a fluctuation producing section (36) is superimposed on given image data by a flu... \n",
      " appln_filing_year    | 2000                                                                                                                     \n",
      " earliest_filing_year | 1999                                                                                                                     \n",
      " granted              | N                                                                                                                        \n",
      " appln_auth           | WO                                                                                                                       \n",
      " receiving_office     | JP                                                                                                                       \n",
      " ipr_type             | PI                                                                                                                       \n",
      " raw_text             | IMAGE RECOGNITION DEVICE, IMAGE FORMING DEVICE, AND RECORDED MEDIUM Fluctuation information produced by a fluctuation... \n",
      " lemmas               | image recognition device image forming device recorded medium fluctuation information produce fluctuation produce sec... \n",
      "-RECORD 6----------------------------------------------------------------------------------------------------------------------------------------\n",
      " id                   | 273832610                                                                                                                \n",
      " docdb_family_id      | 41408060                                                                                                                 \n",
      " appln_title          | Machine vision based fatigue driving monitoring method and system                                                        \n",
      " appln_abstract       | The invention discloses a machine vision based fatigue driving monitoring method and a machine vision based fatigue d... \n",
      " appln_filing_year    | 2009                                                                                                                     \n",
      " earliest_filing_year | 2009                                                                                                                     \n",
      " granted              | Y                                                                                                                        \n",
      " appln_auth           | CN                                                                                                                       \n",
      " receiving_office     |                                                                                                                          \n",
      " ipr_type             | PI                                                                                                                       \n",
      " raw_text             | Machine vision based fatigue driving monitoring method and system The invention discloses a machine vision based fati... \n",
      " lemmas               | machine vision base fatigue drive monitoring method system disclose machine vision base fatigue drive monitoring meth... \n",
      "-RECORD 7----------------------------------------------------------------------------------------------------------------------------------------\n",
      " id                   | 274281357                                                                                                                \n",
      " docdb_family_id      | 41534085                                                                                                                 \n",
      " appln_title          | The expert system for parking guidance, management, device                                                               \n",
      " appln_abstract       | PURPOSE: An expert system for parking guidance, management, a device and a method are provided to supply customized i... \n",
      " appln_filing_year    | 2008                                                                                                                     \n",
      " earliest_filing_year | 2008                                                                                                                     \n",
      " granted              | Y                                                                                                                        \n",
      " appln_auth           | KR                                                                                                                       \n",
      " receiving_office     |                                                                                                                          \n",
      " ipr_type             | PI                                                                                                                       \n",
      " raw_text             | The expert system for parking guidance, management, device PURPOSE: An expert system for parking guidance, management... \n",
      " lemmas               | expert system parking guidance management device purpose expert system parking guidance management device method supp... \n",
      "-RECORD 8----------------------------------------------------------------------------------------------------------------------------------------\n",
      " id                   | 274283992                                                                                                                \n",
      " docdb_family_id      | 25233818                                                                                                                 \n",
      " appln_title          | VOICE RECOGNITION SYSTEM USING IMPLICIT SPEAKER ADAPTATION                                                               \n",
      " appln_abstract       | A voice recognition (VR) system is disclosed that utilizes a combination of speaker independent (SI) (230 and 232) an... \n",
      " appln_filing_year    | 2002                                                                                                                     \n",
      " earliest_filing_year | 2001                                                                                                                     \n",
      " granted              | Y                                                                                                                        \n",
      " appln_auth           | KR                                                                                                                       \n",
      " receiving_office     |                                                                                                                          \n",
      " ipr_type             | PI                                                                                                                       \n",
      " raw_text             | VOICE RECOGNITION SYSTEM USING IMPLICIT SPEAKER ADAPTATION A voice recognition (VR) system is disclosed that utilizes... \n",
      " lemmas               | voice recognition system implicit speaker_adaptation voice recognition vr system disclose utilize combination speaker... \n",
      "-RECORD 9----------------------------------------------------------------------------------------------------------------------------------------\n",
      " id                   | 28840679                                                                                                                 \n",
      " docdb_family_id      | 13506151                                                                                                                 \n",
      " appln_title          | WORD PROCESSOR                                                                                                           \n",
      " appln_abstract       | PURPOSE:To conveniently change a document converted result by inputting a change part by a voice. CONSTITUTION:When i... \n",
      " appln_filing_year    | 1991                                                                                                                     \n",
      " earliest_filing_year | 1991                                                                                                                     \n",
      " granted              | N                                                                                                                        \n",
      " appln_auth           | JP                                                                                                                       \n",
      " receiving_office     |                                                                                                                          \n",
      " ipr_type             | PI                                                                                                                       \n",
      " raw_text             | WORD PROCESSOR PURPOSE:To conveniently change a document converted result by inputting a change part by a voice. CONS... \n",
      " lemmas               | word processor purpose change document convert result inputte change voice constitution information technology necess... \n",
      "only showing top 10 rows\n",
      "\n"
     ]
    },
    {
     "name": "stderr",
     "output_type": "stream",
     "text": [
      "                                                                                \r"
     ]
    }
   ],
   "source": [
    "# Join tables\n",
    "lemmas_df = lemmas_df.withColumnRenamed(id_fld,\"id\")\n",
    "dataset = (dataset.join(lemmas_df, dataset.id ==  lemmas_df.id, \"left\")\n",
    "                      .drop(lemmas_df.id)\n",
    "                )\n",
    "\n",
    "print('Number of documents in dataset:', dataset.count())\n",
    "dataset.show(n=10, truncate=120, vertical=True)"
   ]
  },
  {
   "cell_type": "code",
   "execution_count": 38,
   "id": "85be2891-c11f-462f-b201-0ae600f87fc7",
   "metadata": {},
   "outputs": [
    {
     "data": {
      "text/plain": [
       "\"\\nif perc < 1:\\n    dataset = dataset.sample(fraction=perc)\\n\\nprint('Number of documents in dataset:', dataset.count())\\n#dataset.show(n=10, truncate=120, vertical=True)\\n\""
      ]
     },
     "execution_count": 38,
     "metadata": {},
     "output_type": "execute_result"
    }
   ],
   "source": [
    "# Sampling dataset if necessary\n",
    "\"\"\"\n",
    "if perc < 1:\n",
    "    dataset = dataset.sample(fraction=perc)\n",
    "\n",
    "print('Number of documents in dataset:', dataset.count())\n",
    "#dataset.show(n=10, truncate=120, vertical=True)\n",
    "\"\"\""
   ]
  },
  {
   "cell_type": "code",
   "execution_count": 47,
   "id": "4a32cbbd",
   "metadata": {},
   "outputs": [
    {
     "name": "stderr",
     "output_type": "stream",
     "text": [
      "                                                                                \r"
     ]
    }
   ],
   "source": [
    "# Save dataset\n",
    "dataset.write.parquet(path_dataset,\n",
    "    mode=\"overwrite\",\n",
    ")"
   ]
  },
  {
   "cell_type": "markdown",
   "id": "20960ae3-3baf-4fcc-8986-93b920db9dfb",
   "metadata": {},
   "source": [
    "# Generate datasetMeta.json"
   ]
  },
  {
   "cell_type": "code",
   "execution_count": 48,
   "id": "e6a44971-af3d-4d10-946c-d53a3a9d1dc8",
   "metadata": {
    "tags": []
   },
   "outputs": [],
   "source": [
    "import pandas as pd\n",
    "import pyarrow.parquet as pt\n",
    "import os\n",
    "import datetime as DT"
   ]
  },
  {
   "cell_type": "code",
   "execution_count": 49,
   "id": "bc837810-fa2a-45eb-8fbd-c8000b5eb96f",
   "metadata": {},
   "outputs": [
    {
     "name": "stdout",
     "output_type": "stream",
     "text": [
      "[PosixPath('/export/usuarios_ml4ds/jarenas/github/IntelComp/ITMT/topicmodeler/fromHDFS/cordis_Kwds3_AI.parquet'), PosixPath('/export/usuarios_ml4ds/jarenas/github/IntelComp/ITMT/topicmodeler/fromHDFS/PATSTAT_Kwds3_AI.parquet'), PosixPath('/export/usuarios_ml4ds/jarenas/github/IntelComp/ITMT/topicmodeler/fromHDFS/S2_Kwds3_AI.parquet'), PosixPath('/export/usuarios_ml4ds/jarenas/github/IntelComp/ITMT/topicmodeler/fromHDFS/S2_Cancer.parquet'), PosixPath('/export/usuarios_ml4ds/jarenas/github/IntelComp/ITMT/topicmodeler/fromHDFS/OA_Kwds3_AI.parquet'), PosixPath('/export/usuarios_ml4ds/jarenas/github/IntelComp/ITMT/topicmodeler/fromHDFS/OA_Cancer.parquet')]\n"
     ]
    }
   ],
   "source": [
    "fromHDFS_folder = Path(\"/export/usuarios_ml4ds/jarenas/github/IntelComp/ITMT/topicmodeler/fromHDFS/\")\n",
    "print([el for el in fromHDFS_folder.iterdir() if el.suffix==\".parquet\"])"
   ]
  },
  {
   "cell_type": "code",
   "execution_count": 50,
   "id": "10925ad0-c565-465a-a8cd-f2b519d042d4",
   "metadata": {
    "tags": []
   },
   "outputs": [
    {
     "name": "stdout",
     "output_type": "stream",
     "text": [
      "/export/usuarios_ml4ds/jarenas/github/IntelComp/ITMT/topicmodeler/fromHDFS/cordis_Kwds3_AI.parquet\n",
      "/export/usuarios_ml4ds/jarenas/github/IntelComp/ITMT/topicmodeler/fromHDFS/PATSTAT_Kwds3_AI.parquet\n",
      "/export/usuarios_ml4ds/jarenas/github/IntelComp/ITMT/topicmodeler/fromHDFS/S2_Kwds3_AI.parquet\n",
      "/export/usuarios_ml4ds/jarenas/github/IntelComp/ITMT/topicmodeler/fromHDFS/S2_Cancer.parquet\n",
      "/export/usuarios_ml4ds/jarenas/github/IntelComp/ITMT/topicmodeler/fromHDFS/OA_Kwds3_AI.parquet\n",
      "/export/usuarios_ml4ds/jarenas/github/IntelComp/ITMT/topicmodeler/fromHDFS/OA_Cancer.parquet\n"
     ]
    }
   ],
   "source": [
    "for el in fromHDFS_folder.iterdir():\n",
    "    if el.suffix==\".parquet\":\n",
    "        print(el)"
   ]
  },
  {
   "cell_type": "code",
   "execution_count": 54,
   "id": "d3355777-a249-453f-a2f6-427e8bdabe7b",
   "metadata": {
    "tags": []
   },
   "outputs": [],
   "source": [
    "metadata = {}\n",
    "\n",
    "desc_content = {\n",
    "    \"cordis\"  : \"FP7, H2020 and HE projects from Cordis\",\n",
    "    \"S2\"      : \"Semantic Scholarpublications\",\n",
    "    \"OA\"      : \"OpenAIRE publications\",\n",
    "    \"PATSTAT\" : \"Patents from PATSTAT\"\n",
    "}\n",
    "\n",
    "for el in fromHDFS_folder.iterdir():\n",
    "    if el.suffix==\".parquet\":\n",
    "        source = el.name.split('.')[0].split('_')[0]\n",
    "        #df = pd.read_parquet(el)\n",
    "        df = spark.read.parquet('file://' + el.as_posix())\n",
    "        datasetMeta = {\n",
    "            \"name\": el.name,\n",
    "            \"description\": desc_content[source],\n",
    "            \"visibility\": \"Public\",\n",
    "            \"type\": \"RAW\",\n",
    "            \"download_date\": DT.datetime.fromtimestamp(os.path.getmtime(el)),\n",
    "            # \"records\"       : len(pd.read_parquet(path_dataset, columns=[])),\n",
    "            \"records\": df.count(),\n",
    "            \"source\": source,\n",
    "            \"schema\" : df.columns\n",
    "            # \"schema\": pt.read_schema([file_pt for file_pt in el.iterdir()\n",
    "            #                          if file_pt.name.endswith('.parquet')][0]).names\n",
    "        }\n",
    "        metadata[el.name] = datasetMeta"
   ]
  },
  {
   "cell_type": "code",
   "execution_count": 55,
   "id": "29621b84-260c-474e-8299-b2a1786dcb59",
   "metadata": {
    "tags": []
   },
   "outputs": [
    {
     "data": {
      "text/plain": [
       "{'cordis_Kwds3_AI.parquet': {'name': 'cordis_Kwds3_AI.parquet',\n",
       "  'description': 'FP7, H2020 and HE projects from Cordis',\n",
       "  'visibility': 'Public',\n",
       "  'type': 'RAW',\n",
       "  'download_date': datetime.datetime(2023, 9, 8, 23, 59, 26, 328399),\n",
       "  'records': 852,\n",
       "  'source': 'cordis',\n",
       "  'schema': ['id',\n",
       "   'title',\n",
       "   'objective',\n",
       "   'acronym',\n",
       "   'frameworkProgramme',\n",
       "   'startDate',\n",
       "   'ecMaxContribution',\n",
       "   'euroSciVocCode',\n",
       "   'countryContr',\n",
       "   'coordinatorCountry',\n",
       "   'publicationID',\n",
       "   'patentID',\n",
       "   'fundingScheme',\n",
       "   'topic',\n",
       "   'raw_text',\n",
       "   'lemmas']},\n",
       " 'PATSTAT_Kwds3_AI.parquet': {'name': 'PATSTAT_Kwds3_AI.parquet',\n",
       "  'description': 'Patents from PATSTAT',\n",
       "  'visibility': 'Public',\n",
       "  'type': 'RAW',\n",
       "  'download_date': datetime.datetime(2023, 9, 9, 0, 39, 31, 728364),\n",
       "  'records': 146022,\n",
       "  'source': 'PATSTAT',\n",
       "  'schema': ['id',\n",
       "   'docdb_family_id',\n",
       "   'appln_title',\n",
       "   'appln_abstract',\n",
       "   'appln_filing_year',\n",
       "   'earliest_filing_year',\n",
       "   'granted',\n",
       "   'appln_auth',\n",
       "   'receiving_office',\n",
       "   'ipr_type',\n",
       "   'raw_text',\n",
       "   'lemmas']},\n",
       " 'S2_Kwds3_AI.parquet': {'name': 'S2_Kwds3_AI.parquet',\n",
       "  'description': 'Semantic Scholarpublications',\n",
       "  'visibility': 'Public',\n",
       "  'type': 'RAW',\n",
       "  'download_date': datetime.datetime(2023, 9, 9, 0, 22, 39, 518379),\n",
       "  'records': 608155,\n",
       "  'source': 'S2',\n",
       "  'schema': ['id',\n",
       "   'doi',\n",
       "   'title',\n",
       "   'paperAbstract',\n",
       "   'year',\n",
       "   'raw_text',\n",
       "   'lemmas']},\n",
       " 'S2_Cancer.parquet': {'name': 'S2_Cancer.parquet',\n",
       "  'description': 'Semantic Scholarpublications',\n",
       "  'visibility': 'Public',\n",
       "  'type': 'RAW',\n",
       "  'download_date': datetime.datetime(2023, 9, 9, 0, 19, 55, 78381),\n",
       "  'records': 2437537,\n",
       "  'source': 'S2',\n",
       "  'schema': ['id',\n",
       "   'doi',\n",
       "   'title',\n",
       "   'paperAbstract',\n",
       "   'year',\n",
       "   'raw_text',\n",
       "   'lemmas']},\n",
       " 'OA_Kwds3_AI.parquet': {'name': 'OA_Kwds3_AI.parquet',\n",
       "  'description': 'OpenAIRE publications',\n",
       "  'visibility': 'Public',\n",
       "  'type': 'RAW',\n",
       "  'download_date': datetime.datetime(2023, 9, 9, 0, 34, 13, 198369),\n",
       "  'records': 574346,\n",
       "  'source': 'OA',\n",
       "  'schema': ['id', 'title', 'description', 'raw_text', 'lemmas']},\n",
       " 'OA_Cancer.parquet': {'name': 'OA_Cancer.parquet',\n",
       "  'description': 'OpenAIRE publications',\n",
       "  'visibility': 'Public',\n",
       "  'type': 'RAW',\n",
       "  'download_date': datetime.datetime(2023, 9, 9, 0, 32, 59, 78370),\n",
       "  'records': 2398350,\n",
       "  'source': 'OA',\n",
       "  'schema': ['id', 'title', 'description', 'raw_text', 'lemmas']}}"
      ]
     },
     "execution_count": 55,
     "metadata": {},
     "output_type": "execute_result"
    }
   ],
   "source": [
    "metadata"
   ]
  },
  {
   "cell_type": "code",
   "execution_count": 56,
   "id": "9e167d35-ffc3-4759-86c3-445ad17c2f44",
   "metadata": {
    "tags": []
   },
   "outputs": [],
   "source": [
    "path_datasetMeta = fromHDFS_folder.joinpath('datasetMeta.json')\n",
    "with path_datasetMeta.open('w', encoding='utf-8') as outfile:\n",
    "    json.dump(metadata, outfile, ensure_ascii=False,\n",
    "                          indent=2, default=str)"
   ]
  },
  {
   "cell_type": "code",
   "execution_count": null,
   "id": "b141a4c6-6d9f-41b5-a243-b92ae3fbc815",
   "metadata": {},
   "outputs": [],
   "source": []
  }
 ],
 "metadata": {
  "kernelspec": {
   "display_name": "Python 3 (ipykernel)",
   "language": "python",
   "name": "python3"
  },
  "language_info": {
   "codemirror_mode": {
    "name": "ipython",
    "version": 3
   },
   "file_extension": ".py",
   "mimetype": "text/x-python",
   "name": "python",
   "nbconvert_exporter": "python",
   "pygments_lexer": "ipython3",
   "version": "3.10.13"
  },
  "toc-autonumbering": true
 },
 "nbformat": 4,
 "nbformat_minor": 5
}
