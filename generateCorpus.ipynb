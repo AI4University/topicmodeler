{
 "cells": [
  {
   "cell_type": "code",
   "execution_count": 1,
   "id": "9ae6dcd5",
   "metadata": {},
   "outputs": [],
   "source": [
    "\"\"\"\n",
    "Created on Mar 05 2022\n",
    "@author: José Antonio Espinosa Melchor\n",
    "         Jerónimo Arenas García\n",
    "\n",
    "Temporary routine for generation of CSV datasets\n",
    "for demonstration purposes\n",
    "\n",
    "It is a \"Fake Data Mediator\" for use with the first\n",
    "version of the Interactive Topic Model Trainer\n",
    "\"\"\"\n",
    "\n",
    "import argparse\n",
    "import json\n",
    "import os\n",
    "from pathlib import Path\n",
    "from langdetect import detect\n",
    "from pyspark.sql import SparkSession\n",
    "from pyspark.sql.functions import array_contains, concat_ws, col, udf\n",
    "from pyspark.sql.types import StringType"
   ]
  },
  {
   "cell_type": "code",
   "execution_count": 2,
   "id": "465e8a34",
   "metadata": {},
   "outputs": [
    {
     "name": "stdout",
     "output_type": "stream",
     "text": [
      "query is:  SELECT id,lemmas FROM parquet.`/export/ml4ds/IntelComp/Datalake/SemanticScholar/20220201/papers.parquet` WHERE array_contains(fieldsOfStudy, 'Art')\n"
     ]
    }
   ],
   "source": [
    "p = \"ITMTrainer/datasets/S2ART\"\n",
    "current_path = Path(os.getcwd())\n",
    "path_dataset = current_path.joinpath(p)\n",
    "path_config = path_dataset.joinpath(\"config.json\")\n",
    "path_csv = path_dataset.joinpath(\"CSV\")\n",
    "with open(path_config, 'r') as fin:\n",
    "    datasetMeta = json.load(fin)\n",
    "\n",
    "query = datasetMeta[\"query\"]\n",
    "print(\"query is: \", query)\n"
   ]
  },
  {
   "cell_type": "code",
   "execution_count": 3,
   "id": "55a9a7a2",
   "metadata": {},
   "outputs": [
    {
     "name": "stderr",
     "output_type": "stream",
     "text": [
      "22/03/06 12:54:02 WARN conf.HiveConf: HiveConf of name hive.stats.jdbc.timeout does not exist\n",
      "22/03/06 12:54:02 WARN conf.HiveConf: HiveConf of name hive.stats.retries.wait does not exist\n",
      "22/03/06 12:54:04 WARN metastore.ObjectStore: Version information not found in metastore. hive.metastore.schema.verification is not enabled so recording the schema version 2.3.0\n",
      "22/03/06 12:54:04 WARN metastore.ObjectStore: setMetaStoreSchemaVersion called but recording version is disabled: version = 2.3.0, comment = Set by MetaStore jarenas@192.168.148.225\n",
      "22/03/06 12:54:04 WARN metastore.ObjectStore: Failed to get database global_temp, returning NoSuchObjectException\n",
      "22/03/06 12:54:04 WARN metastore.ObjectStore: Failed to get database parquet, returning NoSuchObjectException\n",
      "                                                                                \r"
     ]
    }
   ],
   "source": [
    "# Read subtable from parquet file\n",
    "S2papers = spark.sql(query.replace(\"lemmas\", \"title, paperAbstract\"))\n",
    "\n",
    "#Concatenate text fields to lemmatize\n",
    "S2papers = (\n",
    "    S2papers.withColumn(\"rawtext\",concat_ws('. ', \"title\", \"paperAbstract\"))\n",
    "    .drop(\"title\")\n",
    "    .drop(\"paperAbstract\")\n",
    ")\n",
    "\n",
    "def my_detect(rawt):\n",
    "    try:\n",
    "        return detect(rawt)\n",
    "    except:\n",
    "        return \"na\"\n",
    "\n",
    "udf_detect = udf(lambda x:my_detect(x), StringType() )\n",
    "S2papers = S2papers.withColumn(\"language\",udf_detect(col(\"rawtext\"))).select(\"id\",\"rawtext\",\"language\")\n",
    "S2papers = (\n",
    "    S2papers.filter(col(\"language\")==\"en\")\n",
    "    .drop(\"language\")\n",
    ")\n",
    "\n",
    "#Lemmatize rawtext column\n",
    "S2papers = S2papers.withColumnRenamed(\"rawtext\", \"lemmas\")"
   ]
  },
  {
   "cell_type": "code",
   "execution_count": 4,
   "id": "4a32cbbd",
   "metadata": {},
   "outputs": [
    {
     "name": "stderr",
     "output_type": "stream",
     "text": [
      "                                                                                \r"
     ]
    }
   ],
   "source": [
    "#Save corpus\n",
    "#Maybe it could be better to leave it distributed if some WP3 tools can benefit from it?\n",
    "S2papers.repartition(25).write.option(\"header\",True).csv(f\"file://{path_csv.as_posix()}\")"
   ]
  }
 ],
 "metadata": {
  "kernelspec": {
   "display_name": "Python 3 (ipykernel)",
   "language": "python",
   "name": "python3"
  },
  "language_info": {
   "codemirror_mode": {
    "name": "ipython",
    "version": 3
   },
   "file_extension": ".py",
   "mimetype": "text/x-python",
   "name": "python",
   "nbconvert_exporter": "python",
   "pygments_lexer": "ipython3",
   "version": "3.8.12"
  }
 },
 "nbformat": 4,
 "nbformat_minor": 5
}
