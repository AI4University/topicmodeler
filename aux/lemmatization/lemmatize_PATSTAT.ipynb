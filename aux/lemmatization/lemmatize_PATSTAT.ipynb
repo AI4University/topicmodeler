{
 "cells": [
  {
   "cell_type": "markdown",
   "id": "319e2032",
   "metadata": {},
   "source": [
    "# Lemmatize PATSTATusing Spark NLP"
   ]
  },
  {
   "cell_type": "code",
   "execution_count": 1,
   "id": "58ccc6a4",
   "metadata": {},
   "outputs": [],
   "source": [
    "from sparknlp.base import *\n",
    "from sparknlp.annotator import *\n",
    "import sparknlp\n",
    "from pyspark.ml import Pipeline\n",
    "import pyspark.sql.functions as F\n",
    "from pyspark.sql.types import StringType\n",
    "from pathlib import Path"
   ]
  },
  {
   "cell_type": "markdown",
   "id": "007ee1f5",
   "metadata": {},
   "source": [
    "## 1. Read papers and concatenate the `title` and `paperAbstract` fields"
   ]
  },
  {
   "cell_type": "code",
   "execution_count": 2,
   "id": "c8f6fcdf",
   "metadata": {},
   "outputs": [
    {
     "name": "stderr",
     "output_type": "stream",
     "text": [
      "22/06/08 09:36:25 WARN conf.HiveConf: HiveConf of name hive.stats.jdbc.timeout does not exist\n",
      "22/06/08 09:36:25 WARN conf.HiveConf: HiveConf of name hive.stats.retries.wait does not exist\n",
      "22/06/08 09:36:28 WARN metastore.ObjectStore: Version information not found in metastore. hive.metastore.schema.verification is not enabled so recording the schema version 2.3.0\n",
      "22/06/08 09:36:28 WARN metastore.ObjectStore: setMetaStoreSchemaVersion called but recording version is disabled: version = 2.3.0, comment = Set by MetaStore jarenas@192.168.148.225\n",
      "22/06/08 09:36:29 WARN metastore.ObjectStore: Failed to get database global_temp, returning NoSuchObjectException\n",
      "22/06/08 09:36:29 WARN metastore.ObjectStore: Failed to get database parquet, returning NoSuchObjectException\n",
      "[Stage 3:>                                                          (0 + 1) / 1]\r"
     ]
    },
    {
     "name": "stdout",
     "output_type": "stream",
     "text": [
      "Number of patents before language filtering: 117081595\n",
      "CPU times: user 105 ms, sys: 25.3 ms, total: 131 ms\n",
      "Wall time: 49.2 s\n"
     ]
    },
    {
     "name": "stderr",
     "output_type": "stream",
     "text": [
      "                                                                                \r"
     ]
    }
   ],
   "source": [
    "%%time\n",
    "\n",
    "# Loading patents table text fields, and concatenating them for lemmatization\n",
    "patents = spark.sql(\"SELECT appln_id, appln_title, appln_abstract FROM parquet.`/export/ml4ds/IntelComp/Datalake/PATSTAT/2022_Spring/patstat_appln.parquet`\")\n",
    "patents = patents.repartition(numPartitions=20000)\n",
    "##For development purposes only\n",
    "#patents = patents.sample(fraction=0.0001)\n",
    "\n",
    "#Concatenate text fields to lemmatize\n",
    "patents = (\n",
    "    patents.withColumn(\"rawtext\",F.concat_ws('. ', \"appln_title\", \"appln_abstract\"))\n",
    "    .drop(\"appln_title\")\n",
    "    .drop(\"appln_abstract\")\n",
    ")\n",
    "\n",
    "print('Number of patents before language filtering:', patents.count())"
   ]
  },
  {
   "cell_type": "markdown",
   "id": "a0ba78d8",
   "metadata": {},
   "source": [
    "## 2. Filter patents abstracts that are not in English Language"
   ]
  },
  {
   "cell_type": "code",
   "execution_count": 4,
   "id": "ba2ecc2f",
   "metadata": {},
   "outputs": [
    {
     "name": "stdout",
     "output_type": "stream",
     "text": [
      "ld_wiki_tatoeba_cnn_21 download started this may take some time.\n",
      "Approximate size to download 7.1 MB\n",
      "[OK!]\n"
     ]
    },
    {
     "name": "stderr",
     "output_type": "stream",
     "text": [
      "22/06/08 17:11:20 ERROR scheduler.TaskSchedulerImpl: Lost executor 9 on node13.cluster.tsc.uc3m.es: Remote RPC client disassociated. Likely due to containers exceeding thresholds, or network issues. Check driver logs for WARN messages.\n",
      "22/06/08 17:11:20 WARN scheduler.TaskSetManager: Lost task 115.0 in stage 10.0 (TID 20751) (node13.cluster.tsc.uc3m.es executor 9): ExecutorLostFailure (executor 9 exited caused by one of the running tasks) Reason: Remote RPC client disassociated. Likely due to containers exceeding thresholds, or network issues. Check driver logs for WARN messages.\n",
      "22/06/08 17:11:20 WARN scheduler.TaskSetManager: Lost task 79.0 in stage 10.0 (TID 20720) (node13.cluster.tsc.uc3m.es executor 9): ExecutorLostFailure (executor 9 exited caused by one of the running tasks) Reason: Remote RPC client disassociated. Likely due to containers exceeding thresholds, or network issues. Check driver logs for WARN messages.\n",
      "22/06/08 17:11:20 WARN scheduler.TaskSetManager: Lost task 118.0 in stage 10.0 (TID 20752) (node13.cluster.tsc.uc3m.es executor 9): ExecutorLostFailure (executor 9 exited caused by one of the running tasks) Reason: Remote RPC client disassociated. Likely due to containers exceeding thresholds, or network issues. Check driver logs for WARN messages.\n",
      "22/06/08 17:11:20 WARN scheduler.TaskSetManager: Lost task 94.0 in stage 10.0 (TID 20737) (node13.cluster.tsc.uc3m.es executor 9): ExecutorLostFailure (executor 9 exited caused by one of the running tasks) Reason: Remote RPC client disassociated. Likely due to containers exceeding thresholds, or network issues. Check driver logs for WARN messages.\n",
      "[Stage 12:>                                                         (0 + 1) / 1]\r"
     ]
    },
    {
     "name": "stdout",
     "output_type": "stream",
     "text": [
      "Number of patents in English: 78594158\n",
      "CPU times: user 4.35 s, sys: 2.31 s, total: 6.65 s\n",
      "Wall time: 12h 7min 59s\n"
     ]
    },
    {
     "name": "stderr",
     "output_type": "stream",
     "text": [
      "                                                                                \r"
     ]
    }
   ],
   "source": [
    "%%time\n",
    "\n",
    "#Pipeline for language detection\n",
    "documentAssembler = DocumentAssembler() \\\n",
    "    .setInputCol(\"rawtext\") \\\n",
    "    .setOutputCol(\"document\")\n",
    "\n",
    "languageDetector = LanguageDetectorDL.pretrained() \\\n",
    "    .setInputCols(\"document\") \\\n",
    "    .setOutputCol(\"language\")\n",
    "\n",
    "pipeline = Pipeline() \\\n",
    "    .setStages([\n",
    "      documentAssembler,\n",
    "      languageDetector\n",
    "    ])\n",
    "\n",
    "#Apply language detection pipeline\n",
    "patents = pipeline.fit(patents).transform(patents)\n",
    "patents = (\n",
    "    patents.filter(F.col(\"language.result\")[0]==\"en\")\n",
    "    .drop(\"language\")\n",
    ")\n",
    "\n",
    "print('Number of patents in English:', patents.count())"
   ]
  },
  {
   "cell_type": "markdown",
   "id": "eb4d59da",
   "metadata": {},
   "source": [
    "## 3. Define and Run Lemmatization Pipeline\n",
    "\n",
    "   - We work on documents created in Subsection 2\n",
    "   - Sentence Detection and Tokenizer applied to detect tokens\n",
    "   - Lemmatization is carried out\n",
    "   - Stopwords are applied\n",
    "   - Punctuation symbols are removed\n",
    "   - Result is converted back from Spark NLP annotations to string format"
   ]
  },
  {
   "cell_type": "code",
   "execution_count": 5,
   "id": "eecf0f70",
   "metadata": {},
   "outputs": [
    {
     "name": "stdout",
     "output_type": "stream",
     "text": [
      "lemma_antbnc download started this may take some time.\n",
      "Approximate size to download 907.6 KB\n",
      "[ | ]lemma_antbnc download started this may take some time.\n",
      "Approximate size to download 907.6 KB\n",
      "Download done! Loading the resource.\n"
     ]
    },
    {
     "name": "stderr",
     "output_type": "stream",
     "text": [
      "[Stage 14:=======================>                                 (5 + 0) / 12]\r"
     ]
    },
    {
     "name": "stdout",
     "output_type": "stream",
     "text": [
      "[ — ]"
     ]
    },
    {
     "name": "stderr",
     "output_type": "stream",
     "text": [
      "                                                                                \r"
     ]
    },
    {
     "name": "stdout",
     "output_type": "stream",
     "text": [
      "[OK!]\n",
      "CPU times: user 135 ms, sys: 0 ns, total: 135 ms\n",
      "Wall time: 9.24 s\n"
     ]
    }
   ],
   "source": [
    "%%time \n",
    "\n",
    "#Next, we carry out the lemmatization pipeline\n",
    "\n",
    "sentenceDetector = SentenceDetector() \\\n",
    "    .setInputCols([\"document\"]) \\\n",
    "    .setOutputCol(\"sentence\")\n",
    "\n",
    "tokenizer = Tokenizer() \\\n",
    "    .setInputCols([\"sentence\"]) \\\n",
    "    .setOutputCol(\"token\")\n",
    "\n",
    "lemmatizer = LemmatizerModel.pretrained() \\\n",
    "    .setInputCols([\"token\"]) \\\n",
    "    .setOutputCol(\"lemma\")\n",
    "\n",
    "stopWords = StopWordsCleaner() \\\n",
    "    .setInputCols([\"lemma\"]) \\\n",
    "    .setOutputCol(\"cleanlemma\")\n",
    "\n",
    "normalizer = Normalizer() \\\n",
    "    .setInputCols([\"cleanlemma\"]) \\\n",
    "    .setOutputCol(\"normalizedlemma\") \\\n",
    "    .setLowercase(True) \\\n",
    "    .setCleanupPatterns([\"\"\"[^\\w\\d\\s]\"\"\"])\n",
    "\n",
    "finisher = Finisher() \\\n",
    "     .setInputCols(['normalizedlemma'])\n",
    "\n",
    "pipeline = Pipeline() \\\n",
    "    .setStages([\n",
    "      sentenceDetector,\n",
    "      tokenizer,\n",
    "      lemmatizer,\n",
    "      stopWords,\n",
    "      normalizer,\n",
    "      finisher\n",
    "])\n",
    "\n",
    "#We apply pipeline and recover lemmas as string\n",
    "patents = pipeline.fit(patents).transform(patents)\n",
    "\n",
    "udf_back2str = F.udf(lambda x:' '.join(list(x)), StringType() )\n",
    "patents = (\n",
    "    patents.withColumn(\"lemmas\",udf_back2str(F.col(\"finished_normalizedlemma\")))\n",
    "    .drop(\"finished_normalizedlemma\")\n",
    ")\n",
    "\n",
    "#Show results of validation for n papers\n",
    "#patents.show(n=10, truncate=120, vertical=True)"
   ]
  },
  {
   "cell_type": "markdown",
   "id": "4f63e174",
   "metadata": {},
   "source": [
    "## 4. Save a table with `appln_id`, `rawtext` and `lemmas` to HDFS"
   ]
  },
  {
   "cell_type": "code",
   "execution_count": 6,
   "id": "b4c5b911",
   "metadata": {},
   "outputs": [
    {
     "name": "stderr",
     "output_type": "stream",
     "text": [
      "22/06/09 00:42:42 ERROR scheduler.TaskSchedulerImpl: Lost executor 7 on node37.cluster.tsc.uc3m.es: Remote RPC client disassociated. Likely due to containers exceeding thresholds, or network issues. Check driver logs for WARN messages.\n",
      "22/06/09 00:42:42 WARN scheduler.TaskSetManager: Lost task 28.0 in stage 15.0 (TID 40941) (node37.cluster.tsc.uc3m.es executor 7): ExecutorLostFailure (executor 7 exited caused by one of the running tasks) Reason: Remote RPC client disassociated. Likely due to containers exceeding thresholds, or network issues. Check driver logs for WARN messages.\n",
      "22/06/09 00:42:42 WARN scheduler.TaskSetManager: Lost task 5.0 in stage 15.0 (TID 40934) (node37.cluster.tsc.uc3m.es executor 7): ExecutorLostFailure (executor 7 exited caused by one of the running tasks) Reason: Remote RPC client disassociated. Likely due to containers exceeding thresholds, or network issues. Check driver logs for WARN messages.\n",
      "22/06/09 00:42:42 WARN scheduler.TaskSetManager: Lost task 67.0 in stage 15.0 (TID 40955) (node37.cluster.tsc.uc3m.es executor 7): ExecutorLostFailure (executor 7 exited caused by one of the running tasks) Reason: Remote RPC client disassociated. Likely due to containers exceeding thresholds, or network issues. Check driver logs for WARN messages.\n",
      "22/06/09 00:42:42 WARN scheduler.TaskSetManager: Lost task 33.0 in stage 15.0 (TID 40948) (node37.cluster.tsc.uc3m.es executor 7): ExecutorLostFailure (executor 7 exited caused by one of the running tasks) Reason: Remote RPC client disassociated. Likely due to containers exceeding thresholds, or network issues. Check driver logs for WARN messages.\n",
      "22/06/09 13:20:48 ERROR scheduler.TaskSchedulerImpl: Lost executor 0 on node63.cluster.tsc.uc3m.es: Remote RPC client disassociated. Likely due to containers exceeding thresholds, or network issues. Check driver logs for WARN messages.\n",
      "22/06/09 13:20:48 WARN scheduler.TaskSetManager: Lost task 10.0 in stage 16.0 (TID 41347) (node63.cluster.tsc.uc3m.es executor 0): ExecutorLostFailure (executor 0 exited caused by one of the running tasks) Reason: Remote RPC client disassociated. Likely due to containers exceeding thresholds, or network issues. Check driver logs for WARN messages.\n",
      "22/06/09 13:20:48 WARN scheduler.TaskSetManager: Lost task 30.0 in stage 16.0 (TID 41367) (node63.cluster.tsc.uc3m.es executor 0): ExecutorLostFailure (executor 0 exited caused by one of the running tasks) Reason: Remote RPC client disassociated. Likely due to containers exceeding thresholds, or network issues. Check driver logs for WARN messages.\n",
      "22/06/09 13:20:48 WARN scheduler.TaskSetManager: Lost task 0.0 in stage 16.0 (TID 41337) (node63.cluster.tsc.uc3m.es executor 0): ExecutorLostFailure (executor 0 exited caused by one of the running tasks) Reason: Remote RPC client disassociated. Likely due to containers exceeding thresholds, or network issues. Check driver logs for WARN messages.\n",
      "22/06/09 13:20:48 WARN scheduler.TaskSetManager: Lost task 20.0 in stage 16.0 (TID 41357) (node63.cluster.tsc.uc3m.es executor 0): ExecutorLostFailure (executor 0 exited caused by one of the running tasks) Reason: Remote RPC client disassociated. Likely due to containers exceeding thresholds, or network issues. Check driver logs for WARN messages.\n",
      "22/06/09 13:21:46 ERROR scheduler.TaskSchedulerImpl: Lost executor 10 on node01.cluster.tsc.uc3m.es: Remote RPC client disassociated. Likely due to containers exceeding thresholds, or network issues. Check driver logs for WARN messages.\n",
      "22/06/09 13:21:46 WARN scheduler.TaskSetManager: Lost task 19.0 in stage 16.0 (TID 41356) (node01.cluster.tsc.uc3m.es executor 10): ExecutorLostFailure (executor 10 exited caused by one of the running tasks) Reason: Remote RPC client disassociated. Likely due to containers exceeding thresholds, or network issues. Check driver logs for WARN messages.\n",
      "22/06/09 13:21:46 WARN scheduler.TaskSetManager: Lost task 39.0 in stage 16.0 (TID 41376) (node01.cluster.tsc.uc3m.es executor 10): ExecutorLostFailure (executor 10 exited caused by one of the running tasks) Reason: Remote RPC client disassociated. Likely due to containers exceeding thresholds, or network issues. Check driver logs for WARN messages.\n",
      "22/06/09 13:21:46 WARN scheduler.TaskSetManager: Lost task 9.0 in stage 16.0 (TID 41346) (node01.cluster.tsc.uc3m.es executor 10): ExecutorLostFailure (executor 10 exited caused by one of the running tasks) Reason: Remote RPC client disassociated. Likely due to containers exceeding thresholds, or network issues. Check driver logs for WARN messages.\n",
      "22/06/09 13:21:46 WARN scheduler.TaskSetManager: Lost task 29.0 in stage 16.0 (TID 41366) (node01.cluster.tsc.uc3m.es executor 10): ExecutorLostFailure (executor 10 exited caused by one of the running tasks) Reason: Remote RPC client disassociated. Likely due to containers exceeding thresholds, or network issues. Check driver logs for WARN messages.\n",
      "22/06/09 13:22:52 ERROR scheduler.TaskSchedulerImpl: Lost executor 16 on node67.cluster.tsc.uc3m.es: Remote RPC client disassociated. Likely due to containers exceeding thresholds, or network issues. Check driver logs for WARN messages.\n",
      "22/06/09 13:22:52 WARN scheduler.TaskSetManager: Lost task 16.0 in stage 16.0 (TID 41353) (node67.cluster.tsc.uc3m.es executor 16): ExecutorLostFailure (executor 16 exited caused by one of the running tasks) Reason: Remote RPC client disassociated. Likely due to containers exceeding thresholds, or network issues. Check driver logs for WARN messages.\n",
      "22/06/09 13:22:52 WARN scheduler.TaskSetManager: Lost task 6.0 in stage 16.0 (TID 41343) (node67.cluster.tsc.uc3m.es executor 16): ExecutorLostFailure (executor 16 exited caused by one of the running tasks) Reason: Remote RPC client disassociated. Likely due to containers exceeding thresholds, or network issues. Check driver logs for WARN messages.\n",
      "22/06/09 13:22:52 WARN scheduler.TaskSetManager: Lost task 36.0 in stage 16.0 (TID 41373) (node67.cluster.tsc.uc3m.es executor 16): ExecutorLostFailure (executor 16 exited caused by one of the running tasks) Reason: Remote RPC client disassociated. Likely due to containers exceeding thresholds, or network issues. Check driver logs for WARN messages.\n",
      "22/06/09 13:22:52 WARN scheduler.TaskSetManager: Lost task 26.0 in stage 16.0 (TID 41363) (node67.cluster.tsc.uc3m.es executor 16): ExecutorLostFailure (executor 16 exited caused by one of the running tasks) Reason: Remote RPC client disassociated. Likely due to containers exceeding thresholds, or network issues. Check driver logs for WARN messages.\n",
      "22/06/09 13:24:53 ERROR scheduler.TaskSchedulerImpl: Lost executor 15 on node38.cluster.tsc.uc3m.es: Remote RPC client disassociated. Likely due to containers exceeding thresholds, or network issues. Check driver logs for WARN messages.\n",
      "22/06/09 13:24:53 WARN scheduler.TaskSetManager: Lost task 40.0 in stage 16.0 (TID 41377) (node38.cluster.tsc.uc3m.es executor 15): ExecutorLostFailure (executor 15 exited caused by one of the running tasks) Reason: Remote RPC client disassociated. Likely due to containers exceeding thresholds, or network issues. Check driver logs for WARN messages.\n",
      "22/06/09 13:24:53 WARN scheduler.TaskSetManager: Lost task 43.0 in stage 16.0 (TID 41380) (node38.cluster.tsc.uc3m.es executor 15): ExecutorLostFailure (executor 15 exited caused by one of the running tasks) Reason: Remote RPC client disassociated. Likely due to containers exceeding thresholds, or network issues. Check driver logs for WARN messages.\n",
      "22/06/09 13:24:53 WARN scheduler.TaskSetManager: Lost task 42.0 in stage 16.0 (TID 41379) (node38.cluster.tsc.uc3m.es executor 15): ExecutorLostFailure (executor 15 exited caused by one of the running tasks) Reason: Remote RPC client disassociated. Likely due to containers exceeding thresholds, or network issues. Check driver logs for WARN messages.\n",
      "22/06/09 13:24:53 WARN scheduler.TaskSetManager: Lost task 41.0 in stage 16.0 (TID 41378) (node38.cluster.tsc.uc3m.es executor 15): ExecutorLostFailure (executor 15 exited caused by one of the running tasks) Reason: Remote RPC client disassociated. Likely due to containers exceeding thresholds, or network issues. Check driver logs for WARN messages.\n",
      "22/06/09 13:25:29 ERROR scheduler.TaskSchedulerImpl: Lost executor 4 on node32.cluster.tsc.uc3m.es: Remote RPC client disassociated. Likely due to containers exceeding thresholds, or network issues. Check driver logs for WARN messages.\n",
      "22/06/09 13:25:29 WARN scheduler.TaskSetManager: Lost task 57.0 in stage 16.0 (TID 41398) (node32.cluster.tsc.uc3m.es executor 4): ExecutorLostFailure (executor 4 exited caused by one of the running tasks) Reason: Remote RPC client disassociated. Likely due to containers exceeding thresholds, or network issues. Check driver logs for WARN messages.\n",
      "22/06/09 13:25:29 WARN scheduler.TaskSetManager: Lost task 59.0 in stage 16.0 (TID 41400) (node32.cluster.tsc.uc3m.es executor 4): ExecutorLostFailure (executor 4 exited caused by one of the running tasks) Reason: Remote RPC client disassociated. Likely due to containers exceeding thresholds, or network issues. Check driver logs for WARN messages.\n",
      "22/06/09 13:25:29 WARN scheduler.TaskSetManager: Lost task 56.0 in stage 16.0 (TID 41397) (node32.cluster.tsc.uc3m.es executor 4): ExecutorLostFailure (executor 4 exited caused by one of the running tasks) Reason: Remote RPC client disassociated. Likely due to containers exceeding thresholds, or network issues. Check driver logs for WARN messages.\n",
      "22/06/09 13:25:29 WARN scheduler.TaskSetManager: Lost task 58.0 in stage 16.0 (TID 41399) (node32.cluster.tsc.uc3m.es executor 4): ExecutorLostFailure (executor 4 exited caused by one of the running tasks) Reason: Remote RPC client disassociated. Likely due to containers exceeding thresholds, or network issues. Check driver logs for WARN messages.\n",
      "22/06/09 13:39:11 ERROR scheduler.TaskSchedulerImpl: Lost executor 8 on node12.cluster.tsc.uc3m.es: Remote RPC client disassociated. Likely due to containers exceeding thresholds, or network issues. Check driver logs for WARN messages.\n",
      "22/06/09 13:39:11 WARN scheduler.TaskSetManager: Lost task 125.0 in stage 16.0 (TID 41482) (node12.cluster.tsc.uc3m.es executor 8): ExecutorLostFailure (executor 8 exited caused by one of the running tasks) Reason: Remote RPC client disassociated. Likely due to containers exceeding thresholds, or network issues. Check driver logs for WARN messages.\n",
      "22/06/09 13:39:11 WARN scheduler.TaskSetManager: Lost task 127.0 in stage 16.0 (TID 41484) (node12.cluster.tsc.uc3m.es executor 8): ExecutorLostFailure (executor 8 exited caused by one of the running tasks) Reason: Remote RPC client disassociated. Likely due to containers exceeding thresholds, or network issues. Check driver logs for WARN messages.\n",
      "22/06/09 13:39:11 WARN scheduler.TaskSetManager: Lost task 126.0 in stage 16.0 (TID 41483) (node12.cluster.tsc.uc3m.es executor 8): ExecutorLostFailure (executor 8 exited caused by one of the running tasks) Reason: Remote RPC client disassociated. Likely due to containers exceeding thresholds, or network issues. Check driver logs for WARN messages.\n",
      "22/06/09 13:39:11 WARN scheduler.TaskSetManager: Lost task 120.0 in stage 16.0 (TID 41477) (node12.cluster.tsc.uc3m.es executor 8): ExecutorLostFailure (executor 8 exited caused by one of the running tasks) Reason: Remote RPC client disassociated. Likely due to containers exceeding thresholds, or network issues. Check driver logs for WARN messages.\n",
      "22/06/09 14:12:14 ERROR scheduler.TaskSchedulerImpl: Lost executor 3 on node92.cluster.tsc.uc3m.es: Remote RPC client disassociated. Likely due to containers exceeding thresholds, or network issues. Check driver logs for WARN messages.\n",
      "22/06/09 14:12:14 WARN scheduler.TaskSetManager: Lost task 381.0 in stage 16.0 (TID 41742) (node92.cluster.tsc.uc3m.es executor 3): ExecutorLostFailure (executor 3 exited caused by one of the running tasks) Reason: Remote RPC client disassociated. Likely due to containers exceeding thresholds, or network issues. Check driver logs for WARN messages.\n",
      "22/06/09 14:12:14 WARN scheduler.TaskSetManager: Lost task 380.0 in stage 16.0 (TID 41741) (node92.cluster.tsc.uc3m.es executor 3): ExecutorLostFailure (executor 3 exited caused by one of the running tasks) Reason: Remote RPC client disassociated. Likely due to containers exceeding thresholds, or network issues. Check driver logs for WARN messages.\n",
      "22/06/09 14:12:14 WARN scheduler.TaskSetManager: Lost task 383.0 in stage 16.0 (TID 41744) (node92.cluster.tsc.uc3m.es executor 3): ExecutorLostFailure (executor 3 exited caused by one of the running tasks) Reason: Remote RPC client disassociated. Likely due to containers exceeding thresholds, or network issues. Check driver logs for WARN messages.\n",
      "22/06/09 14:12:14 WARN scheduler.TaskSetManager: Lost task 382.0 in stage 16.0 (TID 41743) (node92.cluster.tsc.uc3m.es executor 3): ExecutorLostFailure (executor 3 exited caused by one of the running tasks) Reason: Remote RPC client disassociated. Likely due to containers exceeding thresholds, or network issues. Check driver logs for WARN messages.\n",
      "22/06/09 14:56:01 ERROR scheduler.TaskSchedulerImpl: Lost executor 1 on node74.cluster.tsc.uc3m.es: Remote RPC client disassociated. Likely due to containers exceeding thresholds, or network issues. Check driver logs for WARN messages.\n",
      "22/06/09 14:56:01 WARN scheduler.TaskSetManager: Lost task 617.0 in stage 16.0 (TID 41982) (node74.cluster.tsc.uc3m.es executor 1): ExecutorLostFailure (executor 1 exited caused by one of the running tasks) Reason: Remote RPC client disassociated. Likely due to containers exceeding thresholds, or network issues. Check driver logs for WARN messages.\n",
      "22/06/09 14:56:01 WARN scheduler.TaskSetManager: Lost task 619.0 in stage 16.0 (TID 41984) (node74.cluster.tsc.uc3m.es executor 1): ExecutorLostFailure (executor 1 exited caused by one of the running tasks) Reason: Remote RPC client disassociated. Likely due to containers exceeding thresholds, or network issues. Check driver logs for WARN messages.\n",
      "22/06/09 14:56:01 WARN scheduler.TaskSetManager: Lost task 618.0 in stage 16.0 (TID 41983) (node74.cluster.tsc.uc3m.es executor 1): ExecutorLostFailure (executor 1 exited caused by one of the running tasks) Reason: Remote RPC client disassociated. Likely due to containers exceeding thresholds, or network issues. Check driver logs for WARN messages.\n",
      "22/06/09 14:56:01 WARN scheduler.TaskSetManager: Lost task 620.0 in stage 16.0 (TID 41985) (node74.cluster.tsc.uc3m.es executor 1): ExecutorLostFailure (executor 1 exited caused by one of the running tasks) Reason: Remote RPC client disassociated. Likely due to containers exceeding thresholds, or network issues. Check driver logs for WARN messages.\n",
      "                                                                                \r"
     ]
    },
    {
     "name": "stdout",
     "output_type": "stream",
     "text": [
      "CPU times: user 6.52 s, sys: 2.48 s, total: 9 s\n",
      "Wall time: 15h 11min 27s\n"
     ]
    },
    {
     "name": "stderr",
     "output_type": "stream",
     "text": [
      "I0609 17:47:23.622265 19277 detector.cpp:152] Detected a new leader: (id='7863')\n",
      "I0609 17:47:23.622398 19277 group.cpp:700] Trying to get '/mesos/json.info_0000007863' in ZooKeeper\n",
      "I0609 17:47:23.623145 19277 zookeeper.cpp:262] A new leading master (UPID=master@10.0.12.77:5050) is detected\n",
      "I0609 17:47:23.623587 19312 sched.cpp:345] New master detected at master@10.0.12.77:5050\n",
      "I0609 17:47:23.623729 19312 sched.cpp:410] Authenticating with master master@10.0.12.77:5050\n",
      "I0609 17:47:23.623739 19312 sched.cpp:417] Using default CRAM-MD5 authenticatee\n",
      "I0609 17:47:23.623869 19292 authenticatee.cpp:121] Creating new client SASL connection\n",
      "W0609 17:47:30.178761 19325 sched.cpp:455] Authentication timed out\n",
      "I0609 17:47:30.178848 19312 sched.cpp:488] Failed to authenticate with master master@10.0.12.77:5050: Authentication discarded\n",
      "I0609 17:47:30.178876 19312 sched.cpp:410] Authenticating with master master@10.0.12.77:5050\n",
      "I0609 17:47:30.178884 19312 sched.cpp:417] Using default CRAM-MD5 authenticatee\n",
      "I0609 17:47:30.179003 19275 authenticatee.cpp:121] Creating new client SASL connection\n",
      "I0609 17:47:31.625216 19267 detector.cpp:152] Detected a new leader: (id='7864')\n",
      "I0609 17:47:31.625304 19286 group.cpp:700] Trying to get '/mesos/json.info_0000007864' in ZooKeeper\n",
      "I0609 17:47:31.626461 19314 zookeeper.cpp:262] A new leading master (UPID=master@10.0.12.76:5050) is detected\n",
      "I0609 17:47:31.626528 19314 sched.cpp:345] New master detected at master@10.0.12.76:5050\n",
      "I0609 17:47:31.626808 19314 sched.cpp:488] Failed to authenticate with master master@10.0.12.76:5050: master changed\n",
      "I0609 17:47:31.626817 19314 sched.cpp:410] Authenticating with master master@10.0.12.76:5050\n",
      "I0609 17:47:31.626819 19314 sched.cpp:417] Using default CRAM-MD5 authenticatee\n",
      "I0609 17:47:31.626894 19276 authenticatee.cpp:121] Creating new client SASL connection\n",
      "I0609 17:47:33.636065 19286 detector.cpp:152] Detected a new leader: (id='7865')\n",
      "I0609 17:47:33.636478 19316 group.cpp:700] Trying to get '/mesos/json.info_0000007865' in ZooKeeper\n",
      "I0609 17:47:33.638044 19316 zookeeper.cpp:262] A new leading master (UPID=master@10.0.12.75:5050) is detected\n",
      "I0609 17:47:33.638136 19314 sched.cpp:345] New master detected at master@10.0.12.75:5050\n",
      "I0609 17:47:33.638417 19314 sched.cpp:488] Failed to authenticate with master master@10.0.12.75:5050: master changed\n",
      "I0609 17:47:33.638427 19314 sched.cpp:410] Authenticating with master master@10.0.12.75:5050\n",
      "I0609 17:47:33.638430 19314 sched.cpp:417] Using default CRAM-MD5 authenticatee\n",
      "I0609 17:47:33.638535 19274 authenticatee.cpp:121] Creating new client SASL connection\n",
      "W0609 17:47:40.116771 19325 sched.cpp:455] Authentication timed out\n",
      "I0609 17:47:40.116906 19315 sched.cpp:488] Failed to authenticate with master master@10.0.12.75:5050: Authentication discarded\n",
      "I0609 17:47:40.116931 19315 sched.cpp:410] Authenticating with master master@10.0.12.75:5050\n",
      "I0609 17:47:40.116938 19315 sched.cpp:417] Using default CRAM-MD5 authenticatee\n",
      "I0609 17:47:40.117007 19322 authenticatee.cpp:121] Creating new client SASL connection\n",
      "I0609 17:47:43.626513 19269 detector.cpp:152] Detected a new leader: (id='7866')\n",
      "I0609 17:47:43.626682 19324 group.cpp:700] Trying to get '/mesos/json.info_0000007866' in ZooKeeper\n",
      "I0609 17:47:43.628175 19324 zookeeper.cpp:262] A new leading master (UPID=master@10.0.12.18:5050) is detected\n",
      "I0609 17:47:43.628295 19266 sched.cpp:345] New master detected at master@10.0.12.18:5050\n",
      "I0609 17:47:43.628583 19287 sched.cpp:488] Failed to authenticate with master master@10.0.12.18:5050: master changed\n",
      "I0609 17:47:43.628597 19287 sched.cpp:410] Authenticating with master master@10.0.12.18:5050\n",
      "I0609 17:47:43.628599 19287 sched.cpp:417] Using default CRAM-MD5 authenticatee\n",
      "I0609 17:47:43.628640 19276 authenticatee.cpp:121] Creating new client SASL connection\n",
      "I0609 17:47:45.629982 19286 detector.cpp:152] Detected a new leader: (id='7867')\n",
      "I0609 17:47:45.630038 19286 group.cpp:700] Trying to get '/mesos/json.info_0000007867' in ZooKeeper\n",
      "I0609 17:47:45.632036 19286 zookeeper.cpp:262] A new leading master (UPID=master@10.0.12.78:5050) is detected\n",
      "I0609 17:47:45.632126 19286 sched.cpp:345] New master detected at master@10.0.12.78:5050\n",
      "I0609 17:47:45.632514 19276 sched.cpp:488] Failed to authenticate with master master@10.0.12.78:5050: master changed\n",
      "I0609 17:47:45.632534 19276 sched.cpp:410] Authenticating with master master@10.0.12.78:5050\n",
      "I0609 17:47:45.632536 19276 sched.cpp:417] Using default CRAM-MD5 authenticatee\n",
      "I0609 17:47:45.632647 19285 authenticatee.cpp:121] Creating new client SASL connection\n",
      "W0609 17:48:24.409972 19325 sched.cpp:455] Authentication timed out\n",
      "I0609 17:48:24.410049 19275 sched.cpp:488] Failed to authenticate with master master@10.0.12.78:5050: Authentication discarded\n",
      "I0609 17:48:24.410075 19275 sched.cpp:410] Authenticating with master master@10.0.12.78:5050\n",
      "I0609 17:48:24.410082 19275 sched.cpp:417] Using default CRAM-MD5 authenticatee\n",
      "I0609 17:48:24.410189 19274 authenticatee.cpp:121] Creating new client SASL connection\n",
      "W0609 17:48:24.411505 19325 process.cpp:846] Failed to recv on socket 564 to peer '192.168.151.139:58472': Decoder error\n",
      "I0609 17:48:24.412560 19286 authenticatee.cpp:213] Received SASL authentication mechanisms: CRAM-MD5\n",
      "I0609 17:48:24.412607 19286 authenticatee.cpp:239] Attempting to authenticate with mechanism 'CRAM-MD5'\n",
      "I0609 17:48:24.413393 19283 authenticatee.cpp:259] Received SASL authentication step\n",
      "I0609 17:48:24.414022 19285 authenticatee.cpp:299] Authentication success\n",
      "I0609 17:48:24.414116 19273 sched.cpp:522] Successfully authenticated with master master@10.0.12.78:5050\n",
      "I0609 17:48:24.414958 19271 sched.cpp:753] Framework registered with ab541d6b-4acd-4121-8a9b-a63215b3fe1e-0347\n"
     ]
    }
   ],
   "source": [
    "%%time\n",
    "\n",
    "#Save calculated lemmas to HDFS\n",
    "dir_parquet = Path(\"/export/ml4ds/IntelComp/Datalake/PATSTAT/2021_Autumn\")\n",
    "\n",
    "patents.coalesce(1000).write.parquet(\n",
    "    dir_parquet.joinpath(f\"patstat_appln_NLP.parquet\").as_posix(),\n",
    "    mode=\"overwrite\",\n",
    ")"
   ]
  },
  {
   "cell_type": "markdown",
   "id": "d1e9416b",
   "metadata": {},
   "source": [
    "## 5. Optional: Check that the generated table looks OK"
   ]
  },
  {
   "cell_type": "code",
   "execution_count": 7,
   "id": "bf2a8e50",
   "metadata": {},
   "outputs": [
    {
     "name": "stderr",
     "output_type": "stream",
     "text": [
      "22/06/09 18:54:58 WARN metastore.ObjectStore: Failed to get database parquet, returning NoSuchObjectException\n",
      "                                                                                \r"
     ]
    },
    {
     "name": "stdout",
     "output_type": "stream",
     "text": [
      "Number of lemmatized patents: 78594158\n",
      "-RECORD 0----------------------------------------------------------------------------------------------------------------------------\n",
      " appln_id | 25647584                                                                                                                 \n",
      " rawtext  | WATER-SOLUBLE AZOE COMPOUND, ITS PRODUCTION AND USE THEREOF AS DYE                                                       \n",
      " lemmas   | watersoluble azoe compound production use thereof dye                                                                    \n",
      "-RECORD 1----------------------------------------------------------------------------------------------------------------------------\n",
      " appln_id | 473941040                                                                                                                \n",
      " rawtext  | Display screen with a graphical user interface                                                                           \n",
      " lemmas   | display screen graphical user interface                                                                                  \n",
      "-RECORD 2----------------------------------------------------------------------------------------------------------------------------\n",
      " appln_id | 21199796                                                                                                                 \n",
      " rawtext  | UREA SYNTHESIS PROCESS. 1,261,170. Urea synthesis. I. MAVROVIC. 30 April, 1969 [16 May, 1968], No. 7391/71. Divided o... \n",
      " lemmas   | urea synthesis process 1261170 urea synthesis mavrovic 30 april 1969 16 may 1968 739171 divided 1259976 heading c2c r... \n",
      "-RECORD 3----------------------------------------------------------------------------------------------------------------------------\n",
      " appln_id | 451198754                                                                                                                \n",
      " rawtext  | A MAGNETIC RESONANCE POSITIONING MARKER FOR FOCUSED ULTRASOUND SURGERY. The present invention relates to a magnetic r... \n",
      " lemmas   | magnetic resonance positioning marker focused ultrasound surgery present invention relate magnetic resonance image ma... \n",
      "-RECORD 4----------------------------------------------------------------------------------------------------------------------------\n",
      " appln_id | 36393136                                                                                                                 \n",
      " rawtext  | OPTICAL WAVEGUIDE INPUT/OUTPUT DEVICE. PROBLEM TO BE SOLVED: To provide the optical waveguide input/output device of ... \n",
      " lemmas   | optical waveguide inputoutput device problem solved provide optical waveguide inputoutput device high input output li... \n",
      "-RECORD 5----------------------------------------------------------------------------------------------------------------------------\n",
      " appln_id | 47165321                                                                                                                 \n",
      " rawtext  | Lifting method of building construction from top to bottom. PCT No. PCT/CN97/00086 Sec. 371 Date Jun. 5, 1998 Sec. 10... \n",
      " lemmas   | lifting method build construction top bottom pct pctcn9700086 sec 371 date jun 5 1998 sec 102 e date jun 5 1998 pct f... \n",
      "-RECORD 6----------------------------------------------------------------------------------------------------------------------------\n",
      " appln_id | 405677381                                                                                                                \n",
      " rawtext  | Compositions and methods for diagnosing and treating an inflammation. A method of reducing an inflammatory response i... \n",
      " lemmas   | compositions method diagnose treat inflammation method reduce inflammatory response subject provide method comprise p... \n",
      "-RECORD 7----------------------------------------------------------------------------------------------------------------------------\n",
      " appln_id | 4680912                                                                                                                  \n",
      " rawtext  | THERMALLY DURABLE, LOW H2S THREE WAY CATALYSTS. An improved platinum three-way catalyst composition comprising (a) a ... \n",
      " lemmas   | thermally durable low h2s three way catalysts improve platinum threeway catalyst composition comprise high temperatur... \n",
      "-RECORD 8----------------------------------------------------------------------------------------------------------------------------\n",
      " appln_id | 42615741                                                                                                                 \n",
      " rawtext  | INTEGRATED METHOD FOR PROSPECTING MINERAL DEPOSITS IN A LARGE SPECTRAL RANGE INCLUDING SELF-RADIATION OF SAID MINERAL... \n",
      " lemmas   | integrated method prospecting mineral deposits large spectral range including selfradiation said mineral deposits inv... \n",
      "-RECORD 9----------------------------------------------------------------------------------------------------------------------------\n",
      " appln_id | 43722168                                                                                                                 \n",
      " rawtext  | A METHOD FOR FORMING NEEDLES-LIKE CANDLE SURFACE STRUCTURE                                                               \n",
      " lemmas   | method forming needleslike candle surface structure                                                                      \n",
      "only showing top 10 rows\n",
      "\n",
      "CPU times: user 19.2 ms, sys: 1.33 ms, total: 20.5 ms\n",
      "Wall time: 8.92 s\n"
     ]
    }
   ],
   "source": [
    "%%time\n",
    "\n",
    "#Test that the saved table is correct\n",
    "patents = spark.sql(\"SELECT * FROM parquet.`/export/ml4ds/IntelComp/Datalake/PATSTAT/2021_Autumn/patstat_appln_NLP.parquet`\")\n",
    "print('Number of lemmatized patents:', patents.count())\n",
    "patents.show(n=10, truncate=120, vertical=True)"
   ]
  },
  {
   "cell_type": "code",
   "execution_count": null,
   "id": "3667f4f2",
   "metadata": {},
   "outputs": [],
   "source": []
  }
 ],
 "metadata": {
  "kernelspec": {
   "display_name": "Python 3 (ipykernel)",
   "language": "python",
   "name": "python3"
  },
  "language_info": {
   "codemirror_mode": {
    "name": "ipython",
    "version": 3
   },
   "file_extension": ".py",
   "mimetype": "text/x-python",
   "name": "python",
   "nbconvert_exporter": "python",
   "pygments_lexer": "ipython3",
   "version": "3.8.13"
  }
 },
 "nbformat": 4,
 "nbformat_minor": 5
}
