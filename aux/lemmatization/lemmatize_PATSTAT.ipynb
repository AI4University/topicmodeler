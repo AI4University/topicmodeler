{
 "cells": [
  {
   "cell_type": "markdown",
   "id": "319e2032",
   "metadata": {},
   "source": [
    "# Lemmatize PATSTATusing Spark NLP"
   ]
  },
  {
   "cell_type": "code",
   "execution_count": 1,
   "id": "58ccc6a4",
   "metadata": {},
   "outputs": [],
   "source": [
    "from sparknlp.base import *\n",
    "from sparknlp.annotator import *\n",
    "import sparknlp\n",
    "from pyspark.ml import Pipeline\n",
    "import pyspark.sql.functions as F\n",
    "from pyspark.sql.types import StringType\n",
    "from pathlib import Path"
   ]
  },
  {
   "cell_type": "markdown",
   "id": "007ee1f5",
   "metadata": {},
   "source": [
    "## 1. Read papers and concatenate the `title` and `paperAbstract` fields"
   ]
  },
  {
   "cell_type": "code",
   "execution_count": 2,
   "id": "c8f6fcdf",
   "metadata": {},
   "outputs": [
    {
     "name": "stderr",
     "output_type": "stream",
     "text": [
      "22/05/12 13:17:14 WARN conf.HiveConf: HiveConf of name hive.stats.jdbc.timeout does not exist\n",
      "22/05/12 13:17:14 WARN conf.HiveConf: HiveConf of name hive.stats.retries.wait does not exist\n",
      "22/05/12 13:17:17 WARN metastore.ObjectStore: Version information not found in metastore. hive.metastore.schema.verification is not enabled so recording the schema version 2.3.0\n",
      "22/05/12 13:17:17 WARN metastore.ObjectStore: setMetaStoreSchemaVersion called but recording version is disabled: version = 2.3.0, comment = Set by MetaStore jarenas@192.168.148.225\n",
      "22/05/12 13:17:17 WARN metastore.ObjectStore: Failed to get database global_temp, returning NoSuchObjectException\n",
      "22/05/12 13:17:17 WARN metastore.ObjectStore: Failed to get database parquet, returning NoSuchObjectException\n",
      "[Stage 3:>                                                          (0 + 1) / 1]\r"
     ]
    },
    {
     "name": "stdout",
     "output_type": "stream",
     "text": [
      "Number of patents before language filtering: 114690034\n",
      "CPU times: user 70.6 ms, sys: 17.8 ms, total: 88.4 ms\n",
      "Wall time: 45.2 s\n"
     ]
    },
    {
     "name": "stderr",
     "output_type": "stream",
     "text": [
      "\r",
      "                                                                                \r"
     ]
    }
   ],
   "source": [
    "%%time\n",
    "\n",
    "# Loading patents table text fields, and concatenating them for lemmatization\n",
    "patents = spark.sql(\"SELECT appln_id, appln_title, appln_abstract FROM parquet.`/export/ml4ds/IntelComp/Datalake/PATSTAT/2021_Autumn/patstat_appln.parquet`\")\n",
    "patents = patents.repartition(numPartitions=20000)\n",
    "##For development purposes only\n",
    "#patents = patents.sample(fraction=0.0001)\n",
    "\n",
    "#Concatenate text fields to lemmatize\n",
    "patents = (\n",
    "    patents.withColumn(\"rawtext\",F.concat_ws('. ', \"appln_title\", \"appln_abstract\"))\n",
    "    .drop(\"appln_title\")\n",
    "    .drop(\"appln_abstract\")\n",
    ")\n",
    "\n",
    "print('Number of patents before language filtering:', patents.count())"
   ]
  },
  {
   "cell_type": "markdown",
   "id": "a0ba78d8",
   "metadata": {},
   "source": [
    "## 2. Filter patents abstracts that are not in English Language"
   ]
  },
  {
   "cell_type": "code",
   "execution_count": 3,
   "id": "ba2ecc2f",
   "metadata": {},
   "outputs": [
    {
     "name": "stdout",
     "output_type": "stream",
     "text": [
      "ld_wiki_tatoeba_cnn_21 download started this may take some time.\n",
      "Approximate size to download 7.1 MB\n",
      "[ / ]ld_wiki_tatoeba_cnn_21 download started this may take some time.\n",
      "Approximate size to download 7.1 MB\n",
      "Download done! Loading the resource.\n",
      "[ — ]"
     ]
    },
    {
     "name": "stderr",
     "output_type": "stream",
     "text": [
      "\r",
      "[Stage 5:===========================================>              (9 + 0) / 12]\r"
     ]
    },
    {
     "name": "stdout",
     "output_type": "stream",
     "text": [
      "\r",
      "[ \\ ]"
     ]
    },
    {
     "name": "stderr",
     "output_type": "stream",
     "text": [
      "[Stage 6:======================================>                   (8 + 0) / 12]\r"
     ]
    },
    {
     "name": "stdout",
     "output_type": "stream",
     "text": [
      "\r",
      "[ | ]"
     ]
    },
    {
     "name": "stderr",
     "output_type": "stream",
     "text": [
      "\r",
      "[Stage 6:===============================================>         (10 + 2) / 12]\r",
      "\r",
      "                                                                                \r"
     ]
    },
    {
     "name": "stdout",
     "output_type": "stream",
     "text": [
      "\r",
      "[ / ]"
     ]
    },
    {
     "name": "stderr",
     "output_type": "stream",
     "text": [
      "2022-05-12 13:18:15.378688: I tensorflow/core/platform/cpu_feature_guard.cc:151] This TensorFlow binary is optimized with oneAPI Deep Neural Network Library (oneDNN) to use the following CPU instructions in performance-critical operations:  FMA\n",
      "To enable them in other operations, rebuild TensorFlow with the appropriate compiler flags.\n"
     ]
    },
    {
     "name": "stdout",
     "output_type": "stream",
     "text": [
      "[OK!]\n"
     ]
    },
    {
     "name": "stderr",
     "output_type": "stream",
     "text": [
      "[Stage 8:=================================================>(19988 + 12) / 20000]\r"
     ]
    },
    {
     "name": "stdout",
     "output_type": "stream",
     "text": [
      "Number of patents in English: 76348837\n",
      "CPU times: user 1.03 s, sys: 164 ms, total: 1.19 s\n",
      "Wall time: 1h 33min 23s\n"
     ]
    },
    {
     "name": "stderr",
     "output_type": "stream",
     "text": [
      "\r",
      "[Stage 9:>                                                          (0 + 1) / 1]\r",
      "\r",
      "                                                                                \r"
     ]
    }
   ],
   "source": [
    "%%time\n",
    "\n",
    "#Pipeline for language detection\n",
    "documentAssembler = DocumentAssembler() \\\n",
    "    .setInputCol(\"rawtext\") \\\n",
    "    .setOutputCol(\"document\")\n",
    "\n",
    "languageDetector = LanguageDetectorDL.pretrained() \\\n",
    "    .setInputCols(\"document\") \\\n",
    "    .setOutputCol(\"language\")\n",
    "\n",
    "pipeline = Pipeline() \\\n",
    "    .setStages([\n",
    "      documentAssembler,\n",
    "      languageDetector\n",
    "    ])\n",
    "\n",
    "#Apply language detection pipeline\n",
    "patents = pipeline.fit(patents).transform(patents)\n",
    "patents = (\n",
    "    patents.filter(F.col(\"language.result\")[0]==\"en\")\n",
    "    .drop(\"language\")\n",
    ")\n",
    "\n",
    "print('Number of patents in English:', patents.count())"
   ]
  },
  {
   "cell_type": "markdown",
   "id": "eb4d59da",
   "metadata": {},
   "source": [
    "## 3. Define and Run Lemmatization Pipeline\n",
    "\n",
    "   - We work on documents created in Subsection 2\n",
    "   - Sentence Detection and Tokenizer applied to detect tokens\n",
    "   - Lemmatization is carried out\n",
    "   - Stopwords are applied\n",
    "   - Punctuation symbols are removed\n",
    "   - Result is converted back from Spark NLP annotations to string format"
   ]
  },
  {
   "cell_type": "code",
   "execution_count": 4,
   "id": "eecf0f70",
   "metadata": {},
   "outputs": [
    {
     "name": "stdout",
     "output_type": "stream",
     "text": [
      "lemma_antbnc download started this may take some time.\n",
      "Approximate size to download 907.6 KB\n",
      "[ | ]lemma_antbnc download started this may take some time.\n",
      "Approximate size to download 907.6 KB\n",
      "Download done! Loading the resource.\n"
     ]
    },
    {
     "name": "stderr",
     "output_type": "stream",
     "text": [
      "\r",
      "[Stage 11:==============================================>         (10 + 0) / 12]\r"
     ]
    },
    {
     "name": "stdout",
     "output_type": "stream",
     "text": [
      "[ — ]"
     ]
    },
    {
     "name": "stderr",
     "output_type": "stream",
     "text": [
      "\r",
      "[Stage 11:===================================================>    (11 + 1) / 12]\r",
      "\r",
      "                                                                                \r"
     ]
    },
    {
     "name": "stdout",
     "output_type": "stream",
     "text": [
      "[OK!]\n",
      "CPU times: user 117 ms, sys: 13.2 ms, total: 130 ms\n",
      "Wall time: 9.17 s\n"
     ]
    }
   ],
   "source": [
    "%%time \n",
    "\n",
    "#Next, we carry out the lemmatization pipeline\n",
    "\n",
    "sentenceDetector = SentenceDetector() \\\n",
    "    .setInputCols([\"document\"]) \\\n",
    "    .setOutputCol(\"sentence\")\n",
    "\n",
    "tokenizer = Tokenizer() \\\n",
    "    .setInputCols([\"sentence\"]) \\\n",
    "    .setOutputCol(\"token\")\n",
    "\n",
    "lemmatizer = LemmatizerModel.pretrained() \\\n",
    "    .setInputCols([\"token\"]) \\\n",
    "    .setOutputCol(\"lemma\")\n",
    "\n",
    "stopWords = StopWordsCleaner() \\\n",
    "    .setInputCols([\"lemma\"]) \\\n",
    "    .setOutputCol(\"cleanlemma\")\n",
    "\n",
    "normalizer = Normalizer() \\\n",
    "    .setInputCols([\"cleanlemma\"]) \\\n",
    "    .setOutputCol(\"normalizedlemma\") \\\n",
    "    .setLowercase(True) \\\n",
    "    .setCleanupPatterns([\"\"\"[^\\w\\d\\s]\"\"\"])\n",
    "\n",
    "finisher = Finisher() \\\n",
    "     .setInputCols(['normalizedlemma'])\n",
    "\n",
    "pipeline = Pipeline() \\\n",
    "    .setStages([\n",
    "      sentenceDetector,\n",
    "      tokenizer,\n",
    "      lemmatizer,\n",
    "      stopWords,\n",
    "      normalizer,\n",
    "      finisher\n",
    "])\n",
    "\n",
    "#We apply pipeline and recover lemmas as string\n",
    "patents = pipeline.fit(patents).transform(patents)\n",
    "\n",
    "udf_back2str = F.udf(lambda x:' '.join(list(x)), StringType() )\n",
    "patents = (\n",
    "    patents.withColumn(\"lemmas\",udf_back2str(F.col(\"finished_normalizedlemma\")))\n",
    "    .drop(\"finished_normalizedlemma\")\n",
    ")\n",
    "\n",
    "#Show results of validation for n papers\n",
    "#patents.show(n=10, truncate=120, vertical=True)"
   ]
  },
  {
   "cell_type": "markdown",
   "id": "4f63e174",
   "metadata": {},
   "source": [
    "## 4. Save a table with `appln_id`, `rawtext` and `lemmas` to HDFS"
   ]
  },
  {
   "cell_type": "code",
   "execution_count": 5,
   "id": "b4c5b911",
   "metadata": {},
   "outputs": [
    {
     "name": "stderr",
     "output_type": "stream",
     "text": [
      "22/05/12 16:31:17 ERROR scheduler.TaskSchedulerImpl: Lost executor 22 on node25.cluster.tsc.uc3m.es: Remote RPC client disassociated. Likely due to containers exceeding thresholds, or network issues. Check driver logs for WARN messages.\n",
      "22/05/12 16:31:17 WARN scheduler.TaskSetManager: Lost task 59.0 in stage 13.0 (TID 41300) (node25.cluster.tsc.uc3m.es executor 22): ExecutorLostFailure (executor 22 exited caused by one of the running tasks) Reason: Remote RPC client disassociated. Likely due to containers exceeding thresholds, or network issues. Check driver logs for WARN messages.\n",
      "22/05/12 16:31:17 WARN scheduler.TaskSetManager: Lost task 209.0 in stage 13.0 (TID 41450) (node25.cluster.tsc.uc3m.es executor 22): ExecutorLostFailure (executor 22 exited caused by one of the running tasks) Reason: Remote RPC client disassociated. Likely due to containers exceeding thresholds, or network issues. Check driver logs for WARN messages.\n",
      "22/05/12 16:31:17 WARN scheduler.TaskSetManager: Lost task 239.0 in stage 13.0 (TID 41480) (node25.cluster.tsc.uc3m.es executor 22): ExecutorLostFailure (executor 22 exited caused by one of the running tasks) Reason: Remote RPC client disassociated. Likely due to containers exceeding thresholds, or network issues. Check driver logs for WARN messages.\n",
      "22/05/12 16:31:17 WARN scheduler.TaskSetManager: Lost task 149.0 in stage 13.0 (TID 41390) (node25.cluster.tsc.uc3m.es executor 22): ExecutorLostFailure (executor 22 exited caused by one of the running tasks) Reason: Remote RPC client disassociated. Likely due to containers exceeding thresholds, or network issues. Check driver logs for WARN messages.\n",
      "22/05/12 16:31:17 WARN scheduler.TaskSetManager: Lost task 179.0 in stage 13.0 (TID 41420) (node25.cluster.tsc.uc3m.es executor 22): ExecutorLostFailure (executor 22 exited caused by one of the running tasks) Reason: Remote RPC client disassociated. Likely due to containers exceeding thresholds, or network issues. Check driver logs for WARN messages.\n",
      "22/05/12 16:31:17 WARN scheduler.TaskSetManager: Lost task 89.0 in stage 13.0 (TID 41330) (node25.cluster.tsc.uc3m.es executor 22): ExecutorLostFailure (executor 22 exited caused by one of the running tasks) Reason: Remote RPC client disassociated. Likely due to containers exceeding thresholds, or network issues. Check driver logs for WARN messages.\n",
      "22/05/12 16:31:17 WARN scheduler.TaskSetManager: Lost task 29.0 in stage 13.0 (TID 41270) (node25.cluster.tsc.uc3m.es executor 22): ExecutorLostFailure (executor 22 exited caused by one of the running tasks) Reason: Remote RPC client disassociated. Likely due to containers exceeding thresholds, or network issues. Check driver logs for WARN messages.\n",
      "22/05/12 16:31:17 WARN scheduler.TaskSetManager: Lost task 119.0 in stage 13.0 (TID 41360) (node25.cluster.tsc.uc3m.es executor 22): ExecutorLostFailure (executor 22 exited caused by one of the running tasks) Reason: Remote RPC client disassociated. Likely due to containers exceeding thresholds, or network issues. Check driver logs for WARN messages.\n",
      "22/05/12 16:31:41 ERROR scheduler.TaskSchedulerImpl: Lost executor 21 on node94.cluster.tsc.uc3m.es: Remote RPC client disassociated. Likely due to containers exceeding thresholds, or network issues. Check driver logs for WARN messages.\n",
      "22/05/12 16:31:41 WARN scheduler.TaskSetManager: Lost task 274.0 in stage 13.0 (TID 41515) (node94.cluster.tsc.uc3m.es executor 21): ExecutorLostFailure (executor 21 exited caused by one of the running tasks) Reason: Remote RPC client disassociated. Likely due to containers exceeding thresholds, or network issues. Check driver logs for WARN messages.\n",
      "22/05/12 16:31:41 WARN scheduler.TaskSetManager: Lost task 301.0 in stage 13.0 (TID 41542) (node94.cluster.tsc.uc3m.es executor 21): ExecutorLostFailure (executor 21 exited caused by one of the running tasks) Reason: Remote RPC client disassociated. Likely due to containers exceeding thresholds, or network issues. Check driver logs for WARN messages.\n",
      "22/05/12 16:31:41 WARN scheduler.TaskSetManager: Lost task 280.0 in stage 13.0 (TID 41521) (node94.cluster.tsc.uc3m.es executor 21): ExecutorLostFailure (executor 21 exited caused by one of the running tasks) Reason: Remote RPC client disassociated. Likely due to containers exceeding thresholds, or network issues. Check driver logs for WARN messages.\n",
      "22/05/12 16:31:41 WARN scheduler.TaskSetManager: Lost task 260.0 in stage 13.0 (TID 41501) (node94.cluster.tsc.uc3m.es executor 21): ExecutorLostFailure (executor 21 exited caused by one of the running tasks) Reason: Remote RPC client disassociated. Likely due to containers exceeding thresholds, or network issues. Check driver logs for WARN messages.\n",
      "22/05/12 16:31:41 WARN scheduler.TaskSetManager: Lost task 305.0 in stage 13.0 (TID 41546) (node94.cluster.tsc.uc3m.es executor 21): ExecutorLostFailure (executor 21 exited caused by one of the running tasks) Reason: Remote RPC client disassociated. Likely due to containers exceeding thresholds, or network issues. Check driver logs for WARN messages.\n",
      "22/05/12 16:31:41 WARN scheduler.TaskSetManager: Lost task 281.0 in stage 13.0 (TID 41522) (node94.cluster.tsc.uc3m.es executor 21): ExecutorLostFailure (executor 21 exited caused by one of the running tasks) Reason: Remote RPC client disassociated. Likely due to containers exceeding thresholds, or network issues. Check driver logs for WARN messages.\n",
      "22/05/12 16:31:41 WARN scheduler.TaskSetManager: Lost task 317.0 in stage 13.0 (TID 41558) (node94.cluster.tsc.uc3m.es executor 21): ExecutorLostFailure (executor 21 exited caused by one of the running tasks) Reason: Remote RPC client disassociated. Likely due to containers exceeding thresholds, or network issues. Check driver logs for WARN messages.\n",
      "22/05/12 16:31:41 WARN scheduler.TaskSetManager: Lost task 263.0 in stage 13.0 (TID 41504) (node94.cluster.tsc.uc3m.es executor 21): ExecutorLostFailure (executor 21 exited caused by one of the running tasks) Reason: Remote RPC client disassociated. Likely due to containers exceeding thresholds, or network issues. Check driver logs for WARN messages.\n",
      "22/05/12 16:33:40 ERROR scheduler.TaskSchedulerImpl: Lost executor 26 on node89.cluster.tsc.uc3m.es: Remote RPC client disassociated. Likely due to containers exceeding thresholds, or network issues. Check driver logs for WARN messages.\n",
      "22/05/12 16:33:40 WARN scheduler.TaskSetManager: Lost task 337.0 in stage 13.0 (TID 41578) (node89.cluster.tsc.uc3m.es executor 26): ExecutorLostFailure (executor 26 exited caused by one of the running tasks) Reason: Remote RPC client disassociated. Likely due to containers exceeding thresholds, or network issues. Check driver logs for WARN messages.\n",
      "22/05/12 16:33:40 WARN scheduler.TaskSetManager: Lost task 310.0 in stage 13.0 (TID 41551) (node89.cluster.tsc.uc3m.es executor 26): ExecutorLostFailure (executor 26 exited caused by one of the running tasks) Reason: Remote RPC client disassociated. Likely due to containers exceeding thresholds, or network issues. Check driver logs for WARN messages.\n",
      "22/05/12 16:33:40 WARN scheduler.TaskSetManager: Lost task 322.0 in stage 13.0 (TID 41563) (node89.cluster.tsc.uc3m.es executor 26): ExecutorLostFailure (executor 26 exited caused by one of the running tasks) Reason: Remote RPC client disassociated. Likely due to containers exceeding thresholds, or network issues. Check driver logs for WARN messages.\n",
      "22/05/12 16:33:40 WARN scheduler.TaskSetManager: Lost task 331.0 in stage 13.0 (TID 41572) (node89.cluster.tsc.uc3m.es executor 26): ExecutorLostFailure (executor 26 exited caused by one of the running tasks) Reason: Remote RPC client disassociated. Likely due to containers exceeding thresholds, or network issues. Check driver logs for WARN messages.\n",
      "22/05/12 16:33:40 WARN scheduler.TaskSetManager: Lost task 307.0 in stage 13.0 (TID 41548) (node89.cluster.tsc.uc3m.es executor 26): ExecutorLostFailure (executor 26 exited caused by one of the running tasks) Reason: Remote RPC client disassociated. Likely due to containers exceeding thresholds, or network issues. Check driver logs for WARN messages.\n",
      "22/05/12 16:33:40 WARN scheduler.TaskSetManager: Lost task 306.0 in stage 13.0 (TID 41547) (node89.cluster.tsc.uc3m.es executor 26): ExecutorLostFailure (executor 26 exited caused by one of the running tasks) Reason: Remote RPC client disassociated. Likely due to containers exceeding thresholds, or network issues. Check driver logs for WARN messages.\n",
      "22/05/12 16:33:40 WARN scheduler.TaskSetManager: Lost task 332.0 in stage 13.0 (TID 41573) (node89.cluster.tsc.uc3m.es executor 26): ExecutorLostFailure (executor 26 exited caused by one of the running tasks) Reason: Remote RPC client disassociated. Likely due to containers exceeding thresholds, or network issues. Check driver logs for WARN messages.\n",
      "22/05/12 16:33:40 WARN scheduler.TaskSetManager: Lost task 335.0 in stage 13.0 (TID 41576) (node89.cluster.tsc.uc3m.es executor 26): ExecutorLostFailure (executor 26 exited caused by one of the running tasks) Reason: Remote RPC client disassociated. Likely due to containers exceeding thresholds, or network issues. Check driver logs for WARN messages.\n"
     ]
    },
    {
     "name": "stderr",
     "output_type": "stream",
     "text": [
      "                                                                                \r"
     ]
    },
    {
     "name": "stdout",
     "output_type": "stream",
     "text": [
      "CPU times: user 1.71 s, sys: 362 ms, total: 2.07 s\n",
      "Wall time: 2h 1min 47s\n"
     ]
    }
   ],
   "source": [
    "%%time\n",
    "\n",
    "#Save calculated lemmas to HDFS\n",
    "dir_parquet = Path(\"/export/ml4ds/IntelComp/Datalake/PATSTAT/2021_Autumn\")\n",
    "\n",
    "patents.coalesce(1000).write.parquet(\n",
    "    dir_parquet.joinpath(f\"patstat_appln_NLP.parquet\").as_posix(),\n",
    "    mode=\"overwrite\",\n",
    ")"
   ]
  },
  {
   "cell_type": "markdown",
   "id": "d1e9416b",
   "metadata": {},
   "source": [
    "## 5. Optional: Check that the generated table looks OK"
   ]
  },
  {
   "cell_type": "code",
   "execution_count": 12,
   "id": "bf2a8e50",
   "metadata": {},
   "outputs": [
    {
     "name": "stderr",
     "output_type": "stream",
     "text": [
      "22/03/22 18:00:34 WARN metastore.ObjectStore: Failed to get database parquet, returning NoSuchObjectException\n",
      "                                                                                \r"
     ]
    },
    {
     "name": "stdout",
     "output_type": "stream",
     "text": [
      "Number of lemmatized patents: 76348837\n",
      "-RECORD 0----------------------------------------------------------------------------------------------------------------------------\n",
      " appln_id | 496467995                                                                                                                \n",
      " lemmas   | medicinal material sun room utility model disclose medicinal material sun room include room body glass cover equip ot... \n",
      "-RECORD 1----------------------------------------------------------------------------------------------------------------------------\n",
      " appln_id | 4882879                                                                                                                  \n",
      " lemmas   | high expression locus vector based ferritin heavy chain gene locus high expression locus vector base part ferritin he... \n",
      "-RECORD 2----------------------------------------------------------------------------------------------------------------------------\n",
      " appln_id | 7630854                                                                                                                  \n",
      " lemmas   | needle pillar seat sew machine utility model relate needle pillar seat sew machine comprise seat body position seat g... \n",
      "-RECORD 3----------------------------------------------------------------------------------------------------------------------------\n",
      " appln_id | 48967495                                                                                                                 \n",
      " lemmas   | robe hook                                                                                                                \n",
      "-RECORD 4----------------------------------------------------------------------------------------------------------------------------\n",
      " appln_id | 502302266                                                                                                                \n",
      " lemmas   | novel whole sound piano arrange needle instrument utility model disclose novel whole sound piano arrange needle instr... \n",
      "-RECORD 5----------------------------------------------------------------------------------------------------------------------------\n",
      " appln_id | 491488656                                                                                                                \n",
      " lemmas   | water drainage plate utility model disclose water drainage plate include core main part clad filter membrane core mai... \n",
      "-RECORD 6----------------------------------------------------------------------------------------------------------------------------\n",
      " appln_id | 507791617                                                                                                                \n",
      " lemmas   | solid wood furniture production manufacturing method invention disclose solid wood furniture production manufacturing... \n",
      "-RECORD 7----------------------------------------------------------------------------------------------------------------------------\n",
      " appln_id | 495713739                                                                                                                \n",
      " lemmas   | machinery interlocking type pass box utility model disclose machinery interlocking type pass box power distribution b... \n",
      "-RECORD 8----------------------------------------------------------------------------------------------------------------------------\n",
      " appln_id | 547954350                                                                                                                \n",
      " lemmas   | terminal electric energy comprehensive treatment device terminal electric energy comprehensive treatment device compr... \n",
      "-RECORD 9----------------------------------------------------------------------------------------------------------------------------\n",
      " appln_id | 53840843                                                                                                                 \n",
      " lemmas   | alkylguanyltransferase assays invention provide method determine alkylguanyltransferase activity sample comprise step... \n",
      "only showing top 10 rows\n",
      "\n",
      "CPU times: user 8.81 ms, sys: 296 µs, total: 9.11 ms\n",
      "Wall time: 4.36 s\n"
     ]
    }
   ],
   "source": [
    "%%time\n",
    "\n",
    "#Test that the saved table is correct\n",
    "patents = spark.sql(\"SELECT * FROM parquet.`/export/ml4ds/IntelComp/Datalake/PATSTAT/2021_Autumn/patstat_appln_NLP.parquet`\")\n",
    "print('Number of lemmatized patents:', patents.count())\n",
    "patents.show(n=10, truncate=120, vertical=True)"
   ]
  },
  {
   "cell_type": "code",
   "execution_count": null,
   "id": "3667f4f2",
   "metadata": {},
   "outputs": [],
   "source": []
  }
 ],
 "metadata": {
  "kernelspec": {
   "display_name": "Python 3 (ipykernel)",
   "language": "python",
   "name": "python3"
  },
  "language_info": {
   "codemirror_mode": {
    "name": "ipython",
    "version": 3
   },
   "file_extension": ".py",
   "mimetype": "text/x-python",
   "name": "python",
   "nbconvert_exporter": "python",
   "pygments_lexer": "ipython3",
   "version": "3.8.13"
  }
 },
 "nbformat": 4,
 "nbformat_minor": 5
}
