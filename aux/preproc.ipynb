{
 "cells": [
  {
   "cell_type": "code",
   "execution_count": 129,
   "id": "1a3da5e6-00e2-4b7b-ad45-afc28af474f5",
   "metadata": {},
   "outputs": [],
   "source": [
    "import json\n",
    "from pathlib import Path\n",
    "import pyspark.sql.functions as F\n",
    "from pyspark.sql.types import StructType\n",
    "from pyspark.ml.feature import Tokenizer, StopWordsRemover, CountVectorizer"
   ]
  },
  {
   "cell_type": "code",
   "execution_count": 80,
   "id": "2ae79862-8d50-4046-bf0a-8563a8c2b15d",
   "metadata": {},
   "outputs": [
    {
     "name": "stdout",
     "output_type": "stream",
     "text": [
      "{'name': 'first_model', 'description': 'model for implementation debugging', 'visibility': 'Public', 'trainer': 'mallet', 'TrDtSet': '/export/usuarios_ml4ds/jarenas/github/IntelComp/ITMT/topicmodeler/testproject/datasets/S2Health.json', 'Preproc': {'min_lemas': 15, 'no_below': 10, 'no_above': 0.6, 'keep_n': 500000, 'stopwords': ['/export/usuarios_ml4ds/jarenas/github/IntelComp/ITMT/topicmodeler/wordlists/english_generic.json', '/export/usuarios_ml4ds/jarenas/github/IntelComp/ITMT/topicmodeler/wordlists/S2_stopwords.json'], 'equivalences': ['/export/usuarios_ml4ds/jarenas/github/IntelComp/ITMT/topicmodeler/wordlists/S2_equivalences.json']}, 'LDAparam': {'ntopics': 25, 'alpha': 5.0, 'optimize_interval': 10, 'num_threads': 4, 'num_iterations': 1000, 'doc_topic_thr': 0.0, 'thetas_thr': 0.003, 'token_regexp': '[\\\\p{L}\\\\p{N}][\\\\p{L}\\\\p{N}\\\\p{P}]*\\\\p{L}'}}\n"
     ]
    }
   ],
   "source": [
    "configFile = Path('/export/usuarios_ml4ds/jarenas/github/IntelComp/ITMT/topicmodeler/testproject/LDAmodels/first_model/trainconfig.json')\n",
    "with configFile.open() as fin:\n",
    "    train_config = json.load(fin)\n",
    "print(train_config)"
   ]
  },
  {
   "cell_type": "code",
   "execution_count": 86,
   "id": "b3cd8824-8b32-447e-bb1c-0030a37aec53",
   "metadata": {},
   "outputs": [],
   "source": [
    "stopWords = []\n",
    "for stwFile in train_config['Preproc']['stopwords']:\n",
    "    with Path(stwFile).open('r', encoding='utf8') as fin:\n",
    "        stopWords += json.load(fin)['wordlist']\n",
    "        \n",
    "stopWords = list(set(stopWords))"
   ]
  },
  {
   "cell_type": "code",
   "execution_count": 91,
   "id": "0e0e027b-0039-489d-b33f-2ea9e2c6c438",
   "metadata": {},
   "outputs": [],
   "source": [
    "equivalences = {}\n",
    "for eqFile in train_config['Preproc']['equivalences']:\n",
    "    with Path(eqFile).open('r', encoding = 'utf8') as fin:\n",
    "        newEq = json.load(fin)['wordlist']\n",
    "    newEq = [x.split(':') for x in newEq]\n",
    "    newEq = [x for x in newEq if len(x) == 2]\n",
    "    newEq = dict(newEq)\n",
    "\n",
    "equivalences = {**equivalences, **newEq}"
   ]
  },
  {
   "cell_type": "code",
   "execution_count": 127,
   "id": "b8f29df0-2c8d-4275-b64b-9ba4381c475c",
   "metadata": {},
   "outputs": [],
   "source": [
    "#Load information about all data that should be incorporated in the training set\n",
    "trDtFile = Path(train_config['TrDtSet'])\n",
    "with trDtFile.open() as fin:\n",
    "    trDtSet = json.load(fin)\n",
    "\n",
    "#Iterate over datasets, and append them to a single dataframe\n",
    "for idx, DtSet in enumerate(trDtSet['Dtsets']):\n",
    "    df = spark.read.parquet(f\"file://{DtSet['parquet']}\")\n",
    "    if len(DtSet['filter']):\n",
    "        pass #Need spark command to carry out the filtering df = df.filter ...\n",
    "    df = (\n",
    "        df.withColumn(\"all_lemmas\", F.concat_ws(' ', *DtSet['lemmasfld']))\n",
    "          .withColumn(\"all_rawtext\", F.concat_ws(' ', *DtSet['rawtxtfld']))\n",
    "          .withColumn(\"source\", F.lit(DtSet[\"source\"]))\n",
    "          .select(\"id\", \"source\", \"all_lemmas\", \"all_rawtext\")\n",
    "    )\n",
    "    if idx==0:\n",
    "        trDF = df\n",
    "    else:\n",
    "        trDF = trDF.union(df).distinct()\n",
    "    "
   ]
  },
  {
   "cell_type": "code",
   "execution_count": 128,
   "id": "ae8a293c-b996-4c21-9bd2-cc043650e1e0",
   "metadata": {},
   "outputs": [
    {
     "name": "stderr",
     "output_type": "stream",
     "text": [
      "                                                                                \r"
     ]
    },
    {
     "name": "stdout",
     "output_type": "stream",
     "text": [
      "36005467\n"
     ]
    },
    {
     "name": "stderr",
     "output_type": "stream",
     "text": [
      "[Stage 98:>                                                         (0 + 1) / 1]\r"
     ]
    },
    {
     "name": "stdout",
     "output_type": "stream",
     "text": [
      "-RECORD 0----------------------------------------------------------------------------------------------------------------------------------------------------------------------------------------------------------------\n",
      " id           | 00003f6077eb0dd01f1e0499a4ac10b50195d640                                                                                                                                                                 \n",
      " source       | Semantic Scholar                                                                                                                                                                                         \n",
      " final_tokens | [cumulative, risk, physiological, stress, responses, african, american, adolescents, objective, investigate, association, component, cumulative, risk, cognitive_radio, physiological, stress, respon... \n",
      " all_rawtext  | Cumulative Risk and Physiological Stress Responses in African American Adolescents. Objective: To investigate associations between components of cumulative risk (CR) and physiological stress respon... \n",
      "-RECORD 1----------------------------------------------------------------------------------------------------------------------------------------------------------------------------------------------------------------\n",
      " id           | 0000c9c47442d215b942f2ccb33c1d9325ff9b46                                                                                                                                                                 \n",
      " source       | Semantic Scholar                                                                                                                                                                                         \n",
      " final_tokens | [performance, evaluation, hydrological, nutrients, simulation, hydrological, simulation, programfortran, mesoscale, monsoon, watershed, china, hydrological, simulation, programfortran, hspf, hydrol... \n",
      " all_rawtext  | Comprehensive Performance Evaluation for Hydrological and Nutrients Simulation Using the Hydrological Simulation Program–Fortran in a Mesoscale Monsoon Watershed, China. The Hydrological Simulation... \n",
      "-RECORD 2----------------------------------------------------------------------------------------------------------------------------------------------------------------------------------------------------------------\n",
      " id           | 0000dd38e599b80d58dd04bf7e5ef344baf3e105                                                                                                                                                                 \n",
      " source       | Semantic Scholar                                                                                                                                                                                         \n",
      " final_tokens | [complexidade, regime, teraputico, prescrito, para, idosos, objective, factor, associate, therapeutic, regimen, complexity, drug, prescription, elderly, people, belo, horizonte, minas, gerais, braz... \n",
      " all_rawtext  | Complexidade do regime terapêutico prescrito para idosos. OBJECTIVE: To examine factors associated with therapeutic regimen complexity of drug prescriptions for elderly people in Belo Horizonte, Mi... \n",
      "only showing top 3 rows\n",
      "\n",
      "CPU times: user 2.89 s, sys: 633 ms, total: 3.52 s\n",
      "Wall time: 1h 38min 42s\n"
     ]
    },
    {
     "name": "stderr",
     "output_type": "stream",
     "text": [
      "                                                                                \r"
     ]
    }
   ],
   "source": [
    "%%time \n",
    "\n",
    "#tokenization\n",
    "tk = Tokenizer(inputCol=\"all_lemmas\", outputCol=\"tokens\")\n",
    "trDF = tk.transform(trDF)\n",
    "\n",
    "#Removal of Stopwords\n",
    "swr = StopWordsRemover(inputCol=\"tokens\", outputCol=\"clean_tokens\", stopWords=stopWords)\n",
    "trDF = swr.transform(trDF)\n",
    "\n",
    "#Filter according to number of lemmas in each document\n",
    "trDF = trDF.where(F.size(F.col(\"clean_tokens\")) >= train_config['Preproc']['min_lemas'])\n",
    "\n",
    "#Equivalences replacement\n",
    "df = trDF.select(trDF.id, F.explode(trDF.clean_tokens))\n",
    "df = df.na.replace(equivalences, 1)\n",
    "df = df.groupBy(\"id\").agg(F.collect_list(\"col\"))\n",
    "trDF = (trDF.join(df, trDF.id == df.id, \"left\")\n",
    "                      .drop(df.id)\n",
    "                      .withColumnRenamed(\"collect_list(col)\",\"final_tokens\")\n",
    "       )\n",
    "\n",
    "#Select only the relevant columns\n",
    "trDF = trDF.select(\"id\", \"source\", \"final_tokens\", \"all_rawtext\")\n",
    "\n",
    "print(trDF.count())\n",
    "trDF.show(n=3, vertical=True, truncate=200)"
   ]
  },
  {
   "cell_type": "code",
   "execution_count": 131,
   "id": "eaa64a81-f059-436d-8f72-c4f1df566791",
   "metadata": {},
   "outputs": [
    {
     "name": "stderr",
     "output_type": "stream",
     "text": [
      "22/06/13 01:58:08 ERROR scheduler.TaskSchedulerImpl: Lost executor 0 on node22.cluster.tsc.uc3m.es: Remote RPC client disassociated. Likely due to containers exceeding thresholds, or network issues. Check driver logs for WARN messages.\n",
      "22/06/13 01:58:08 WARN scheduler.TaskSetManager: Lost task 321.0 in stage 104.0 (TID 21385) (node22.cluster.tsc.uc3m.es executor 0): ExecutorLostFailure (executor 0 exited caused by one of the running tasks) Reason: Remote RPC client disassociated. Likely due to containers exceeding thresholds, or network issues. Check driver logs for WARN messages.\n",
      "22/06/13 01:58:08 WARN scheduler.TaskSetManager: Lost task 324.0 in stage 104.0 (TID 21388) (node22.cluster.tsc.uc3m.es executor 0): ExecutorLostFailure (executor 0 exited caused by one of the running tasks) Reason: Remote RPC client disassociated. Likely due to containers exceeding thresholds, or network issues. Check driver logs for WARN messages.\n",
      "22/06/13 01:58:08 WARN scheduler.TaskSetManager: Lost task 325.0 in stage 104.0 (TID 21389) (node22.cluster.tsc.uc3m.es executor 0): ExecutorLostFailure (executor 0 exited caused by one of the running tasks) Reason: Remote RPC client disassociated. Likely due to containers exceeding thresholds, or network issues. Check driver logs for WARN messages.\n",
      "22/06/13 01:58:08 WARN scheduler.TaskSetManager: Lost task 322.0 in stage 104.0 (TID 21386) (node22.cluster.tsc.uc3m.es executor 0): ExecutorLostFailure (executor 0 exited caused by one of the running tasks) Reason: Remote RPC client disassociated. Likely due to containers exceeding thresholds, or network issues. Check driver logs for WARN messages.\n",
      "22/06/13 01:58:08 WARN storage.BlockManagerMasterEndpoint: No more replicas available for rdd_526_127 !\n",
      "22/06/13 01:58:08 WARN storage.BlockManagerMasterEndpoint: No more replicas available for rdd_526_16 !\n",
      "22/06/13 01:58:08 WARN storage.BlockManagerMasterEndpoint: No more replicas available for rdd_526_52 !\n",
      "22/06/13 01:58:08 WARN storage.BlockManagerMasterEndpoint: No more replicas available for rdd_526_17 !\n",
      "22/06/13 01:58:08 WARN storage.BlockManagerMasterEndpoint: No more replicas available for rdd_526_172 !\n",
      "22/06/13 01:58:08 WARN storage.BlockManagerMasterEndpoint: No more replicas available for rdd_526_122 !\n",
      "22/06/13 01:58:08 WARN storage.BlockManagerMasterEndpoint: No more replicas available for rdd_526_176 !\n",
      "22/06/13 01:58:08 WARN storage.BlockManagerMasterEndpoint: No more replicas available for rdd_526_67 !\n",
      "22/06/13 01:58:08 WARN storage.BlockManagerMasterEndpoint: No more replicas available for rdd_526_47 !\n",
      "22/06/13 01:58:08 WARN storage.BlockManagerMasterEndpoint: No more replicas available for rdd_526_46 !\n",
      "22/06/13 01:58:08 WARN storage.BlockManagerMasterEndpoint: No more replicas available for rdd_526_104 !\n",
      "22/06/13 01:58:08 WARN storage.BlockManagerMasterEndpoint: No more replicas available for rdd_526_48 !\n",
      "22/06/13 01:58:08 WARN storage.BlockManagerMasterEndpoint: No more replicas available for rdd_526_175 !\n",
      "22/06/13 01:58:08 WARN storage.BlockManagerMasterEndpoint: No more replicas available for rdd_526_168 !\n",
      "22/06/13 01:58:08 WARN storage.BlockManagerMasterEndpoint: No more replicas available for rdd_526_105 !\n",
      "22/06/13 01:58:08 WARN storage.BlockManagerMasterEndpoint: No more replicas available for rdd_526_13 !\n",
      "22/06/13 01:58:08 WARN storage.BlockManagerMasterEndpoint: No more replicas available for rdd_526_15 !\n",
      "22/06/13 02:13:09 ERROR scheduler.TaskSchedulerImpl: Lost executor 3 on node34.cluster.tsc.uc3m.es: Remote RPC client disassociated. Likely due to containers exceeding thresholds, or network issues. Check driver logs for WARN messages.\n",
      "22/06/13 02:13:09 WARN scheduler.TaskSetManager: Lost task 18.0 in stage 113.0 (TID 22874) (node34.cluster.tsc.uc3m.es executor 3): ExecutorLostFailure (executor 3 exited caused by one of the running tasks) Reason: Remote RPC client disassociated. Likely due to containers exceeding thresholds, or network issues. Check driver logs for WARN messages.\n",
      "22/06/13 02:13:09 WARN scheduler.TaskSetManager: Lost task 35.0 in stage 113.0 (TID 22877) (node34.cluster.tsc.uc3m.es executor 3): ExecutorLostFailure (executor 3 exited caused by one of the running tasks) Reason: Remote RPC client disassociated. Likely due to containers exceeding thresholds, or network issues. Check driver logs for WARN messages.\n",
      "22/06/13 02:13:09 WARN scheduler.TaskSetManager: Lost task 33.0 in stage 113.0 (TID 22876) (node34.cluster.tsc.uc3m.es executor 3): ExecutorLostFailure (executor 3 exited caused by one of the running tasks) Reason: Remote RPC client disassociated. Likely due to containers exceeding thresholds, or network issues. Check driver logs for WARN messages.\n",
      "22/06/13 02:13:09 WARN scheduler.TaskSetManager: Lost task 32.0 in stage 113.0 (TID 22875) (node34.cluster.tsc.uc3m.es executor 3): ExecutorLostFailure (executor 3 exited caused by one of the running tasks) Reason: Remote RPC client disassociated. Likely due to containers exceeding thresholds, or network issues. Check driver logs for WARN messages.\n",
      "22/06/13 02:13:09 WARN storage.BlockManagerMasterEndpoint: No more replicas available for rdd_526_108 !\n",
      "22/06/13 02:13:09 WARN storage.BlockManagerMasterEndpoint: No more replicas available for rdd_526_111 !\n",
      "22/06/13 02:13:09 WARN storage.BlockManagerMasterEndpoint: No more replicas available for rdd_526_18 !\n",
      "22/06/13 02:13:09 WARN storage.BlockManagerMasterEndpoint: No more replicas available for rdd_526_33 !\n",
      "22/06/13 02:13:09 WARN storage.BlockManagerMasterEndpoint: No more replicas available for rdd_526_32 !\n",
      "22/06/13 02:13:09 WARN storage.BlockManagerMasterEndpoint: No more replicas available for rdd_526_71 !\n",
      "22/06/13 02:13:09 WARN storage.BlockManagerMasterEndpoint: No more replicas available for rdd_526_59 !\n",
      "22/06/13 02:13:09 WARN storage.BlockManagerMasterEndpoint: No more replicas available for rdd_526_160 !\n",
      "22/06/13 02:13:09 WARN storage.BlockManagerMasterEndpoint: No more replicas available for rdd_526_99 !\n",
      "22/06/13 02:13:09 WARN storage.BlockManagerMasterEndpoint: No more replicas available for rdd_526_84 !\n",
      "22/06/13 02:13:09 WARN storage.BlockManagerMasterEndpoint: No more replicas available for rdd_526_124 !\n",
      "22/06/13 02:13:09 WARN storage.BlockManagerMasterEndpoint: No more replicas available for rdd_526_178 !\n",
      "22/06/13 02:13:09 WARN storage.BlockManagerMasterEndpoint: No more replicas available for rdd_526_101 !\n",
      "22/06/13 02:13:09 WARN storage.BlockManagerMasterEndpoint: No more replicas available for rdd_526_123 !\n",
      "22/06/13 02:13:09 WARN storage.BlockManagerMasterEndpoint: No more replicas available for rdd_526_141 !\n",
      "22/06/13 02:13:09 WARN storage.BlockManagerMasterEndpoint: No more replicas available for rdd_526_35 !\n",
      "22/06/13 02:13:09 WARN storage.BlockManagerMasterEndpoint: No more replicas available for rdd_526_70 !\n",
      "22/06/13 02:13:09 WARN storage.BlockManagerMasterEndpoint: No more replicas available for rdd_526_152 !\n",
      "22/06/13 02:13:09 WARN storage.BlockManagerMasterEndpoint: No more replicas available for rdd_526_181 !\n",
      "22/06/13 02:13:09 WARN storage.BlockManagerMasterEndpoint: No more replicas available for rdd_526_38 !\n",
      "22/06/13 02:13:09 WARN storage.BlockManagerMasterEndpoint: No more replicas available for rdd_526_139 !\n",
      "22/06/13 02:13:09 WARN storage.BlockManagerMasterEndpoint: No more replicas available for rdd_526_177 !\n",
      "22/06/13 02:13:09 WARN storage.BlockManagerMasterEndpoint: No more replicas available for rdd_526_186 !\n",
      "22/06/13 02:13:17 ERROR scheduler.TaskSchedulerImpl: Lost executor 2 on node13.cluster.tsc.uc3m.es: Remote RPC client disassociated. Likely due to containers exceeding thresholds, or network issues. Check driver logs for WARN messages.\n",
      "22/06/13 02:13:17 WARN scheduler.TaskSetManager: Lost task 24.0 in stage 113.0 (TID 22879) (node13.cluster.tsc.uc3m.es executor 2): ExecutorLostFailure (executor 2 exited caused by one of the running tasks) Reason: Remote RPC client disassociated. Likely due to containers exceeding thresholds, or network issues. Check driver logs for WARN messages.\n",
      "22/06/13 02:13:17 WARN scheduler.TaskSetManager: Lost task 27.0 in stage 113.0 (TID 22882) (node13.cluster.tsc.uc3m.es executor 2): ExecutorLostFailure (executor 2 exited caused by one of the running tasks) Reason: Remote RPC client disassociated. Likely due to containers exceeding thresholds, or network issues. Check driver logs for WARN messages.\n",
      "22/06/13 02:13:17 WARN scheduler.TaskSetManager: Lost task 26.0 in stage 113.0 (TID 22881) (node13.cluster.tsc.uc3m.es executor 2): ExecutorLostFailure (executor 2 exited caused by one of the running tasks) Reason: Remote RPC client disassociated. Likely due to containers exceeding thresholds, or network issues. Check driver logs for WARN messages.\n",
      "22/06/13 02:13:17 WARN scheduler.TaskSetManager: Lost task 0.0 in stage 113.0 (TID 22878) (node13.cluster.tsc.uc3m.es executor 2): ExecutorLostFailure (executor 2 exited caused by one of the running tasks) Reason: Remote RPC client disassociated. Likely due to containers exceeding thresholds, or network issues. Check driver logs for WARN messages.\n",
      "22/06/13 02:13:17 WARN storage.BlockManagerMasterEndpoint: No more replicas available for rdd_526_27 !\n",
      "22/06/13 02:13:17 WARN storage.BlockManagerMasterEndpoint: No more replicas available for rdd_526_72 !\n",
      "22/06/13 02:13:17 WARN storage.BlockManagerMasterEndpoint: No more replicas available for rdd_526_26 !\n",
      "22/06/13 02:13:17 WARN storage.BlockManagerMasterEndpoint: No more replicas available for rdd_526_138 !\n",
      "22/06/13 02:13:17 WARN storage.BlockManagerMasterEndpoint: No more replicas available for rdd_526_61 !\n",
      "22/06/13 02:13:17 WARN storage.BlockManagerMasterEndpoint: No more replicas available for rdd_526_179 !\n",
      "22/06/13 02:13:17 WARN storage.BlockManagerMasterEndpoint: No more replicas available for rdd_526_98 !\n",
      "22/06/13 02:13:17 WARN storage.BlockManagerMasterEndpoint: No more replicas available for rdd_526_114 !\n",
      "22/06/13 02:13:17 WARN storage.BlockManagerMasterEndpoint: No more replicas available for rdd_526_80 !\n",
      "22/06/13 02:13:17 WARN storage.BlockManagerMasterEndpoint: No more replicas available for rdd_526_182 !\n",
      "22/06/13 02:13:17 WARN storage.BlockManagerMasterEndpoint: No more replicas available for rdd_526_185 !\n",
      "22/06/13 02:13:17 WARN storage.BlockManagerMasterEndpoint: No more replicas available for rdd_526_165 !\n",
      "22/06/13 02:13:17 WARN storage.BlockManagerMasterEndpoint: No more replicas available for rdd_526_109 !\n",
      "22/06/13 02:13:17 WARN storage.BlockManagerMasterEndpoint: No more replicas available for rdd_526_0 !\n",
      "22/06/13 02:13:17 WARN storage.BlockManagerMasterEndpoint: No more replicas available for rdd_526_58 !\n",
      "22/06/13 02:13:17 WARN storage.BlockManagerMasterEndpoint: No more replicas available for rdd_526_112 !\n",
      "22/06/13 02:13:17 WARN storage.BlockManagerMasterEndpoint: No more replicas available for rdd_526_115 !\n",
      "22/06/13 02:13:17 WARN storage.BlockManagerMasterEndpoint: No more replicas available for rdd_526_53 !\n",
      "22/06/13 02:13:17 WARN storage.BlockManagerMasterEndpoint: No more replicas available for rdd_526_146 !\n",
      "22/06/13 02:13:17 WARN storage.BlockManagerMasterEndpoint: No more replicas available for rdd_526_148 !\n",
      "22/06/13 02:13:17 WARN storage.BlockManagerMasterEndpoint: No more replicas available for rdd_526_180 !\n",
      "22/06/13 02:13:17 WARN storage.BlockManagerMasterEndpoint: No more replicas available for rdd_526_39 !\n",
      "22/06/13 02:13:17 WARN storage.BlockManagerMasterEndpoint: No more replicas available for rdd_526_24 !\n",
      "22/06/13 02:13:17 WARN storage.BlockManagerMasterEndpoint: No more replicas available for rdd_526_78 !\n",
      "22/06/13 02:13:17 WARN storage.BlockManagerMasterEndpoint: No more replicas available for rdd_526_55 !\n",
      "22/06/13 02:14:09 ERROR scheduler.TaskSchedulerImpl: Lost executor 1 on node93.cluster.tsc.uc3m.es: Remote RPC client disassociated. Likely due to containers exceeding thresholds, or network issues. Check driver logs for WARN messages.\n",
      "22/06/13 02:14:09 WARN scheduler.TaskSetManager: Lost task 41.0 in stage 113.0 (TID 22931) (node93.cluster.tsc.uc3m.es executor 1): ExecutorLostFailure (executor 1 exited caused by one of the running tasks) Reason: Remote RPC client disassociated. Likely due to containers exceeding thresholds, or network issues. Check driver logs for WARN messages.\n",
      "22/06/13 02:14:09 WARN scheduler.TaskSetManager: Lost task 44.0 in stage 113.0 (TID 22934) (node93.cluster.tsc.uc3m.es executor 1): ExecutorLostFailure (executor 1 exited caused by one of the running tasks) Reason: Remote RPC client disassociated. Likely due to containers exceeding thresholds, or network issues. Check driver logs for WARN messages.\n",
      "22/06/13 02:14:09 WARN scheduler.TaskSetManager: Lost task 43.0 in stage 113.0 (TID 22933) (node93.cluster.tsc.uc3m.es executor 1): ExecutorLostFailure (executor 1 exited caused by one of the running tasks) Reason: Remote RPC client disassociated. Likely due to containers exceeding thresholds, or network issues. Check driver logs for WARN messages.\n",
      "22/06/13 02:14:09 WARN scheduler.TaskSetManager: Lost task 42.0 in stage 113.0 (TID 22932) (node93.cluster.tsc.uc3m.es executor 1): ExecutorLostFailure (executor 1 exited caused by one of the running tasks) Reason: Remote RPC client disassociated. Likely due to containers exceeding thresholds, or network issues. Check driver logs for WARN messages.\n",
      "22/06/13 02:14:09 WARN storage.BlockManagerMasterEndpoint: No more replicas available for rdd_526_87 !\n",
      "22/06/13 02:14:09 WARN storage.BlockManagerMasterEndpoint: No more replicas available for rdd_526_121 !\n",
      "22/06/13 02:14:09 WARN storage.BlockManagerMasterEndpoint: No more replicas available for rdd_526_41 !\n",
      "22/06/13 02:14:09 WARN storage.BlockManagerMasterEndpoint: No more replicas available for rdd_526_164 !\n",
      "22/06/13 02:14:09 WARN storage.BlockManagerMasterEndpoint: No more replicas available for rdd_526_6 !\n",
      "22/06/13 02:14:09 WARN storage.BlockManagerMasterEndpoint: No more replicas available for rdd_526_120 !\n",
      "22/06/13 02:14:09 WARN storage.BlockManagerMasterEndpoint: No more replicas available for rdd_526_119 !\n",
      "22/06/13 02:14:09 WARN storage.BlockManagerMasterEndpoint: No more replicas available for rdd_526_66 !\n",
      "22/06/13 02:14:09 WARN storage.BlockManagerMasterEndpoint: No more replicas available for rdd_526_92 !\n",
      "22/06/13 02:14:09 WARN storage.BlockManagerMasterEndpoint: No more replicas available for rdd_526_91 !\n",
      "22/06/13 02:14:09 WARN storage.BlockManagerMasterEndpoint: No more replicas available for rdd_526_163 !\n",
      "22/06/13 02:14:09 WARN storage.BlockManagerMasterEndpoint: No more replicas available for rdd_526_44 !\n",
      "22/06/13 02:14:09 WARN storage.BlockManagerMasterEndpoint: No more replicas available for rdd_526_56 !\n",
      "22/06/13 02:14:09 WARN storage.BlockManagerMasterEndpoint: No more replicas available for rdd_526_162 !\n",
      "22/06/13 02:14:09 WARN storage.BlockManagerMasterEndpoint: No more replicas available for rdd_526_2 !\n",
      "22/06/13 02:14:09 WARN storage.BlockManagerMasterEndpoint: No more replicas available for rdd_526_191 !\n",
      "22/06/13 02:14:09 WARN storage.BlockManagerMasterEndpoint: No more replicas available for rdd_526_161 !\n",
      "22/06/13 02:14:09 WARN storage.BlockManagerMasterEndpoint: No more replicas available for rdd_526_93 !\n",
      "22/06/13 02:14:09 WARN storage.BlockManagerMasterEndpoint: No more replicas available for rdd_526_43 !\n",
      "22/06/13 02:14:09 WARN storage.BlockManagerMasterEndpoint: No more replicas available for rdd_526_42 !\n",
      "22/06/13 02:14:09 WARN storage.BlockManagerMasterEndpoint: No more replicas available for rdd_526_128 !\n",
      "22/06/13 02:14:09 WARN storage.BlockManagerMasterEndpoint: No more replicas available for rdd_526_3 !\n",
      "22/06/13 02:14:09 WARN storage.BlockManagerMasterEndpoint: No more replicas available for rdd_526_1 !\n",
      "22/06/13 02:19:24 ERROR scheduler.TaskSchedulerImpl: Lost executor 9 on node02.cluster.tsc.uc3m.es: Remote RPC client disassociated. Likely due to containers exceeding thresholds, or network issues. Check driver logs for WARN messages.\n",
      "22/06/13 02:19:24 WARN scheduler.TaskSetManager: Lost task 165.0 in stage 113.0 (TID 23066) (node02.cluster.tsc.uc3m.es executor 9): ExecutorLostFailure (executor 9 exited caused by one of the running tasks) Reason: Remote RPC client disassociated. Likely due to containers exceeding thresholds, or network issues. Check driver logs for WARN messages.\n",
      "22/06/13 02:19:24 WARN scheduler.TaskSetManager: Lost task 136.0 in stage 113.0 (TID 23053) (node02.cluster.tsc.uc3m.es executor 9): ExecutorLostFailure (executor 9 exited caused by one of the running tasks) Reason: Remote RPC client disassociated. Likely due to containers exceeding thresholds, or network issues. Check driver logs for WARN messages.\n",
      "22/06/13 02:19:24 WARN scheduler.TaskSetManager: Lost task 115.0 in stage 113.0 (TID 23044) (node02.cluster.tsc.uc3m.es executor 9): ExecutorLostFailure (executor 9 exited caused by one of the running tasks) Reason: Remote RPC client disassociated. Likely due to containers exceeding thresholds, or network issues. Check driver logs for WARN messages.\n",
      "22/06/13 02:19:24 WARN scheduler.TaskSetManager: Lost task 163.0 in stage 113.0 (TID 23064) (node02.cluster.tsc.uc3m.es executor 9): ExecutorLostFailure (executor 9 exited caused by one of the running tasks) Reason: Remote RPC client disassociated. Likely due to containers exceeding thresholds, or network issues. Check driver logs for WARN messages.\n",
      "22/06/13 02:19:24 WARN storage.BlockManagerMasterEndpoint: No more replicas available for rdd_526_167 !\n",
      "22/06/13 02:19:24 WARN storage.BlockManagerMasterEndpoint: No more replicas available for rdd_526_169 !\n",
      "22/06/13 02:19:24 WARN storage.BlockManagerMasterEndpoint: No more replicas available for rdd_526_83 !\n",
      "22/06/13 02:19:24 WARN storage.BlockManagerMasterEndpoint: No more replicas available for rdd_526_32 !\n",
      "22/06/13 02:19:24 WARN storage.BlockManagerMasterEndpoint: No more replicas available for rdd_526_44 !\n",
      "22/06/13 02:19:24 WARN storage.BlockManagerMasterEndpoint: No more replicas available for rdd_526_59 !\n",
      "22/06/13 02:19:24 WARN storage.BlockManagerMasterEndpoint: No more replicas available for rdd_526_19 !\n",
      "22/06/13 02:19:24 WARN storage.BlockManagerMasterEndpoint: No more replicas available for rdd_526_129 !\n",
      "22/06/13 02:19:24 WARN storage.BlockManagerMasterEndpoint: No more replicas available for rdd_526_8 !\n",
      "22/06/13 02:19:24 WARN storage.BlockManagerMasterEndpoint: No more replicas available for rdd_526_23 !\n",
      "22/06/13 02:19:24 WARN storage.BlockManagerMasterEndpoint: No more replicas available for rdd_526_82 !\n",
      "22/06/13 02:19:24 WARN storage.BlockManagerMasterEndpoint: No more replicas available for rdd_526_131 !\n",
      "22/06/13 02:19:24 WARN storage.BlockManagerMasterEndpoint: No more replicas available for rdd_526_132 !\n",
      "22/06/13 02:19:24 WARN storage.BlockManagerMasterEndpoint: No more replicas available for rdd_526_0 !\n",
      "22/06/13 02:19:24 WARN storage.BlockManagerMasterEndpoint: No more replicas available for rdd_526_93 !\n",
      "22/06/13 02:19:24 WARN storage.BlockManagerMasterEndpoint: No more replicas available for rdd_526_170 !\n",
      "22/06/13 02:19:24 WARN storage.BlockManagerMasterEndpoint: No more replicas available for rdd_526_115 !\n",
      "22/06/13 02:19:24 WARN storage.BlockManagerMasterEndpoint: No more replicas available for rdd_526_7 !\n",
      "22/06/13 02:19:24 WARN storage.BlockManagerMasterEndpoint: No more replicas available for rdd_526_174 !\n",
      "22/06/13 02:19:24 WARN storage.BlockManagerMasterEndpoint: No more replicas available for rdd_526_81 !\n",
      "22/06/13 02:19:24 WARN storage.BlockManagerMasterEndpoint: No more replicas available for rdd_526_79 !\n",
      "22/06/13 02:19:24 WARN storage.BlockManagerMasterEndpoint: No more replicas available for rdd_526_24 !\n",
      "22/06/13 02:19:24 WARN storage.BlockManagerMasterEndpoint: No more replicas available for rdd_526_130 !\n",
      "22/06/13 02:26:47 ERROR scheduler.TaskSchedulerImpl: Lost executor 7 on node01.cluster.tsc.uc3m.es: Remote RPC client disassociated. Likely due to containers exceeding thresholds, or network issues. Check driver logs for WARN messages.\n",
      "22/06/13 02:26:47 WARN scheduler.TaskSetManager: Lost task 18.0 in stage 107.0 (TID 23502) (node01.cluster.tsc.uc3m.es executor 7): ExecutorLostFailure (executor 7 exited caused by one of the running tasks) Reason: Remote RPC client disassociated. Likely due to containers exceeding thresholds, or network issues. Check driver logs for WARN messages.\n",
      "22/06/13 02:26:47 WARN scheduler.TaskSetManager: Lost task 38.0 in stage 107.0 (TID 23522) (node01.cluster.tsc.uc3m.es executor 7): ExecutorLostFailure (executor 7 exited caused by one of the running tasks) Reason: Remote RPC client disassociated. Likely due to containers exceeding thresholds, or network issues. Check driver logs for WARN messages.\n",
      "22/06/13 02:26:47 WARN scheduler.TaskSetManager: Lost task 8.0 in stage 107.0 (TID 23492) (node01.cluster.tsc.uc3m.es executor 7): ExecutorLostFailure (executor 7 exited caused by one of the running tasks) Reason: Remote RPC client disassociated. Likely due to containers exceeding thresholds, or network issues. Check driver logs for WARN messages.\n",
      "22/06/13 02:26:47 WARN scheduler.TaskSetManager: Lost task 28.0 in stage 107.0 (TID 23512) (node01.cluster.tsc.uc3m.es executor 7): ExecutorLostFailure (executor 7 exited caused by one of the running tasks) Reason: Remote RPC client disassociated. Likely due to containers exceeding thresholds, or network issues. Check driver logs for WARN messages.\n",
      "22/06/13 03:20:19 ERROR scheduler.TaskSchedulerImpl: Lost executor 4 on node65.cluster.tsc.uc3m.es: Remote RPC client disassociated. Likely due to containers exceeding thresholds, or network issues. Check driver logs for WARN messages.\n",
      "22/06/13 03:20:19 WARN scheduler.TaskSetManager: Lost task 116.0 in stage 108.0 (TID 23804) (node65.cluster.tsc.uc3m.es executor 4): ExecutorLostFailure (executor 4 exited caused by one of the running tasks) Reason: Remote RPC client disassociated. Likely due to containers exceeding thresholds, or network issues. Check driver logs for WARN messages.\n",
      "22/06/13 03:20:19 WARN scheduler.TaskSetManager: Lost task 113.0 in stage 108.0 (TID 23801) (node65.cluster.tsc.uc3m.es executor 4): ExecutorLostFailure (executor 4 exited caused by one of the running tasks) Reason: Remote RPC client disassociated. Likely due to containers exceeding thresholds, or network issues. Check driver logs for WARN messages.\n",
      "22/06/13 03:20:19 WARN scheduler.TaskSetManager: Lost task 115.0 in stage 108.0 (TID 23803) (node65.cluster.tsc.uc3m.es executor 4): ExecutorLostFailure (executor 4 exited caused by one of the running tasks) Reason: Remote RPC client disassociated. Likely due to containers exceeding thresholds, or network issues. Check driver logs for WARN messages.\n",
      "22/06/13 03:20:19 WARN scheduler.TaskSetManager: Lost task 105.0 in stage 108.0 (TID 23793) (node65.cluster.tsc.uc3m.es executor 4): ExecutorLostFailure (executor 4 exited caused by one of the running tasks) Reason: Remote RPC client disassociated. Likely due to containers exceeding thresholds, or network issues. Check driver logs for WARN messages.\n",
      "22/06/13 03:20:19 WARN storage.BlockManagerMasterEndpoint: No more replicas available for rdd_564_43 !\n",
      "22/06/13 03:20:19 WARN storage.BlockManagerMasterEndpoint: No more replicas available for rdd_564_30 !\n",
      "22/06/13 03:20:19 WARN storage.BlockManagerMasterEndpoint: No more replicas available for rdd_564_83 !\n",
      "22/06/13 03:20:19 WARN storage.BlockManagerMasterEndpoint: No more replicas available for rdd_564_76 !\n",
      "22/06/13 03:20:19 WARN storage.BlockManagerMasterEndpoint: No more replicas available for rdd_564_0 !\n",
      "22/06/13 03:20:19 WARN storage.BlockManagerMasterEndpoint: No more replicas available for rdd_564_20 !\n",
      "22/06/13 03:20:19 WARN storage.BlockManagerMasterEndpoint: No more replicas available for rdd_564_75 !\n",
      "22/06/13 03:20:19 WARN storage.BlockManagerMasterEndpoint: No more replicas available for rdd_564_10 !\n",
      "22/06/13 03:20:19 WARN storage.BlockManagerMasterEndpoint: No more replicas available for rdd_564_77 !\n",
      "                                                                                \r"
     ]
    },
    {
     "name": "stdout",
     "output_type": "stream",
     "text": [
      "CPU times: user 3.58 s, sys: 930 ms, total: 4.51 s\n",
      "Wall time: 2h 37min 8s\n"
     ]
    }
   ],
   "source": [
    "%%time\n",
    "\n",
    "cntVec = CountVectorizer(inputCol=\"final_tokens\",\n",
    "            outputCol=\"bow\", minDF=train_config['Preproc']['no_below'],\n",
    "            maxDF=train_config['Preproc']['no_above'], \n",
    "            vocabSize=train_config['Preproc']['keep_n'])\n",
    "cntVecModel = cntVec.fit(trDF)"
   ]
  },
  {
   "cell_type": "code",
   "execution_count": 132,
   "id": "bb3acade-4152-4ba3-a6c6-3bd0d6bae24f",
   "metadata": {},
   "outputs": [
    {
     "data": {
      "text/plain": [
       "500000"
      ]
     },
     "execution_count": 132,
     "metadata": {},
     "output_type": "execute_result"
    }
   ],
   "source": [
    "len(cntVecModel.vocabulary)"
   ]
  },
  {
   "cell_type": "code",
   "execution_count": null,
   "id": "a44c4534-9a93-4315-8bd0-6e65a35f37f4",
   "metadata": {},
   "outputs": [
    {
     "name": "stderr",
     "output_type": "stream",
     "text": [
      "22/06/13 10:17:10 WARN scheduler.TaskSetManager: Lost task 171.0 in stage 136.0 (TID 26463) (node51.cluster.tsc.uc3m.es executor 6): java.io.IOException: No space left on device\n",
      "\tat java.io.FileOutputStream.writeBytes(Native Method)\n",
      "\tat java.io.FileOutputStream.write(FileOutputStream.java:326)\n",
      "\tat org.apache.spark.storage.TimeTrackingOutputStream.write(TimeTrackingOutputStream.java:59)\n",
      "\tat java.io.BufferedOutputStream.flushBuffer(BufferedOutputStream.java:82)\n",
      "\tat java.io.BufferedOutputStream.write(BufferedOutputStream.java:126)\n",
      "\tat net.jpountz.lz4.LZ4BlockOutputStream.flushBufferedData(LZ4BlockOutputStream.java:223)\n",
      "\tat net.jpountz.lz4.LZ4BlockOutputStream.write(LZ4BlockOutputStream.java:176)\n",
      "\tat java.io.BufferedOutputStream.flushBuffer(BufferedOutputStream.java:82)\n",
      "\tat java.io.BufferedOutputStream.write(BufferedOutputStream.java:126)\n",
      "\tat java.io.DataOutputStream.write(DataOutputStream.java:107)\n",
      "\tat org.apache.spark.sql.catalyst.expressions.UnsafeRow.writeToStream(UnsafeRow.java:539)\n",
      "\tat org.apache.spark.sql.execution.UnsafeRowSerializerInstance$$anon$1.writeValue(UnsafeRowSerializer.scala:69)\n",
      "\tat org.apache.spark.storage.DiskBlockObjectWriter.write(DiskBlockObjectWriter.scala:249)\n",
      "\tat org.apache.spark.shuffle.sort.BypassMergeSortShuffleWriter.write(BypassMergeSortShuffleWriter.java:158)\n",
      "\tat org.apache.spark.shuffle.ShuffleWriteProcessor.write(ShuffleWriteProcessor.scala:59)\n",
      "\tat org.apache.spark.scheduler.ShuffleMapTask.runTask(ShuffleMapTask.scala:99)\n",
      "\tat org.apache.spark.scheduler.ShuffleMapTask.runTask(ShuffleMapTask.scala:52)\n",
      "\tat org.apache.spark.scheduler.Task.run(Task.scala:131)\n",
      "\tat org.apache.spark.executor.Executor$TaskRunner.$anonfun$run$3(Executor.scala:497)\n",
      "\tat org.apache.spark.util.Utils$.tryWithSafeFinally(Utils.scala:1439)\n",
      "\tat org.apache.spark.executor.Executor$TaskRunner.run(Executor.scala:500)\n",
      "\tat java.util.concurrent.ThreadPoolExecutor.runWorker(ThreadPoolExecutor.java:1149)\n",
      "\tat java.util.concurrent.ThreadPoolExecutor$Worker.run(ThreadPoolExecutor.java:624)\n",
      "\tat java.lang.Thread.run(Thread.java:748)\n",
      "\n",
      "[Stage 136:===================================================> (195 + 5) / 200]\r"
     ]
    }
   ],
   "source": [
    "%%time\n",
    "\n",
    "trDF = cntVecModel.transform(trDF)\n",
    "trDF.show(n=3, vertical=True, truncate=200)"
   ]
  },
  {
   "cell_type": "code",
   "execution_count": null,
   "id": "db506ced-5ba0-4115-a036-e61c5de75803",
   "metadata": {},
   "outputs": [],
   "source": []
  }
 ],
 "metadata": {
  "kernelspec": {
   "display_name": "Python 3 (ipykernel)",
   "language": "python",
   "name": "python3"
  },
  "language_info": {
   "codemirror_mode": {
    "name": "ipython",
    "version": 3
   },
   "file_extension": ".py",
   "mimetype": "text/x-python",
   "name": "python",
   "nbconvert_exporter": "python",
   "pygments_lexer": "ipython3",
   "version": "3.8.13"
  }
 },
 "nbformat": 4,
 "nbformat_minor": 5
}
