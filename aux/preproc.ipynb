{
 "cells": [
  {
   "cell_type": "code",
   "execution_count": 1,
   "id": "1a3da5e6-00e2-4b7b-ad45-afc28af474f5",
   "metadata": {},
   "outputs": [],
   "source": [
    "import json\n",
    "from pathlib import Path\n",
    "import pyspark.sql.functions as F\n",
    "from pyspark.ml.feature import Tokenizer, StopWordsRemover, CountVectorizer"
   ]
  },
  {
   "cell_type": "code",
   "execution_count": 2,
   "id": "2ae79862-8d50-4046-bf0a-8563a8c2b15d",
   "metadata": {},
   "outputs": [
    {
     "name": "stdout",
     "output_type": "stream",
     "text": [
      "{'name': 'S2CS_25', 'description': 'kk', 'visibility': 'Public', 'trainer': 'mallet', 'TrDtSet': '/export/usuarios_ml4ds/jarenas/github/IntelComp/ITMT/topicmodeler/testproject/datasets/S2CS.json', 'Preproc': {'min_lemas': 15, 'no_below': 10, 'no_above': 0.75, 'keep_n': 100000, 'stopwords': ['/export/usuarios_ml4ds/jarenas/github/IntelComp/ITMT/topicmodeler/wordlists/english_generic.json', '/export/usuarios_ml4ds/jarenas/github/IntelComp/ITMT/topicmodeler/wordlists/S2_stopwords.json'], 'equivalences': ['/export/usuarios_ml4ds/jarenas/github/IntelComp/ITMT/topicmodeler/wordlists/S2_equivalences.json']}, 'LDAparam': {'ntopics': 25, 'alpha': 5.0, 'optimize_interval': 10, 'num_threads': 4, 'num_iterations': 1000, 'doc_topic_thr': 0.0, 'thetas_thr': 0.003, 'token_regexp': '[\\\\p{L}\\\\p{N}][\\\\p{L}\\\\p{N}\\\\p{P}]*\\\\p{L}'}}\n"
     ]
    }
   ],
   "source": [
    "configFile = Path('/export/usuarios_ml4ds/jarenas/github/IntelComp/ITMT/topicmodeler/testproject/LDAmodels/S2CS_25/trainconfig.json')\n",
    "with configFile.open() as fin:\n",
    "    train_config = json.load(fin)\n",
    "print(train_config)"
   ]
  },
  {
   "cell_type": "code",
   "execution_count": 3,
   "id": "b3cd8824-8b32-447e-bb1c-0030a37aec53",
   "metadata": {},
   "outputs": [],
   "source": [
    "stopWords = []\n",
    "for stwFile in train_config['Preproc']['stopwords']:\n",
    "    with Path(stwFile).open('r', encoding='utf8') as fin:\n",
    "        stopWords += json.load(fin)['wordlist']\n",
    "        \n",
    "stopWords = list(set(stopWords))"
   ]
  },
  {
   "cell_type": "code",
   "execution_count": 4,
   "id": "0e0e027b-0039-489d-b33f-2ea9e2c6c438",
   "metadata": {},
   "outputs": [],
   "source": [
    "equivalences = {}\n",
    "for eqFile in train_config['Preproc']['equivalences']:\n",
    "    with Path(eqFile).open('r', encoding = 'utf8') as fin:\n",
    "        newEq = json.load(fin)['wordlist']\n",
    "    newEq = [x.split(':') for x in newEq]\n",
    "    newEq = [x for x in newEq if len(x) == 2]\n",
    "    newEq = dict(newEq)\n",
    "\n",
    "equivalences = {**equivalences, **newEq}"
   ]
  },
  {
   "cell_type": "code",
   "execution_count": 5,
   "id": "b8f29df0-2c8d-4275-b64b-9ba4381c475c",
   "metadata": {},
   "outputs": [
    {
     "ename": "NameError",
     "evalue": "name 'spark' is not defined",
     "output_type": "error",
     "traceback": [
      "\u001b[0;31m---------------------------------------------------------------------------\u001b[0m",
      "\u001b[0;31mNameError\u001b[0m                                 Traceback (most recent call last)",
      "Input \u001b[0;32mIn [5]\u001b[0m, in \u001b[0;36m<cell line: 7>\u001b[0;34m()\u001b[0m\n\u001b[1;32m      6\u001b[0m \u001b[38;5;66;03m#Iterate over datasets, and append them to a single dataframe\u001b[39;00m\n\u001b[1;32m      7\u001b[0m \u001b[38;5;28;01mfor\u001b[39;00m idx, DtSet \u001b[38;5;129;01min\u001b[39;00m \u001b[38;5;28menumerate\u001b[39m(trDtSet[\u001b[38;5;124m'\u001b[39m\u001b[38;5;124mDtsets\u001b[39m\u001b[38;5;124m'\u001b[39m]):\n\u001b[0;32m----> 8\u001b[0m     df \u001b[38;5;241m=\u001b[39m spark\u001b[38;5;241m.\u001b[39mread\u001b[38;5;241m.\u001b[39mparquet(\u001b[38;5;124mf\u001b[39m\u001b[38;5;124m\"\u001b[39m\u001b[38;5;124mfile://\u001b[39m\u001b[38;5;132;01m{\u001b[39;00mDtSet[\u001b[38;5;124m'\u001b[39m\u001b[38;5;124mparquet\u001b[39m\u001b[38;5;124m'\u001b[39m]\u001b[38;5;132;01m}\u001b[39;00m\u001b[38;5;124m\"\u001b[39m)\n\u001b[1;32m      9\u001b[0m     \u001b[38;5;28;01mif\u001b[39;00m \u001b[38;5;28mlen\u001b[39m(DtSet[\u001b[38;5;124m'\u001b[39m\u001b[38;5;124mfilter\u001b[39m\u001b[38;5;124m'\u001b[39m]):\n\u001b[1;32m     10\u001b[0m         \u001b[38;5;28;01mpass\u001b[39;00m \u001b[38;5;66;03m#Need spark command to carry out the filtering df = df.filter ...\u001b[39;00m\n",
      "\u001b[0;31mNameError\u001b[0m: name 'spark' is not defined"
     ]
    }
   ],
   "source": [
    "#Load information about all data that should be incorporated in the training set\n",
    "trDtFile = Path(train_config['TrDtSet'])\n",
    "with trDtFile.open() as fin:\n",
    "    trDtSet = json.load(fin)\n",
    "\n",
    "#Iterate over datasets, and append them to a single dataframe\n",
    "for idx, DtSet in enumerate(trDtSet['Dtsets']):\n",
    "    df = spark.read.parquet(f\"file://{DtSet['parquet']}\")\n",
    "    if len(DtSet['filter']):\n",
    "        pass #Need spark command to carry out the filtering df = df.filter ...\n",
    "    df = (\n",
    "        df.withColumn(\"all_lemmas\", F.concat_ws(' ', *DtSet['lemmasfld']))\n",
    "          .withColumn(\"all_rawtext\", F.concat_ws(' ', *DtSet['rawtxtfld']))\n",
    "          .withColumn(\"source\", F.lit(DtSet[\"source\"]))\n",
    "          .select(\"id\", \"source\", \"all_lemmas\", \"all_rawtext\")\n",
    "    )\n",
    "    if idx==0:\n",
    "        trDF = df\n",
    "    else:\n",
    "        trDF = trDF.union(df).distinct()\n",
    "    "
   ]
  },
  {
   "cell_type": "code",
   "execution_count": 206,
   "id": "ae8a293c-b996-4c21-9bd2-cc043650e1e0",
   "metadata": {},
   "outputs": [
    {
     "name": "stderr",
     "output_type": "stream",
     "text": [
      "22/06/13 16:26:48 WARN scheduler.DAGScheduler: Broadcasting large task binary with size 1197.0 KiB\n",
      "                                                                                \r"
     ]
    },
    {
     "name": "stdout",
     "output_type": "stream",
     "text": [
      "10528046\n"
     ]
    },
    {
     "name": "stderr",
     "output_type": "stream",
     "text": [
      "[Stage 245:>                                                        (0 + 1) / 1]\r"
     ]
    },
    {
     "name": "stdout",
     "output_type": "stream",
     "text": [
      "-RECORD 0----------------------------------------------------------------------------------------------------------------------------------------------------------------------------------------------------------------\n",
      " id           | 00004ddfe8089303589fb12cddc05fefc7a0bd96                                                                                                                                                                 \n",
      " source       | Semantic Scholar                                                                                                                                                                                         \n",
      " final_tokens | [static, total, causal, ordering, protocols, achieve, ordered, view, synchrony, view, synchronous, communication, vsc, service, provide, multicast, group, 1, reliable, message, delivery, 2, informa... \n",
      " all_rawtext  | Using Static Total Causal Ordering Protocols to Achieve Ordered View Synchrony. A View Synchronous Communication (VSC) service provides applications in a multicast group with 1) reliable message de... \n",
      "-RECORD 1----------------------------------------------------------------------------------------------------------------------------------------------------------------------------------------------------------------\n",
      " id           | 00042289b5ddd6284a06dedf5272e4d27a2a5f6c                                                                                                                                                                 \n",
      " source       | Semantic Scholar                                                                                                                                                                                         \n",
      " final_tokens | [adaptive, pulse, shape, cpofdm, synchronization, paper, present, algorithm, blind, time, offset, estimation, cyclic, prefixorthogonal, frequency, division, multiplex, cpofdm, algorithm, simple, no... \n",
      " all_rawtext  | Adaptive pulse shaping for CP-OFDM synchronization. This paper presents a new algorithm for blind timing offset estimation in cyclic prefixorthogonal frequency division multiplexing (CP-OFDM) syste... \n",
      "-RECORD 2----------------------------------------------------------------------------------------------------------------------------------------------------------------------------------------------------------------\n",
      " id           | 000469a0fedfa15d33f8e0ab9f2d6f3309d7d45a                                                                                                                                                                 \n",
      " source       | Semantic Scholar                                                                                                                                                                                         \n",
      " final_tokens | [research, integration, capppdm, based, step, XML, product, data, exchange, share, capppdm, integration, network, environmentits, translate, standard, exchange, product, model, data, file, correspo... \n",
      " all_rawtext  | Research on Integration of CAPP/PDM Based on STEP and XML. To deal with the product data exchanging and the sharing of CAPP/PDM integration under the network environment,it's possible to translate ... \n",
      "only showing top 3 rows\n",
      "\n",
      "CPU times: user 672 ms, sys: 161 ms, total: 833 ms\n",
      "Wall time: 26min 45s\n"
     ]
    },
    {
     "name": "stderr",
     "output_type": "stream",
     "text": [
      "                                                                                \r"
     ]
    }
   ],
   "source": [
    "%%time \n",
    "\n",
    "#tokenization\n",
    "tk = Tokenizer(inputCol=\"all_lemmas\", outputCol=\"tokens\")\n",
    "trDF = tk.transform(trDF)\n",
    "\n",
    "#Removal of Stopwords\n",
    "swr = StopWordsRemover(inputCol=\"tokens\", outputCol=\"clean_tokens\", stopWords=stopWords)\n",
    "trDF = swr.transform(trDF)\n",
    "\n",
    "#Filter according to number of lemmas in each document\n",
    "trDF = trDF.where(F.size(F.col(\"clean_tokens\")) >= train_config['Preproc']['min_lemas'])\n",
    "\n",
    "#Equivalences replacement\n",
    "df = trDF.select(trDF.id, F.explode(trDF.clean_tokens))\n",
    "df = df.na.replace(equivalences, 1)\n",
    "df = df.groupBy(\"id\").agg(F.collect_list(\"col\"))\n",
    "trDF = (trDF.join(df, trDF.id == df.id, \"left\")\n",
    "                      .drop(df.id)\n",
    "                      .withColumnRenamed(\"collect_list(col)\",\"final_tokens\")\n",
    "       )\n",
    "\n",
    "#Select only the relevant columns\n",
    "trDF = trDF.select(\"id\", \"source\", \"final_tokens\", \"all_rawtext\")\n",
    "\n",
    "print(trDF.count())\n",
    "trDF.show(n=3, vertical=True, truncate=200)"
   ]
  },
  {
   "cell_type": "code",
   "execution_count": 207,
   "id": "eaa64a81-f059-436d-8f72-c4f1df566791",
   "metadata": {},
   "outputs": [
    {
     "name": "stderr",
     "output_type": "stream",
     "text": [
      "                                                                                \r"
     ]
    },
    {
     "name": "stdout",
     "output_type": "stream",
     "text": [
      "CPU times: user 392 ms, sys: 72.1 ms, total: 464 ms\n",
      "Wall time: 12min 29s\n"
     ]
    }
   ],
   "source": [
    "%%time\n",
    "\n",
    "cntVec = CountVectorizer(inputCol=\"final_tokens\",\n",
    "            outputCol=\"bow\", minDF=train_config['Preproc']['no_below'],\n",
    "            maxDF=train_config['Preproc']['no_above'], \n",
    "            vocabSize=train_config['Preproc']['keep_n'])\n",
    "cntVecModel = cntVec.fit(trDF)"
   ]
  },
  {
   "cell_type": "code",
   "execution_count": 208,
   "id": "bb3acade-4152-4ba3-a6c6-3bd0d6bae24f",
   "metadata": {},
   "outputs": [
    {
     "data": {
      "text/plain": [
       "100000"
      ]
     },
     "execution_count": 208,
     "metadata": {},
     "output_type": "execute_result"
    }
   ],
   "source": [
    "len(cntVecModel.vocabulary)"
   ]
  },
  {
   "cell_type": "code",
   "execution_count": 209,
   "id": "a44c4534-9a93-4315-8bd0-6e65a35f37f4",
   "metadata": {},
   "outputs": [
    {
     "name": "stderr",
     "output_type": "stream",
     "text": [
      "22/06/13 18:13:21 WARN scheduler.DAGScheduler: Broadcasting large task binary with size 1196.9 KiB\n",
      "[Stage 259:>                                                        (0 + 1) / 1]\r"
     ]
    },
    {
     "name": "stdout",
     "output_type": "stream",
     "text": [
      "-RECORD 0----------------------------------------------------------------------------------------------------------------------------------------------------------------------------------------------------------------\n",
      " id           | 00004ddfe8089303589fb12cddc05fefc7a0bd96                                                                                                                                                                 \n",
      " source       | Semantic Scholar                                                                                                                                                                                         \n",
      " final_tokens | [static, total, causal, ordering, protocols, achieve, ordered, view, synchrony, view, synchronous, communication, vsc, service, provide, multicast, group, 1, reliable, message, delivery, 2, informa... \n",
      " all_rawtext  | Using Static Total Causal Ordering Protocols to Achieve Ordered View Synchrony. A View Synchronous Communication (VSC) service provides applications in a multicast group with 1) reliable message de... \n",
      " bow          | (100000,[9,17,23,39,44,60,81,108,126,131,144,250,266,338,459,572,624,654,805,1198,1308,1811,1970,3674,6798,9569,9709,9724],[1.0,1.0,1.0,2.0,1.0,1.0,3.0,1.0,1.0,3.0,1.0,3.0,5.0,2.0,1.0,1.0,1.0,1.0,1... \n",
      "-RECORD 1----------------------------------------------------------------------------------------------------------------------------------------------------------------------------------------------------------------\n",
      " id           | 00042289b5ddd6284a06dedf5272e4d27a2a5f6c                                                                                                                                                                 \n",
      " source       | Semantic Scholar                                                                                                                                                                                         \n",
      " final_tokens | [adaptive, pulse, shape, cpofdm, synchronization, paper, present, algorithm, blind, time, offset, estimation, cyclic, prefixorthogonal, frequency, division, multiplex, cpofdm, algorithm, simple, no... \n",
      " all_rawtext  | Adaptive pulse shaping for CP-OFDM synchronization. This paper presents a new algorithm for blind timing offset estimation in cyclic prefixorthogonal frequency division multiplexing (CP-OFDM) syste... \n",
      " bow          | (100000,[1,4,6,11,15,31,34,43,51,63,65,70,90,120,147,177,214,301,380,386,421,427,797,1043,1098,1212,1283,1418,1432,1624,1713,1856,2228,2295,5888,8475,31013,48565],[1.0,1.0,3.0,1.0,3.0,1.0,1.0,1.0,1... \n",
      "-RECORD 2----------------------------------------------------------------------------------------------------------------------------------------------------------------------------------------------------------------\n",
      " id           | 000469a0fedfa15d33f8e0ab9f2d6f3309d7d45a                                                                                                                                                                 \n",
      " source       | Semantic Scholar                                                                                                                                                                                         \n",
      " final_tokens | [research, integration, capppdm, based, step, XML, product, data, exchange, share, capppdm, integration, network, environmentits, translate, standard, exchange, product, model, data, file, correspo... \n",
      " all_rawtext  | Research on Integration of CAPP/PDM Based on STEP and XML. To deal with the product data exchanging and the sharing of CAPP/PDM integration under the network environment,it's possible to translate ... \n",
      " bow          | (100000,[1,2,5,24,52,66,138,166,186,188,215,245,302,365,399,426,469,722,1211,1432,2904,2924,4012,9593],[4.0,1.0,3.0,1.0,2.0,1.0,1.0,1.0,1.0,1.0,2.0,1.0,1.0,3.0,1.0,2.0,1.0,2.0,1.0,1.0,2.0,1.0,1.0,2... \n",
      "only showing top 3 rows\n",
      "\n",
      "CPU times: user 318 ms, sys: 60.9 ms, total: 379 ms\n",
      "Wall time: 18min 59s\n"
     ]
    },
    {
     "name": "stderr",
     "output_type": "stream",
     "text": [
      "                                                                                \r"
     ]
    }
   ],
   "source": [
    "%%time\n",
    "\n",
    "trDFnew = cntVecModel.transform(trDF)\n",
    "trDFnew.show(n=3, vertical=True, truncate=200)"
   ]
  },
  {
   "cell_type": "code",
   "execution_count": 210,
   "id": "db506ced-5ba0-4115-a036-e61c5de75803",
   "metadata": {},
   "outputs": [
    {
     "data": {
      "text/plain": [
       "<pyspark.broadcast.Broadcast at 0x7f7eb10f0970>"
      ]
     },
     "execution_count": 210,
     "metadata": {},
     "output_type": "execute_result"
    }
   ],
   "source": [
    "vocabulary = cntVecModel.vocabulary\n",
    "spark.sparkContext.broadcast(vocabulary)"
   ]
  },
  {
   "cell_type": "code",
   "execution_count": 211,
   "id": "f81d1cde-e218-4c11-8431-191823cdfdc8",
   "metadata": {},
   "outputs": [],
   "source": [
    "def back2text(bow):\n",
    "    text=\"\"\n",
    "    for idx, tf in zip(bow.indices, bow.values):\n",
    "        text += int(tf) * (vocabulary[idx] + ' ')\n",
    "    return text.strip()\n",
    "\n",
    "back2textUDF = F.udf(lambda z: back2text(z)) "
   ]
  },
  {
   "cell_type": "code",
   "execution_count": 212,
   "id": "e659e8e9-5473-4bd1-b8c4-85af878b2333",
   "metadata": {},
   "outputs": [
    {
     "name": "stderr",
     "output_type": "stream",
     "text": [
      "22/06/13 18:25:09 WARN scheduler.DAGScheduler: Broadcasting large task binary with size 1204.6 KiB\n",
      "[Stage 262:>                                                        (0 + 1) / 1]\r"
     ]
    },
    {
     "name": "stdout",
     "output_type": "stream",
     "text": [
      "-RECORD 0----------------------------------------------------------------------------------------------------------------------------------------------------------------------------------------------------------------\n",
      " id           | 00004ddfe8089303589fb12cddc05fefc7a0bd96                                                                                                                                                                 \n",
      " source       | Semantic Scholar                                                                                                                                                                                         \n",
      " final_tokens | [static, total, causal, ordering, protocols, achieve, ordered, view, synchrony, view, synchronous, communication, vsc, service, provide, multicast, group, 1, reliable, message, delivery, 2, informa... \n",
      " all_rawtext  | Using Static Total Causal Ordering Protocols to Achieve Ordered View Synchrony. A View Synchronous Communication (VSC) service provides applications in a multicast group with 1) reliable message de... \n",
      " bow          | (100000,[9,17,23,39,44,60,81,108,126,131,144,250,266,338,459,572,624,654,805,1198,1308,1811,1970,3674,6798,9569,9709,9724],[1.0,1.0,1.0,2.0,1.0,1.0,3.0,1.0,1.0,3.0,1.0,3.0,5.0,2.0,1.0,1.0,1.0,1.0,1... \n",
      " bow_text     | information provide set service service communication achieve change change change 1 form group group group 2 receive receive receive view view view view view message message total guarantee reliab... \n",
      "-RECORD 1----------------------------------------------------------------------------------------------------------------------------------------------------------------------------------------------------------------\n",
      " id           | 00042289b5ddd6284a06dedf5272e4d27a2a5f6c                                                                                                                                                                 \n",
      " source       | Semantic Scholar                                                                                                                                                                                         \n",
      " final_tokens | [adaptive, pulse, shape, cpofdm, synchronization, paper, present, algorithm, blind, time, offset, estimation, cyclic, prefixorthogonal, frequency, division, multiplex, cpofdm, algorithm, simple, no... \n",
      " all_rawtext  | Adaptive pulse shaping for CP-OFDM synchronization. This paper presents a new algorithm for blind timing offset estimation in cyclic prefixorthogonal frequency division multiplexing (CP-OFDM) syste... \n",
      " bow          | (100000,[1,4,6,11,15,31,34,43,51,63,65,70,90,120,147,177,214,301,380,386,421,427,797,1043,1098,1212,1283,1418,1432,1624,1713,1856,2228,2295,5888,8475,31013,48565],[1.0,1.0,3.0,1.0,3.0,1.0,1.0,1.0,1... \n",
      " bow_text     | data paper algorithm algorithm algorithm present time time time power make estimation obtain reduce mobile error generate channel channel frequency frequency frequency simple adaptive adaptive weig... \n",
      "-RECORD 2----------------------------------------------------------------------------------------------------------------------------------------------------------------------------------------------------------------\n",
      " id           | 000469a0fedfa15d33f8e0ab9f2d6f3309d7d45a                                                                                                                                                                 \n",
      " source       | Semantic Scholar                                                                                                                                                                                         \n",
      " final_tokens | [research, integration, capppdm, based, step, XML, product, data, exchange, share, capppdm, integration, network, environmentits, translate, standard, exchange, product, model, data, file, correspo... \n",
      " all_rawtext  | Research on Integration of CAPP/PDM Based on STEP and XML. To deal with the product data exchanging and the sharing of CAPP/PDM integration under the network environment,it's possible to translate ... \n",
      " bow          | (100000,[1,2,5,24,52,66,138,166,186,188,215,245,302,365,399,426,469,722,1211,1432,2904,2924,4012,9593],[4.0,1.0,3.0,1.0,2.0,1.0,1.0,1.0,1.0,1.0,2.0,1.0,1.0,3.0,1.0,2.0,1.0,2.0,1.0,1.0,2.0,1.0,1.0,2... \n",
      " bow_text     | data data data data model network network network research environment environment language based standard step effective product product share correspond integration integration integration store ... \n",
      "only showing top 3 rows\n",
      "\n"
     ]
    },
    {
     "name": "stderr",
     "output_type": "stream",
     "text": [
      "                                                                                \r"
     ]
    }
   ],
   "source": [
    "trDF = trDFnew.withColumn(\"bow_text\", back2textUDF(F.col(\"bow\")))\n",
    "trDF.show(n=3, vertical=True, truncate=200)"
   ]
  },
  {
   "cell_type": "code",
   "execution_count": 190,
   "id": "70295808-09dc-48be-b5ba-2ef852c7da79",
   "metadata": {},
   "outputs": [
    {
     "name": "stderr",
     "output_type": "stream",
     "text": [
      "[Stage 212:>                                                        (0 + 1) / 1]\r"
     ]
    },
    {
     "name": "stdout",
     "output_type": "stream",
     "text": [
      "-RECORD 0-----------------------------------------------------------------------------------------------------------------------------------------------------------------------------------------------------------\n",
      " 2mallet | 200121 0 research research research research research research research research research technology aim European base include propose improve activity activity activity activity level large addres... \n",
      "-RECORD 1-----------------------------------------------------------------------------------------------------------------------------------------------------------------------------------------------------------\n",
      " 2mallet | 205675 0 understanding high energy energy result work area environment property low water enhance enhance range form offer relate benefit benefit benefit growth food food food surface determine str... \n",
      "-RECORD 2-----------------------------------------------------------------------------------------------------------------------------------------------------------------------------------------------------------\n",
      " 2mallet | 209718 0 process process study cell cell cell cell cell cell cell cell cell cell cell cell cell cell development approach understanding understanding understanding understanding propose analysis im... \n",
      "only showing top 3 rows\n",
      "\n"
     ]
    },
    {
     "name": "stderr",
     "output_type": "stream",
     "text": [
      "                                                                                \r"
     ]
    }
   ],
   "source": [
    "trDFnew.withColumn(\"2mallet\", F.concat_ws(\" 0 \", \"id\", \"bow_text\")).select(\"2mallet\").show(n=3, vertical=True, truncate=200)"
   ]
  },
  {
   "cell_type": "code",
   "execution_count": 213,
   "id": "86c03495-7830-4fe4-9160-2850e2eb942f",
   "metadata": {},
   "outputs": [
    {
     "name": "stderr",
     "output_type": "stream",
     "text": [
      "22/06/13 18:25:56 ERROR scheduler.TaskSchedulerImpl: Lost executor 6 on node51.cluster.tsc.uc3m.es: Remote RPC client disassociated. Likely due to containers exceeding thresholds, or network issues. Check driver logs for WARN messages.\n",
      "22/06/13 18:25:56 WARN scheduler.TaskSetManager: Lost task 21.0 in stage 263.0 (TID 35881) (node51.cluster.tsc.uc3m.es executor 6): ExecutorLostFailure (executor 6 exited caused by one of the running tasks) Reason: Remote RPC client disassociated. Likely due to containers exceeding thresholds, or network issues. Check driver logs for WARN messages.\n",
      "22/06/13 18:25:56 WARN scheduler.TaskSetManager: Lost task 11.0 in stage 263.0 (TID 35871) (node51.cluster.tsc.uc3m.es executor 6): ExecutorLostFailure (executor 6 exited caused by one of the running tasks) Reason: Remote RPC client disassociated. Likely due to containers exceeding thresholds, or network issues. Check driver logs for WARN messages.\n",
      "22/06/13 18:25:56 WARN scheduler.TaskSetManager: Lost task 1.0 in stage 263.0 (TID 35861) (node51.cluster.tsc.uc3m.es executor 6): ExecutorLostFailure (executor 6 exited caused by one of the running tasks) Reason: Remote RPC client disassociated. Likely due to containers exceeding thresholds, or network issues. Check driver logs for WARN messages.\n",
      "22/06/13 18:25:56 WARN scheduler.TaskSetManager: Lost task 31.0 in stage 263.0 (TID 35891) (node51.cluster.tsc.uc3m.es executor 6): ExecutorLostFailure (executor 6 exited caused by one of the running tasks) Reason: Remote RPC client disassociated. Likely due to containers exceeding thresholds, or network issues. Check driver logs for WARN messages.\n",
      "22/06/13 18:36:45 WARN scheduler.DAGScheduler: Broadcasting large task binary with size 1336.9 KiB\n",
      "                                                                                \r"
     ]
    }
   ],
   "source": [
    "trDF.select(\"all_rawtext\", \"bow_text\").write.parquet(\"file:///export/usuarios_ml4ds/jarenas/github/IntelComp/ITMT/topicmodeler/test/S2CS_bow.parquet\",\n",
    "    mode=\"overwrite\",\n",
    ")"
   ]
  },
  {
   "cell_type": "code",
   "execution_count": 214,
   "id": "4d7762f9-5935-4266-99c3-ac1cfe730451",
   "metadata": {},
   "outputs": [
    {
     "name": "stderr",
     "output_type": "stream",
     "text": [
      "22/06/13 18:57:20 WARN scheduler.DAGScheduler: Broadcasting large task binary with size 1337.6 KiB\n",
      "2022-06-13 18:57:53,222:2221(0x7f854dfd6640):ZOO_ERROR@handle_socket_error_msg@1782: Socket [10.0.12.77:2181] zk retcode=-4, errno=112(Host is down): failed while receiving a server response\n",
      "I0613 18:57:53.222728  3175 group.cpp:452] Lost connection to ZooKeeper, attempting to reconnect ...\n",
      "2022-06-13 18:57:53,222:2221(0x7f854dfd6640):ZOO_INFO@check_events@1764: initiated connection to server [10.0.12.18:2181]\n",
      "2022-06-13 18:57:53,225:2221(0x7f854dfd6640):ZOO_INFO@check_events@1811: session establishment complete on server [10.0.12.18:2181], sessionId=0x404355563510006, negotiated timeout=10000\n",
      "I0613 18:57:53.225706  3205 group.cpp:341] Group process (zookeeper-group(1)@192.168.148.225:37855) reconnected to ZooKeeper\n",
      "I0613 18:57:53.225760  3205 group.cpp:831] Syncing group operations: queue size (joins, cancels, datas) = (0, 0, 0)\n",
      "22/06/13 19:17:17 WARN scheduler.DAGScheduler: Broadcasting large task binary with size 1337.6 KiB\n",
      "2022-06-13 23:48:47,170:2221(0x7f854dfd6640):ZOO_ERROR@handle_socket_error_msg@1782: Socket [10.0.12.18:2181] zk retcode=-4, errno=112(Host is down): failed while receiving a server response\n",
      "I0613 23:48:47.171221  3197 group.cpp:452] Lost connection to ZooKeeper, attempting to reconnect ...\n",
      "2022-06-13 23:48:47,205:2221(0x7f854dfd6640):ZOO_INFO@check_events@1764: initiated connection to server [10.0.12.60:2181]\n",
      "2022-06-13 23:48:47,651:2221(0x7f854dfd6640):ZOO_ERROR@handle_socket_error_msg@1782: Socket [10.0.12.60:2181] zk retcode=-4, errno=112(Host is down): failed while receiving a server response\n",
      "2022-06-13 23:48:47,651:2221(0x7f854dfd6640):ZOO_INFO@check_events@1764: initiated connection to server [10.0.12.78:2181]\n",
      "2022-06-13 23:48:47,651:2221(0x7f854dfd6640):ZOO_ERROR@handle_socket_error_msg@1782: Socket [10.0.12.78:2181] zk retcode=-4, errno=112(Host is down): failed while receiving a server response\n",
      "2022-06-13 23:48:47,651:2221(0x7f854dfd6640):ZOO_INFO@check_events@1764: initiated connection to server [10.0.12.75:2181]\n",
      "2022-06-13 23:48:47,652:2221(0x7f854dfd6640):ZOO_ERROR@handle_socket_error_msg@1782: Socket [10.0.12.75:2181] zk retcode=-4, errno=112(Host is down): failed while receiving a server response\n",
      "2022-06-13 23:48:47,652:2221(0x7f854dfd6640):ZOO_INFO@check_events@1764: initiated connection to server [10.0.12.76:2181]\n",
      "2022-06-13 23:48:47,652:2221(0x7f854dfd6640):ZOO_ERROR@handle_socket_error_msg@1782: Socket [10.0.12.76:2181] zk retcode=-4, errno=112(Host is down): failed while receiving a server response\n",
      "2022-06-13 23:48:47,653:2221(0x7f854dfd6640):ZOO_INFO@check_events@1764: initiated connection to server [10.0.12.51:2181]\n",
      "2022-06-13 23:48:47,655:2221(0x7f854dfd6640):ZOO_ERROR@handle_socket_error_msg@1782: Socket [10.0.12.51:2181] zk retcode=-4, errno=112(Host is down): failed while receiving a server response\n",
      "2022-06-13 23:48:50,990:2221(0x7f854dfd6640):ZOO_INFO@check_events@1764: initiated connection to server [10.0.12.77:2181]\n",
      "2022-06-13 23:48:50,990:2221(0x7f854dfd6640):ZOO_ERROR@handle_socket_error_msg@1782: Socket [10.0.12.77:2181] zk retcode=-4, errno=112(Host is down): failed while receiving a server response\n",
      "2022-06-13 23:48:50,990:2221(0x7f854dfd6640):ZOO_INFO@check_events@1764: initiated connection to server [10.0.12.18:2181]\n",
      "2022-06-13 23:48:50,991:2221(0x7f854dfd6640):ZOO_ERROR@handle_socket_error_msg@1782: Socket [10.0.12.18:2181] zk retcode=-4, errno=112(Host is down): failed while receiving a server response\n",
      "2022-06-13 23:48:50,992:2221(0x7f854dfd6640):ZOO_INFO@check_events@1764: initiated connection to server [10.0.12.60:2181]\n",
      "2022-06-13 23:48:51,002:2221(0x7f854dfd6640):ZOO_ERROR@handle_socket_error_msg@1782: Socket [10.0.12.60:2181] zk retcode=-4, errno=112(Host is down): failed while receiving a server response\n",
      "2022-06-13 23:48:51,002:2221(0x7f854dfd6640):ZOO_INFO@check_events@1764: initiated connection to server [10.0.12.78:2181]\n",
      "2022-06-13 23:48:51,002:2221(0x7f854dfd6640):ZOO_ERROR@handle_socket_error_msg@1782: Socket [10.0.12.78:2181] zk retcode=-4, errno=112(Host is down): failed while receiving a server response\n",
      "2022-06-13 23:48:51,002:2221(0x7f854dfd6640):ZOO_INFO@check_events@1764: initiated connection to server [10.0.12.75:2181]\n",
      "2022-06-13 23:48:51,003:2221(0x7f854dfd6640):ZOO_ERROR@handle_socket_error_msg@1782: Socket [10.0.12.75:2181] zk retcode=-4, errno=112(Host is down): failed while receiving a server response\n",
      "2022-06-13 23:48:51,003:2221(0x7f854dfd6640):ZOO_INFO@check_events@1764: initiated connection to server [10.0.12.76:2181]\n",
      "2022-06-13 23:48:51,003:2221(0x7f854dfd6640):ZOO_ERROR@handle_socket_error_msg@1782: Socket [10.0.12.76:2181] zk retcode=-4, errno=112(Host is down): failed while receiving a server response\n",
      "2022-06-13 23:48:51,004:2221(0x7f854dfd6640):ZOO_ERROR@handle_socket_error_msg@1758: Socket [10.0.12.51:2181] zk retcode=-4, errno=111(Connection refused): server refused to accept the client\n",
      "2022-06-13 23:48:54,338:2221(0x7f854dfd6640):ZOO_INFO@check_events@1764: initiated connection to server [10.0.12.77:2181]\n",
      "2022-06-13 23:48:54,338:2221(0x7f854dfd6640):ZOO_ERROR@handle_socket_error_msg@1782: Socket [10.0.12.77:2181] zk retcode=-4, errno=112(Host is down): failed while receiving a server response\n",
      "2022-06-13 23:48:54,339:2221(0x7f854dfd6640):ZOO_INFO@check_events@1764: initiated connection to server [10.0.12.18:2181]\n",
      "2022-06-13 23:48:54,339:2221(0x7f854dfd6640):ZOO_ERROR@handle_socket_error_msg@1782: Socket [10.0.12.18:2181] zk retcode=-4, errno=112(Host is down): failed while receiving a server response\n",
      "2022-06-13 23:48:54,342:2221(0x7f854dfd6640):ZOO_INFO@check_events@1764: initiated connection to server [10.0.12.60:2181]\n",
      "2022-06-13 23:48:54,361:2221(0x7f854dfd6640):ZOO_ERROR@handle_socket_error_msg@1782: Socket [10.0.12.60:2181] zk retcode=-4, errno=112(Host is down): failed while receiving a server response\n",
      "2022-06-13 23:48:54,361:2221(0x7f854dfd6640):ZOO_INFO@check_events@1764: initiated connection to server [10.0.12.78:2181]\n",
      "2022-06-13 23:48:54,362:2221(0x7f854dfd6640):ZOO_ERROR@handle_socket_error_msg@1782: Socket [10.0.12.78:2181] zk retcode=-4, errno=112(Host is down): failed while receiving a server response\n",
      "2022-06-13 23:48:54,362:2221(0x7f854dfd6640):ZOO_INFO@check_events@1764: initiated connection to server [10.0.12.75:2181]\n",
      "2022-06-13 23:48:54,362:2221(0x7f854dfd6640):ZOO_ERROR@handle_socket_error_msg@1782: Socket [10.0.12.75:2181] zk retcode=-4, errno=112(Host is down): failed while receiving a server response\n",
      "2022-06-13 23:48:54,363:2221(0x7f854dfd6640):ZOO_INFO@check_events@1764: initiated connection to server [10.0.12.76:2181]\n",
      "2022-06-13 23:48:54,363:2221(0x7f854dfd6640):ZOO_ERROR@handle_socket_error_msg@1782: Socket [10.0.12.76:2181] zk retcode=-4, errno=112(Host is down): failed while receiving a server response\n",
      "2022-06-13 23:48:54,363:2221(0x7f854dfd6640):ZOO_ERROR@handle_socket_error_msg@1758: Socket [10.0.12.51:2181] zk retcode=-4, errno=111(Connection refused): server refused to accept the client\n",
      "W0613 23:48:57.172546  3195 group.cpp:495] Timed out waiting to connect to ZooKeeper. Forcing ZooKeeper session (sessionId=404355563510006) expiration\n",
      "I0613 23:48:57.172663  3195 group.cpp:511] ZooKeeper session expired\n",
      "I0613 23:48:57.172731  3184 detector.cpp:152] Detected a new leader: None\n",
      "I0613 23:48:57.173048  3191 sched.cpp:377] No master detected\n",
      "2022-06-13 23:48:57,173:2221(0x7f8553fe2640):ZOO_INFO@zookeeper_close@2579: Freeing zookeeper resources for sessionId=0x404355563510006\n",
      "\n",
      "2022-06-13 23:48:57,173:2221(0x7f8550fdc640):ZOO_INFO@log_env@753: Client environment:zookeeper.version=zookeeper C client 3.4.8\n",
      "2022-06-13 23:48:57,173:2221(0x7f8550fdc640):ZOO_INFO@log_env@757: Client environment:host.name=hator00.tsc.uc3m.es\n",
      "2022-06-13 23:48:57,173:2221(0x7f8550fdc640):ZOO_INFO@log_env@764: Client environment:os.name=Linux\n",
      "2022-06-13 23:48:57,173:2221(0x7f8550fdc640):ZOO_INFO@log_env@765: Client environment:os.arch=5.14.13-gentoo-x86_64\n",
      "2022-06-13 23:48:57,173:2221(0x7f8550fdc640):ZOO_INFO@log_env@766: Client environment:os.version=#1 SMP Thu Oct 21 09:03:51 CEST 2021\n",
      "2022-06-13 23:48:57,183:2221(0x7f8550fdc640):ZOO_INFO@log_env@774: Client environment:user.name=jarenas\n",
      "2022-06-13 23:48:57,183:2221(0x7f8550fdc640):ZOO_INFO@log_env@782: Client environment:user.home=/export/usuarios01/jarenas\n",
      "2022-06-13 23:48:57,183:2221(0x7f8550fdc640):ZOO_INFO@log_env@794: Client environment:user.dir=/export/usuarios_ml4ds/jarenas/github/IntelComp/ITMT/topicmodeler/aux\n",
      "2022-06-13 23:48:57,183:2221(0x7f8550fdc640):ZOO_INFO@zookeeper_init@827: Initiating client connection, host=10.0.12.77:2181,10.0.12.78:2181,10.0.12.51:2181,10.0.12.60:2181,10.0.12.75:2181,10.0.12.76:2181,10.0.12.18:2181 sessionTimeout=10000 watcher=0x7f8569b4a8b0 sessionId=0 sessionPasswd=<null> context=0x7f8510000d88 flags=0\n",
      "2022-06-13 23:48:57,184:2221(0x7f854d7d5640):ZOO_INFO@check_events@1764: initiated connection to server [10.0.12.75:2181]\n",
      "2022-06-13 23:48:57,184:2221(0x7f854d7d5640):ZOO_ERROR@handle_socket_error_msg@1782: Socket [10.0.12.75:2181] zk retcode=-4, errno=112(Host is down): failed while receiving a server response\n",
      "2022-06-13 23:48:57,185:2221(0x7f854d7d5640):ZOO_ERROR@handle_socket_error_msg@1758: Socket [10.0.12.51:2181] zk retcode=-4, errno=111(Connection refused): server refused to accept the client\n",
      "2022-06-13 23:48:57,185:2221(0x7f854d7d5640):ZOO_INFO@check_events@1764: initiated connection to server [10.0.12.60:2181]\n",
      "2022-06-13 23:48:57,218:2221(0x7f854d7d5640):ZOO_ERROR@handle_socket_error_msg@1782: Socket [10.0.12.60:2181] zk retcode=-4, errno=112(Host is down): failed while receiving a server response\n",
      "2022-06-13 23:48:57,218:2221(0x7f854d7d5640):ZOO_INFO@check_events@1764: initiated connection to server [10.0.12.76:2181]\n",
      "2022-06-13 23:48:57,218:2221(0x7f854d7d5640):ZOO_ERROR@handle_socket_error_msg@1782: Socket [10.0.12.76:2181] zk retcode=-4, errno=112(Host is down): failed while receiving a server response\n",
      "2022-06-13 23:48:57,219:2221(0x7f854d7d5640):ZOO_INFO@check_events@1764: initiated connection to server [10.0.12.77:2181]\n",
      "2022-06-13 23:48:57,219:2221(0x7f854d7d5640):ZOO_ERROR@handle_socket_error_msg@1782: Socket [10.0.12.77:2181] zk retcode=-4, errno=112(Host is down): failed while receiving a server response\n",
      "2022-06-13 23:48:57,220:2221(0x7f854d7d5640):ZOO_INFO@check_events@1764: initiated connection to server [10.0.12.78:2181]\n",
      "2022-06-13 23:48:57,220:2221(0x7f854d7d5640):ZOO_ERROR@handle_socket_error_msg@1782: Socket [10.0.12.78:2181] zk retcode=-4, errno=112(Host is down): failed while receiving a server response\n",
      "2022-06-13 23:48:57,220:2221(0x7f854d7d5640):ZOO_INFO@check_events@1764: initiated connection to server [10.0.12.18:2181]\n",
      "2022-06-13 23:48:57,221:2221(0x7f854d7d5640):ZOO_ERROR@handle_socket_error_msg@1782: Socket [10.0.12.18:2181] zk retcode=-4, errno=112(Host is down): failed while receiving a server response\n",
      "2022-06-13 23:49:00,558:2221(0x7f854d7d5640):ZOO_INFO@check_events@1764: initiated connection to server [10.0.12.75:2181]\n",
      "2022-06-13 23:49:00,592:2221(0x7f854d7d5640):ZOO_INFO@check_events@1811: session establishment complete on server [10.0.12.75:2181], sessionId=0x20445017ed20018, negotiated timeout=10000\n",
      "I0613 23:49:00.593029  3193 group.cpp:341] Group process (zookeeper-group(1)@192.168.148.225:37855) connected to ZooKeeper\n",
      "I0613 23:49:00.593048  3193 group.cpp:831] Syncing group operations: queue size (joins, cancels, datas) = (0, 0, 0)\n",
      "I0613 23:49:00.593053  3193 group.cpp:419] Trying to create path '/mesos' in ZooKeeper\n",
      "I0613 23:49:00.617298  3203 detector.cpp:152] Detected a new leader: (id='7877')\n",
      "I0613 23:49:00.617408  3203 group.cpp:700] Trying to get '/mesos/json.info_0000007877' in ZooKeeper\n",
      "I0613 23:49:00.697536  3166 zookeeper.cpp:262] A new leading master (UPID=master@10.0.12.78:5050) is detected\n",
      "I0613 23:49:00.697647  3166 sched.cpp:345] New master detected at master@10.0.12.78:5050\n",
      "I0613 23:49:00.697811  3166 sched.cpp:410] Authenticating with master master@10.0.12.78:5050\n",
      "I0613 23:49:00.697862  3166 sched.cpp:417] Using default CRAM-MD5 authenticatee\n",
      "I0613 23:49:00.697944  3183 authenticatee.cpp:121] Creating new client SASL connection\n",
      "W0613 23:49:00.697945  3206 process.cpp:1480] Failed to link to '10.0.12.78:5050', connect: Failed to connect to 10.0.12.78:5050: Connection refused\n",
      "W0613 23:49:00.698539  3206 process.cpp:1917] Failed to send 'mesos.internal.AuthenticateMessage' to '10.0.12.78:5050', connect: Failed to connect to 10.0.12.78:5050: Connection refused\n",
      "W0613 23:49:07.553805  3206 sched.cpp:455] Authentication timed out\n",
      "I0613 23:49:07.553947  3174 sched.cpp:488] Failed to authenticate with master master@10.0.12.78:5050: Authentication discarded\n",
      "I0613 23:49:07.553972  3174 sched.cpp:410] Authenticating with master master@10.0.12.78:5050\n",
      "I0613 23:49:07.553980  3174 sched.cpp:417] Using default CRAM-MD5 authenticatee\n",
      "I0613 23:49:07.554060  3189 authenticatee.cpp:121] Creating new client SASL connection\n",
      "I0613 23:49:08.723428  3186 detector.cpp:152] Detected a new leader: (id='7878')\n",
      "I0613 23:49:08.723536  3186 group.cpp:700] Trying to get '/mesos/json.info_0000007878' in ZooKeeper\n",
      "I0613 23:49:08.724678  3189 zookeeper.cpp:262] A new leading master (UPID=master@10.0.12.77:5050) is detected\n",
      "I0613 23:49:08.724789  3202 sched.cpp:345] New master detected at master@10.0.12.77:5050\n",
      "I0613 23:49:08.725023  3202 sched.cpp:488] Failed to authenticate with master master@10.0.12.77:5050: master changed\n",
      "I0613 23:49:08.725033  3202 sched.cpp:410] Authenticating with master master@10.0.12.77:5050\n",
      "I0613 23:49:08.725037  3202 sched.cpp:417] Using default CRAM-MD5 authenticatee\n",
      "I0613 23:49:08.725100  3170 authenticatee.cpp:121] Creating new client SASL connection\n",
      "I0613 23:49:08.791272  3190 detector.cpp:152] Detected a new leader: (id='7882')\n",
      "I0613 23:49:08.791370  3190 group.cpp:700] Trying to get '/mesos/json.info_0000007882' in ZooKeeper\n",
      "I0613 23:49:08.795032  3190 zookeeper.cpp:262] A new leading master (UPID=master@10.0.12.76:5050) is detected\n",
      "I0613 23:49:08.795085  3190 sched.cpp:345] New master detected at master@10.0.12.76:5050\n",
      "I0613 23:49:08.795244  3189 sched.cpp:488] Failed to authenticate with master master@10.0.12.76:5050: master changed\n",
      "I0613 23:49:08.795258  3189 sched.cpp:410] Authenticating with master master@10.0.12.76:5050\n",
      "I0613 23:49:08.795261  3189 sched.cpp:417] Using default CRAM-MD5 authenticatee\n",
      "I0613 23:49:08.795347  3171 authenticatee.cpp:121] Creating new client SASL connection\n",
      "W0613 23:49:28.847893  3206 sched.cpp:455] Authentication timed out\n",
      "I0613 23:49:28.848057  3167 sched.cpp:488] Failed to authenticate with master master@10.0.12.76:5050: Authentication discarded\n",
      "I0613 23:49:28.848071  3167 sched.cpp:410] Authenticating with master master@10.0.12.76:5050\n",
      "I0613 23:49:28.848074  3167 sched.cpp:417] Using default CRAM-MD5 authenticatee\n",
      "I0613 23:49:28.848124  3178 authenticatee.cpp:121] Creating new client SASL connection\n",
      "W0613 23:49:28.849557  3206 process.cpp:846] Failed to recv on socket 375 to peer '192.168.151.123:51122': Decoder error\n",
      "I0613 23:49:28.850510  3173 authenticatee.cpp:213] Received SASL authentication mechanisms: CRAM-MD5\n",
      "I0613 23:49:28.850540  3173 authenticatee.cpp:239] Attempting to authenticate with mechanism 'CRAM-MD5'\n",
      "I0613 23:49:28.851248  3169 authenticatee.cpp:259] Received SASL authentication step\n",
      "I0613 23:49:28.851943  3197 authenticatee.cpp:299] Authentication success\n",
      "I0613 23:49:28.852069  3193 sched.cpp:522] Successfully authenticated with master master@10.0.12.76:5050\n",
      "I0613 23:49:28.853219  3166 sched.cpp:753] Framework registered with 6ad68812-e362-4778-9188-d9b6a1764bf8-0014\n"
     ]
    }
   ],
   "source": [
    "trDF.sample(fraction=0.1).select(\"all_rawtext\", \"bow_text\").write.parquet(\"file:///export/usuarios_ml4ds/jarenas/github/IntelComp/ITMT/topicmodeler/test/S2CS_bow_medium.parquet\",\n",
    "    mode=\"overwrite\",\n",
    ")\n",
    "\n",
    "trDF.sample(fraction=0.01).select(\"all_rawtext\", \"bow_text\").write.parquet(\"file:///export/usuarios_ml4ds/jarenas/github/IntelComp/ITMT/topicmodeler/test/S2CS_bow_small.parquet\",\n",
    "    mode=\"overwrite\",\n",
    ")"
   ]
  },
  {
   "cell_type": "code",
   "execution_count": null,
   "id": "ad637469-18a9-449f-aca8-040099419233",
   "metadata": {},
   "outputs": [],
   "source": []
  }
 ],
 "metadata": {
  "kernelspec": {
   "display_name": "Python 3 (ipykernel)",
   "language": "python",
   "name": "python3"
  },
  "language_info": {
   "codemirror_mode": {
    "name": "ipython",
    "version": 3
   },
   "file_extension": ".py",
   "mimetype": "text/x-python",
   "name": "python",
   "nbconvert_exporter": "python",
   "pygments_lexer": "ipython3",
   "version": "3.8.13"
  }
 },
 "nbformat": 4,
 "nbformat_minor": 5
}
