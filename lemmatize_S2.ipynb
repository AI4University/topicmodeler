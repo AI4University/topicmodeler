{
 "cells": [
  {
   "cell_type": "markdown",
   "id": "319e2032",
   "metadata": {},
   "source": [
    "# Lemmatize Semantic Scholar papers using Spark NLP"
   ]
  },
  {
   "cell_type": "code",
   "execution_count": 1,
   "id": "58ccc6a4",
   "metadata": {},
   "outputs": [],
   "source": [
    "from sparknlp.base import *\n",
    "from sparknlp.annotator import *\n",
    "import sparknlp\n",
    "from pyspark.ml import Pipeline\n",
    "import pyspark.sql.functions as F\n",
    "from pyspark.sql.types import StringType\n",
    "from pathlib import Path"
   ]
  },
  {
   "cell_type": "markdown",
   "id": "007ee1f5",
   "metadata": {},
   "source": [
    "## 1. Read papers and concatenate the `title` and `paperAbstract` fields"
   ]
  },
  {
   "cell_type": "code",
   "execution_count": 2,
   "id": "c8f6fcdf",
   "metadata": {},
   "outputs": [
    {
     "name": "stderr",
     "output_type": "stream",
     "text": [
      "22/03/21 13:28:11 WARN conf.HiveConf: HiveConf of name hive.stats.jdbc.timeout does not exist\n",
      "22/03/21 13:28:11 WARN conf.HiveConf: HiveConf of name hive.stats.retries.wait does not exist\n",
      "22/03/21 13:28:13 WARN metastore.ObjectStore: Version information not found in metastore. hive.metastore.schema.verification is not enabled so recording the schema version 2.3.0\n",
      "22/03/21 13:28:13 WARN metastore.ObjectStore: setMetaStoreSchemaVersion called but recording version is disabled: version = 2.3.0, comment = Set by MetaStore jarenas@192.168.148.225\n",
      "22/03/21 13:28:13 WARN metastore.ObjectStore: Failed to get database global_temp, returning NoSuchObjectException\n",
      "22/03/21 13:28:13 WARN metastore.ObjectStore: Failed to get database parquet, returning NoSuchObjectException\n",
      "[Stage 1:================================================>    (912 + 32) / 1000]\r"
     ]
    },
    {
     "name": "stdout",
     "output_type": "stream",
     "text": [
      "Number of papers before language filtering: 204457855\n",
      "CPU times: user 30.1 ms, sys: 8.25 ms, total: 38.4 ms\n",
      "Wall time: 2min 13s\n"
     ]
    },
    {
     "name": "stderr",
     "output_type": "stream",
     "text": [
      "\r",
      "                                                                                \r"
     ]
    }
   ],
   "source": [
    "%%time\n",
    "\n",
    "# Loading papers table text fields, and concatenating them for lemmatization\n",
    "S2papers = spark.sql(\"SELECT id, title, paperAbstract FROM parquet.`/export/ml4ds/IntelComp/Datalake/SemanticScholar/20220201/papers.parquet`\")\n",
    "\n",
    "##For development purposes only\n",
    "#S2papers = S2papers.sample(fraction=0.0001)\n",
    "\n",
    "#Concatenate text fields to lemmatize\n",
    "S2papers = (\n",
    "    S2papers.withColumn(\"rawtext\",F.concat_ws('. ', \"title\", \"paperAbstract\"))\n",
    "    .drop(\"title\")\n",
    "    .drop(\"paperAbstract\")\n",
    ")\n",
    "\n",
    "print('Number of papers before language filtering:', S2papers.count())"
   ]
  },
  {
   "cell_type": "markdown",
   "id": "a0ba78d8",
   "metadata": {},
   "source": [
    "## 2. Filter abstracts that are not in English Language"
   ]
  },
  {
   "cell_type": "code",
   "execution_count": 3,
   "id": "ba2ecc2f",
   "metadata": {},
   "outputs": [
    {
     "name": "stdout",
     "output_type": "stream",
     "text": [
      "ld_wiki_tatoeba_cnn_21 download started this may take some time.\n",
      "Approximate size to download 7.1 MB\n",
      "[ | ]ld_wiki_tatoeba_cnn_21 download started this may take some time.\n",
      "Approximate size to download 7.1 MB\n",
      "Download done! Loading the resource.\n"
     ]
    },
    {
     "name": "stderr",
     "output_type": "stream",
     "text": [
      "\r",
      "[Stage 4:=========>                                                (2 + 1) / 12]\r"
     ]
    },
    {
     "name": "stdout",
     "output_type": "stream",
     "text": [
      "\r",
      "[ / ]"
     ]
    },
    {
     "name": "stderr",
     "output_type": "stream",
     "text": [
      "\r",
      "[Stage 4:==============>                                           (3 + 0) / 12]\r"
     ]
    },
    {
     "name": "stdout",
     "output_type": "stream",
     "text": [
      "\r",
      "[ — ]"
     ]
    },
    {
     "name": "stderr",
     "output_type": "stream",
     "text": [
      "[Stage 5:==============>                                           (3 + 0) / 12]\r"
     ]
    },
    {
     "name": "stdout",
     "output_type": "stream",
     "text": [
      "\r",
      "[ \\ ]"
     ]
    },
    {
     "name": "stderr",
     "output_type": "stream",
     "text": [
      "\r",
      "[Stage 5:===============================================>         (10 + 2) / 12]\r"
     ]
    },
    {
     "name": "stdout",
     "output_type": "stream",
     "text": [
      "\r",
      "[ | ]"
     ]
    },
    {
     "name": "stderr",
     "output_type": "stream",
     "text": [
      "2022-03-21 13:30:42.325817: I external/org_tensorflow/tensorflow/core/platform/cpu_feature_guard.cc:142] This TensorFlow binary is optimized with oneAPI Deep Neural Network Library (oneDNN) to use the following CPU instructions in performance-critical operations:  AVX2 FMA\n",
      "To enable them in other operations, rebuild TensorFlow with the appropriate compiler flags.\n",
      "2022-03-21 13:30:42.425946: I external/org_tensorflow/tensorflow/core/platform/profile_utils/cpu_utils.cc:112] CPU Frequency: 2399870000 Hz\n"
     ]
    },
    {
     "name": "stdout",
     "output_type": "stream",
     "text": [
      "[OK!]\n"
     ]
    },
    {
     "name": "stderr",
     "output_type": "stream",
     "text": [
      "22/03/21 13:30:53 ERROR scheduler.TaskSchedulerImpl: Lost executor 0 on node66.cluster.tsc.uc3m.es: Remote RPC client disassociated. Likely due to containers exceeding thresholds, or network issues. Check driver logs for WARN messages.\n",
      "22/03/21 13:30:53 WARN scheduler.TaskSetManager: Lost task 2.0 in stage 6.0 (TID 1061) (node66.cluster.tsc.uc3m.es executor 0): ExecutorLostFailure (executor 0 exited caused by one of the running tasks) Reason: Remote RPC client disassociated. Likely due to containers exceeding thresholds, or network issues. Check driver logs for WARN messages.\n",
      "22/03/21 13:30:53 WARN scheduler.TaskSetManager: Lost task 12.0 in stage 6.0 (TID 1070) (node66.cluster.tsc.uc3m.es executor 0): ExecutorLostFailure (executor 0 exited caused by one of the running tasks) Reason: Remote RPC client disassociated. Likely due to containers exceeding thresholds, or network issues. Check driver logs for WARN messages.\n",
      "22/03/21 13:30:53 WARN scheduler.TaskSetManager: Lost task 22.0 in stage 6.0 (TID 1079) (node66.cluster.tsc.uc3m.es executor 0): ExecutorLostFailure (executor 0 exited caused by one of the running tasks) Reason: Remote RPC client disassociated. Likely due to containers exceeding thresholds, or network issues. Check driver logs for WARN messages.\n",
      "22/03/21 13:30:53 WARN scheduler.TaskSetManager: Lost task 5.0 in stage 6.0 (TID 1064) (node66.cluster.tsc.uc3m.es executor 0): ExecutorLostFailure (executor 0 exited caused by one of the running tasks) Reason: Remote RPC client disassociated. Likely due to containers exceeding thresholds, or network issues. Check driver logs for WARN messages.\n",
      "22/03/21 13:30:53 WARN scheduler.TaskSetManager: Lost task 15.0 in stage 6.0 (TID 1073) (node66.cluster.tsc.uc3m.es executor 0): ExecutorLostFailure (executor 0 exited caused by one of the running tasks) Reason: Remote RPC client disassociated. Likely due to containers exceeding thresholds, or network issues. Check driver logs for WARN messages.\n",
      "22/03/21 13:30:53 WARN scheduler.TaskSetManager: Lost task 26.0 in stage 6.0 (TID 1082) (node66.cluster.tsc.uc3m.es executor 0): ExecutorLostFailure (executor 0 exited caused by one of the running tasks) Reason: Remote RPC client disassociated. Likely due to containers exceeding thresholds, or network issues. Check driver logs for WARN messages.\n",
      "22/03/21 13:30:53 WARN scheduler.TaskSetManager: Lost task 19.0 in stage 6.0 (TID 1076) (node66.cluster.tsc.uc3m.es executor 0): ExecutorLostFailure (executor 0 exited caused by one of the running tasks) Reason: Remote RPC client disassociated. Likely due to containers exceeding thresholds, or network issues. Check driver logs for WARN messages.\n",
      "22/03/21 13:30:53 WARN scheduler.TaskSetManager: Lost task 9.0 in stage 6.0 (TID 1067) (node66.cluster.tsc.uc3m.es executor 0): ExecutorLostFailure (executor 0 exited caused by one of the running tasks) Reason: Remote RPC client disassociated. Likely due to containers exceeding thresholds, or network issues. Check driver logs for WARN messages.\n",
      "22/03/21 13:31:01 ERROR scheduler.TaskSchedulerImpl: Lost executor 3 on node64.cluster.tsc.uc3m.es: Remote RPC client disassociated. Likely due to containers exceeding thresholds, or network issues. Check driver logs for WARN messages.\n",
      "22/03/21 13:31:01 WARN scheduler.TaskSetManager: Lost task 23.0 in stage 6.0 (TID 1080) (node64.cluster.tsc.uc3m.es executor 3): ExecutorLostFailure (executor 3 exited caused by one of the running tasks) Reason: Remote RPC client disassociated. Likely due to containers exceeding thresholds, or network issues. Check driver logs for WARN messages.\n",
      "22/03/21 13:31:01 WARN scheduler.TaskSetManager: Lost task 7.0 in stage 6.0 (TID 1065) (node64.cluster.tsc.uc3m.es executor 3): ExecutorLostFailure (executor 3 exited caused by one of the running tasks) Reason: Remote RPC client disassociated. Likely due to containers exceeding thresholds, or network issues. Check driver logs for WARN messages.\n",
      "22/03/21 13:31:01 WARN scheduler.TaskSetManager: Lost task 16.0 in stage 6.0 (TID 1074) (node64.cluster.tsc.uc3m.es executor 3): ExecutorLostFailure (executor 3 exited caused by one of the running tasks) Reason: Remote RPC client disassociated. Likely due to containers exceeding thresholds, or network issues. Check driver logs for WARN messages.\n",
      "22/03/21 13:31:01 WARN scheduler.TaskSetManager: Lost task 0.0 in stage 6.0 (TID 1059) (node64.cluster.tsc.uc3m.es executor 3): ExecutorLostFailure (executor 3 exited caused by one of the running tasks) Reason: Remote RPC client disassociated. Likely due to containers exceeding thresholds, or network issues. Check driver logs for WARN messages.\n",
      "22/03/21 13:31:01 WARN scheduler.TaskSetManager: Lost task 10.0 in stage 6.0 (TID 1068) (node64.cluster.tsc.uc3m.es executor 3): ExecutorLostFailure (executor 3 exited caused by one of the running tasks) Reason: Remote RPC client disassociated. Likely due to containers exceeding thresholds, or network issues. Check driver logs for WARN messages.\n",
      "22/03/21 13:31:01 WARN scheduler.TaskSetManager: Lost task 20.0 in stage 6.0 (TID 1077) (node64.cluster.tsc.uc3m.es executor 3): ExecutorLostFailure (executor 3 exited caused by one of the running tasks) Reason: Remote RPC client disassociated. Likely due to containers exceeding thresholds, or network issues. Check driver logs for WARN messages.\n",
      "22/03/21 13:31:01 WARN scheduler.TaskSetManager: Lost task 13.0 in stage 6.0 (TID 1071) (node64.cluster.tsc.uc3m.es executor 3): ExecutorLostFailure (executor 3 exited caused by one of the running tasks) Reason: Remote RPC client disassociated. Likely due to containers exceeding thresholds, or network issues. Check driver logs for WARN messages.\n",
      "22/03/21 13:31:01 WARN scheduler.TaskSetManager: Lost task 3.0 in stage 6.0 (TID 1062) (node64.cluster.tsc.uc3m.es executor 3): ExecutorLostFailure (executor 3 exited caused by one of the running tasks) Reason: Remote RPC client disassociated. Likely due to containers exceeding thresholds, or network issues. Check driver logs for WARN messages.\n",
      "22/03/21 13:31:04 ERROR scheduler.TaskSchedulerImpl: Lost executor 15 on node67.cluster.tsc.uc3m.es: Remote RPC client disassociated. Likely due to containers exceeding thresholds, or network issues. Check driver logs for WARN messages.\n",
      "22/03/21 13:31:04 WARN scheduler.TaskSetManager: Lost task 33.0 in stage 6.0 (TID 1088) (node67.cluster.tsc.uc3m.es executor 15): ExecutorLostFailure (executor 15 exited caused by one of the running tasks) Reason: Remote RPC client disassociated. Likely due to containers exceeding thresholds, or network issues. Check driver logs for WARN messages.\n",
      "22/03/21 13:31:04 WARN scheduler.TaskSetManager: Lost task 30.0 in stage 6.0 (TID 1085) (node67.cluster.tsc.uc3m.es executor 15): ExecutorLostFailure (executor 15 exited caused by one of the running tasks) Reason: Remote RPC client disassociated. Likely due to containers exceeding thresholds, or network issues. Check driver logs for WARN messages.\n",
      "22/03/21 13:31:04 WARN scheduler.TaskSetManager: Lost task 29.0 in stage 6.0 (TID 1084) (node67.cluster.tsc.uc3m.es executor 15): ExecutorLostFailure (executor 15 exited caused by one of the running tasks) Reason: Remote RPC client disassociated. Likely due to containers exceeding thresholds, or network issues. Check driver logs for WARN messages.\n",
      "22/03/21 13:31:04 WARN scheduler.TaskSetManager: Lost task 32.0 in stage 6.0 (TID 1087) (node67.cluster.tsc.uc3m.es executor 15): ExecutorLostFailure (executor 15 exited caused by one of the running tasks) Reason: Remote RPC client disassociated. Likely due to containers exceeding thresholds, or network issues. Check driver logs for WARN messages.\n",
      "22/03/21 13:31:04 WARN scheduler.TaskSetManager: Lost task 36.0 in stage 6.0 (TID 1090) (node67.cluster.tsc.uc3m.es executor 15): ExecutorLostFailure (executor 15 exited caused by one of the running tasks) Reason: Remote RPC client disassociated. Likely due to containers exceeding thresholds, or network issues. Check driver logs for WARN messages.\n",
      "22/03/21 13:31:04 WARN scheduler.TaskSetManager: Lost task 34.0 in stage 6.0 (TID 1089) (node67.cluster.tsc.uc3m.es executor 15): ExecutorLostFailure (executor 15 exited caused by one of the running tasks) Reason: Remote RPC client disassociated. Likely due to containers exceeding thresholds, or network issues. Check driver logs for WARN messages.\n",
      "22/03/21 13:31:04 WARN scheduler.TaskSetManager: Lost task 28.0 in stage 6.0 (TID 1083) (node67.cluster.tsc.uc3m.es executor 15): ExecutorLostFailure (executor 15 exited caused by one of the running tasks) Reason: Remote RPC client disassociated. Likely due to containers exceeding thresholds, or network issues. Check driver logs for WARN messages.\n",
      "22/03/21 13:31:04 WARN scheduler.TaskSetManager: Lost task 31.0 in stage 6.0 (TID 1086) (node67.cluster.tsc.uc3m.es executor 15): ExecutorLostFailure (executor 15 exited caused by one of the running tasks) Reason: Remote RPC client disassociated. Likely due to containers exceeding thresholds, or network issues. Check driver logs for WARN messages.\n"
     ]
    },
    {
     "name": "stderr",
     "output_type": "stream",
     "text": [
      "22/03/21 13:31:48 ERROR scheduler.TaskSchedulerImpl: Lost executor 18 on node51.cluster.tsc.uc3m.es: Remote RPC client disassociated. Likely due to containers exceeding thresholds, or network issues. Check driver logs for WARN messages.\n",
      "22/03/21 13:31:48 WARN scheduler.TaskSetManager: Lost task 47.0 in stage 6.0 (TID 1186) (node51.cluster.tsc.uc3m.es executor 18): ExecutorLostFailure (executor 18 exited caused by one of the running tasks) Reason: Remote RPC client disassociated. Likely due to containers exceeding thresholds, or network issues. Check driver logs for WARN messages.\n",
      "22/03/21 13:31:48 WARN scheduler.TaskSetManager: Lost task 34.1 in stage 6.0 (TID 1180) (node51.cluster.tsc.uc3m.es executor 18): ExecutorLostFailure (executor 18 exited caused by one of the running tasks) Reason: Remote RPC client disassociated. Likely due to containers exceeding thresholds, or network issues. Check driver logs for WARN messages.\n",
      "22/03/21 13:31:48 WARN scheduler.TaskSetManager: Lost task 3.1 in stage 6.0 (TID 1183) (node51.cluster.tsc.uc3m.es executor 18): ExecutorLostFailure (executor 18 exited caused by one of the running tasks) Reason: Remote RPC client disassociated. Likely due to containers exceeding thresholds, or network issues. Check driver logs for WARN messages.\n",
      "22/03/21 13:31:48 WARN scheduler.TaskSetManager: Lost task 0.1 in stage 6.0 (TID 1185) (node51.cluster.tsc.uc3m.es executor 18): ExecutorLostFailure (executor 18 exited caused by one of the running tasks) Reason: Remote RPC client disassociated. Likely due to containers exceeding thresholds, or network issues. Check driver logs for WARN messages.\n",
      "22/03/21 13:31:48 WARN scheduler.TaskSetManager: Lost task 31.1 in stage 6.0 (TID 1179) (node51.cluster.tsc.uc3m.es executor 18): ExecutorLostFailure (executor 18 exited caused by one of the running tasks) Reason: Remote RPC client disassociated. Likely due to containers exceeding thresholds, or network issues. Check driver logs for WARN messages.\n",
      "22/03/21 13:31:48 WARN scheduler.TaskSetManager: Lost task 29.1 in stage 6.0 (TID 1182) (node51.cluster.tsc.uc3m.es executor 18): ExecutorLostFailure (executor 18 exited caused by one of the running tasks) Reason: Remote RPC client disassociated. Likely due to containers exceeding thresholds, or network issues. Check driver logs for WARN messages.\n",
      "22/03/21 13:31:48 WARN scheduler.TaskSetManager: Lost task 32.1 in stage 6.0 (TID 1181) (node51.cluster.tsc.uc3m.es executor 18): ExecutorLostFailure (executor 18 exited caused by one of the running tasks) Reason: Remote RPC client disassociated. Likely due to containers exceeding thresholds, or network issues. Check driver logs for WARN messages.\n",
      "22/03/21 13:31:48 WARN scheduler.TaskSetManager: Lost task 10.1 in stage 6.0 (TID 1184) (node51.cluster.tsc.uc3m.es executor 18): ExecutorLostFailure (executor 18 exited caused by one of the running tasks) Reason: Remote RPC client disassociated. Likely due to containers exceeding thresholds, or network issues. Check driver logs for WARN messages.\n",
      "22/03/21 13:31:53 ERROR scheduler.TaskSchedulerImpl: Lost executor 28 on node55.cluster.tsc.uc3m.es: Remote RPC client disassociated. Likely due to containers exceeding thresholds, or network issues. Check driver logs for WARN messages.\n",
      "22/03/21 13:31:53 WARN scheduler.TaskSetManager: Lost task 87.0 in stage 6.0 (TID 1213) (node55.cluster.tsc.uc3m.es executor 28): ExecutorLostFailure (executor 28 exited caused by one of the running tasks) Reason: Remote RPC client disassociated. Likely due to containers exceeding thresholds, or network issues. Check driver logs for WARN messages.\n",
      "22/03/21 13:31:53 WARN scheduler.TaskSetManager: Lost task 115.0 in stage 6.0 (TID 1225) (node55.cluster.tsc.uc3m.es executor 28): ExecutorLostFailure (executor 28 exited caused by one of the running tasks) Reason: Remote RPC client disassociated. Likely due to containers exceeding thresholds, or network issues. Check driver logs for WARN messages.\n",
      "22/03/21 13:31:53 WARN scheduler.TaskSetManager: Lost task 99.0 in stage 6.0 (TID 1219) (node55.cluster.tsc.uc3m.es executor 28): ExecutorLostFailure (executor 28 exited caused by one of the running tasks) Reason: Remote RPC client disassociated. Likely due to containers exceeding thresholds, or network issues. Check driver logs for WARN messages.\n",
      "22/03/21 13:31:53 WARN scheduler.TaskSetManager: Lost task 102.0 in stage 6.0 (TID 1221) (node55.cluster.tsc.uc3m.es executor 28): ExecutorLostFailure (executor 28 exited caused by one of the running tasks) Reason: Remote RPC client disassociated. Likely due to containers exceeding thresholds, or network issues. Check driver logs for WARN messages.\n",
      "22/03/21 13:31:53 WARN scheduler.TaskSetManager: Lost task 92.0 in stage 6.0 (TID 1215) (node55.cluster.tsc.uc3m.es executor 28): ExecutorLostFailure (executor 28 exited caused by one of the running tasks) Reason: Remote RPC client disassociated. Likely due to containers exceeding thresholds, or network issues. Check driver logs for WARN messages.\n",
      "22/03/21 13:31:53 WARN scheduler.TaskSetManager: Lost task 109.0 in stage 6.0 (TID 1223) (node55.cluster.tsc.uc3m.es executor 28): ExecutorLostFailure (executor 28 exited caused by one of the running tasks) Reason: Remote RPC client disassociated. Likely due to containers exceeding thresholds, or network issues. Check driver logs for WARN messages.\n",
      "22/03/21 13:31:53 WARN scheduler.TaskSetManager: Lost task 96.0 in stage 6.0 (TID 1217) (node55.cluster.tsc.uc3m.es executor 28): ExecutorLostFailure (executor 28 exited caused by one of the running tasks) Reason: Remote RPC client disassociated. Likely due to containers exceeding thresholds, or network issues. Check driver logs for WARN messages.\n",
      "22/03/21 13:31:53 WARN scheduler.TaskSetManager: Lost task 82.0 in stage 6.0 (TID 1211) (node55.cluster.tsc.uc3m.es executor 28): ExecutorLostFailure (executor 28 exited caused by one of the running tasks) Reason: Remote RPC client disassociated. Likely due to containers exceeding thresholds, or network issues. Check driver logs for WARN messages.\n",
      "22/03/21 13:31:54 ERROR scheduler.TaskSchedulerImpl: Lost executor 31 on node07.cluster.tsc.uc3m.es: Remote RPC client disassociated. Likely due to containers exceeding thresholds, or network issues. Check driver logs for WARN messages.\n",
      "22/03/21 13:31:54 WARN scheduler.TaskSetManager: Lost task 261.0 in stage 6.0 (TID 1231) (node07.cluster.tsc.uc3m.es executor 31): ExecutorLostFailure (executor 31 exited caused by one of the running tasks) Reason: Remote RPC client disassociated. Likely due to containers exceeding thresholds, or network issues. Check driver logs for WARN messages.\n",
      "22/03/21 13:31:54 WARN scheduler.TaskSetManager: Lost task 291.0 in stage 6.0 (TID 1234) (node07.cluster.tsc.uc3m.es executor 31): ExecutorLostFailure (executor 31 exited caused by one of the running tasks) Reason: Remote RPC client disassociated. Likely due to containers exceeding thresholds, or network issues. Check driver logs for WARN messages.\n",
      "22/03/21 13:31:54 WARN scheduler.TaskSetManager: Lost task 141.0 in stage 6.0 (TID 1228) (node07.cluster.tsc.uc3m.es executor 31): ExecutorLostFailure (executor 31 exited caused by one of the running tasks) Reason: Remote RPC client disassociated. Likely due to containers exceeding thresholds, or network issues. Check driver logs for WARN messages.\n",
      "22/03/21 13:31:54 WARN scheduler.TaskSetManager: Lost task 120.0 in stage 6.0 (TID 1227) (node07.cluster.tsc.uc3m.es executor 31): ExecutorLostFailure (executor 31 exited caused by one of the running tasks) Reason: Remote RPC client disassociated. Likely due to containers exceeding thresholds, or network issues. Check driver logs for WARN messages.\n",
      "22/03/21 13:31:54 WARN scheduler.TaskSetManager: Lost task 254.0 in stage 6.0 (TID 1230) (node07.cluster.tsc.uc3m.es executor 31): ExecutorLostFailure (executor 31 exited caused by one of the running tasks) Reason: Remote RPC client disassociated. Likely due to containers exceeding thresholds, or network issues. Check driver logs for WARN messages.\n",
      "22/03/21 13:31:54 WARN scheduler.TaskSetManager: Lost task 266.0 in stage 6.0 (TID 1233) (node07.cluster.tsc.uc3m.es executor 31): ExecutorLostFailure (executor 31 exited caused by one of the running tasks) Reason: Remote RPC client disassociated. Likely due to containers exceeding thresholds, or network issues. Check driver logs for WARN messages.\n",
      "22/03/21 13:31:54 WARN scheduler.TaskSetManager: Lost task 265.0 in stage 6.0 (TID 1232) (node07.cluster.tsc.uc3m.es executor 31): ExecutorLostFailure (executor 31 exited caused by one of the running tasks) Reason: Remote RPC client disassociated. Likely due to containers exceeding thresholds, or network issues. Check driver logs for WARN messages.\n",
      "22/03/21 13:31:54 WARN scheduler.TaskSetManager: Lost task 189.0 in stage 6.0 (TID 1229) (node07.cluster.tsc.uc3m.es executor 31): ExecutorLostFailure (executor 31 exited caused by one of the running tasks) Reason: Remote RPC client disassociated. Likely due to containers exceeding thresholds, or network issues. Check driver logs for WARN messages.\n"
     ]
    },
    {
     "name": "stderr",
     "output_type": "stream",
     "text": [
      "22/03/21 13:31:54 ERROR scheduler.TaskSchedulerImpl: Lost executor 5 on node68.cluster.tsc.uc3m.es: Remote RPC client disassociated. Likely due to containers exceeding thresholds, or network issues. Check driver logs for WARN messages.\n",
      "22/03/21 13:31:54 WARN scheduler.TaskSetManager: Lost task 89.0 in stage 6.0 (TID 1214) (node68.cluster.tsc.uc3m.es executor 5): ExecutorLostFailure (executor 5 exited caused by one of the running tasks) Reason: Remote RPC client disassociated. Likely due to containers exceeding thresholds, or network issues. Check driver logs for WARN messages.\n",
      "22/03/21 13:31:54 WARN scheduler.TaskSetManager: Lost task 108.0 in stage 6.0 (TID 1222) (node68.cluster.tsc.uc3m.es executor 5): ExecutorLostFailure (executor 5 exited caused by one of the running tasks) Reason: Remote RPC client disassociated. Likely due to containers exceeding thresholds, or network issues. Check driver logs for WARN messages.\n",
      "22/03/21 13:31:54 WARN scheduler.TaskSetManager: Lost task 95.0 in stage 6.0 (TID 1216) (node68.cluster.tsc.uc3m.es executor 5): ExecutorLostFailure (executor 5 exited caused by one of the running tasks) Reason: Remote RPC client disassociated. Likely due to containers exceeding thresholds, or network issues. Check driver logs for WARN messages.\n",
      "22/03/21 13:31:54 WARN scheduler.TaskSetManager: Lost task 98.0 in stage 6.0 (TID 1218) (node68.cluster.tsc.uc3m.es executor 5): ExecutorLostFailure (executor 5 exited caused by one of the running tasks) Reason: Remote RPC client disassociated. Likely due to containers exceeding thresholds, or network issues. Check driver logs for WARN messages.\n",
      "22/03/21 13:31:54 WARN scheduler.TaskSetManager: Lost task 86.0 in stage 6.0 (TID 1212) (node68.cluster.tsc.uc3m.es executor 5): ExecutorLostFailure (executor 5 exited caused by one of the running tasks) Reason: Remote RPC client disassociated. Likely due to containers exceeding thresholds, or network issues. Check driver logs for WARN messages.\n",
      "22/03/21 13:31:54 WARN scheduler.TaskSetManager: Lost task 111.0 in stage 6.0 (TID 1224) (node68.cluster.tsc.uc3m.es executor 5): ExecutorLostFailure (executor 5 exited caused by one of the running tasks) Reason: Remote RPC client disassociated. Likely due to containers exceeding thresholds, or network issues. Check driver logs for WARN messages.\n",
      "22/03/21 13:31:54 WARN scheduler.TaskSetManager: Lost task 119.0 in stage 6.0 (TID 1226) (node68.cluster.tsc.uc3m.es executor 5): ExecutorLostFailure (executor 5 exited caused by one of the running tasks) Reason: Remote RPC client disassociated. Likely due to containers exceeding thresholds, or network issues. Check driver logs for WARN messages.\n",
      "22/03/21 13:31:54 WARN scheduler.TaskSetManager: Lost task 101.0 in stage 6.0 (TID 1220) (node68.cluster.tsc.uc3m.es executor 5): ExecutorLostFailure (executor 5 exited caused by one of the running tasks) Reason: Remote RPC client disassociated. Likely due to containers exceeding thresholds, or network issues. Check driver logs for WARN messages.\n",
      "22/03/21 13:32:00 ERROR scheduler.TaskSchedulerImpl: Lost executor 17 on node65.cluster.tsc.uc3m.es: Remote RPC client disassociated. Likely due to containers exceeding thresholds, or network issues. Check driver logs for WARN messages.\n",
      "22/03/21 13:32:00 WARN scheduler.TaskSetManager: Lost task 48.0 in stage 6.0 (TID 1187) (node65.cluster.tsc.uc3m.es executor 17): ExecutorLostFailure (executor 17 exited caused by one of the running tasks) Reason: Remote RPC client disassociated. Likely due to containers exceeding thresholds, or network issues. Check driver logs for WARN messages.\n",
      "22/03/21 13:32:00 WARN scheduler.TaskSetManager: Lost task 54.0 in stage 6.0 (TID 1189) (node65.cluster.tsc.uc3m.es executor 17): ExecutorLostFailure (executor 17 exited caused by one of the running tasks) Reason: Remote RPC client disassociated. Likely due to containers exceeding thresholds, or network issues. Check driver logs for WARN messages.\n",
      "22/03/21 13:32:00 WARN scheduler.TaskSetManager: Lost task 64.0 in stage 6.0 (TID 1192) (node65.cluster.tsc.uc3m.es executor 17): ExecutorLostFailure (executor 17 exited caused by one of the running tasks) Reason: Remote RPC client disassociated. Likely due to containers exceeding thresholds, or network issues. Check driver logs for WARN messages.\n",
      "22/03/21 13:32:00 WARN scheduler.TaskSetManager: Lost task 67.0 in stage 6.0 (TID 1194) (node65.cluster.tsc.uc3m.es executor 17): ExecutorLostFailure (executor 17 exited caused by one of the running tasks) Reason: Remote RPC client disassociated. Likely due to containers exceeding thresholds, or network issues. Check driver logs for WARN messages.\n",
      "22/03/21 13:32:00 WARN scheduler.TaskSetManager: Lost task 51.0 in stage 6.0 (TID 1188) (node65.cluster.tsc.uc3m.es executor 17): ExecutorLostFailure (executor 17 exited caused by one of the running tasks) Reason: Remote RPC client disassociated. Likely due to containers exceeding thresholds, or network issues. Check driver logs for WARN messages.\n",
      "22/03/21 13:32:00 WARN scheduler.TaskSetManager: Lost task 62.0 in stage 6.0 (TID 1191) (node65.cluster.tsc.uc3m.es executor 17): ExecutorLostFailure (executor 17 exited caused by one of the running tasks) Reason: Remote RPC client disassociated. Likely due to containers exceeding thresholds, or network issues. Check driver logs for WARN messages.\n",
      "22/03/21 13:32:00 WARN scheduler.TaskSetManager: Lost task 61.0 in stage 6.0 (TID 1190) (node65.cluster.tsc.uc3m.es executor 17): ExecutorLostFailure (executor 17 exited caused by one of the running tasks) Reason: Remote RPC client disassociated. Likely due to containers exceeding thresholds, or network issues. Check driver logs for WARN messages.\n",
      "22/03/21 13:32:00 WARN scheduler.TaskSetManager: Lost task 66.0 in stage 6.0 (TID 1193) (node65.cluster.tsc.uc3m.es executor 17): ExecutorLostFailure (executor 17 exited caused by one of the running tasks) Reason: Remote RPC client disassociated. Likely due to containers exceeding thresholds, or network issues. Check driver logs for WARN messages.\n",
      "22/03/21 13:32:41 ERROR scheduler.TaskSchedulerImpl: Lost executor 37 on node55.cluster.tsc.uc3m.es: Remote RPC client disassociated. Likely due to containers exceeding thresholds, or network issues. Check driver logs for WARN messages.\n",
      "22/03/21 13:32:41 WARN scheduler.TaskSetManager: Lost task 66.1 in stage 6.0 (TID 1315) (node55.cluster.tsc.uc3m.es executor 37): ExecutorLostFailure (executor 37 exited caused by one of the running tasks) Reason: Remote RPC client disassociated. Likely due to containers exceeding thresholds, or network issues. Check driver logs for WARN messages.\n",
      "22/03/21 13:32:41 WARN scheduler.TaskSetManager: Lost task 51.1 in stage 6.0 (TID 1318) (node55.cluster.tsc.uc3m.es executor 37): ExecutorLostFailure (executor 37 exited caused by one of the running tasks) Reason: Remote RPC client disassociated. Likely due to containers exceeding thresholds, or network issues. Check driver logs for WARN messages.\n",
      "22/03/21 13:32:41 WARN scheduler.TaskSetManager: Lost task 189.1 in stage 6.0 (TID 1321) (node55.cluster.tsc.uc3m.es executor 37): ExecutorLostFailure (executor 37 exited caused by one of the running tasks) Reason: Remote RPC client disassociated. Likely due to containers exceeding thresholds, or network issues. Check driver logs for WARN messages.\n",
      "22/03/21 13:32:41 WARN scheduler.TaskSetManager: Lost task 54.1 in stage 6.0 (TID 1320) (node55.cluster.tsc.uc3m.es executor 37): ExecutorLostFailure (executor 37 exited caused by one of the running tasks) Reason: Remote RPC client disassociated. Likely due to containers exceeding thresholds, or network issues. Check driver logs for WARN messages.\n",
      "22/03/21 13:32:41 WARN scheduler.TaskSetManager: Lost task 62.1 in stage 6.0 (TID 1317) (node55.cluster.tsc.uc3m.es executor 37): ExecutorLostFailure (executor 37 exited caused by one of the running tasks) Reason: Remote RPC client disassociated. Likely due to containers exceeding thresholds, or network issues. Check driver logs for WARN messages.\n",
      "22/03/21 13:32:41 WARN scheduler.TaskSetManager: Lost task 67.1 in stage 6.0 (TID 1319) (node55.cluster.tsc.uc3m.es executor 37): ExecutorLostFailure (executor 37 exited caused by one of the running tasks) Reason: Remote RPC client disassociated. Likely due to containers exceeding thresholds, or network issues. Check driver logs for WARN messages.\n",
      "22/03/21 13:32:41 WARN scheduler.TaskSetManager: Lost task 266.1 in stage 6.0 (TID 1322) (node55.cluster.tsc.uc3m.es executor 37): ExecutorLostFailure (executor 37 exited caused by one of the running tasks) Reason: Remote RPC client disassociated. Likely due to containers exceeding thresholds, or network issues. Check driver logs for WARN messages.\n",
      "22/03/21 13:32:41 WARN scheduler.TaskSetManager: Lost task 61.1 in stage 6.0 (TID 1316) (node55.cluster.tsc.uc3m.es executor 37): ExecutorLostFailure (executor 37 exited caused by one of the running tasks) Reason: Remote RPC client disassociated. Likely due to containers exceeding thresholds, or network issues. Check driver logs for WARN messages.\n"
     ]
    },
    {
     "name": "stderr",
     "output_type": "stream",
     "text": [
      "22/03/21 13:33:04 ERROR scheduler.TaskSchedulerImpl: Lost executor 38 on node71.cluster.tsc.uc3m.es: Remote RPC client disassociated. Likely due to containers exceeding thresholds, or network issues. Check driver logs for WARN messages.\n",
      "22/03/21 13:33:04 WARN scheduler.TaskSetManager: Lost task 266.2 in stage 6.0 (TID 1324) (node71.cluster.tsc.uc3m.es executor 38): ExecutorLostFailure (executor 38 exited caused by one of the running tasks) Reason: Remote RPC client disassociated. Likely due to containers exceeding thresholds, or network issues. Check driver logs for WARN messages.\n",
      "22/03/21 13:33:04 WARN scheduler.TaskSetManager: Lost task 54.2 in stage 6.0 (TID 1327) (node71.cluster.tsc.uc3m.es executor 38): ExecutorLostFailure (executor 38 exited caused by one of the running tasks) Reason: Remote RPC client disassociated. Likely due to containers exceeding thresholds, or network issues. Check driver logs for WARN messages.\n",
      "22/03/21 13:33:04 WARN scheduler.TaskSetManager: Lost task 66.2 in stage 6.0 (TID 1330) (node71.cluster.tsc.uc3m.es executor 38): ExecutorLostFailure (executor 38 exited caused by one of the running tasks) Reason: Remote RPC client disassociated. Likely due to containers exceeding thresholds, or network issues. Check driver logs for WARN messages.\n",
      "22/03/21 13:33:04 WARN scheduler.TaskSetManager: Lost task 51.2 in stage 6.0 (TID 1329) (node71.cluster.tsc.uc3m.es executor 38): ExecutorLostFailure (executor 38 exited caused by one of the running tasks) Reason: Remote RPC client disassociated. Likely due to containers exceeding thresholds, or network issues. Check driver logs for WARN messages.\n",
      "22/03/21 13:33:04 WARN scheduler.TaskSetManager: Lost task 61.2 in stage 6.0 (TID 1323) (node71.cluster.tsc.uc3m.es executor 38): ExecutorLostFailure (executor 38 exited caused by one of the running tasks) Reason: Remote RPC client disassociated. Likely due to containers exceeding thresholds, or network issues. Check driver logs for WARN messages.\n",
      "22/03/21 13:33:04 WARN scheduler.TaskSetManager: Lost task 62.2 in stage 6.0 (TID 1326) (node71.cluster.tsc.uc3m.es executor 38): ExecutorLostFailure (executor 38 exited caused by one of the running tasks) Reason: Remote RPC client disassociated. Likely due to containers exceeding thresholds, or network issues. Check driver logs for WARN messages.\n",
      "22/03/21 13:33:04 WARN scheduler.TaskSetManager: Lost task 189.2 in stage 6.0 (TID 1328) (node71.cluster.tsc.uc3m.es executor 38): ExecutorLostFailure (executor 38 exited caused by one of the running tasks) Reason: Remote RPC client disassociated. Likely due to containers exceeding thresholds, or network issues. Check driver logs for WARN messages.\n",
      "22/03/21 13:33:04 WARN scheduler.TaskSetManager: Lost task 67.2 in stage 6.0 (TID 1325) (node71.cluster.tsc.uc3m.es executor 38): ExecutorLostFailure (executor 38 exited caused by one of the running tasks) Reason: Remote RPC client disassociated. Likely due to containers exceeding thresholds, or network issues. Check driver logs for WARN messages.\n",
      "22/03/21 13:33:27 ERROR scheduler.TaskSchedulerImpl: Lost executor 39 on node68.cluster.tsc.uc3m.es: Remote RPC client disassociated. Likely due to containers exceeding thresholds, or network issues. Check driver logs for WARN messages.\n",
      "22/03/21 13:33:27 WARN scheduler.TaskSetManager: Lost task 61.3 in stage 6.0 (TID 1342) (node68.cluster.tsc.uc3m.es executor 39): ExecutorLostFailure (executor 39 exited caused by one of the running tasks) Reason: Remote RPC client disassociated. Likely due to containers exceeding thresholds, or network issues. Check driver logs for WARN messages.\n",
      "22/03/21 13:33:27 ERROR scheduler.TaskSetManager: Task 61 in stage 6.0 failed 4 times; aborting job\n",
      "22/03/21 13:33:27 WARN scheduler.TaskSetManager: Lost task 54.3 in stage 6.0 (TID 1345) (node68.cluster.tsc.uc3m.es executor 39): ExecutorLostFailure (executor 39 exited caused by one of the running tasks) Reason: Remote RPC client disassociated. Likely due to containers exceeding thresholds, or network issues. Check driver logs for WARN messages.\n",
      "22/03/21 13:33:27 WARN scheduler.TaskSetManager: Lost task 67.3 in stage 6.0 (TID 1339) (node68.cluster.tsc.uc3m.es executor 39): ExecutorLostFailure (executor 39 exited caused by one of the running tasks) Reason: Remote RPC client disassociated. Likely due to containers exceeding thresholds, or network issues. Check driver logs for WARN messages.\n",
      "22/03/21 13:33:27 WARN scheduler.TaskSetManager: Lost task 62.3 in stage 6.0 (TID 1341) (node68.cluster.tsc.uc3m.es executor 39): ExecutorLostFailure (executor 39 exited caused by one of the running tasks) Reason: Remote RPC client disassociated. Likely due to containers exceeding thresholds, or network issues. Check driver logs for WARN messages.\n",
      "22/03/21 13:33:27 WARN scheduler.TaskSetManager: Lost task 66.3 in stage 6.0 (TID 1344) (node68.cluster.tsc.uc3m.es executor 39): ExecutorLostFailure (executor 39 exited caused by one of the running tasks) Reason: Remote RPC client disassociated. Likely due to containers exceeding thresholds, or network issues. Check driver logs for WARN messages.\n",
      "22/03/21 13:33:27 WARN scheduler.TaskSetManager: Lost task 51.3 in stage 6.0 (TID 1343) (node68.cluster.tsc.uc3m.es executor 39): ExecutorLostFailure (executor 39 exited caused by one of the running tasks) Reason: Remote RPC client disassociated. Likely due to containers exceeding thresholds, or network issues. Check driver logs for WARN messages.\n",
      "22/03/21 13:33:27 WARN scheduler.TaskSetManager: Lost task 266.3 in stage 6.0 (TID 1346) (node68.cluster.tsc.uc3m.es executor 39): ExecutorLostFailure (executor 39 exited caused by one of the running tasks) Reason: Remote RPC client disassociated. Likely due to containers exceeding thresholds, or network issues. Check driver logs for WARN messages.\n",
      "22/03/21 13:33:27 WARN scheduler.TaskSetManager: Lost task 189.3 in stage 6.0 (TID 1340) (node68.cluster.tsc.uc3m.es executor 39): ExecutorLostFailure (executor 39 exited caused by one of the running tasks) Reason: Remote RPC client disassociated. Likely due to containers exceeding thresholds, or network issues. Check driver logs for WARN messages.\n"
     ]
    },
    {
     "ename": "Py4JJavaError",
     "evalue": "An error occurred while calling o145.count.\n: org.apache.spark.SparkException: Job aborted due to stage failure: Task 61 in stage 6.0 failed 4 times, most recent failure: Lost task 61.3 in stage 6.0 (TID 1342) (node68.cluster.tsc.uc3m.es executor 39): ExecutorLostFailure (executor 39 exited caused by one of the running tasks) Reason: Remote RPC client disassociated. Likely due to containers exceeding thresholds, or network issues. Check driver logs for WARN messages.\nDriver stacktrace:\n\tat org.apache.spark.scheduler.DAGScheduler.failJobAndIndependentStages(DAGScheduler.scala:2253)\n\tat org.apache.spark.scheduler.DAGScheduler.$anonfun$abortStage$2(DAGScheduler.scala:2202)\n\tat org.apache.spark.scheduler.DAGScheduler.$anonfun$abortStage$2$adapted(DAGScheduler.scala:2201)\n\tat scala.collection.mutable.ResizableArray.foreach(ResizableArray.scala:62)\n\tat scala.collection.mutable.ResizableArray.foreach$(ResizableArray.scala:55)\n\tat scala.collection.mutable.ArrayBuffer.foreach(ArrayBuffer.scala:49)\n\tat org.apache.spark.scheduler.DAGScheduler.abortStage(DAGScheduler.scala:2201)\n\tat org.apache.spark.scheduler.DAGScheduler.$anonfun$handleTaskSetFailed$1(DAGScheduler.scala:1078)\n\tat org.apache.spark.scheduler.DAGScheduler.$anonfun$handleTaskSetFailed$1$adapted(DAGScheduler.scala:1078)\n\tat scala.Option.foreach(Option.scala:407)\n\tat org.apache.spark.scheduler.DAGScheduler.handleTaskSetFailed(DAGScheduler.scala:1078)\n\tat org.apache.spark.scheduler.DAGSchedulerEventProcessLoop.doOnReceive(DAGScheduler.scala:2440)\n\tat org.apache.spark.scheduler.DAGSchedulerEventProcessLoop.onReceive(DAGScheduler.scala:2382)\n\tat org.apache.spark.scheduler.DAGSchedulerEventProcessLoop.onReceive(DAGScheduler.scala:2371)\n\tat org.apache.spark.util.EventLoop$$anon$1.run(EventLoop.scala:49)\n\tat org.apache.spark.scheduler.DAGScheduler.runJob(DAGScheduler.scala:868)\n\tat org.apache.spark.SparkContext.runJob(SparkContext.scala:2202)\n\tat org.apache.spark.SparkContext.runJob(SparkContext.scala:2223)\n\tat org.apache.spark.SparkContext.runJob(SparkContext.scala:2242)\n\tat org.apache.spark.SparkContext.runJob(SparkContext.scala:2267)\n\tat org.apache.spark.rdd.RDD.$anonfun$collect$1(RDD.scala:1030)\n\tat org.apache.spark.rdd.RDDOperationScope$.withScope(RDDOperationScope.scala:151)\n\tat org.apache.spark.rdd.RDDOperationScope$.withScope(RDDOperationScope.scala:112)\n\tat org.apache.spark.rdd.RDD.withScope(RDD.scala:414)\n\tat org.apache.spark.rdd.RDD.collect(RDD.scala:1029)\n\tat org.apache.spark.sql.execution.SparkPlan.executeCollect(SparkPlan.scala:390)\n\tat org.apache.spark.sql.Dataset.$anonfun$count$1(Dataset.scala:3006)\n\tat org.apache.spark.sql.Dataset.$anonfun$count$1$adapted(Dataset.scala:3005)\n\tat org.apache.spark.sql.Dataset.$anonfun$withAction$1(Dataset.scala:3687)\n\tat org.apache.spark.sql.execution.SQLExecution$.$anonfun$withNewExecutionId$5(SQLExecution.scala:103)\n\tat org.apache.spark.sql.execution.SQLExecution$.withSQLConfPropagated(SQLExecution.scala:163)\n\tat org.apache.spark.sql.execution.SQLExecution$.$anonfun$withNewExecutionId$1(SQLExecution.scala:90)\n\tat org.apache.spark.sql.SparkSession.withActive(SparkSession.scala:772)\n\tat org.apache.spark.sql.execution.SQLExecution$.withNewExecutionId(SQLExecution.scala:64)\n\tat org.apache.spark.sql.Dataset.withAction(Dataset.scala:3685)\n\tat org.apache.spark.sql.Dataset.count(Dataset.scala:3005)\n\tat sun.reflect.NativeMethodAccessorImpl.invoke0(Native Method)\n\tat sun.reflect.NativeMethodAccessorImpl.invoke(NativeMethodAccessorImpl.java:62)\n\tat sun.reflect.DelegatingMethodAccessorImpl.invoke(DelegatingMethodAccessorImpl.java:43)\n\tat java.lang.reflect.Method.invoke(Method.java:498)\n\tat py4j.reflection.MethodInvoker.invoke(MethodInvoker.java:244)\n\tat py4j.reflection.ReflectionEngine.invoke(ReflectionEngine.java:357)\n\tat py4j.Gateway.invoke(Gateway.java:282)\n\tat py4j.commands.AbstractCommand.invokeMethod(AbstractCommand.java:132)\n\tat py4j.commands.CallCommand.execute(CallCommand.java:79)\n\tat py4j.GatewayConnection.run(GatewayConnection.java:238)\n\tat java.lang.Thread.run(Thread.java:748)\n",
     "output_type": "error",
     "traceback": [
      "\u001b[0;31m---------------------------------------------------------------------------\u001b[0m",
      "\u001b[0;31mPy4JJavaError\u001b[0m                             Traceback (most recent call last)",
      "\u001b[0;32m<timed exec>\u001b[0m in \u001b[0;36m<module>\u001b[0;34m\u001b[0m\n",
      "\u001b[0;32m/opt/spark-3.1.1-bin-2.8.3/python/pyspark/sql/dataframe.py\u001b[0m in \u001b[0;36mcount\u001b[0;34m(self)\u001b[0m\n\u001b[1;32m    662\u001b[0m         \u001b[0;36m2\u001b[0m\u001b[0;34m\u001b[0m\u001b[0;34m\u001b[0m\u001b[0m\n\u001b[1;32m    663\u001b[0m         \"\"\"\n\u001b[0;32m--> 664\u001b[0;31m         \u001b[0;32mreturn\u001b[0m \u001b[0mint\u001b[0m\u001b[0;34m(\u001b[0m\u001b[0mself\u001b[0m\u001b[0;34m.\u001b[0m\u001b[0m_jdf\u001b[0m\u001b[0;34m.\u001b[0m\u001b[0mcount\u001b[0m\u001b[0;34m(\u001b[0m\u001b[0;34m)\u001b[0m\u001b[0;34m)\u001b[0m\u001b[0;34m\u001b[0m\u001b[0;34m\u001b[0m\u001b[0m\n\u001b[0m\u001b[1;32m    665\u001b[0m \u001b[0;34m\u001b[0m\u001b[0m\n\u001b[1;32m    666\u001b[0m     \u001b[0;32mdef\u001b[0m \u001b[0mcollect\u001b[0m\u001b[0;34m(\u001b[0m\u001b[0mself\u001b[0m\u001b[0;34m)\u001b[0m\u001b[0;34m:\u001b[0m\u001b[0;34m\u001b[0m\u001b[0;34m\u001b[0m\u001b[0m\n",
      "\u001b[0;32m/opt/spark-3.1.1-bin-2.8.3/python/lib/py4j-0.10.9-src.zip/py4j/java_gateway.py\u001b[0m in \u001b[0;36m__call__\u001b[0;34m(self, *args)\u001b[0m\n\u001b[1;32m   1302\u001b[0m \u001b[0;34m\u001b[0m\u001b[0m\n\u001b[1;32m   1303\u001b[0m         \u001b[0manswer\u001b[0m \u001b[0;34m=\u001b[0m \u001b[0mself\u001b[0m\u001b[0;34m.\u001b[0m\u001b[0mgateway_client\u001b[0m\u001b[0;34m.\u001b[0m\u001b[0msend_command\u001b[0m\u001b[0;34m(\u001b[0m\u001b[0mcommand\u001b[0m\u001b[0;34m)\u001b[0m\u001b[0;34m\u001b[0m\u001b[0;34m\u001b[0m\u001b[0m\n\u001b[0;32m-> 1304\u001b[0;31m         return_value = get_return_value(\n\u001b[0m\u001b[1;32m   1305\u001b[0m             answer, self.gateway_client, self.target_id, self.name)\n\u001b[1;32m   1306\u001b[0m \u001b[0;34m\u001b[0m\u001b[0m\n",
      "\u001b[0;32m/opt/spark-3.1.1-bin-2.8.3/python/pyspark/sql/utils.py\u001b[0m in \u001b[0;36mdeco\u001b[0;34m(*a, **kw)\u001b[0m\n\u001b[1;32m    109\u001b[0m     \u001b[0;32mdef\u001b[0m \u001b[0mdeco\u001b[0m\u001b[0;34m(\u001b[0m\u001b[0;34m*\u001b[0m\u001b[0ma\u001b[0m\u001b[0;34m,\u001b[0m \u001b[0;34m**\u001b[0m\u001b[0mkw\u001b[0m\u001b[0;34m)\u001b[0m\u001b[0;34m:\u001b[0m\u001b[0;34m\u001b[0m\u001b[0;34m\u001b[0m\u001b[0m\n\u001b[1;32m    110\u001b[0m         \u001b[0;32mtry\u001b[0m\u001b[0;34m:\u001b[0m\u001b[0;34m\u001b[0m\u001b[0;34m\u001b[0m\u001b[0m\n\u001b[0;32m--> 111\u001b[0;31m             \u001b[0;32mreturn\u001b[0m \u001b[0mf\u001b[0m\u001b[0;34m(\u001b[0m\u001b[0;34m*\u001b[0m\u001b[0ma\u001b[0m\u001b[0;34m,\u001b[0m \u001b[0;34m**\u001b[0m\u001b[0mkw\u001b[0m\u001b[0;34m)\u001b[0m\u001b[0;34m\u001b[0m\u001b[0;34m\u001b[0m\u001b[0m\n\u001b[0m\u001b[1;32m    112\u001b[0m         \u001b[0;32mexcept\u001b[0m \u001b[0mpy4j\u001b[0m\u001b[0;34m.\u001b[0m\u001b[0mprotocol\u001b[0m\u001b[0;34m.\u001b[0m\u001b[0mPy4JJavaError\u001b[0m \u001b[0;32mas\u001b[0m \u001b[0me\u001b[0m\u001b[0;34m:\u001b[0m\u001b[0;34m\u001b[0m\u001b[0;34m\u001b[0m\u001b[0m\n\u001b[1;32m    113\u001b[0m             \u001b[0mconverted\u001b[0m \u001b[0;34m=\u001b[0m \u001b[0mconvert_exception\u001b[0m\u001b[0;34m(\u001b[0m\u001b[0me\u001b[0m\u001b[0;34m.\u001b[0m\u001b[0mjava_exception\u001b[0m\u001b[0;34m)\u001b[0m\u001b[0;34m\u001b[0m\u001b[0;34m\u001b[0m\u001b[0m\n",
      "\u001b[0;32m/opt/spark-3.1.1-bin-2.8.3/python/lib/py4j-0.10.9-src.zip/py4j/protocol.py\u001b[0m in \u001b[0;36mget_return_value\u001b[0;34m(answer, gateway_client, target_id, name)\u001b[0m\n\u001b[1;32m    324\u001b[0m             \u001b[0mvalue\u001b[0m \u001b[0;34m=\u001b[0m \u001b[0mOUTPUT_CONVERTER\u001b[0m\u001b[0;34m[\u001b[0m\u001b[0mtype\u001b[0m\u001b[0;34m]\u001b[0m\u001b[0;34m(\u001b[0m\u001b[0manswer\u001b[0m\u001b[0;34m[\u001b[0m\u001b[0;36m2\u001b[0m\u001b[0;34m:\u001b[0m\u001b[0;34m]\u001b[0m\u001b[0;34m,\u001b[0m \u001b[0mgateway_client\u001b[0m\u001b[0;34m)\u001b[0m\u001b[0;34m\u001b[0m\u001b[0;34m\u001b[0m\u001b[0m\n\u001b[1;32m    325\u001b[0m             \u001b[0;32mif\u001b[0m \u001b[0manswer\u001b[0m\u001b[0;34m[\u001b[0m\u001b[0;36m1\u001b[0m\u001b[0;34m]\u001b[0m \u001b[0;34m==\u001b[0m \u001b[0mREFERENCE_TYPE\u001b[0m\u001b[0;34m:\u001b[0m\u001b[0;34m\u001b[0m\u001b[0;34m\u001b[0m\u001b[0m\n\u001b[0;32m--> 326\u001b[0;31m                 raise Py4JJavaError(\n\u001b[0m\u001b[1;32m    327\u001b[0m                     \u001b[0;34m\"An error occurred while calling {0}{1}{2}.\\n\"\u001b[0m\u001b[0;34m.\u001b[0m\u001b[0;34m\u001b[0m\u001b[0;34m\u001b[0m\u001b[0m\n\u001b[1;32m    328\u001b[0m                     format(target_id, \".\", name), value)\n",
      "\u001b[0;31mPy4JJavaError\u001b[0m: An error occurred while calling o145.count.\n: org.apache.spark.SparkException: Job aborted due to stage failure: Task 61 in stage 6.0 failed 4 times, most recent failure: Lost task 61.3 in stage 6.0 (TID 1342) (node68.cluster.tsc.uc3m.es executor 39): ExecutorLostFailure (executor 39 exited caused by one of the running tasks) Reason: Remote RPC client disassociated. Likely due to containers exceeding thresholds, or network issues. Check driver logs for WARN messages.\nDriver stacktrace:\n\tat org.apache.spark.scheduler.DAGScheduler.failJobAndIndependentStages(DAGScheduler.scala:2253)\n\tat org.apache.spark.scheduler.DAGScheduler.$anonfun$abortStage$2(DAGScheduler.scala:2202)\n\tat org.apache.spark.scheduler.DAGScheduler.$anonfun$abortStage$2$adapted(DAGScheduler.scala:2201)\n\tat scala.collection.mutable.ResizableArray.foreach(ResizableArray.scala:62)\n\tat scala.collection.mutable.ResizableArray.foreach$(ResizableArray.scala:55)\n\tat scala.collection.mutable.ArrayBuffer.foreach(ArrayBuffer.scala:49)\n\tat org.apache.spark.scheduler.DAGScheduler.abortStage(DAGScheduler.scala:2201)\n\tat org.apache.spark.scheduler.DAGScheduler.$anonfun$handleTaskSetFailed$1(DAGScheduler.scala:1078)\n\tat org.apache.spark.scheduler.DAGScheduler.$anonfun$handleTaskSetFailed$1$adapted(DAGScheduler.scala:1078)\n\tat scala.Option.foreach(Option.scala:407)\n\tat org.apache.spark.scheduler.DAGScheduler.handleTaskSetFailed(DAGScheduler.scala:1078)\n\tat org.apache.spark.scheduler.DAGSchedulerEventProcessLoop.doOnReceive(DAGScheduler.scala:2440)\n\tat org.apache.spark.scheduler.DAGSchedulerEventProcessLoop.onReceive(DAGScheduler.scala:2382)\n\tat org.apache.spark.scheduler.DAGSchedulerEventProcessLoop.onReceive(DAGScheduler.scala:2371)\n\tat org.apache.spark.util.EventLoop$$anon$1.run(EventLoop.scala:49)\n\tat org.apache.spark.scheduler.DAGScheduler.runJob(DAGScheduler.scala:868)\n\tat org.apache.spark.SparkContext.runJob(SparkContext.scala:2202)\n\tat org.apache.spark.SparkContext.runJob(SparkContext.scala:2223)\n\tat org.apache.spark.SparkContext.runJob(SparkContext.scala:2242)\n\tat org.apache.spark.SparkContext.runJob(SparkContext.scala:2267)\n\tat org.apache.spark.rdd.RDD.$anonfun$collect$1(RDD.scala:1030)\n\tat org.apache.spark.rdd.RDDOperationScope$.withScope(RDDOperationScope.scala:151)\n\tat org.apache.spark.rdd.RDDOperationScope$.withScope(RDDOperationScope.scala:112)\n\tat org.apache.spark.rdd.RDD.withScope(RDD.scala:414)\n\tat org.apache.spark.rdd.RDD.collect(RDD.scala:1029)\n\tat org.apache.spark.sql.execution.SparkPlan.executeCollect(SparkPlan.scala:390)\n\tat org.apache.spark.sql.Dataset.$anonfun$count$1(Dataset.scala:3006)\n\tat org.apache.spark.sql.Dataset.$anonfun$count$1$adapted(Dataset.scala:3005)\n\tat org.apache.spark.sql.Dataset.$anonfun$withAction$1(Dataset.scala:3687)\n\tat org.apache.spark.sql.execution.SQLExecution$.$anonfun$withNewExecutionId$5(SQLExecution.scala:103)\n\tat org.apache.spark.sql.execution.SQLExecution$.withSQLConfPropagated(SQLExecution.scala:163)\n\tat org.apache.spark.sql.execution.SQLExecution$.$anonfun$withNewExecutionId$1(SQLExecution.scala:90)\n\tat org.apache.spark.sql.SparkSession.withActive(SparkSession.scala:772)\n\tat org.apache.spark.sql.execution.SQLExecution$.withNewExecutionId(SQLExecution.scala:64)\n\tat org.apache.spark.sql.Dataset.withAction(Dataset.scala:3685)\n\tat org.apache.spark.sql.Dataset.count(Dataset.scala:3005)\n\tat sun.reflect.NativeMethodAccessorImpl.invoke0(Native Method)\n\tat sun.reflect.NativeMethodAccessorImpl.invoke(NativeMethodAccessorImpl.java:62)\n\tat sun.reflect.DelegatingMethodAccessorImpl.invoke(DelegatingMethodAccessorImpl.java:43)\n\tat java.lang.reflect.Method.invoke(Method.java:498)\n\tat py4j.reflection.MethodInvoker.invoke(MethodInvoker.java:244)\n\tat py4j.reflection.ReflectionEngine.invoke(ReflectionEngine.java:357)\n\tat py4j.Gateway.invoke(Gateway.java:282)\n\tat py4j.commands.AbstractCommand.invokeMethod(AbstractCommand.java:132)\n\tat py4j.commands.CallCommand.execute(CallCommand.java:79)\n\tat py4j.GatewayConnection.run(GatewayConnection.java:238)\n\tat java.lang.Thread.run(Thread.java:748)\n"
     ]
    },
    {
     "name": "stderr",
     "output_type": "stream",
     "text": [
      "22/03/21 13:33:27 WARN scheduler.TaskSetManager: Lost task 134.0 in stage 6.0 (TID 1244) (node29.cluster.tsc.uc3m.es executor 14): TaskKilled (Stage cancelled)\n",
      "22/03/21 13:33:27 WARN scheduler.TaskSetManager: Lost task 188.0 in stage 6.0 (TID 1246) (node29.cluster.tsc.uc3m.es executor 14): TaskKilled (Stage cancelled)\n",
      "22/03/21 13:33:27 WARN scheduler.TaskSetManager: Lost task 166.0 in stage 6.0 (TID 1245) (node29.cluster.tsc.uc3m.es executor 14): TaskKilled (Stage cancelled)\n",
      "22/03/21 13:33:27 WARN scheduler.TaskSetManager: Lost task 260.0 in stage 6.0 (TID 1249) (node29.cluster.tsc.uc3m.es executor 14): TaskKilled (Stage cancelled)\n",
      "22/03/21 13:33:27 WARN scheduler.TaskSetManager: Lost task 29.2 in stage 6.0 (TID 1243) (node29.cluster.tsc.uc3m.es executor 14): TaskKilled (Stage cancelled)\n",
      "22/03/21 13:33:27 WARN scheduler.TaskSetManager: Lost task 267.0 in stage 6.0 (TID 1250) (node29.cluster.tsc.uc3m.es executor 14): TaskKilled (Stage cancelled)\n",
      "22/03/21 13:33:27 WARN scheduler.TaskSetManager: Lost task 198.0 in stage 6.0 (TID 1247) (node29.cluster.tsc.uc3m.es executor 14): TaskKilled (Stage cancelled)\n",
      "22/03/21 13:33:27 WARN scheduler.TaskSetManager: Lost task 205.0 in stage 6.0 (TID 1248) (node29.cluster.tsc.uc3m.es executor 14): TaskKilled (Stage cancelled)\n",
      "22/03/21 13:33:28 WARN scheduler.TaskSetManager: Lost task 237.0 in stage 6.0 (TID 1105) (node30.cluster.tsc.uc3m.es executor 8): TaskKilled (Stage cancelled)\n",
      "22/03/21 13:33:29 WARN scheduler.TaskSetManager: Lost task 125.0 in stage 6.0 (TID 1099) (node30.cluster.tsc.uc3m.es executor 8): TaskKilled (Stage cancelled)\n",
      "22/03/21 13:33:29 WARN scheduler.TaskSetManager: Lost task 187.0 in stage 6.0 (TID 1101) (node30.cluster.tsc.uc3m.es executor 8): TaskKilled (Stage cancelled)\n",
      "22/03/21 13:33:29 WARN scheduler.TaskSetManager: Lost task 221.0 in stage 6.0 (TID 1103) (node30.cluster.tsc.uc3m.es executor 8): TaskKilled (Stage cancelled)\n",
      "22/03/21 13:33:29 WARN scheduler.TaskSetManager: Lost task 215.0 in stage 6.0 (TID 1102) (node30.cluster.tsc.uc3m.es executor 8): TaskKilled (Stage cancelled)\n",
      "22/03/21 13:33:29 WARN scheduler.TaskSetManager: Lost task 241.0 in stage 6.0 (TID 1106) (node30.cluster.tsc.uc3m.es executor 8): TaskKilled (Stage cancelled)\n",
      "22/03/21 13:33:29 WARN scheduler.TaskSetManager: Lost task 226.0 in stage 6.0 (TID 1104) (node30.cluster.tsc.uc3m.es executor 8): TaskKilled (Stage cancelled)\n",
      "22/03/21 13:33:29 WARN scheduler.TaskSetManager: Lost task 167.0 in stage 6.0 (TID 1100) (node30.cluster.tsc.uc3m.es executor 8): TaskKilled (Stage cancelled)\n",
      "22/03/21 13:33:30 WARN scheduler.TaskSetManager: Lost task 74.0 in stage 6.0 (TID 1198) (node10.cluster.tsc.uc3m.es executor 11): TaskKilled (Stage cancelled)\n",
      "22/03/21 13:33:30 WARN scheduler.TaskSetManager: Lost task 77.0 in stage 6.0 (TID 1200) (node10.cluster.tsc.uc3m.es executor 11): TaskKilled (Stage cancelled)\n",
      "22/03/21 13:33:30 WARN scheduler.TaskSetManager: Lost task 80.0 in stage 6.0 (TID 1202) (node10.cluster.tsc.uc3m.es executor 11): TaskKilled (Stage cancelled)\n",
      "22/03/21 13:33:31 WARN scheduler.TaskSetManager: Lost task 68.0 in stage 6.0 (TID 1195) (node10.cluster.tsc.uc3m.es executor 11): TaskKilled (Stage cancelled)\n",
      "22/03/21 13:33:31 WARN scheduler.TaskSetManager: Lost task 79.0 in stage 6.0 (TID 1201) (node10.cluster.tsc.uc3m.es executor 11): TaskKilled (Stage cancelled)\n",
      "22/03/21 13:33:31 WARN scheduler.TaskSetManager: Lost task 71.0 in stage 6.0 (TID 1196) (node10.cluster.tsc.uc3m.es executor 11): TaskKilled (Stage cancelled)\n",
      "22/03/21 13:33:31 WARN scheduler.TaskSetManager: Lost task 73.0 in stage 6.0 (TID 1197) (node10.cluster.tsc.uc3m.es executor 11): TaskKilled (Stage cancelled)\n",
      "22/03/21 13:33:31 WARN scheduler.TaskSetManager: Lost task 75.0 in stage 6.0 (TID 1199) (node10.cluster.tsc.uc3m.es executor 11): TaskKilled (Stage cancelled)\n",
      "22/03/21 13:33:32 WARN scheduler.TaskSetManager: Lost task 171.0 in stage 6.0 (TID 1149) (node32.cluster.tsc.uc3m.es executor 7): TaskKilled (Stage cancelled)\n",
      "22/03/21 13:33:32 WARN scheduler.TaskSetManager: Lost task 234.0 in stage 6.0 (TID 1153) (node32.cluster.tsc.uc3m.es executor 7): TaskKilled (Stage cancelled)\n",
      "22/03/21 13:33:32 WARN scheduler.TaskSetManager: Lost task 211.0 in stage 6.0 (TID 1151) (node32.cluster.tsc.uc3m.es executor 7): TaskKilled (Stage cancelled)\n",
      "22/03/21 13:33:32 WARN scheduler.TaskSetManager: Lost task 250.0 in stage 6.0 (TID 1154) (node32.cluster.tsc.uc3m.es executor 7): TaskKilled (Stage cancelled)\n",
      "22/03/21 13:33:32 WARN scheduler.TaskSetManager: Lost task 223.0 in stage 6.0 (TID 1152) (node32.cluster.tsc.uc3m.es executor 7): TaskKilled (Stage cancelled)\n",
      "22/03/21 13:33:32 WARN scheduler.TaskSetManager: Lost task 60.0 in stage 6.0 (TID 1148) (node32.cluster.tsc.uc3m.es executor 7): TaskKilled (Stage cancelled)\n",
      "22/03/21 13:33:32 WARN scheduler.TaskSetManager: Lost task 181.0 in stage 6.0 (TID 1150) (node32.cluster.tsc.uc3m.es executor 7): TaskKilled (Stage cancelled)\n",
      "22/03/21 13:33:32 WARN scheduler.TaskSetManager: Lost task 36.1 in stage 6.0 (TID 1147) (node32.cluster.tsc.uc3m.es executor 7): TaskKilled (Stage cancelled)\n",
      "22/03/21 13:33:34 WARN scheduler.TaskSetManager: Lost task 177.0 in stage 6.0 (TID 1254) (node17.cluster.tsc.uc3m.es executor 10): TaskKilled (Stage cancelled)\n",
      "22/03/21 13:33:34 WARN scheduler.TaskSetManager: Lost task 220.0 in stage 6.0 (TID 1257) (node17.cluster.tsc.uc3m.es executor 10): TaskKilled (Stage cancelled)\n",
      "22/03/21 13:33:34 WARN scheduler.TaskSetManager: Lost task 178.0 in stage 6.0 (TID 1255) (node17.cluster.tsc.uc3m.es executor 10): TaskKilled (Stage cancelled)\n",
      "22/03/21 13:33:34 WARN scheduler.TaskSetManager: Lost task 127.0 in stage 6.0 (TID 1252) (node17.cluster.tsc.uc3m.es executor 10): TaskKilled (Stage cancelled)\n",
      "22/03/21 13:33:34 WARN scheduler.TaskSetManager: Lost task 195.0 in stage 6.0 (TID 1256) (node17.cluster.tsc.uc3m.es executor 10): TaskKilled (Stage cancelled)\n",
      "22/03/21 13:33:34 WARN scheduler.TaskSetManager: Lost task 152.0 in stage 6.0 (TID 1253) (node17.cluster.tsc.uc3m.es executor 10): TaskKilled (Stage cancelled)\n",
      "22/03/21 13:33:34 WARN scheduler.TaskSetManager: Lost task 245.0 in stage 6.0 (TID 1258) (node17.cluster.tsc.uc3m.es executor 10): TaskKilled (Stage cancelled)\n",
      "22/03/21 13:33:34 WARN scheduler.TaskSetManager: Lost task 10.2 in stage 6.0 (TID 1251) (node17.cluster.tsc.uc3m.es executor 10): TaskKilled (Stage cancelled)\n",
      "22/03/21 13:33:34 WARN scheduler.TaskSetManager: Lost task 290.0 in stage 6.0 (TID 1295) (node36.cluster.tsc.uc3m.es executor 36): TaskKilled (Stage cancelled)\n",
      "22/03/21 13:33:34 WARN scheduler.TaskSetManager: Lost task 229.0 in stage 6.0 (TID 1293) (node36.cluster.tsc.uc3m.es executor 36): TaskKilled (Stage cancelled)\n",
      "22/03/21 13:33:34 WARN scheduler.TaskSetManager: Lost task 302.0 in stage 6.0 (TID 1297) (node36.cluster.tsc.uc3m.es executor 36): TaskKilled (Stage cancelled)\n",
      "22/03/21 13:33:34 WARN scheduler.TaskSetManager: Lost task 283.0 in stage 6.0 (TID 1294) (node36.cluster.tsc.uc3m.es executor 36): TaskKilled (Stage cancelled)\n",
      "22/03/21 13:33:35 WARN scheduler.TaskSetManager: Lost task 183.0 in stage 6.0 (TID 1292) (node36.cluster.tsc.uc3m.es executor 36): TaskKilled (Stage cancelled)\n",
      "22/03/21 13:33:35 WARN scheduler.TaskSetManager: Lost task 300.0 in stage 6.0 (TID 1296) (node36.cluster.tsc.uc3m.es executor 36): TaskKilled (Stage cancelled)\n",
      "22/03/21 13:33:35 WARN scheduler.TaskSetManager: Lost task 312.0 in stage 6.0 (TID 1298) (node36.cluster.tsc.uc3m.es executor 36): TaskKilled (Stage cancelled)\n",
      "22/03/21 13:33:35 WARN scheduler.TaskSetManager: Lost task 165.0 in stage 6.0 (TID 1291) (node36.cluster.tsc.uc3m.es executor 36): TaskKilled (Stage cancelled)\n",
      "22/03/21 13:33:36 WARN scheduler.TaskSetManager: Lost task 33.1 in stage 6.0 (TID 1131) (node84.cluster.tsc.uc3m.es executor 4): TaskKilled (Stage cancelled)\n",
      "22/03/21 13:33:36 WARN scheduler.TaskSetManager: Lost task 118.0 in stage 6.0 (TID 1137) (node84.cluster.tsc.uc3m.es executor 4): TaskKilled (Stage cancelled)\n",
      "22/03/21 13:33:36 WARN scheduler.TaskSetManager: Lost task 65.0 in stage 6.0 (TID 1134) (node84.cluster.tsc.uc3m.es executor 4): TaskKilled (Stage cancelled)\n",
      "22/03/21 13:33:36 WARN scheduler.TaskSetManager: Lost task 63.0 in stage 6.0 (TID 1133) (node84.cluster.tsc.uc3m.es executor 4): TaskKilled (Stage cancelled)\n",
      "22/03/21 13:33:36 WARN scheduler.TaskSetManager: Lost task 83.0 in stage 6.0 (TID 1135) (node84.cluster.tsc.uc3m.es executor 4): TaskKilled (Stage cancelled)\n"
     ]
    },
    {
     "name": "stderr",
     "output_type": "stream",
     "text": [
      "22/03/21 13:33:36 WARN scheduler.TaskSetManager: Lost task 131.0 in stage 6.0 (TID 1138) (node84.cluster.tsc.uc3m.es executor 4): TaskKilled (Stage cancelled)\n",
      "22/03/21 13:33:37 WARN scheduler.TaskSetManager: Lost task 52.0 in stage 6.0 (TID 1132) (node84.cluster.tsc.uc3m.es executor 4): TaskKilled (Stage cancelled)\n",
      "22/03/21 13:33:37 WARN scheduler.TaskSetManager: Lost task 107.0 in stage 6.0 (TID 1136) (node84.cluster.tsc.uc3m.es executor 4): TaskKilled (Stage cancelled)\n",
      "22/03/21 13:33:38 WARN scheduler.TaskSetManager: Lost task 142.0 in stage 6.0 (TID 1300) (node21.cluster.tsc.uc3m.es executor 35): TaskKilled (Stage cancelled)\n",
      "22/03/21 13:33:38 WARN scheduler.TaskSetManager: Lost task 115.1 in stage 6.0 (TID 1299) (node21.cluster.tsc.uc3m.es executor 35): TaskKilled (Stage cancelled)\n",
      "22/03/21 13:33:38 WARN scheduler.TaskSetManager: Lost task 398.0 in stage 6.0 (TID 1306) (node21.cluster.tsc.uc3m.es executor 35): TaskKilled (Stage cancelled)\n",
      "22/03/21 13:33:38 WARN scheduler.TaskSetManager: Lost task 317.0 in stage 6.0 (TID 1303) (node21.cluster.tsc.uc3m.es executor 35): TaskKilled (Stage cancelled)\n",
      "22/03/21 13:33:38 WARN scheduler.TaskSetManager: Lost task 322.0 in stage 6.0 (TID 1304) (node21.cluster.tsc.uc3m.es executor 35): TaskKilled (Stage cancelled)\n",
      "22/03/21 13:33:38 WARN scheduler.TaskSetManager: Lost task 339.0 in stage 6.0 (TID 1305) (node21.cluster.tsc.uc3m.es executor 35): TaskKilled (Stage cancelled)\n",
      "22/03/21 13:33:38 WARN scheduler.TaskSetManager: Lost task 279.0 in stage 6.0 (TID 1301) (node21.cluster.tsc.uc3m.es executor 35): TaskKilled (Stage cancelled)\n",
      "22/03/21 13:33:38 WARN scheduler.TaskSetManager: Lost task 299.0 in stage 6.0 (TID 1302) (node21.cluster.tsc.uc3m.es executor 35): TaskKilled (Stage cancelled)\n",
      "22/03/21 13:33:39 WARN scheduler.TaskSetManager: Lost task 193.0 in stage 6.0 (TID 1267) (node34.cluster.tsc.uc3m.es executor 30): TaskKilled (Stage cancelled)\n",
      "22/03/21 13:33:39 WARN scheduler.TaskSetManager: Lost task 319.0 in stage 6.0 (TID 1272) (node34.cluster.tsc.uc3m.es executor 30): TaskKilled (Stage cancelled)\n",
      "22/03/21 13:33:40 WARN scheduler.TaskSetManager: Lost task 295.0 in stage 6.0 (TID 1270) (node34.cluster.tsc.uc3m.es executor 30): TaskKilled (Stage cancelled)\n",
      "22/03/21 13:33:40 WARN scheduler.TaskSetManager: Lost task 305.0 in stage 6.0 (TID 1271) (node34.cluster.tsc.uc3m.es executor 30): TaskKilled (Stage cancelled)\n",
      "22/03/21 13:33:40 WARN scheduler.TaskSetManager: Lost task 232.0 in stage 6.0 (TID 1269) (node34.cluster.tsc.uc3m.es executor 30): TaskKilled (Stage cancelled)\n",
      "22/03/21 13:33:40 WARN scheduler.TaskSetManager: Lost task 333.0 in stage 6.0 (TID 1273) (node34.cluster.tsc.uc3m.es executor 30): TaskKilled (Stage cancelled)\n",
      "22/03/21 13:33:40 WARN scheduler.TaskSetManager: Lost task 216.0 in stage 6.0 (TID 1268) (node34.cluster.tsc.uc3m.es executor 30): TaskKilled (Stage cancelled)\n",
      "22/03/21 13:33:40 WARN scheduler.TaskSetManager: Lost task 346.0 in stage 6.0 (TID 1274) (node34.cluster.tsc.uc3m.es executor 30): TaskKilled (Stage cancelled)\n",
      "22/03/21 13:33:41 WARN scheduler.TaskSetManager: Lost task 121.0 in stage 6.0 (TID 1048) (node34.cluster.tsc.uc3m.es executor 20): TaskKilled (Stage cancelled)\n",
      "22/03/21 13:33:41 WARN scheduler.TaskSetManager: Lost task 88.0 in stage 6.0 (TID 1032) (node34.cluster.tsc.uc3m.es executor 20): TaskKilled (Stage cancelled)\n",
      "22/03/21 13:33:41 WARN scheduler.TaskSetManager: Lost task 179.0 in stage 6.0 (TID 1053) (node26.cluster.tsc.uc3m.es executor 19): TaskKilled (Stage cancelled)\n",
      "22/03/21 13:33:41 WARN scheduler.TaskSetManager: Lost task 173.0 in stage 6.0 (TID 1049) (node26.cluster.tsc.uc3m.es executor 19): TaskKilled (Stage cancelled)\n",
      "22/03/21 13:33:41 WARN scheduler.TaskSetManager: Lost task 103.0 in stage 6.0 (TID 1044) (node34.cluster.tsc.uc3m.es executor 20): TaskKilled (Stage cancelled)\n",
      "22/03/21 13:33:41 WARN scheduler.TaskSetManager: Lost task 90.0 in stage 6.0 (TID 1036) (node34.cluster.tsc.uc3m.es executor 20): TaskKilled (Stage cancelled)\n",
      "22/03/21 13:33:41 WARN scheduler.TaskSetManager: Lost task 93.0 in stage 6.0 (TID 1040) (node34.cluster.tsc.uc3m.es executor 20): TaskKilled (Stage cancelled)\n",
      "22/03/21 13:33:41 WARN scheduler.TaskSetManager: Lost task 164.0 in stage 6.0 (TID 1056) (node34.cluster.tsc.uc3m.es executor 20): TaskKilled (Stage cancelled)\n",
      "22/03/21 13:33:41 WARN scheduler.TaskSetManager: Lost task 132.0 in stage 6.0 (TID 1052) (node34.cluster.tsc.uc3m.es executor 20): TaskKilled (Stage cancelled)\n",
      "22/03/21 13:33:41 WARN scheduler.TaskSetManager: Lost task 332.0 in stage 6.0 (TID 1265) (node19.cluster.tsc.uc3m.es executor 29): TaskKilled (Stage cancelled)\n",
      "22/03/21 13:33:41 WARN scheduler.TaskSetManager: Lost task 347.0 in stage 6.0 (TID 1266) (node19.cluster.tsc.uc3m.es executor 29): TaskKilled (Stage cancelled)\n",
      "22/03/21 13:33:41 WARN scheduler.TaskSetManager: Lost task 57.0 in stage 6.0 (TID 1028) (node34.cluster.tsc.uc3m.es executor 20): TaskKilled (Stage cancelled)\n",
      "22/03/21 13:33:41 WARN scheduler.TaskSetManager: Lost task 162.0 in stage 6.0 (TID 1144) (node13.cluster.tsc.uc3m.es executor 9): TaskKilled (Stage cancelled)\n",
      "22/03/21 13:33:41 WARN scheduler.TaskSetManager: Lost task 24.0 in stage 6.0 (TID 1029) (node26.cluster.tsc.uc3m.es executor 19): TaskKilled (Stage cancelled)\n",
      "22/03/21 13:33:41 WARN scheduler.TaskSetManager: Lost task 130.0 in stage 6.0 (TID 1037) (node26.cluster.tsc.uc3m.es executor 19): TaskKilled (Stage cancelled)\n",
      "22/03/21 13:33:42 WARN scheduler.TaskSetManager: Lost task 35.0 in stage 6.0 (TID 1033) (node26.cluster.tsc.uc3m.es executor 19): TaskKilled (Stage cancelled)\n",
      "22/03/21 13:33:42 WARN scheduler.TaskSetManager: Lost task 301.0 in stage 6.0 (TID 1264) (node19.cluster.tsc.uc3m.es executor 29): TaskKilled (Stage cancelled)\n",
      "22/03/21 13:33:42 WARN scheduler.TaskSetManager: Lost task 192.0 in stage 6.0 (TID 1260) (node19.cluster.tsc.uc3m.es executor 29): TaskKilled (Stage cancelled)\n",
      "22/03/21 13:33:42 WARN scheduler.TaskSetManager: Lost task 285.0 in stage 6.0 (TID 1263) (node19.cluster.tsc.uc3m.es executor 29): TaskKilled (Stage cancelled)\n",
      "22/03/21 13:33:42 WARN scheduler.TaskSetManager: Lost task 49.0 in stage 6.0 (TID 1035) (node39.cluster.tsc.uc3m.es executor 23): TaskKilled (Stage cancelled)\n",
      "22/03/21 13:33:42 WARN scheduler.TaskSetManager: Lost task 85.0 in stage 6.0 (TID 1051) (node39.cluster.tsc.uc3m.es executor 23): TaskKilled (Stage cancelled)\n",
      "22/03/21 13:33:42 WARN scheduler.TaskSetManager: Lost task 157.0 in stage 6.0 (TID 1045) (node26.cluster.tsc.uc3m.es executor 19): TaskKilled (Stage cancelled)\n",
      "22/03/21 13:33:42 WARN scheduler.TaskSetManager: Lost task 207.0 in stage 6.0 (TID 1057) (node26.cluster.tsc.uc3m.es executor 19): TaskKilled (Stage cancelled)\n",
      "22/03/21 13:33:42 WARN scheduler.TaskSetManager: Lost task 230.0 in stage 6.0 (TID 1261) (node19.cluster.tsc.uc3m.es executor 29): TaskKilled (Stage cancelled)\n",
      "22/03/21 13:33:42 WARN scheduler.TaskSetManager: Lost task 136.0 in stage 6.0 (TID 1041) (node26.cluster.tsc.uc3m.es executor 19): TaskKilled (Stage cancelled)\n",
      "22/03/21 13:33:42 WARN scheduler.TaskSetManager: Lost task 150.0 in stage 6.0 (TID 1259) (node19.cluster.tsc.uc3m.es executor 29): TaskKilled (Stage cancelled)\n",
      "22/03/21 13:33:42 WARN scheduler.TaskSetManager: Lost task 163.0 in stage 6.0 (TID 1145) (node13.cluster.tsc.uc3m.es executor 9): TaskKilled (Stage cancelled)\n",
      "22/03/21 13:33:42 WARN scheduler.TaskSetManager: Lost task 78.0 in stage 6.0 (TID 1047) (node39.cluster.tsc.uc3m.es executor 23): TaskKilled (Stage cancelled)\n",
      "22/03/21 13:33:42 WARN scheduler.TaskSetManager: Lost task 58.0 in stage 6.0 (TID 1039) (node39.cluster.tsc.uc3m.es executor 23): TaskKilled (Stage cancelled)\n",
      "22/03/21 13:33:42 WARN scheduler.TaskSetManager: Lost task 101.1 in stage 6.0 (TID 1275) (node83.cluster.tsc.uc3m.es executor 16): TaskKilled (Stage cancelled)\n",
      "22/03/21 13:33:42 WARN scheduler.TaskSetManager: Lost task 252.0 in stage 6.0 (TID 1262) (node19.cluster.tsc.uc3m.es executor 29): TaskKilled (Stage cancelled)\n",
      "22/03/21 13:33:42 WARN scheduler.TaskSetManager: Lost task 76.0 in stage 6.0 (TID 1043) (node39.cluster.tsc.uc3m.es executor 23): TaskKilled (Stage cancelled)\n",
      "22/03/21 13:33:42 WARN scheduler.TaskSetManager: Lost task 17.0 in stage 6.0 (TID 1031) (node39.cluster.tsc.uc3m.es executor 23): TaskKilled (Stage cancelled)\n",
      "22/03/21 13:33:42 WARN scheduler.TaskSetManager: Lost task 168.0 in stage 6.0 (TID 1146) (node13.cluster.tsc.uc3m.es executor 9): TaskKilled (Stage cancelled)\n",
      "22/03/21 13:33:42 WARN scheduler.TaskSetManager: Lost task 6.0 in stage 6.0 (TID 1027) (node39.cluster.tsc.uc3m.es executor 23): TaskKilled (Stage cancelled)\n",
      "22/03/21 13:33:42 WARN scheduler.TaskSetManager: Lost task 116.0 in stage 6.0 (TID 1142) (node13.cluster.tsc.uc3m.es executor 9): TaskKilled (Stage cancelled)\n"
     ]
    },
    {
     "name": "stderr",
     "output_type": "stream",
     "text": [
      "22/03/21 13:33:42 WARN scheduler.TaskSetManager: Lost task 13.1 in stage 6.0 (TID 1139) (node13.cluster.tsc.uc3m.es executor 9): TaskKilled (Stage cancelled)\n",
      "22/03/21 13:33:42 WARN scheduler.TaskSetManager: Lost task 113.0 in stage 6.0 (TID 1055) (node39.cluster.tsc.uc3m.es executor 23): TaskKilled (Stage cancelled)\n",
      "22/03/21 13:33:42 WARN scheduler.TaskSetManager: Lost task 111.1 in stage 6.0 (TID 1277) (node83.cluster.tsc.uc3m.es executor 16): TaskKilled (Stage cancelled)\n",
      "22/03/21 13:33:42 WARN scheduler.TaskSetManager: Lost task 98.1 in stage 6.0 (TID 1279) (node83.cluster.tsc.uc3m.es executor 16): TaskKilled (Stage cancelled)\n",
      "22/03/21 13:33:42 WARN scheduler.TaskSetManager: Lost task 155.0 in stage 6.0 (TID 1143) (node13.cluster.tsc.uc3m.es executor 9): TaskKilled (Stage cancelled)\n",
      "22/03/21 13:33:42 WARN scheduler.TaskSetManager: Lost task 16.1 in stage 6.0 (TID 1140) (node13.cluster.tsc.uc3m.es executor 9): TaskKilled (Stage cancelled)\n",
      "22/03/21 13:33:42 WARN scheduler.TaskSetManager: Lost task 119.1 in stage 6.0 (TID 1276) (node83.cluster.tsc.uc3m.es executor 16): TaskKilled (Stage cancelled)\n",
      "22/03/21 13:33:42 WARN scheduler.TaskSetManager: Lost task 23.1 in stage 6.0 (TID 1141) (node13.cluster.tsc.uc3m.es executor 9): TaskKilled (Stage cancelled)\n",
      "22/03/21 13:33:43 WARN scheduler.TaskSetManager: Lost task 89.1 in stage 6.0 (TID 1282) (node83.cluster.tsc.uc3m.es executor 16): TaskKilled (Stage cancelled)\n",
      "22/03/21 13:33:43 WARN scheduler.TaskSetManager: Lost task 86.1 in stage 6.0 (TID 1278) (node83.cluster.tsc.uc3m.es executor 16): TaskKilled (Stage cancelled)\n",
      "22/03/21 13:33:43 WARN scheduler.TaskSetManager: Lost task 95.1 in stage 6.0 (TID 1280) (node83.cluster.tsc.uc3m.es executor 16): TaskKilled (Stage cancelled)\n",
      "22/03/21 13:33:43 WARN scheduler.TaskSetManager: Lost task 108.1 in stage 6.0 (TID 1281) (node83.cluster.tsc.uc3m.es executor 16): TaskKilled (Stage cancelled)\n",
      "22/03/21 13:33:44 WARN scheduler.TaskSetManager: Lost task 159.0 in stage 6.0 (TID 1168) (node15.cluster.tsc.uc3m.es executor 6): TaskKilled (Stage cancelled)\n",
      "22/03/21 13:33:44 WARN scheduler.TaskSetManager: Lost task 97.0 in stage 6.0 (TID 1165) (node15.cluster.tsc.uc3m.es executor 6): TaskKilled (Stage cancelled)\n",
      "22/03/21 13:33:44 WARN scheduler.TaskSetManager: Lost task 55.0 in stage 6.0 (TID 1164) (node15.cluster.tsc.uc3m.es executor 6): TaskKilled (Stage cancelled)\n",
      "22/03/21 13:33:45 WARN scheduler.TaskSetManager: Lost task 123.0 in stage 6.0 (TID 1167) (node15.cluster.tsc.uc3m.es executor 6): TaskKilled (Stage cancelled)\n",
      "22/03/21 13:33:45 WARN scheduler.TaskSetManager: Lost task 117.0 in stage 6.0 (TID 1166) (node15.cluster.tsc.uc3m.es executor 6): TaskKilled (Stage cancelled)\n",
      "22/03/21 13:33:45 WARN scheduler.TaskSetManager: Lost task 30.1 in stage 6.0 (TID 1163) (node15.cluster.tsc.uc3m.es executor 6): TaskKilled (Stage cancelled)\n",
      "22/03/21 13:33:45 WARN scheduler.TaskSetManager: Lost task 172.0 in stage 6.0 (TID 1169) (node15.cluster.tsc.uc3m.es executor 6): TaskKilled (Stage cancelled)\n",
      "22/03/21 13:33:45 WARN scheduler.TaskSetManager: Lost task 182.0 in stage 6.0 (TID 1170) (node15.cluster.tsc.uc3m.es executor 6): TaskKilled (Stage cancelled)\n",
      "22/03/21 13:33:45 WARN scheduler.TaskSetManager: Lost task 233.0 in stage 6.0 (TID 1313) (node89.cluster.tsc.uc3m.es executor 34): TaskKilled (Stage cancelled)\n",
      "22/03/21 13:33:46 WARN scheduler.TaskSetManager: Lost task 265.1 in stage 6.0 (TID 1308) (node89.cluster.tsc.uc3m.es executor 34): TaskKilled (Stage cancelled)\n",
      "22/03/21 13:33:46 WARN scheduler.TaskSetManager: Lost task 87.1 in stage 6.0 (TID 1309) (node89.cluster.tsc.uc3m.es executor 34): TaskKilled (Stage cancelled)\n",
      "22/03/21 13:33:46 WARN scheduler.TaskSetManager: Lost task 258.0 in stage 6.0 (TID 1314) (node89.cluster.tsc.uc3m.es executor 34): TaskKilled (Stage cancelled)\n",
      "22/03/21 13:33:46 WARN scheduler.TaskSetManager: Lost task 48.1 in stage 6.0 (TID 1307) (node89.cluster.tsc.uc3m.es executor 34): TaskKilled (Stage cancelled)\n",
      "22/03/21 13:33:46 WARN scheduler.TaskSetManager: Lost task 170.0 in stage 6.0 (TID 1311) (node89.cluster.tsc.uc3m.es executor 34): TaskKilled (Stage cancelled)\n",
      "22/03/21 13:33:46 WARN scheduler.TaskSetManager: Lost task 372.0 in stage 6.0 (TID 1334) (node30.cluster.tsc.uc3m.es executor 33): TaskKilled (Stage cancelled)\n",
      "22/03/21 13:33:46 WARN scheduler.TaskSetManager: Lost task 146.0 in stage 6.0 (TID 1310) (node89.cluster.tsc.uc3m.es executor 34): TaskKilled (Stage cancelled)\n",
      "22/03/21 13:33:46 WARN scheduler.TaskSetManager: Lost task 185.0 in stage 6.0 (TID 1312) (node89.cluster.tsc.uc3m.es executor 34): TaskKilled (Stage cancelled)\n",
      "22/03/21 13:33:46 WARN scheduler.TaskSetManager: Lost task 294.0 in stage 6.0 (TID 1333) (node30.cluster.tsc.uc3m.es executor 33): TaskKilled (Stage cancelled)\n",
      "22/03/21 13:33:46 WARN scheduler.TaskSetManager: Lost task 438.0 in stage 6.0 (TID 1337) (node30.cluster.tsc.uc3m.es executor 33): TaskKilled (Stage cancelled)\n",
      "22/03/21 13:33:46 WARN scheduler.TaskSetManager: Lost task 84.0 in stage 6.0 (TID 1112) (node31.cluster.tsc.uc3m.es executor 22): TaskKilled (Stage cancelled)\n",
      "22/03/21 13:33:46 WARN scheduler.TaskSetManager: Lost task 449.0 in stage 6.0 (TID 1338) (node30.cluster.tsc.uc3m.es executor 33): TaskKilled (Stage cancelled)\n",
      "22/03/21 13:33:46 WARN scheduler.TaskSetManager: Lost task 263.0 in stage 6.0 (TID 1331) (node30.cluster.tsc.uc3m.es executor 33): TaskKilled (Stage cancelled)\n",
      "22/03/21 13:33:46 WARN scheduler.TaskSetManager: Lost task 282.0 in stage 6.0 (TID 1332) (node30.cluster.tsc.uc3m.es executor 33): TaskKilled (Stage cancelled)\n",
      "22/03/21 13:33:46 WARN scheduler.TaskSetManager: Lost task 431.0 in stage 6.0 (TID 1336) (node30.cluster.tsc.uc3m.es executor 33): TaskKilled (Stage cancelled)\n",
      "22/03/21 13:33:47 WARN scheduler.TaskSetManager: Lost task 403.0 in stage 6.0 (TID 1335) (node30.cluster.tsc.uc3m.es executor 33): TaskKilled (Stage cancelled)\n",
      "22/03/21 13:33:47 WARN scheduler.TaskSetManager: Lost task 81.0 in stage 6.0 (TID 1111) (node31.cluster.tsc.uc3m.es executor 22): TaskKilled (Stage cancelled)\n",
      "22/03/21 13:33:47 WARN scheduler.TaskSetManager: Lost task 129.0 in stage 6.0 (TID 1114) (node31.cluster.tsc.uc3m.es executor 22): TaskKilled (Stage cancelled)\n",
      "22/03/21 13:33:47 WARN scheduler.TaskSetManager: Lost task 59.0 in stage 6.0 (TID 1109) (node31.cluster.tsc.uc3m.es executor 22): TaskKilled (Stage cancelled)\n",
      "22/03/21 13:33:47 WARN scheduler.TaskSetManager: Lost task 56.0 in stage 6.0 (TID 1108) (node31.cluster.tsc.uc3m.es executor 22): TaskKilled (Stage cancelled)\n",
      "22/03/21 13:33:47 WARN scheduler.TaskSetManager: Lost task 50.0 in stage 6.0 (TID 1107) (node31.cluster.tsc.uc3m.es executor 22): TaskKilled (Stage cancelled)\n",
      "22/03/21 13:33:47 WARN scheduler.TaskSetManager: Lost task 104.0 in stage 6.0 (TID 1113) (node31.cluster.tsc.uc3m.es executor 22): TaskKilled (Stage cancelled)\n",
      "22/03/21 13:33:48 WARN scheduler.TaskSetManager: Lost task 69.0 in stage 6.0 (TID 1110) (node31.cluster.tsc.uc3m.es executor 22): TaskKilled (Stage cancelled)\n",
      "22/03/21 13:33:48 WARN scheduler.TaskSetManager: Lost task 225.0 in stage 6.0 (TID 1178) (node28.cluster.tsc.uc3m.es executor 13): TaskKilled (Stage cancelled)\n",
      "22/03/21 13:33:48 WARN scheduler.TaskSetManager: Lost task 224.0 in stage 6.0 (TID 1177) (node28.cluster.tsc.uc3m.es executor 13): TaskKilled (Stage cancelled)\n",
      "22/03/21 13:33:48 WARN scheduler.TaskSetManager: Lost task 124.0 in stage 6.0 (TID 1173) (node28.cluster.tsc.uc3m.es executor 13): TaskKilled (Stage cancelled)\n",
      "22/03/21 13:33:48 WARN scheduler.TaskSetManager: Lost task 202.0 in stage 6.0 (TID 1176) (node28.cluster.tsc.uc3m.es executor 13): TaskKilled (Stage cancelled)\n",
      "22/03/21 13:33:48 WARN scheduler.TaskSetManager: Lost task 20.1 in stage 6.0 (TID 1171) (node28.cluster.tsc.uc3m.es executor 13): TaskKilled (Stage cancelled)\n",
      "22/03/21 13:33:48 WARN scheduler.TaskSetManager: Lost task 148.0 in stage 6.0 (TID 1174) (node28.cluster.tsc.uc3m.es executor 13): TaskKilled (Stage cancelled)\n",
      "22/03/21 13:33:48 WARN scheduler.TaskSetManager: Lost task 105.0 in stage 6.0 (TID 1172) (node28.cluster.tsc.uc3m.es executor 13): TaskKilled (Stage cancelled)\n",
      "22/03/21 13:33:48 WARN scheduler.TaskSetManager: Lost task 191.0 in stage 6.0 (TID 1175) (node28.cluster.tsc.uc3m.es executor 13): TaskKilled (Stage cancelled)\n"
     ]
    },
    {
     "name": "stderr",
     "output_type": "stream",
     "text": [
      "22/03/21 13:33:49 WARN scheduler.TaskSetManager: Lost task 158.0 in stage 6.0 (TID 1205) (node93.cluster.tsc.uc3m.es executor 24): TaskKilled (Stage cancelled)\n",
      "22/03/21 13:33:49 WARN scheduler.TaskSetManager: Lost task 262.0 in stage 6.0 (TID 1209) (node93.cluster.tsc.uc3m.es executor 24): TaskKilled (Stage cancelled)\n",
      "22/03/21 13:33:49 WARN scheduler.TaskSetManager: Lost task 303.0 in stage 6.0 (TID 1210) (node93.cluster.tsc.uc3m.es executor 24): TaskKilled (Stage cancelled)\n",
      "22/03/21 13:33:49 WARN scheduler.TaskSetManager: Lost task 138.0 in stage 6.0 (TID 1203) (node93.cluster.tsc.uc3m.es executor 24): TaskKilled (Stage cancelled)\n",
      "22/03/21 13:33:49 WARN scheduler.TaskSetManager: Lost task 144.0 in stage 6.0 (TID 1289) (node85.cluster.tsc.uc3m.es executor 32): TaskKilled (Stage cancelled)\n",
      "22/03/21 13:33:49 WARN scheduler.TaskSetManager: Lost task 291.1 in stage 6.0 (TID 1285) (node85.cluster.tsc.uc3m.es executor 32): TaskKilled (Stage cancelled)\n",
      "22/03/21 13:33:50 WARN scheduler.TaskSetManager: Lost task 149.0 in stage 6.0 (TID 1204) (node93.cluster.tsc.uc3m.es executor 24): TaskKilled (Stage cancelled)\n",
      "22/03/21 13:33:50 WARN scheduler.TaskSetManager: Lost task 255.0 in stage 6.0 (TID 1208) (node93.cluster.tsc.uc3m.es executor 24): TaskKilled (Stage cancelled)\n",
      "22/03/21 13:33:50 WARN scheduler.TaskSetManager: Lost task 253.0 in stage 6.0 (TID 1207) (node93.cluster.tsc.uc3m.es executor 24): TaskKilled (Stage cancelled)\n",
      "22/03/21 13:33:50 WARN scheduler.TaskSetManager: Lost task 174.0 in stage 6.0 (TID 1206) (node93.cluster.tsc.uc3m.es executor 24): TaskKilled (Stage cancelled)\n",
      "22/03/21 13:33:50 WARN scheduler.TaskSetManager: Lost task 145.0 in stage 6.0 (TID 1290) (node85.cluster.tsc.uc3m.es executor 32): TaskKilled (Stage cancelled)\n",
      "22/03/21 13:33:50 WARN scheduler.TaskSetManager: Lost task 254.1 in stage 6.0 (TID 1284) (node85.cluster.tsc.uc3m.es executor 32): TaskKilled (Stage cancelled)\n",
      "22/03/21 13:33:50 WARN scheduler.TaskSetManager: Lost task 122.0 in stage 6.0 (TID 1288) (node85.cluster.tsc.uc3m.es executor 32): TaskKilled (Stage cancelled)\n",
      "22/03/21 13:33:50 WARN scheduler.TaskSetManager: Lost task 32.2 in stage 6.0 (TID 1287) (node85.cluster.tsc.uc3m.es executor 32): TaskKilled (Stage cancelled)\n",
      "22/03/21 13:33:50 WARN scheduler.TaskSetManager: Lost task 92.1 in stage 6.0 (TID 1286) (node85.cluster.tsc.uc3m.es executor 32): TaskKilled (Stage cancelled)\n",
      "22/03/21 13:33:50 WARN scheduler.TaskSetManager: Lost task 64.1 in stage 6.0 (TID 1283) (node85.cluster.tsc.uc3m.es executor 32): TaskKilled (Stage cancelled)\n",
      "22/03/21 13:33:51 WARN scheduler.TaskSetManager: Lost task 37.0 in stage 6.0 (TID 1115) (node81.cluster.tsc.uc3m.es executor 2): TaskKilled (Stage cancelled)\n",
      "22/03/21 13:33:51 WARN scheduler.TaskSetManager: Lost task 41.0 in stage 6.0 (TID 1118) (node81.cluster.tsc.uc3m.es executor 2): TaskKilled (Stage cancelled)\n",
      "22/03/21 13:33:51 WARN scheduler.TaskSetManager: Lost task 43.0 in stage 6.0 (TID 1119) (node81.cluster.tsc.uc3m.es executor 2): TaskKilled (Stage cancelled)\n",
      "22/03/21 13:33:51 WARN scheduler.TaskSetManager: Lost task 45.0 in stage 6.0 (TID 1121) (node81.cluster.tsc.uc3m.es executor 2): TaskKilled (Stage cancelled)\n",
      "22/03/21 13:33:51 WARN scheduler.TaskSetManager: Lost task 44.0 in stage 6.0 (TID 1120) (node81.cluster.tsc.uc3m.es executor 2): TaskKilled (Stage cancelled)\n",
      "22/03/21 13:33:51 WARN scheduler.TaskSetManager: Lost task 39.0 in stage 6.0 (TID 1116) (node81.cluster.tsc.uc3m.es executor 2): TaskKilled (Stage cancelled)\n",
      "22/03/21 13:33:51 WARN scheduler.TaskSetManager: Lost task 46.0 in stage 6.0 (TID 1122) (node81.cluster.tsc.uc3m.es executor 2): TaskKilled (Stage cancelled)\n",
      "22/03/21 13:33:51 WARN scheduler.TaskSetManager: Lost task 40.0 in stage 6.0 (TID 1117) (node81.cluster.tsc.uc3m.es executor 2): TaskKilled (Stage cancelled)\n",
      "22/03/21 13:33:54 WARN scheduler.TaskSetManager: Lost task 19.1 in stage 6.0 (TID 1092) (node82.cluster.tsc.uc3m.es executor 25): TaskKilled (Stage cancelled)\n",
      "22/03/21 13:33:54 WARN scheduler.TaskSetManager: Lost task 161.0 in stage 6.0 (TID 1054) (node38.cluster.tsc.uc3m.es executor 12): TaskKilled (Stage cancelled)\n",
      "22/03/21 13:33:54 WARN scheduler.TaskSetManager: Lost task 28.1 in stage 6.0 (TID 1123) (node25.cluster.tsc.uc3m.es executor 26): TaskKilled (Stage cancelled)\n",
      "22/03/21 13:33:54 WARN scheduler.TaskSetManager: Lost task 218.0 in stage 6.0 (TID 1162) (node12.cluster.tsc.uc3m.es executor 27): TaskKilled (Stage cancelled)\n",
      "22/03/21 13:33:54 WARN scheduler.TaskSetManager: Lost task 194.0 in stage 6.0 (TID 1058) (node38.cluster.tsc.uc3m.es executor 12): TaskKilled (Stage cancelled)\n",
      "22/03/21 13:33:54 WARN scheduler.TaskSetManager: Lost task 53.0 in stage 6.0 (TID 1124) (node25.cluster.tsc.uc3m.es executor 26): TaskKilled (Stage cancelled)\n",
      "22/03/21 13:33:54 WARN scheduler.TaskSetManager: Lost task 143.0 in stage 6.0 (TID 1050) (node38.cluster.tsc.uc3m.es executor 12): TaskKilled (Stage cancelled)\n",
      "22/03/21 13:33:54 WARN scheduler.TaskSetManager: Lost task 9.1 in stage 6.0 (TID 1091) (node82.cluster.tsc.uc3m.es executor 25): TaskKilled (Stage cancelled)\n",
      "22/03/21 13:33:55 WARN scheduler.TaskSetManager: Lost task 38.0 in stage 6.0 (TID 1034) (node38.cluster.tsc.uc3m.es executor 12): TaskKilled (Stage cancelled)\n",
      "22/03/21 13:33:55 WARN scheduler.TaskSetManager: Lost task 106.0 in stage 6.0 (TID 1126) (node25.cluster.tsc.uc3m.es executor 26): TaskKilled (Stage cancelled)\n",
      "22/03/21 13:33:55 WARN scheduler.TaskSetManager: Lost task 91.0 in stage 6.0 (TID 1042) (node38.cluster.tsc.uc3m.es executor 12): TaskKilled (Stage cancelled)\n",
      "22/03/21 13:33:55 WARN scheduler.TaskSetManager: Lost task 72.0 in stage 6.0 (TID 1157) (node12.cluster.tsc.uc3m.es executor 27): TaskKilled (Stage cancelled)\n",
      "22/03/21 13:33:55 WARN scheduler.TaskSetManager: Lost task 27.0 in stage 6.0 (TID 1030) (node38.cluster.tsc.uc3m.es executor 12): TaskKilled (Stage cancelled)\n",
      "22/03/21 13:33:55 WARN scheduler.TaskSetManager: Lost task 42.0 in stage 6.0 (TID 1038) (node38.cluster.tsc.uc3m.es executor 12): TaskKilled (Stage cancelled)\n",
      "22/03/21 13:33:55 WARN scheduler.TaskSetManager: Lost task 110.0 in stage 6.0 (TID 1127) (node25.cluster.tsc.uc3m.es executor 26): TaskKilled (Stage cancelled)\n",
      "22/03/21 13:33:55 WARN scheduler.TaskSetManager: Lost task 126.0 in stage 6.0 (TID 1046) (node38.cluster.tsc.uc3m.es executor 12): TaskKilled (Stage cancelled)\n",
      "22/03/21 13:33:55 WARN scheduler.TaskSetManager: Lost task 94.0 in stage 6.0 (TID 1125) (node25.cluster.tsc.uc3m.es executor 26): TaskKilled (Stage cancelled)\n",
      "22/03/21 13:33:55 WARN scheduler.TaskSetManager: Lost task 169.0 in stage 6.0 (TID 1130) (node25.cluster.tsc.uc3m.es executor 26): TaskKilled (Stage cancelled)\n",
      "22/03/21 13:33:55 WARN scheduler.TaskSetManager: Lost task 114.0 in stage 6.0 (TID 1159) (node12.cluster.tsc.uc3m.es executor 27): TaskKilled (Stage cancelled)\n",
      "22/03/21 13:33:55 WARN scheduler.TaskSetManager: Lost task 112.0 in stage 6.0 (TID 1128) (node25.cluster.tsc.uc3m.es executor 26): TaskKilled (Stage cancelled)\n",
      "22/03/21 13:33:55 WARN scheduler.TaskSetManager: Lost task 70.0 in stage 6.0 (TID 1156) (node12.cluster.tsc.uc3m.es executor 27): TaskKilled (Stage cancelled)\n",
      "22/03/21 13:33:55 WARN scheduler.TaskSetManager: Lost task 5.1 in stage 6.0 (TID 1095) (node82.cluster.tsc.uc3m.es executor 25): TaskKilled (Stage cancelled)\n",
      "22/03/21 13:33:55 WARN scheduler.TaskSetManager: Lost task 128.0 in stage 6.0 (TID 1160) (node12.cluster.tsc.uc3m.es executor 27): TaskKilled (Stage cancelled)\n",
      "22/03/21 13:33:55 WARN scheduler.TaskSetManager: Lost task 156.0 in stage 6.0 (TID 1129) (node25.cluster.tsc.uc3m.es executor 26): TaskKilled (Stage cancelled)\n",
      "22/03/21 13:33:55 WARN scheduler.TaskSetManager: Lost task 12.1 in stage 6.0 (TID 1097) (node82.cluster.tsc.uc3m.es executor 25): TaskKilled (Stage cancelled)\n",
      "22/03/21 13:33:55 WARN scheduler.TaskSetManager: Lost task 184.0 in stage 6.0 (TID 1161) (node12.cluster.tsc.uc3m.es executor 27): TaskKilled (Stage cancelled)\n",
      "22/03/21 13:33:55 WARN scheduler.TaskSetManager: Lost task 100.0 in stage 6.0 (TID 1158) (node12.cluster.tsc.uc3m.es executor 27): TaskKilled (Stage cancelled)\n",
      "22/03/21 13:33:55 WARN scheduler.TaskSetManager: Lost task 7.1 in stage 6.0 (TID 1155) (node12.cluster.tsc.uc3m.es executor 27): TaskKilled (Stage cancelled)\n"
     ]
    },
    {
     "name": "stderr",
     "output_type": "stream",
     "text": [
      "22/03/21 13:33:55 WARN scheduler.TaskSetManager: Lost task 26.1 in stage 6.0 (TID 1093) (node82.cluster.tsc.uc3m.es executor 25): TaskKilled (Stage cancelled)\n",
      "22/03/21 13:33:56 WARN scheduler.TaskSetManager: Lost task 22.1 in stage 6.0 (TID 1096) (node82.cluster.tsc.uc3m.es executor 25): TaskKilled (Stage cancelled)\n",
      "22/03/21 13:33:56 WARN scheduler.TaskSetManager: Lost task 15.1 in stage 6.0 (TID 1094) (node82.cluster.tsc.uc3m.es executor 25): TaskKilled (Stage cancelled)\n",
      "22/03/21 13:33:56 WARN scheduler.TaskSetManager: Lost task 2.1 in stage 6.0 (TID 1098) (node82.cluster.tsc.uc3m.es executor 25): TaskKilled (Stage cancelled)\n",
      "[Stage 6:>                                                      (0 + 16) / 1000]\r"
     ]
    }
   ],
   "source": [
    "%%time\n",
    "\n",
    "#Pipeline for language detection\n",
    "documentAssembler = DocumentAssembler() \\\n",
    "    .setInputCol(\"rawtext\") \\\n",
    "    .setOutputCol(\"document\")\n",
    "\n",
    "languageDetector = LanguageDetectorDL.pretrained() \\\n",
    "    .setInputCols(\"document\") \\\n",
    "    .setOutputCol(\"language\")\n",
    "\n",
    "pipeline = Pipeline() \\\n",
    "    .setStages([\n",
    "      documentAssembler,\n",
    "      languageDetector\n",
    "    ])\n",
    "\n",
    "#Apply language detection pipeline\n",
    "S2papers = pipeline.fit(S2papers).transform(S2papers)\n",
    "S2papers = (\n",
    "    S2papers.filter(F.col(\"language.result\")[0]==\"en\")\n",
    "    .drop(\"language\")\n",
    ")\n",
    "\n",
    "print('Number of papers in English:', S2papers.count())"
   ]
  },
  {
   "cell_type": "markdown",
   "id": "eb4d59da",
   "metadata": {},
   "source": [
    "## 3. Define Lemmatization Pipeline\n",
    "\n",
    "   - We work on documents created in Subsection 2\n",
    "   - Sentence Detection and Tokenizer applied to detect tokens\n",
    "   - Lemmatization is carried out\n",
    "   - Stopwords are applied\n",
    "   - Punctuation symbols are removed\n",
    "   - Result is converted back from Spark NLP annotations to string format"
   ]
  },
  {
   "cell_type": "code",
   "execution_count": 4,
   "id": "eecf0f70",
   "metadata": {},
   "outputs": [
    {
     "name": "stdout",
     "output_type": "stream",
     "text": [
      "lemma_antbnc download started this may take some time.\n",
      "Approximate size to download 907.6 KB\n",
      "[ | ]lemma_antbnc download started this may take some time.\n",
      "Approximate size to download 907.6 KB\n",
      "[ / ]Download done! Loading the resource.\n"
     ]
    },
    {
     "name": "stderr",
     "output_type": "stream",
     "text": [
      "\r",
      "[Stage 9:=============================>                            (6 + 0) / 12]\r"
     ]
    },
    {
     "name": "stdout",
     "output_type": "stream",
     "text": [
      "\r",
      "[ — ]"
     ]
    },
    {
     "name": "stderr",
     "output_type": "stream",
     "text": [
      "\r",
      "[Stage 9:===============================================>         (10 + 2) / 12]\r",
      "\r",
      "[Stage 9:====================================================>    (11 + 1) / 12]\r"
     ]
    },
    {
     "name": "stdout",
     "output_type": "stream",
     "text": [
      "\r",
      "[ \\ ]"
     ]
    },
    {
     "name": "stderr",
     "output_type": "stream",
     "text": [
      "\r",
      "                                                                                \r"
     ]
    },
    {
     "name": "stdout",
     "output_type": "stream",
     "text": [
      "[OK!]\n"
     ]
    },
    {
     "name": "stderr",
     "output_type": "stream",
     "text": [
      "\r",
      "[Stage 10:>                                                         (0 + 1) / 1]\r"
     ]
    },
    {
     "name": "stdout",
     "output_type": "stream",
     "text": [
      "-RECORD 0--------------------------------------------------------------------------------------------------------------------------\n",
      " id     | ad05287296deebf0a27a2ae32a7e9f8fbfff5d14                                                                                 \n",
      " lemmas | active species mechanistic pathways ironcatalyzed cc bondforming crosscoupling reactions past decade considerable pro... \n",
      "-RECORD 1--------------------------------------------------------------------------------------------------------------------------\n",
      " id     | c0d604dcbb9d0b44737bf04763271b6eecbc5ddb                                                                                 \n",
      " lemmas | design rule nanomedical engineering physical virology application virusbased material medicine physical virology seek... \n",
      "-RECORD 2--------------------------------------------------------------------------------------------------------------------------\n",
      " id     | c6cdf58235e11e615da62112b09f3266a5d5d882                                                                                 \n",
      " lemmas | development validation method determination organophosphorus pesticide trace liver sample gcmsmsion trap method simul... \n",
      "-RECORD 3--------------------------------------------------------------------------------------------------------------------------\n",
      " id     | 5d503082ea6aa2144255b83306a01cfb56636963                                                                                 \n",
      " lemmas | radiant road katherine catmull review fire fortunately hes rescue gorgeous mysterious angela obscura whisk sulfur ver... \n",
      "-RECORD 4--------------------------------------------------------------------------------------------------------------------------\n",
      " id     | 3bca45c5d12322caaca2db08e210e6fe85f1a45d                                                                                 \n",
      " lemmas | experimental study density state band gap ase energy level thermally accessible state negativeu defect ase determine ... \n",
      "-RECORD 5--------------------------------------------------------------------------------------------------------------------------\n",
      " id     | 681306e77a3912f7a2d70fcb0129afc280f2a477                                                                                 \n",
      " lemmas | age proximity influence herd composition wild giraffe many mammalian species animal form subunit within large group o... \n",
      "-RECORD 6--------------------------------------------------------------------------------------------------------------------------\n",
      " id     | 8fb1255e3ca93bf03b58fcf582f55e79795f7d3f                                                                                 \n",
      " lemmas | applicaton flow unit wusanzhong lowpermeability conglomerate oil reservoir wusanzhong t2k1 formation conglomerate oil... \n",
      "-RECORD 7--------------------------------------------------------------------------------------------------------------------------\n",
      " id     | 9151b21f011f3d177fa7db0767bd591f8c9e9453                                                                                 \n",
      " lemmas | aesthetics pragmatics individual psychotherapy multilevel encounter                                                      \n",
      "-RECORD 8--------------------------------------------------------------------------------------------------------------------------\n",
      " id     | e2f01f21f1f659f371affdb979b1617a74bff2eb                                                                                 \n",
      " lemmas | iii sarepta tradition history                                                                                            \n",
      "-RECORD 9--------------------------------------------------------------------------------------------------------------------------\n",
      " id     | 12568ceb913138554dfdceaac8590a6ecd9d3fd2                                                                                 \n",
      " lemmas | consequences delay lateral inhibition retina limulus ii theory spatially uniform field assume fourpoint property abst... \n",
      "only showing top 10 rows\n",
      "\n",
      "CPU times: user 77.9 ms, sys: 39.7 ms, total: 118 ms\n",
      "Wall time: 17.2 s\n"
     ]
    },
    {
     "name": "stderr",
     "output_type": "stream",
     "text": [
      "\r",
      "                                                                                \r"
     ]
    }
   ],
   "source": [
    "%%time \n",
    "\n",
    "#Next, we carry out the lemmatization pipeline\n",
    "\n",
    "sentenceDetector = SentenceDetector() \\\n",
    "    .setInputCols([\"document\"]) \\\n",
    "    .setOutputCol(\"sentence\")\n",
    "\n",
    "tokenizer = Tokenizer() \\\n",
    "    .setInputCols([\"sentence\"]) \\\n",
    "    .setOutputCol(\"token\")\n",
    "\n",
    "lemmatizer = LemmatizerModel.pretrained() \\\n",
    "    .setInputCols([\"token\"]) \\\n",
    "    .setOutputCol(\"lemma\")\n",
    "\n",
    "stopWords = StopWordsCleaner() \\\n",
    "    .setInputCols([\"lemma\"]) \\\n",
    "    .setOutputCol(\"cleanlemma\")\n",
    "\n",
    "normalizer = Normalizer() \\\n",
    "    .setInputCols([\"cleanlemma\"]) \\\n",
    "    .setOutputCol(\"normalizedlemma\") \\\n",
    "    .setLowercase(True) \\\n",
    "    .setCleanupPatterns([\"\"\"[^\\w\\d\\s]\"\"\"])\n",
    "\n",
    "finisher = Finisher() \\\n",
    "     .setInputCols(['normalizedlemma'])\n",
    "\n",
    "pipeline = Pipeline() \\\n",
    "    .setStages([\n",
    "      sentenceDetector,\n",
    "      tokenizer,\n",
    "      lemmatizer,\n",
    "      stopWords,\n",
    "      normalizer,\n",
    "      finisher\n",
    "])\n",
    "\n",
    "#We apply pipeline and recover lemmas as string\n",
    "S2papers = pipeline.fit(S2papers).transform(S2papers)\n",
    "\n",
    "udf_back2str = F.udf(lambda x:' '.join(list(x)), StringType() )\n",
    "S2papers = (\n",
    "    S2papers.withColumn(\"lemmas\",udf_back2str(F.col(\"finished_normalizedlemma\")))\n",
    "    .drop(\"rawtext\")\n",
    "    .drop(\"finished_normalizedlemma\")\n",
    ")\n",
    "\n",
    "#Show results of validation for n papers\n",
    "#S2papers.show(n=10, truncate=120, vertical=True)"
   ]
  },
  {
   "cell_type": "markdown",
   "id": "4f63e174",
   "metadata": {},
   "source": [
    "## 4. Save a table with `id` and `lemmas` to HDFS"
   ]
  },
  {
   "cell_type": "code",
   "execution_count": 5,
   "id": "b4c5b911",
   "metadata": {},
   "outputs": [
    {
     "name": "stderr",
     "output_type": "stream",
     "text": [
      "22/03/21 13:15:07 ERROR scheduler.TaskSchedulerImpl: Lost executor 16 on node55.cluster.tsc.uc3m.es: Remote RPC client disassociated. Likely due to containers exceeding thresholds, or network issues. Check driver logs for WARN messages.\n",
      "22/03/21 13:15:07 WARN scheduler.TaskSetManager: Lost task 19.0 in stage 11.0 (TID 2111) (node55.cluster.tsc.uc3m.es executor 16): ExecutorLostFailure (executor 16 exited caused by one of the running tasks) Reason: Remote RPC client disassociated. Likely due to containers exceeding thresholds, or network issues. Check driver logs for WARN messages.\n",
      "22/03/21 13:15:07 WARN scheduler.TaskSetManager: Lost task 2.0 in stage 11.0 (TID 2102) (node55.cluster.tsc.uc3m.es executor 16): ExecutorLostFailure (executor 16 exited caused by one of the running tasks) Reason: Remote RPC client disassociated. Likely due to containers exceeding thresholds, or network issues. Check driver logs for WARN messages.\n",
      "22/03/21 13:15:07 WARN scheduler.TaskSetManager: Lost task 9.0 in stage 11.0 (TID 2105) (node55.cluster.tsc.uc3m.es executor 16): ExecutorLostFailure (executor 16 exited caused by one of the running tasks) Reason: Remote RPC client disassociated. Likely due to containers exceeding thresholds, or network issues. Check driver logs for WARN messages.\n",
      "22/03/21 13:15:07 WARN scheduler.TaskSetManager: Lost task 15.0 in stage 11.0 (TID 2108) (node55.cluster.tsc.uc3m.es executor 16): ExecutorLostFailure (executor 16 exited caused by one of the running tasks) Reason: Remote RPC client disassociated. Likely due to containers exceeding thresholds, or network issues. Check driver logs for WARN messages.\n",
      "                                                                                \r"
     ]
    },
    {
     "name": "stdout",
     "output_type": "stream",
     "text": [
      "CPU times: user 418 ms, sys: 100 ms, total: 519 ms\n",
      "Wall time: 3min\n"
     ]
    }
   ],
   "source": [
    "%%time\n",
    "\n",
    "#Save calculated lemmas to HDFS\n",
    "dir_parquet = Path(\"/export/ml4ds/IntelComp/Datalake/SemanticScholar/20220201\")\n",
    "\n",
    "S2papers.write.parquet(\n",
    "    dir_parquet.joinpath(f\"papers_NLP.parquet\").as_posix(),\n",
    "    mode=\"overwrite\",\n",
    ")"
   ]
  },
  {
   "cell_type": "markdown",
   "id": "d1e9416b",
   "metadata": {},
   "source": [
    "## 5. Optional: Check that the generated table looks OK"
   ]
  },
  {
   "cell_type": "code",
   "execution_count": 7,
   "id": "bf2a8e50",
   "metadata": {},
   "outputs": [
    {
     "name": "stderr",
     "output_type": "stream",
     "text": [
      "22/03/21 13:18:56 WARN metastore.ObjectStore: Failed to get database parquet, returning NoSuchObjectException\n"
     ]
    },
    {
     "name": "stdout",
     "output_type": "stream",
     "text": [
      "-RECORD 0--------------------------------------------------------------------------------------------------------------------------\n",
      " id     | 21960a5deecbcf8aa360e7e1880ce0f88e5bb4ca                                                                                 \n",
      " lemmas | clock recovery technique base spectral restoration clock recovery technique suitable several family modulationdemodul... \n",
      "-RECORD 1--------------------------------------------------------------------------------------------------------------------------\n",
      " id     | 077bda491fa46e833b3f893c4e860bba417a17ae                                                                                 \n",
      " lemmas | evaluation trends foreign trade development postcommunist countries europe years 20002012 following accession eu abst... \n",
      "-RECORD 2--------------------------------------------------------------------------------------------------------------------------\n",
      " id     | 255b1aec6053f33afaf5cb369f67abb285f29efb                                                                                 \n",
      " lemmas | three month moderateintensity exercise reduce plasma 3nitrotyrosine rheumatoid arthritis patient purposerheumatoid ar... \n",
      "-RECORD 3--------------------------------------------------------------------------------------------------------------------------\n",
      " id     | 1d738debf03bec088339c1ecb3c6295383e914b7                                                                                 \n",
      " lemmas | study strategic planning procurement medicals ugandas regional referral hospitals study analysis effect strategic pla... \n",
      "-RECORD 4--------------------------------------------------------------------------------------------------------------------------\n",
      " id     | cf8c3268b2f7481644c38396c4eaad9ca30c7412                                                                                 \n",
      " lemmas | entanglement formation quantum states investigate entanglement formation class highdimensional quantum mix state pres... \n",
      "-RECORD 5--------------------------------------------------------------------------------------------------------------------------\n",
      " id     | 98d7c249b094d364d9d16662aef777752b956707                                                                                 \n",
      " lemmas | temperature dependence threshold current 18 23 spl mum algainassbbased qw diode laser report temperature dependence t... \n",
      "-RECORD 6--------------------------------------------------------------------------------------------------------------------------\n",
      " id     | 6101a33dc6a4b9892ef6c8d43595c8285a1e1c9b                                                                                 \n",
      " lemmas | dsgrn examining dynamics families logical models present computational tool dsgrn explore dynamics network computing ... \n",
      "-RECORD 7--------------------------------------------------------------------------------------------------------------------------\n",
      " id     | 7986dd025f1d35fc90ee2cf1bde103a28529f815                                                                                 \n",
      " lemmas | association interferon lambda 3 rs12979860 polymorphism clinical outcome dengue virusinfected child single nucleotide... \n",
      "-RECORD 8--------------------------------------------------------------------------------------------------------------------------\n",
      " id     | ff2df552745258335bddcdf80456182e17e00038                                                                                 \n",
      " lemmas | design procurement eutectic snpb solderbumped flip chip test die organic substrates case study conduct investigate is... \n",
      "-RECORD 9--------------------------------------------------------------------------------------------------------------------------\n",
      " id     | dc38964e0efce9fc4dede7da00aaeb376c4b8ee1                                                                                 \n",
      " lemmas | extreme duration diazepamassociated sedation patient alcohol delirium cyp2c19 polymorphisms fortnightly continue curr... \n",
      "only showing top 10 rows\n",
      "\n"
     ]
    },
    {
     "data": {
      "text/plain": [
       "14998"
      ]
     },
     "execution_count": 7,
     "metadata": {},
     "output_type": "execute_result"
    }
   ],
   "source": [
    "#Test that the saved table is correct\n",
    "S2papers = spark.sql(\"SELECT * FROM parquet.`/export/ml4ds/IntelComp/Datalake/SemanticScholar/20220201/papers_NLP.parquet`\")\n",
    "S2papers.show(n=10, truncate=120, vertical=True)\n",
    "print('Number of lemmatized papers:', S2papers.count())"
   ]
  },
  {
   "cell_type": "code",
   "execution_count": null,
   "id": "9322a5bc",
   "metadata": {},
   "outputs": [],
   "source": []
  }
 ],
 "metadata": {
  "kernelspec": {
   "display_name": "Python 3 (ipykernel)",
   "language": "python",
   "name": "python3"
  },
  "language_info": {
   "codemirror_mode": {
    "name": "ipython",
    "version": 3
   },
   "file_extension": ".py",
   "mimetype": "text/x-python",
   "name": "python",
   "nbconvert_exporter": "python",
   "pygments_lexer": "ipython3",
   "version": "3.8.12"
  }
 },
 "nbformat": 4,
 "nbformat_minor": 5
}
