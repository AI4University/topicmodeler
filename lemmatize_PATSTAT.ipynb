{
 "cells": [
  {
   "cell_type": "markdown",
   "id": "319e2032",
   "metadata": {},
   "source": [
    "# Lemmatize PATSTATusing Spark NLP"
   ]
  },
  {
   "cell_type": "code",
   "execution_count": 1,
   "id": "58ccc6a4",
   "metadata": {},
   "outputs": [],
   "source": [
    "from sparknlp.base import *\n",
    "from sparknlp.annotator import *\n",
    "import sparknlp\n",
    "from pyspark.ml import Pipeline\n",
    "import pyspark.sql.functions as F\n",
    "from pyspark.sql.types import StringType\n",
    "from pathlib import Path"
   ]
  },
  {
   "cell_type": "markdown",
   "id": "007ee1f5",
   "metadata": {},
   "source": [
    "## 1. Read papers and concatenate the `title` and `paperAbstract` fields"
   ]
  },
  {
   "cell_type": "code",
   "execution_count": 7,
   "id": "c8f6fcdf",
   "metadata": {},
   "outputs": [
    {
     "name": "stderr",
     "output_type": "stream",
     "text": [
      "22/03/22 13:49:40 WARN metastore.ObjectStore: Failed to get database parquet, returning NoSuchObjectException\n",
      "[Stage 17:>                                                         (0 + 1) / 1]\r"
     ]
    },
    {
     "name": "stdout",
     "output_type": "stream",
     "text": [
      "Number of patents before language filtering: 114690034\n",
      "CPU times: user 17.1 ms, sys: 27.8 ms, total: 44.9 ms\n",
      "Wall time: 14.8 s\n"
     ]
    },
    {
     "name": "stderr",
     "output_type": "stream",
     "text": [
      "\r",
      "                                                                                \r"
     ]
    }
   ],
   "source": [
    "%%time\n",
    "\n",
    "# Loading patents table text fields, and concatenating them for lemmatization\n",
    "patents = spark.sql(\"SELECT appln_id, appln_title, appln_abstract FROM parquet.`/export/ml4ds/IntelComp/Datalake/PATSTAT/2021_Autumn/patstat_appln.parquet`\")\n",
    "patents = patents.repartition(numPartitions=20000)\n",
    "##For development purposes only\n",
    "#patents = patents.sample(fraction=0.0001)\n",
    "\n",
    "#Concatenate text fields to lemmatize\n",
    "patents = (\n",
    "    patents.withColumn(\"rawtext\",F.concat_ws('. ', \"appln_title\", \"appln_abstract\"))\n",
    "    .drop(\"appln_title\")\n",
    "    .drop(\"appln_abstract\")\n",
    ")\n",
    "\n",
    "print('Number of patents before language filtering:', patents.count())"
   ]
  },
  {
   "cell_type": "markdown",
   "id": "a0ba78d8",
   "metadata": {},
   "source": [
    "## 2. Filter patents abstracts that are not in English Language"
   ]
  },
  {
   "cell_type": "code",
   "execution_count": 8,
   "id": "ba2ecc2f",
   "metadata": {},
   "outputs": [
    {
     "name": "stdout",
     "output_type": "stream",
     "text": [
      "ld_wiki_tatoeba_cnn_21 download started this may take some time.\n",
      "Approximate size to download 7.1 MB\n",
      "[OK!]\n"
     ]
    },
    {
     "name": "stderr",
     "output_type": "stream",
     "text": [
      "22/03/22 13:50:26 ERROR scheduler.TaskSchedulerImpl: Lost executor 45 on node66.cluster.tsc.uc3m.es: Remote RPC client disassociated. Likely due to containers exceeding thresholds, or network issues. Check driver logs for WARN messages.\n",
      "22/03/22 13:50:26 WARN scheduler.TaskSetManager: Lost task 182.0 in stage 18.0 (TID 61776) (node66.cluster.tsc.uc3m.es executor 45): ExecutorLostFailure (executor 45 exited caused by one of the running tasks) Reason: Remote RPC client disassociated. Likely due to containers exceeding thresholds, or network issues. Check driver logs for WARN messages.\n",
      "22/03/22 13:50:26 WARN scheduler.TaskSetManager: Lost task 95.0 in stage 18.0 (TID 61752) (node66.cluster.tsc.uc3m.es executor 45): ExecutorLostFailure (executor 45 exited caused by one of the running tasks) Reason: Remote RPC client disassociated. Likely due to containers exceeding thresholds, or network issues. Check driver logs for WARN messages.\n",
      "22/03/22 13:50:26 WARN scheduler.TaskSetManager: Lost task 197.0 in stage 18.0 (TID 61784) (node66.cluster.tsc.uc3m.es executor 45): ExecutorLostFailure (executor 45 exited caused by one of the running tasks) Reason: Remote RPC client disassociated. Likely due to containers exceeding thresholds, or network issues. Check driver logs for WARN messages.\n",
      "22/03/22 13:50:26 WARN scheduler.TaskSetManager: Lost task 133.0 in stage 18.0 (TID 61760) (node66.cluster.tsc.uc3m.es executor 45): ExecutorLostFailure (executor 45 exited caused by one of the running tasks) Reason: Remote RPC client disassociated. Likely due to containers exceeding thresholds, or network issues. Check driver logs for WARN messages.\n",
      "22/03/22 13:50:26 WARN scheduler.TaskSetManager: Lost task 11.0 in stage 18.0 (TID 61736) (node66.cluster.tsc.uc3m.es executor 45): ExecutorLostFailure (executor 45 exited caused by one of the running tasks) Reason: Remote RPC client disassociated. Likely due to containers exceeding thresholds, or network issues. Check driver logs for WARN messages.\n",
      "22/03/22 13:50:26 WARN scheduler.TaskSetManager: Lost task 206.0 in stage 18.0 (TID 61792) (node66.cluster.tsc.uc3m.es executor 45): ExecutorLostFailure (executor 45 exited caused by one of the running tasks) Reason: Remote RPC client disassociated. Likely due to containers exceeding thresholds, or network issues. Check driver logs for WARN messages.\n",
      "22/03/22 13:50:26 WARN scheduler.TaskSetManager: Lost task 156.0 in stage 18.0 (TID 61768) (node66.cluster.tsc.uc3m.es executor 45): ExecutorLostFailure (executor 45 exited caused by one of the running tasks) Reason: Remote RPC client disassociated. Likely due to containers exceeding thresholds, or network issues. Check driver logs for WARN messages.\n",
      "22/03/22 13:50:26 WARN scheduler.TaskSetManager: Lost task 51.0 in stage 18.0 (TID 61744) (node66.cluster.tsc.uc3m.es executor 45): ExecutorLostFailure (executor 45 exited caused by one of the running tasks) Reason: Remote RPC client disassociated. Likely due to containers exceeding thresholds, or network issues. Check driver logs for WARN messages.\n",
      "22/03/22 13:50:26 ERROR scheduler.TaskSchedulerImpl: Lost executor 43 on node55.cluster.tsc.uc3m.es: Remote RPC client disassociated. Likely due to containers exceeding thresholds, or network issues. Check driver logs for WARN messages.\n",
      "22/03/22 13:50:26 WARN scheduler.TaskSetManager: Lost task 216.0 in stage 18.0 (TID 61797) (node55.cluster.tsc.uc3m.es executor 43): ExecutorLostFailure (executor 43 exited caused by one of the running tasks) Reason: Remote RPC client disassociated. Likely due to containers exceeding thresholds, or network issues. Check driver logs for WARN messages.\n",
      "22/03/22 13:50:26 WARN scheduler.TaskSetManager: Lost task 178.0 in stage 18.0 (TID 61773) (node55.cluster.tsc.uc3m.es executor 43): ExecutorLostFailure (executor 43 exited caused by one of the running tasks) Reason: Remote RPC client disassociated. Likely due to containers exceeding thresholds, or network issues. Check driver logs for WARN messages.\n",
      "22/03/22 13:50:26 WARN scheduler.TaskSetManager: Lost task 92.0 in stage 18.0 (TID 61749) (node55.cluster.tsc.uc3m.es executor 43): ExecutorLostFailure (executor 43 exited caused by one of the running tasks) Reason: Remote RPC client disassociated. Likely due to containers exceeding thresholds, or network issues. Check driver logs for WARN messages.\n",
      "22/03/22 13:50:26 WARN scheduler.TaskSetManager: Lost task 191.0 in stage 18.0 (TID 61781) (node55.cluster.tsc.uc3m.es executor 43): ExecutorLostFailure (executor 43 exited caused by one of the running tasks) Reason: Remote RPC client disassociated. Likely due to containers exceeding thresholds, or network issues. Check driver logs for WARN messages.\n",
      "22/03/22 13:50:26 WARN scheduler.TaskSetManager: Lost task 116.0 in stage 18.0 (TID 61757) (node55.cluster.tsc.uc3m.es executor 43): ExecutorLostFailure (executor 43 exited caused by one of the running tasks) Reason: Remote RPC client disassociated. Likely due to containers exceeding thresholds, or network issues. Check driver logs for WARN messages.\n",
      "22/03/22 13:50:26 WARN scheduler.TaskSetManager: Lost task 150.0 in stage 18.0 (TID 61765) (node55.cluster.tsc.uc3m.es executor 43): ExecutorLostFailure (executor 43 exited caused by one of the running tasks) Reason: Remote RPC client disassociated. Likely due to containers exceeding thresholds, or network issues. Check driver logs for WARN messages.\n",
      "22/03/22 13:50:26 WARN scheduler.TaskSetManager: Lost task 32.0 in stage 18.0 (TID 61741) (node55.cluster.tsc.uc3m.es executor 43): ExecutorLostFailure (executor 43 exited caused by one of the running tasks) Reason: Remote RPC client disassociated. Likely due to containers exceeding thresholds, or network issues. Check driver logs for WARN messages.\n",
      "22/03/22 13:50:26 WARN scheduler.TaskSetManager: Lost task 203.0 in stage 18.0 (TID 61789) (node55.cluster.tsc.uc3m.es executor 43): ExecutorLostFailure (executor 43 exited caused by one of the running tasks) Reason: Remote RPC client disassociated. Likely due to containers exceeding thresholds, or network issues. Check driver logs for WARN messages.\n",
      "22/03/22 13:50:28 ERROR scheduler.TaskSchedulerImpl: Lost executor 46 on node62.cluster.tsc.uc3m.es: Remote RPC client disassociated. Likely due to containers exceeding thresholds, or network issues. Check driver logs for WARN messages.\n",
      "22/03/22 13:50:28 WARN scheduler.TaskSetManager: Lost task 189.0 in stage 18.0 (TID 61779) (node62.cluster.tsc.uc3m.es executor 46): ExecutorLostFailure (executor 46 exited caused by one of the running tasks) Reason: Remote RPC client disassociated. Likely due to containers exceeding thresholds, or network issues. Check driver logs for WARN messages.\n",
      "22/03/22 13:50:28 WARN scheduler.TaskSetManager: Lost task 108.0 in stage 18.0 (TID 61755) (node62.cluster.tsc.uc3m.es executor 46): ExecutorLostFailure (executor 46 exited caused by one of the running tasks) Reason: Remote RPC client disassociated. Likely due to containers exceeding thresholds, or network issues. Check driver logs for WARN messages.\n",
      "22/03/22 13:50:28 WARN scheduler.TaskSetManager: Lost task 201.0 in stage 18.0 (TID 61787) (node62.cluster.tsc.uc3m.es executor 46): ExecutorLostFailure (executor 46 exited caused by one of the running tasks) Reason: Remote RPC client disassociated. Likely due to containers exceeding thresholds, or network issues. Check driver logs for WARN messages.\n",
      "22/03/22 13:50:28 WARN scheduler.TaskSetManager: Lost task 146.0 in stage 18.0 (TID 61763) (node62.cluster.tsc.uc3m.es executor 46): ExecutorLostFailure (executor 46 exited caused by one of the running tasks) Reason: Remote RPC client disassociated. Likely due to containers exceeding thresholds, or network issues. Check driver logs for WARN messages.\n",
      "22/03/22 13:50:28 WARN scheduler.TaskSetManager: Lost task 22.0 in stage 18.0 (TID 61739) (node62.cluster.tsc.uc3m.es executor 46): ExecutorLostFailure (executor 46 exited caused by one of the running tasks) Reason: Remote RPC client disassociated. Likely due to containers exceeding thresholds, or network issues. Check driver logs for WARN messages.\n",
      "22/03/22 13:50:28 WARN scheduler.TaskSetManager: Lost task 73.0 in stage 18.0 (TID 61747) (node62.cluster.tsc.uc3m.es executor 46): ExecutorLostFailure (executor 46 exited caused by one of the running tasks) Reason: Remote RPC client disassociated. Likely due to containers exceeding thresholds, or network issues. Check driver logs for WARN messages.\n",
      "22/03/22 13:50:28 WARN scheduler.TaskSetManager: Lost task 213.0 in stage 18.0 (TID 61795) (node62.cluster.tsc.uc3m.es executor 46): ExecutorLostFailure (executor 46 exited caused by one of the running tasks) Reason: Remote RPC client disassociated. Likely due to containers exceeding thresholds, or network issues. Check driver logs for WARN messages.\n",
      "22/03/22 13:50:28 WARN scheduler.TaskSetManager: Lost task 164.0 in stage 18.0 (TID 61771) (node62.cluster.tsc.uc3m.es executor 46): ExecutorLostFailure (executor 46 exited caused by one of the running tasks) Reason: Remote RPC client disassociated. Likely due to containers exceeding thresholds, or network issues. Check driver logs for WARN messages.\n"
     ]
    },
    {
     "name": "stderr",
     "output_type": "stream",
     "text": [
      "[Stage 19:================================================>(19909 + 91) / 20000]\r"
     ]
    },
    {
     "name": "stdout",
     "output_type": "stream",
     "text": [
      "Number of patents in English: 76348837\n",
      "CPU times: user 925 ms, sys: 172 ms, total: 1.1 s\n",
      "Wall time: 1h 29min 20s\n"
     ]
    },
    {
     "name": "stderr",
     "output_type": "stream",
     "text": [
      "\r",
      "[Stage 20:>                                                         (0 + 1) / 1]\r",
      "\r",
      "                                                                                \r"
     ]
    }
   ],
   "source": [
    "%%time\n",
    "\n",
    "#Pipeline for language detection\n",
    "documentAssembler = DocumentAssembler() \\\n",
    "    .setInputCol(\"rawtext\") \\\n",
    "    .setOutputCol(\"document\")\n",
    "\n",
    "languageDetector = LanguageDetectorDL.pretrained() \\\n",
    "    .setInputCols(\"document\") \\\n",
    "    .setOutputCol(\"language\")\n",
    "\n",
    "pipeline = Pipeline() \\\n",
    "    .setStages([\n",
    "      documentAssembler,\n",
    "      languageDetector\n",
    "    ])\n",
    "\n",
    "#Apply language detection pipeline\n",
    "patents = pipeline.fit(patents).transform(patents)\n",
    "patents = (\n",
    "    patents.filter(F.col(\"language.result\")[0]==\"en\")\n",
    "    .drop(\"language\")\n",
    ")\n",
    "\n",
    "print('Number of patents in English:', patents.count())"
   ]
  },
  {
   "cell_type": "markdown",
   "id": "eb4d59da",
   "metadata": {},
   "source": [
    "## 3. Define and Run Lemmatization Pipeline\n",
    "\n",
    "   - We work on documents created in Subsection 2\n",
    "   - Sentence Detection and Tokenizer applied to detect tokens\n",
    "   - Lemmatization is carried out\n",
    "   - Stopwords are applied\n",
    "   - Punctuation symbols are removed\n",
    "   - Result is converted back from Spark NLP annotations to string format"
   ]
  },
  {
   "cell_type": "code",
   "execution_count": 9,
   "id": "eecf0f70",
   "metadata": {},
   "outputs": [
    {
     "name": "stdout",
     "output_type": "stream",
     "text": [
      "lemma_antbnc download started this may take some time.\n",
      "Approximate size to download 907.6 KB\n",
      "[ | ]lemma_antbnc download started this may take some time.\n",
      "Approximate size to download 907.6 KB\n",
      "[ / ]Download done! Loading the resource.\n"
     ]
    },
    {
     "name": "stderr",
     "output_type": "stream",
     "text": [
      "\r",
      "[Stage 22:==============================================>         (10 + 0) / 12]\r"
     ]
    },
    {
     "name": "stdout",
     "output_type": "stream",
     "text": [
      "[ \\ ]"
     ]
    },
    {
     "name": "stderr",
     "output_type": "stream",
     "text": [
      "\r",
      "[Stage 22:==============================================>         (10 + 2) / 12]\r",
      "\r",
      "                                                                                \r"
     ]
    },
    {
     "name": "stdout",
     "output_type": "stream",
     "text": [
      "[OK!]\n",
      "CPU times: user 127 ms, sys: 14.9 ms, total: 142 ms\n",
      "Wall time: 14.4 s\n"
     ]
    }
   ],
   "source": [
    "%%time \n",
    "\n",
    "#Next, we carry out the lemmatization pipeline\n",
    "\n",
    "sentenceDetector = SentenceDetector() \\\n",
    "    .setInputCols([\"document\"]) \\\n",
    "    .setOutputCol(\"sentence\")\n",
    "\n",
    "tokenizer = Tokenizer() \\\n",
    "    .setInputCols([\"sentence\"]) \\\n",
    "    .setOutputCol(\"token\")\n",
    "\n",
    "lemmatizer = LemmatizerModel.pretrained() \\\n",
    "    .setInputCols([\"token\"]) \\\n",
    "    .setOutputCol(\"lemma\")\n",
    "\n",
    "stopWords = StopWordsCleaner() \\\n",
    "    .setInputCols([\"lemma\"]) \\\n",
    "    .setOutputCol(\"cleanlemma\")\n",
    "\n",
    "normalizer = Normalizer() \\\n",
    "    .setInputCols([\"cleanlemma\"]) \\\n",
    "    .setOutputCol(\"normalizedlemma\") \\\n",
    "    .setLowercase(True) \\\n",
    "    .setCleanupPatterns([\"\"\"[^\\w\\d\\s]\"\"\"])\n",
    "\n",
    "finisher = Finisher() \\\n",
    "     .setInputCols(['normalizedlemma'])\n",
    "\n",
    "pipeline = Pipeline() \\\n",
    "    .setStages([\n",
    "      sentenceDetector,\n",
    "      tokenizer,\n",
    "      lemmatizer,\n",
    "      stopWords,\n",
    "      normalizer,\n",
    "      finisher\n",
    "])\n",
    "\n",
    "#We apply pipeline and recover lemmas as string\n",
    "patents = pipeline.fit(patents).transform(patents)\n",
    "\n",
    "udf_back2str = F.udf(lambda x:' '.join(list(x)), StringType() )\n",
    "patents = (\n",
    "    patents.withColumn(\"lemmas\",udf_back2str(F.col(\"finished_normalizedlemma\")))\n",
    "    .drop(\"rawtext\")\n",
    "    .drop(\"finished_normalizedlemma\")\n",
    ")\n",
    "\n",
    "#Show results of validation for n papers\n",
    "#patents.show(n=10, truncate=120, vertical=True)"
   ]
  },
  {
   "cell_type": "markdown",
   "id": "4f63e174",
   "metadata": {},
   "source": [
    "## 4. Save a table with `appln_id` and `lemmas` to HDFS"
   ]
  },
  {
   "cell_type": "code",
   "execution_count": 10,
   "id": "b4c5b911",
   "metadata": {},
   "outputs": [
    {
     "name": "stderr",
     "output_type": "stream",
     "text": [
      "22/03/22 15:20:42 ERROR scheduler.TaskSchedulerImpl: Lost executor 8 on node89.cluster.tsc.uc3m.es: Remote RPC client disassociated. Likely due to containers exceeding thresholds, or network issues. Check driver logs for WARN messages.\n",
      "22/03/22 15:20:42 WARN scheduler.TaskSetManager: Lost task 99.0 in stage 23.0 (TID 82163) (node89.cluster.tsc.uc3m.es executor 8): ExecutorLostFailure (executor 8 exited caused by one of the running tasks) Reason: Remote RPC client disassociated. Likely due to containers exceeding thresholds, or network issues. Check driver logs for WARN messages.\n",
      "22/03/22 15:20:42 WARN scheduler.TaskSetManager: Lost task 91.0 in stage 23.0 (TID 82139) (node89.cluster.tsc.uc3m.es executor 8): ExecutorLostFailure (executor 8 exited caused by one of the running tasks) Reason: Remote RPC client disassociated. Likely due to containers exceeding thresholds, or network issues. Check driver logs for WARN messages.\n",
      "22/03/22 15:20:42 WARN scheduler.TaskSetManager: Lost task 164.0 in stage 23.0 (TID 82184) (node89.cluster.tsc.uc3m.es executor 8): ExecutorLostFailure (executor 8 exited caused by one of the running tasks) Reason: Remote RPC client disassociated. Likely due to containers exceeding thresholds, or network issues. Check driver logs for WARN messages.\n",
      "22/03/22 15:20:42 WARN scheduler.TaskSetManager: Lost task 81.0 in stage 23.0 (TID 82043) (node89.cluster.tsc.uc3m.es executor 8): ExecutorLostFailure (executor 8 exited caused by one of the running tasks) Reason: Remote RPC client disassociated. Likely due to containers exceeding thresholds, or network issues. Check driver logs for WARN messages.\n",
      "22/03/22 15:20:42 WARN scheduler.TaskSetManager: Lost task 90.0 in stage 23.0 (TID 82115) (node89.cluster.tsc.uc3m.es executor 8): ExecutorLostFailure (executor 8 exited caused by one of the running tasks) Reason: Remote RPC client disassociated. Likely due to containers exceeding thresholds, or network issues. Check driver logs for WARN messages.\n",
      "22/03/22 15:20:42 WARN scheduler.TaskSetManager: Lost task 87.0 in stage 23.0 (TID 82091) (node89.cluster.tsc.uc3m.es executor 8): ExecutorLostFailure (executor 8 exited caused by one of the running tasks) Reason: Remote RPC client disassociated. Likely due to containers exceeding thresholds, or network issues. Check driver logs for WARN messages.\n",
      "22/03/22 15:20:42 WARN scheduler.TaskSetManager: Lost task 67.0 in stage 23.0 (TID 82019) (node89.cluster.tsc.uc3m.es executor 8): ExecutorLostFailure (executor 8 exited caused by one of the running tasks) Reason: Remote RPC client disassociated. Likely due to containers exceeding thresholds, or network issues. Check driver logs for WARN messages.\n",
      "22/03/22 15:20:42 WARN scheduler.TaskSetManager: Lost task 82.0 in stage 23.0 (TID 82067) (node89.cluster.tsc.uc3m.es executor 8): ExecutorLostFailure (executor 8 exited caused by one of the running tasks) Reason: Remote RPC client disassociated. Likely due to containers exceeding thresholds, or network issues. Check driver logs for WARN messages.\n",
      "22/03/22 16:53:28 ERROR scheduler.TaskSchedulerImpl: Lost executor 13 on node36.cluster.tsc.uc3m.es: Remote RPC client disassociated. Likely due to containers exceeding thresholds, or network issues. Check driver logs for WARN messages.\n",
      "22/03/22 16:53:28 WARN scheduler.TaskSetManager: Lost task 206.0 in stage 24.0 (TID 82611) (node36.cluster.tsc.uc3m.es executor 13): ExecutorLostFailure (executor 13 exited caused by one of the running tasks) Reason: Remote RPC client disassociated. Likely due to containers exceeding thresholds, or network issues. Check driver logs for WARN messages.\n",
      "22/03/22 16:53:28 WARN scheduler.TaskSetManager: Lost task 236.0 in stage 24.0 (TID 82641) (node36.cluster.tsc.uc3m.es executor 13): ExecutorLostFailure (executor 13 exited caused by one of the running tasks) Reason: Remote RPC client disassociated. Likely due to containers exceeding thresholds, or network issues. Check driver logs for WARN messages.\n",
      "22/03/22 16:53:28 WARN scheduler.TaskSetManager: Lost task 146.0 in stage 24.0 (TID 82551) (node36.cluster.tsc.uc3m.es executor 13): ExecutorLostFailure (executor 13 exited caused by one of the running tasks) Reason: Remote RPC client disassociated. Likely due to containers exceeding thresholds, or network issues. Check driver logs for WARN messages.\n",
      "22/03/22 16:53:28 WARN scheduler.TaskSetManager: Lost task 86.0 in stage 24.0 (TID 82491) (node36.cluster.tsc.uc3m.es executor 13): ExecutorLostFailure (executor 13 exited caused by one of the running tasks) Reason: Remote RPC client disassociated. Likely due to containers exceeding thresholds, or network issues. Check driver logs for WARN messages.\n",
      "22/03/22 16:53:28 WARN scheduler.TaskSetManager: Lost task 176.0 in stage 24.0 (TID 82581) (node36.cluster.tsc.uc3m.es executor 13): ExecutorLostFailure (executor 13 exited caused by one of the running tasks) Reason: Remote RPC client disassociated. Likely due to containers exceeding thresholds, or network issues. Check driver logs for WARN messages.\n",
      "22/03/22 16:53:28 WARN scheduler.TaskSetManager: Lost task 116.0 in stage 24.0 (TID 82521) (node36.cluster.tsc.uc3m.es executor 13): ExecutorLostFailure (executor 13 exited caused by one of the running tasks) Reason: Remote RPC client disassociated. Likely due to containers exceeding thresholds, or network issues. Check driver logs for WARN messages.\n",
      "22/03/22 16:53:28 WARN scheduler.TaskSetManager: Lost task 26.0 in stage 24.0 (TID 82431) (node36.cluster.tsc.uc3m.es executor 13): ExecutorLostFailure (executor 13 exited caused by one of the running tasks) Reason: Remote RPC client disassociated. Likely due to containers exceeding thresholds, or network issues. Check driver logs for WARN messages.\n",
      "22/03/22 16:53:28 WARN scheduler.TaskSetManager: Lost task 56.0 in stage 24.0 (TID 82461) (node36.cluster.tsc.uc3m.es executor 13): ExecutorLostFailure (executor 13 exited caused by one of the running tasks) Reason: Remote RPC client disassociated. Likely due to containers exceeding thresholds, or network issues. Check driver logs for WARN messages.\n",
      "22/03/22 16:53:38 ERROR scheduler.TaskSchedulerImpl: Lost executor 6 on node39.cluster.tsc.uc3m.es: Remote RPC client disassociated. Likely due to containers exceeding thresholds, or network issues. Check driver logs for WARN messages.\n",
      "22/03/22 16:53:38 WARN scheduler.TaskSetManager: Lost task 195.0 in stage 24.0 (TID 82600) (node39.cluster.tsc.uc3m.es executor 6): ExecutorLostFailure (executor 6 exited caused by one of the running tasks) Reason: Remote RPC client disassociated. Likely due to containers exceeding thresholds, or network issues. Check driver logs for WARN messages.\n",
      "22/03/22 16:53:38 WARN scheduler.TaskSetManager: Lost task 135.0 in stage 24.0 (TID 82540) (node39.cluster.tsc.uc3m.es executor 6): ExecutorLostFailure (executor 6 exited caused by one of the running tasks) Reason: Remote RPC client disassociated. Likely due to containers exceeding thresholds, or network issues. Check driver logs for WARN messages.\n",
      "22/03/22 16:53:38 WARN scheduler.TaskSetManager: Lost task 225.0 in stage 24.0 (TID 82630) (node39.cluster.tsc.uc3m.es executor 6): ExecutorLostFailure (executor 6 exited caused by one of the running tasks) Reason: Remote RPC client disassociated. Likely due to containers exceeding thresholds, or network issues. Check driver logs for WARN messages.\n",
      "22/03/22 16:53:38 WARN scheduler.TaskSetManager: Lost task 165.0 in stage 24.0 (TID 82570) (node39.cluster.tsc.uc3m.es executor 6): ExecutorLostFailure (executor 6 exited caused by one of the running tasks) Reason: Remote RPC client disassociated. Likely due to containers exceeding thresholds, or network issues. Check driver logs for WARN messages.\n",
      "22/03/22 16:53:38 WARN scheduler.TaskSetManager: Lost task 75.0 in stage 24.0 (TID 82480) (node39.cluster.tsc.uc3m.es executor 6): ExecutorLostFailure (executor 6 exited caused by one of the running tasks) Reason: Remote RPC client disassociated. Likely due to containers exceeding thresholds, or network issues. Check driver logs for WARN messages.\n",
      "22/03/22 16:53:38 WARN scheduler.TaskSetManager: Lost task 105.0 in stage 24.0 (TID 82510) (node39.cluster.tsc.uc3m.es executor 6): ExecutorLostFailure (executor 6 exited caused by one of the running tasks) Reason: Remote RPC client disassociated. Likely due to containers exceeding thresholds, or network issues. Check driver logs for WARN messages.\n",
      "22/03/22 16:53:38 WARN scheduler.TaskSetManager: Lost task 15.0 in stage 24.0 (TID 82420) (node39.cluster.tsc.uc3m.es executor 6): ExecutorLostFailure (executor 6 exited caused by one of the running tasks) Reason: Remote RPC client disassociated. Likely due to containers exceeding thresholds, or network issues. Check driver logs for WARN messages.\n",
      "22/03/22 16:53:38 WARN scheduler.TaskSetManager: Lost task 45.0 in stage 24.0 (TID 82450) (node39.cluster.tsc.uc3m.es executor 6): ExecutorLostFailure (executor 6 exited caused by one of the running tasks) Reason: Remote RPC client disassociated. Likely due to containers exceeding thresholds, or network issues. Check driver logs for WARN messages.\n"
     ]
    },
    {
     "name": "stderr",
     "output_type": "stream",
     "text": [
      "                                                                                \r"
     ]
    },
    {
     "name": "stdout",
     "output_type": "stream",
     "text": [
      "CPU times: user 1.61 s, sys: 385 ms, total: 2 s\n",
      "Wall time: 1h 59min 33s\n"
     ]
    }
   ],
   "source": [
    "%%time\n",
    "\n",
    "#Save calculated lemmas to HDFS\n",
    "dir_parquet = Path(\"/export/ml4ds/IntelComp/Datalake/PATSTAT/2021_Autumn\")\n",
    "\n",
    "patents.coalesce(1000).write.parquet(\n",
    "    dir_parquet.joinpath(f\"patstat_appln_NLP.parquet\").as_posix(),\n",
    "    mode=\"overwrite\",\n",
    ")"
   ]
  },
  {
   "cell_type": "markdown",
   "id": "d1e9416b",
   "metadata": {},
   "source": [
    "## 5. Optional: Check that the generated table looks OK"
   ]
  },
  {
   "cell_type": "code",
   "execution_count": 12,
   "id": "bf2a8e50",
   "metadata": {},
   "outputs": [
    {
     "name": "stderr",
     "output_type": "stream",
     "text": [
      "22/03/22 18:00:34 WARN metastore.ObjectStore: Failed to get database parquet, returning NoSuchObjectException\n",
      "                                                                                \r"
     ]
    },
    {
     "name": "stdout",
     "output_type": "stream",
     "text": [
      "Number of lemmatized patents: 76348837\n",
      "-RECORD 0----------------------------------------------------------------------------------------------------------------------------\n",
      " appln_id | 496467995                                                                                                                \n",
      " lemmas   | medicinal material sun room utility model disclose medicinal material sun room include room body glass cover equip ot... \n",
      "-RECORD 1----------------------------------------------------------------------------------------------------------------------------\n",
      " appln_id | 4882879                                                                                                                  \n",
      " lemmas   | high expression locus vector based ferritin heavy chain gene locus high expression locus vector base part ferritin he... \n",
      "-RECORD 2----------------------------------------------------------------------------------------------------------------------------\n",
      " appln_id | 7630854                                                                                                                  \n",
      " lemmas   | needle pillar seat sew machine utility model relate needle pillar seat sew machine comprise seat body position seat g... \n",
      "-RECORD 3----------------------------------------------------------------------------------------------------------------------------\n",
      " appln_id | 48967495                                                                                                                 \n",
      " lemmas   | robe hook                                                                                                                \n",
      "-RECORD 4----------------------------------------------------------------------------------------------------------------------------\n",
      " appln_id | 502302266                                                                                                                \n",
      " lemmas   | novel whole sound piano arrange needle instrument utility model disclose novel whole sound piano arrange needle instr... \n",
      "-RECORD 5----------------------------------------------------------------------------------------------------------------------------\n",
      " appln_id | 491488656                                                                                                                \n",
      " lemmas   | water drainage plate utility model disclose water drainage plate include core main part clad filter membrane core mai... \n",
      "-RECORD 6----------------------------------------------------------------------------------------------------------------------------\n",
      " appln_id | 507791617                                                                                                                \n",
      " lemmas   | solid wood furniture production manufacturing method invention disclose solid wood furniture production manufacturing... \n",
      "-RECORD 7----------------------------------------------------------------------------------------------------------------------------\n",
      " appln_id | 495713739                                                                                                                \n",
      " lemmas   | machinery interlocking type pass box utility model disclose machinery interlocking type pass box power distribution b... \n",
      "-RECORD 8----------------------------------------------------------------------------------------------------------------------------\n",
      " appln_id | 547954350                                                                                                                \n",
      " lemmas   | terminal electric energy comprehensive treatment device terminal electric energy comprehensive treatment device compr... \n",
      "-RECORD 9----------------------------------------------------------------------------------------------------------------------------\n",
      " appln_id | 53840843                                                                                                                 \n",
      " lemmas   | alkylguanyltransferase assays invention provide method determine alkylguanyltransferase activity sample comprise step... \n",
      "only showing top 10 rows\n",
      "\n",
      "CPU times: user 8.81 ms, sys: 296 µs, total: 9.11 ms\n",
      "Wall time: 4.36 s\n"
     ]
    }
   ],
   "source": [
    "%%time\n",
    "\n",
    "#Test that the saved table is correct\n",
    "patents = spark.sql(\"SELECT * FROM parquet.`/export/ml4ds/IntelComp/Datalake/PATSTAT/2021_Autumn/patstat_appln_NLP.parquet`\")\n",
    "print('Number of lemmatized patents:', patents.count())\n",
    "patents.show(n=10, truncate=120, vertical=True)"
   ]
  },
  {
   "cell_type": "code",
   "execution_count": null,
   "id": "3667f4f2",
   "metadata": {},
   "outputs": [],
   "source": []
  }
 ],
 "metadata": {
  "kernelspec": {
   "display_name": "Python 3 (ipykernel)",
   "language": "python",
   "name": "python3"
  },
  "language_info": {
   "codemirror_mode": {
    "name": "ipython",
    "version": 3
   },
   "file_extension": ".py",
   "mimetype": "text/x-python",
   "name": "python",
   "nbconvert_exporter": "python",
   "pygments_lexer": "ipython3",
   "version": "3.8.12"
  }
 },
 "nbformat": 4,
 "nbformat_minor": 5
}
